{
  "cells": [
    {
      "cell_type": "markdown",
      "metadata": {
        "id": "aTRlhdG00SWd"
      },
      "source": [
        "# An Introduction to Federated Learning\n",
        "\n",
        "Welcome to the Flower federated learning tutorial!\n",
        "\n",
        "In this notebook, we'll build a federated learning system using Flower and PyTorch. In part 1, we use PyTorch for the model training pipeline and data loading. In part 2, we continue to federate the PyTorch-based pipeline using Flower.\n",
        "\n",
        "> [Star Flower on GitHub](https://github.com/adap/flower) ⭐️ and join the Flower community on Slack to connect, ask questions, and get help: [Join Slack](https://flower.dev/join-slack) 🌼 We'd love to hear from you in the `#introductions` channel! And if anything is unclear, head over to the `#questions` channel.\n",
        "\n",
        "Let's get stated!"
      ]
    },
    {
      "cell_type": "markdown",
      "metadata": {
        "id": "iiEJDn3c0SWg"
      },
      "source": [
        "## Step 0: Preparation\n",
        "\n",
        "Before we begin with any actual code, let's make sure that we have everything we need."
      ]
    },
    {
      "cell_type": "markdown",
      "metadata": {
        "id": "-SW_D28p0SWh"
      },
      "source": [
        "### Installing dependencies\n",
        "\n",
        "Next, we install the necessary packages for PyTorch (`torch` and `torchvision`) and Flower (`flwr`):"
      ]
    },
    {
      "cell_type": "markdown",
      "metadata": {
        "id": "YMqyEOBU0SWi"
      },
      "source": [
        "Now that we have all dependencies installed, we can import everything we need for this tutorial:"
      ]
    },
    {
      "cell_type": "code",
      "execution_count": 2,
      "metadata": {
        "id": "QBVWHlGq0SWi"
      },
      "outputs": [
        {
          "name": "stdout",
          "output_type": "stream",
          "text": [
            "Training on cuda using PyTorch 2.0.0 and Flower 1.4.0\n"
          ]
        }
      ],
      "source": [
        "from collections import OrderedDict\n",
        "from typing import List, Tuple\n",
        "\n",
        "import matplotlib.pyplot as plt\n",
        "import numpy as np\n",
        "import torch\n",
        "import torch.nn as nn\n",
        "import torch.nn.functional as F\n",
        "import torchvision\n",
        "import torchvision.transforms as transforms\n",
        "from torch.utils.data import DataLoader, random_split\n",
        "from torchvision.datasets import CIFAR10\n",
        "\n",
        "import flwr as fl\n",
        "from flwr.common import Metrics\n",
        "import flwr.common\n",
        "\n",
        "DEVICE = torch.device(\"cuda\")  # Try \"cuda\" to train on GPU\n",
        "print(\n",
        "    f\"Training on {DEVICE} using PyTorch {torch.__version__} and Flower {fl.__version__}\"\n",
        ")"
      ]
    },
    {
      "cell_type": "markdown",
      "metadata": {
        "id": "Kv8hP7450SWi"
      },
      "source": [
        "It is possible to switch to a runtime that has GPU acceleration enabled (on Google Colab: `Runtime > Change runtime type > Hardware acclerator: GPU > Save`). Note, however, that Google Colab is not always able to offer GPU acceleration. If you see an error related to GPU availability in one of the following sections, consider switching back to CPU-based execution by setting `DEVICE = torch.device(\"cpu\")`. If the runtime has GPU acceleration enabled, you should see the output `Training on cuda`, otherwise it'll say `Training on cpu`."
      ]
    },
    {
      "cell_type": "markdown",
      "metadata": {
        "id": "L2Wyrha40SWi"
      },
      "source": [
        "\n",
        "### Loading the data\n",
        "\n",
        "Federated learning can be applied to many different types of tasks across different domains. In this tutorial, we introduce federated learning by training a simple convolutional neural network (CNN) on the popular CIFAR-10 dataset. CIFAR-10 can be used to train image classifiers that distinguish between images from ten different classes:"
      ]
    },
    {
      "cell_type": "code",
      "execution_count": 3,
      "metadata": {
        "id": "Mz-KR5qQ0SWj"
      },
      "outputs": [],
      "source": [
        "CLASSES = (\n",
        "    \"plane\",\n",
        "    \"car\",\n",
        "    \"bird\",\n",
        "    \"cat\",\n",
        "    \"deer\",\n",
        "    \"dog\",\n",
        "    \"frog\",\n",
        "    \"horse\",\n",
        "    \"ship\",\n",
        "    \"truck\",\n",
        ")"
      ]
    },
    {
      "cell_type": "markdown",
      "metadata": {
        "id": "8KJMgcrS0SWj"
      },
      "source": [
        "We simulate having multiple datasets from multiple organizations (also called the \"cross-silo\" setting in federated learning) by splitting the original CIFAR-10 dataset into multiple partitions. Each partition will represent the data from a single organization. We're doing this purely for experimentation purposes, in the real world there's no need for data splitting because each organization already has their own data (so the data is naturally partitioned).\n",
        "\n",
        "Each organization will act as a client in the federated learning system. So having ten organizations participate in a federation means having ten clients connected to the federated learning server:\n"
      ]
    },
    {
      "cell_type": "code",
      "execution_count": 4,
      "metadata": {
        "id": "t3sdi09A0SWj"
      },
      "outputs": [],
      "source": [
        "NUM_CLIENTS = 10"
      ]
    },
    {
      "cell_type": "markdown",
      "metadata": {
        "id": "JoU-dXJv0SWk"
      },
      "source": [
        "\n",
        "Let's now load the CIFAR-10 training and test set, partition them into ten smaller datasets (each split into training and validation set), and wrap the resulting partitions by creating a PyTorch `DataLoader` for each of them:"
      ]
    },
    {
      "cell_type": "code",
      "execution_count": 5,
      "metadata": {},
      "outputs": [],
      "source": [
        "from torch.utils.data import Dataset\n",
        "class custom_subset(Dataset):\n",
        "    r\"\"\"\n",
        "    Subset of a dataset at specified indices.\n",
        "\n",
        "    Arguments:\n",
        "        dataset (Dataset): The whole Dataset\n",
        "        indices (sequence): Indices in the whole set selected for subset\n",
        "        labels(sequence) : targets as required for the indices. will be the same length as indices\n",
        "    \"\"\"\n",
        "    def __init__(self, dataset, indices, labels):\n",
        "        self.dataset = torch.utils.data.Subset(dataset, indices)\n",
        "        self.targets = labels\n",
        "    def __getitem__(self, idx):\n",
        "        image = self.dataset[idx][0]\n",
        "        target = self.targets[idx]\n",
        "        return (image, target)\n",
        "\n",
        "    def __len__(self):\n",
        "        return len(self.targets)"
      ]
    },
    {
      "cell_type": "code",
      "execution_count": 6,
      "metadata": {
        "id": "qFReNNTA0SWk"
      },
      "outputs": [
        {
          "name": "stdout",
          "output_type": "stream",
          "text": [
            "Files already downloaded and verified\n",
            "Files already downloaded and verified\n",
            "ds_train 0\n",
            "0 : 474\n",
            "1 : 443\n",
            "2 : 427\n",
            "3 : 411\n",
            "4 : 444\n",
            "5 : 447\n",
            "6 : 475\n",
            "7 : 467\n",
            "8 : 463\n",
            "9 : 449\n",
            "ds_train 1\n",
            "0 : 438\n",
            "1 : 480\n",
            "2 : 450\n",
            "3 : 451\n",
            "4 : 462\n",
            "5 : 431\n",
            "6 : 453\n",
            "7 : 455\n",
            "8 : 420\n",
            "9 : 460\n",
            "ds_train 2\n",
            "0 : 474\n",
            "1 : 453\n",
            "2 : 444\n",
            "3 : 460\n",
            "4 : 464\n",
            "5 : 392\n",
            "6 : 470\n",
            "7 : 438\n",
            "8 : 458\n",
            "9 : 447\n",
            "ds_train 3\n",
            "0 : 474\n",
            "1 : 423\n",
            "2 : 433\n",
            "3 : 449\n",
            "4 : 482\n",
            "5 : 463\n",
            "6 : 439\n",
            "7 : 456\n",
            "8 : 447\n",
            "9 : 434\n",
            "ds_train 4\n",
            "0 : 444\n",
            "1 : 467\n",
            "2 : 455\n",
            "3 : 447\n",
            "4 : 448\n",
            "5 : 448\n",
            "6 : 421\n",
            "7 : 444\n",
            "8 : 446\n",
            "9 : 480\n",
            "ds_train 5\n",
            "0 : 446\n",
            "1 : 439\n",
            "2 : 469\n",
            "3 : 469\n",
            "4 : 441\n",
            "5 : 480\n",
            "6 : 425\n",
            "7 : 418\n",
            "8 : 454\n",
            "9 : 459\n",
            "ds_train 6\n",
            "0 : 441\n",
            "1 : 456\n",
            "2 : 451\n",
            "3 : 453\n",
            "4 : 473\n",
            "5 : 458\n",
            "6 : 458\n",
            "7 : 451\n",
            "8 : 445\n",
            "9 : 414\n",
            "ds_train 7\n",
            "0 : 418\n",
            "1 : 458\n",
            "2 : 477\n",
            "3 : 457\n",
            "4 : 438\n",
            "5 : 436\n",
            "6 : 437\n",
            "7 : 437\n",
            "8 : 464\n",
            "9 : 478\n",
            "ds_train 8\n",
            "0 : 444\n",
            "1 : 448\n",
            "2 : 427\n",
            "3 : 441\n",
            "4 : 445\n",
            "5 : 462\n",
            "6 : 454\n",
            "7 : 483\n",
            "8 : 455\n",
            "9 : 441\n",
            "ds_train 9\n",
            "0 : 432\n",
            "1 : 463\n",
            "2 : 481\n",
            "3 : 422\n",
            "4 : 422\n",
            "5 : 462\n",
            "6 : 464\n",
            "7 : 447\n",
            "8 : 463\n",
            "9 : 444\n"
          ]
        }
      ],
      "source": [
        "BATCH_SIZE = 32\n",
        "\n",
        "from collections import Counter\n",
        "\n",
        "def load_datasets():\n",
        "    # Download and transform CIFAR-10 (train and test)\n",
        "    transform = transforms.Compose(\n",
        "        [transforms.ToTensor(), transforms.Normalize((0.5, 0.5, 0.5), (0.5, 0.5, 0.5))]\n",
        "    )\n",
        "    trainset = CIFAR10(\"./dataset\", train=True, download=True, transform=transform)\n",
        "    testset = CIFAR10(\"./dataset\", train=False, download=True, transform=transform)\n",
        "\n",
        "    # Split training set into 10 partitions to simulate the individual dataset\n",
        "    partition_size = len(trainset) // NUM_CLIENTS\n",
        "    lengths = [partition_size] * NUM_CLIENTS\n",
        "    datasets = random_split(trainset, lengths, torch.Generator().manual_seed(42))\n",
        "\n",
        "    # Split each partition into train/val and create DataLoader\n",
        "    trainloaders = []\n",
        "    valloaders = []\n",
        "    for idx, ds in enumerate(datasets):\n",
        "        len_val = len(ds) // 10  # 10 % validation set\n",
        "        len_train = len(ds) - len_val\n",
        "        lengths = [len_train, len_val]\n",
        "        ds_train, ds_val = random_split(ds, lengths, torch.Generator().manual_seed(42))\n",
        "        # Always splits in the same way.\n",
        "\n",
        "        # print(dict(Counter(ds_train.targets)))\n",
        "        # custom_subset(ds_train)\n",
        "        arr = []\n",
        "        print(\"ds_train\", idx)\n",
        "        for a in ds_train:\n",
        "            arr.append(a[1])\n",
        "        for i in range(10):\n",
        "            print(i, \":\", arr.count(i))\n",
        "        # Data is not perfectly distributed\n",
        "\n",
        "\n",
        "        trainloaders.append(DataLoader(ds_train, batch_size=BATCH_SIZE, shuffle=True))\n",
        "        valloaders.append(DataLoader(ds_val, batch_size=BATCH_SIZE))\n",
        "    testloader = DataLoader(testset, batch_size=BATCH_SIZE)\n",
        "    return trainloaders, valloaders, testloader\n",
        "\n",
        "\n",
        "trainloaders, valloaders, testloader = load_datasets()"
      ]
    },
    {
      "cell_type": "markdown",
      "metadata": {
        "id": "EnLdugua0SWl"
      },
      "source": [
        "We now have a list of ten training sets and ten validation sets (`trainloaders` and `valloaders`) representing the data of ten different organizations. Each `trainloader`/`valloader` pair contains 4500 training examples and 500 validation examples. There's also a single `testloader` (we did not split the test set). Again, this is only necessary for building research or educational systems, actual federated learning systems have their data naturally distributed across multiple partitions.\n",
        "\n",
        "Let's take a look at the first batch of images and labels in the first training set (i.e., `trainloaders[0]`) before we move on:"
      ]
    },
    {
      "cell_type": "code",
      "execution_count": 7,
      "metadata": {
        "id": "mBYYuom40SWl"
      },
      "outputs": [
        {
          "data": {
            "image/png": "[encoded data removed]",
            "text/plain": [
              "<Figure size 1200x600 with 32 Axes>"
            ]
          },
          "metadata": {},
          "output_type": "display_data"
        }
      ],
      "source": [
        "images, labels = next(iter(trainloaders[0]))\n",
        "\n",
        "# Reshape and convert images to a NumPy array\n",
        "# matplotlib requires images with the shape (height, width, 3)\n",
        "images = images.permute(0, 2, 3, 1).numpy()\n",
        "# Denormalize\n",
        "images = images / 2 + 0.5\n",
        "\n",
        "# Create a figure and a grid of subplots\n",
        "fig, axs = plt.subplots(4, 8, figsize=(12, 6))\n",
        "\n",
        "# Loop over the images and plot them\n",
        "for i, ax in enumerate(axs.flat):\n",
        "    ax.imshow(images[i])\n",
        "    ax.set_title(CLASSES[labels[i]])\n",
        "    ax.axis(\"off\")\n",
        "\n",
        "# Show the plot\n",
        "fig.tight_layout()\n",
        "plt.show()"
      ]
    },
    {
      "cell_type": "markdown",
      "metadata": {
        "id": "ChbBln1W0SWl"
      },
      "source": [
        "The output above shows a random batch of images from the first `trainloader` in our list of ten `trainloaders`. It also prints the labels associated with each image (i.e., one of the ten possible labels we've seen above). If you run the cell again, you should see another batch of images."
      ]
    },
    {
      "cell_type": "markdown",
      "metadata": {
        "id": "6i-cQNfl0SWl"
      },
      "source": [
        "## Step 1: Centralized Training with PyTorch\n",
        "\n"
      ]
    },
    {
      "cell_type": "markdown",
      "metadata": {
        "id": "2-kKX1UU0SWl"
      },
      "source": [
        "Next, we're going to use PyTorch to define a simple convolutional neural network. This introduction assumes basic familiarity with PyTorch, so it doesn't cover the PyTorch-related aspects in full detail. If you want to dive deeper into PyTorch, we recommend [*DEEP LEARNING WITH PYTORCH: A 60 MINUTE BLITZ*](https://pytorch.org/tutorials/beginner/deep_learning_60min_blitz.html).\n"
      ]
    },
    {
      "cell_type": "markdown",
      "metadata": {
        "id": "GEd8GzOV0SWm"
      },
      "source": [
        "### Defining the model\n",
        "\n",
        "We use the simple CNN described in the [PyTorch tutorial](https://pytorch.org/tutorials/beginner/blitz/cifar10_tutorial.html#define-a-convolutional-neural-network):"
      ]
    },
    {
      "cell_type": "code",
      "execution_count": 8,
      "metadata": {
        "id": "EpjBnCBM0SWm"
      },
      "outputs": [],
      "source": [
        "class Net(nn.Module):\n",
        "    def __init__(self) -> None:\n",
        "        super(Net, self).__init__()\n",
        "        self.conv1 = nn.Conv2d(3, 6, 5)\n",
        "        self.pool = nn.MaxPool2d(2, 2)\n",
        "        self.conv2 = nn.Conv2d(6, 16, 5)\n",
        "        self.fc1 = nn.Linear(16 * 5 * 5, 120)\n",
        "        self.fc2 = nn.Linear(120, 84)\n",
        "        self.fc3 = nn.Linear(84, 10)\n",
        "\n",
        "    def forward(self, x: torch.Tensor) -> torch.Tensor:\n",
        "        x = self.pool(F.relu(self.conv1(x)))\n",
        "        x = self.pool(F.relu(self.conv2(x)))\n",
        "        x = x.view(-1, 16 * 5 * 5)\n",
        "        x = F.relu(self.fc1(x))\n",
        "        x = F.relu(self.fc2(x))\n",
        "        x = self.fc3(x)\n",
        "        return x"
      ]
    },
    {
      "cell_type": "markdown",
      "metadata": {
        "id": "RbNXxhxM0SWm"
      },
      "source": [
        "Let's continue with the usual training and test functions:"
      ]
    },
    {
      "cell_type": "code",
      "execution_count": 9,
      "metadata": {
        "id": "LDIO-MaF0SWm"
      },
      "outputs": [],
      "source": [
        "def train(net, trainloader, epochs: int, verbose=False):\n",
        "    \"\"\"Train the network on the training set.\"\"\"\n",
        "    criterion = torch.nn.CrossEntropyLoss()\n",
        "    optimizer = torch.optim.Adam(net.parameters())\n",
        "    net.train()\n",
        "    for epoch in range(epochs):\n",
        "        correct, total, epoch_loss = 0, 0, 0.0\n",
        "        for images, labels in trainloader:\n",
        "            images, labels = images.to(DEVICE), labels.to(DEVICE)\n",
        "            optimizer.zero_grad()\n",
        "            outputs = net(images)\n",
        "            loss = criterion(outputs, labels)\n",
        "            loss.backward()\n",
        "            optimizer.step()\n",
        "            # Metrics\n",
        "            epoch_loss += loss\n",
        "            total += labels.size(0)\n",
        "            correct += (torch.max(outputs.data, 1)[1] == labels).sum().item()\n",
        "        epoch_loss /= len(trainloader.dataset)\n",
        "        epoch_acc = correct / total\n",
        "        if verbose:\n",
        "            print(f\"Epoch {epoch+1}: train loss {epoch_loss}, accuracy {epoch_acc}\")\n",
        "\n",
        "\n",
        "def test(net, testloader):\n",
        "    \"\"\"Evaluate the network on the entire test set.\"\"\"\n",
        "    criterion = torch.nn.CrossEntropyLoss()\n",
        "    correct, total, loss = 0, 0, 0.0\n",
        "    net.eval()\n",
        "    with torch.no_grad():\n",
        "        for images, labels in testloader:\n",
        "            images, labels = images.to(DEVICE), labels.to(DEVICE)\n",
        "            outputs = net(images)\n",
        "            loss += criterion(outputs, labels).item()\n",
        "            _, predicted = torch.max(outputs.data, 1)\n",
        "            total += labels.size(0)\n",
        "            correct += (predicted == labels).sum().item()\n",
        "    loss /= len(testloader.dataset)\n",
        "    accuracy = correct / total\n",
        "    return loss, accuracy"
      ]
    },
    {
      "cell_type": "markdown",
      "metadata": {
        "id": "k1uq_wKI0SWn"
      },
      "source": [
        "### Training the model\n",
        "\n",
        "We now have all the basic building blocks we need: a dataset, a model, a training function, and a test function. Let's put them together to train the model on the dataset of one of our organizations (`trainloaders[0]`). This simulates the reality of most machine learning projects today: each organization has their own data and trains models only on this internal data: "
      ]
    },
    {
      "cell_type": "code",
      "execution_count": 10,
      "metadata": {},
      "outputs": [],
      "source": [
        "EPOCH = 50"
      ]
    },
    {
      "cell_type": "code",
      "execution_count": 11,
      "metadata": {
        "id": "S4Y7-U5T0SWn"
      },
      "outputs": [
        {
          "name": "stdout",
          "output_type": "stream",
          "text": [
            "Final test set performance:\n",
            "\tloss 0.1795283366918564\n",
            "\taccuracy 0.4507\n"
          ]
        }
      ],
      "source": [
        "import os\n",
        "# 여기서는 10개로 나눈 것 중, 하나만 train 함.\n",
        "\n",
        "trainloader = trainloaders[0]\n",
        "valloader = valloaders[0]\n",
        "net = Net().to(DEVICE)\n",
        "trained_path = \"./dataset/trained_centralized.pkl\"\n",
        "\n",
        "\n",
        "if not (os.path.isfile(trained_path)):\n",
        "    for epoch in range(EPOCH):\n",
        "        train(net, trainloader, 1)\n",
        "        loss, accuracy = test(net, valloader)\n",
        "        print(f\"Epoch {epoch+1}: validation loss {loss}, accuracy {accuracy}\")\n",
        "    torch.save(net.state_dict(), trained_path)\n",
        "else :\n",
        "    net.load_state_dict(torch.load(trained_path))\n",
        "loss, accuracy = test(net, testloader)\n",
        "print(f\"Final test set performance:\\n\\tloss {loss}\\n\\taccuracy {accuracy}\")"
      ]
    },
    {
      "cell_type": "markdown",
      "metadata": {
        "id": "nwSeJOS00SWn"
      },
      "source": [
        "Training the simple CNN on our CIFAR-10 split for 5 epochs should result in a test set accuracy of about 41%, which is not good, but at the same time, it doesn't really matter for the purposes of this tutorial. The intent was just to show a simplistic centralized training pipeline that sets the stage for what comes next - federated learning!"
      ]
    },
    {
      "cell_type": "markdown",
      "metadata": {
        "id": "GDFQEIzY0SWn"
      },
      "source": [
        "## Step 2: Federated Learning with Flower\n",
        "\n",
        "Step 1 demonstrated a simple centralized training pipeline. All data was in one place (i.e., a single `trainloader` and a single `valloader`). Next, we'll simulate a situation where we have multiple datasets in multiple organizations and where we train a model over these organizations using federated learning."
      ]
    },
    {
      "cell_type": "markdown",
      "metadata": {
        "id": "lvbvfYYI0SWo"
      },
      "source": [
        "### Updating model parameters\n",
        "\n",
        "In federated learning, the server sends the global model parameters to the client, and the client updates the local model with the parameters received from the server. It then trains the model on the local data (which changes the model parameters locally) and sends the updated/changed model parameters back to the server (or, alternatively, it sends just the gradients back to the server, not the full model parameters).\n",
        "\n",
        "We need two helper functions to update the local model with parameters received from the server and to get the updated model parameters from the local model: `set_parameters` and `get_parameters`. The following two functions do just that for the PyTorch model above.\n",
        "\n",
        "The details of how this works are not really important here (feel free to consult the PyTorch documentation if you want to learn more). In essence, we use `state_dict` to access PyTorch model parameter tensors. The parameter tensors are then converted to/from a list of NumPy ndarray's (which Flower knows how to serialize/deserialize):"
      ]
    },
    {
      "cell_type": "code",
      "execution_count": 12,
      "metadata": {
        "id": "l4N6xhRp0SWo"
      },
      "outputs": [],
      "source": [
        "def get_parameters(net) -> List[np.ndarray]:\n",
        "    return [val.cpu().numpy() for _, val in net.state_dict().items()]\n",
        "\n",
        "\n",
        "def set_parameters(net, parameters: List[np.ndarray]):\n",
        "    params_dict = zip(net.state_dict().keys(), parameters)\n",
        "    state_dict = OrderedDict({k: torch.Tensor(v) for k, v in params_dict})\n",
        "    net.load_state_dict(state_dict, strict=True)"
      ]
    },
    {
      "cell_type": "markdown",
      "metadata": {
        "id": "2EnhPR0P0SWo"
      },
      "source": [
        "### Implementing a Flower client\n",
        "\n",
        "With that out of the way, let's move on to the interesting part. Federated learning systems consist of a server and multiple clients. In Flower, we create clients by implementing subclasses of `flwr.client.Client` or `flwr.client.NumPyClient`. We use `NumPyClient` in this tutorial because it is easier to implement and requires us to write less boilerplate.\n",
        "\n",
        "To implement the Flower client, we create a subclass of `flwr.client.NumPyClient` and implement the three methods `get_parameters`, `fit`, and `evaluate`:\n",
        "\n",
        "* `get_parameters`: Return the current local model parameters\n",
        "* `fit`: Receive model parameters from the server, train the model parameters on the local data, and return the (updated) model parameters to the server\n",
        "* `evaluate`: Receive model parameters from the server, evaluate the model parameters on the local data, and return the evaluation result to the server\n",
        "\n",
        "We mentioned that our clients will use the previously defined PyTorch components for model training and evaluation. Let's see a simple Flower client implementation that brings everything together:"
      ]
    },
    {
      "cell_type": "code",
      "execution_count": 13,
      "metadata": {
        "id": "_GvJEqsZ0SWo"
      },
      "outputs": [],
      "source": [
        "class FlowerClient(fl.client.NumPyClient):\n",
        "    def __init__(self, net, trainloader, valloader):\n",
        "        self.net = net\n",
        "        self.trainloader = trainloader\n",
        "        self.valloader = valloader\n",
        "\n",
        "    def get_parameters(self, config):\n",
        "        return get_parameters(self.net)\n",
        "\n",
        "    def fit(self, parameters, config):\n",
        "        set_parameters(self.net, parameters)\n",
        "        train(self.net, self.trainloader, epochs=1)\n",
        "        return get_parameters(self.net), len(self.trainloader), {}\n",
        "\n",
        "    def evaluate(self, parameters, config):\n",
        "        set_parameters(self.net, parameters)\n",
        "        loss, accuracy = test(self.net, self.valloader)\n",
        "        print(f\"Accuracy {accuracy}\")\n",
        "        return float(loss), len(self.valloader), {\"accuracy\": float(accuracy)}"
      ]
    },
    {
      "cell_type": "markdown",
      "metadata": {
        "id": "fcg2_vTW0SWo"
      },
      "source": [
        "Our class `FlowerClient` defines how local training/evaluation will be performed and allows Flower to call the local training/evaluation through `fit` and `evaluate`. Each instance of `FlowerClient` represents a *single client* in our federated learning system. Federated learning systems have multiple clients (otherwise, there's not much to federate), so each client will be represented by its own instance of `FlowerClient`. If we have, for example, three clients in our workload, then we'd have three instances of `FlowerClient`. Flower calls `FlowerClient.fit` on the respective instance when the server selects a particular client for training (and `FlowerClient.evaluate` for evaluation).\n",
        "\n",
        "### Using the Virtual Client Engine\n",
        "\n",
        "In this notebook, we want to simulate a federated learning system with 10 clients on a single machine. This means that the server and all 10 clients will live on a single machine and share resources such as CPU, GPU, and memory. Having 10 clients would mean having 10 instances of `FlowerClient` in memory. Doing this on a single machine can quickly exhaust the available memory resources, even if only a subset of these clients participates in a single round of federated learning.\n",
        "\n",
        "In addition to the regular capabilities where server and clients run on multiple machines, Flower, therefore, provides special simulation capabilities that create `FlowerClient` instances only when they are actually necessary for training or evaluation. To enable the Flower framework to create clients when necessary, we need to implement a function called `client_fn` that creates a `FlowerClient` instance on demand. Flower calls `client_fn` whenever it needs an instance of one particular client to call `fit` or `evaluate` (those instances are usually discarded after use, so they should not keep any local state). Clients are identified by a client ID, or short `cid`. The `cid` can be used, for example, to load different local data partitions for different clients, as can be seen below:"
      ]
    },
    {
      "cell_type": "code",
      "execution_count": 14,
      "metadata": {
        "id": "bd2ptaY10SWo"
      },
      "outputs": [],
      "source": [
        "def client_fn(cid: str) -> FlowerClient:\n",
        "    \"\"\"Create a Flower client representing a single organization.\"\"\"\n",
        "\n",
        "    # Load model\n",
        "    net = Net().to(DEVICE)\n",
        "\n",
        "    # Load data (CIFAR-10)\n",
        "    # Note: each client gets a different trainloader/valloader, so each client\n",
        "    # will train and evaluate on their own unique data\n",
        "    trainloader = trainloaders[int(cid)]\n",
        "    valloader = valloaders[int(cid)]\n",
        "\n",
        "    # Create a  single Flower client representing a single organization\n",
        "    return FlowerClient(net, trainloader, valloader)"
      ]
    },
    {
      "cell_type": "markdown",
      "metadata": {
        "id": "3j7BVkl60SWo"
      },
      "source": [
        "### Starting the training\n",
        "\n",
        "We now have the class `FlowerClient` which defines client-side training/evaluation and `client_fn` which allows Flower to create `FlowerClient` instances whenever it needs to call `fit` or `evaluate` on one particular client. The last step is to start the actual simulation using `flwr.simulation.start_simulation`. \n",
        "\n",
        "The function `start_simulation` accepts a number of arguments, amongst them the `client_fn` used to create `FlowerClient` instances, the number of clients to simulate (`num_clients`), the number of federated learning rounds (`num_rounds`), and the strategy. The strategy encapsulates the federated learning approach/algorithm, for example, *Federated Averaging* (FedAvg).\n",
        "\n",
        "Flower has a number of built-in strategies, but we can also use our own strategy implementations to customize nearly all aspects of the federated learning approach. For this example, we use the built-in `FedAvg` implementation and customize it using a few basic parameters. The last step is the actual call to `start_simulation` which - you guessed it - starts the simulation:"
      ]
    },
    {
      "cell_type": "code",
      "execution_count": 15,
      "metadata": {
        "id": "Ok0S14oP0SWp"
      },
      "outputs": [
        {
          "name": "stderr",
          "output_type": "stream",
          "text": [
            "INFO flwr 2023-04-29 02:27:58,498 | app.py:146 | Starting Flower simulation, config: ServerConfig(num_rounds=5, round_timeout=None)\n",
            "2023-04-29 02:28:00,131\tINFO worker.py:1553 -- Started a local Ray instance.\n",
            "INFO flwr 2023-04-29 02:28:00,636 | app.py:180 | Flower VCE: Ray initialized with resources: {'accelerator_type:RTX': 1.0, 'memory': 79710820148.0, 'node:172.17.0.2': 1.0, 'object_store_memory': 38447494348.0, 'GPU': 1.0, 'CPU': 16.0}\n",
            "INFO flwr 2023-04-29 02:28:00,637 | server.py:86 | Initializing global parameters\n",
            "INFO flwr 2023-04-29 02:28:00,637 | server.py:273 | Requesting initial parameters from one random client\n",
            "INFO flwr 2023-04-29 02:28:02,225 | server.py:277 | Received initial parameters from one random client\n",
            "INFO flwr 2023-04-29 02:28:02,226 | server.py:88 | Evaluating initial parameters\n",
            "INFO flwr 2023-04-29 02:28:02,226 | server.py:101 | FL starting\n",
            "DEBUG flwr 2023-04-29 02:28:02,226 | server.py:218 | fit_round 1: strategy sampled 10 clients (out of 10)\n",
            "DEBUG flwr 2023-04-29 02:28:23,634 | server.py:232 | fit_round 1 received 10 results and 0 failures\n",
            "WARNING flwr 2023-04-29 02:28:23,646 | fedavg.py:243 | No fit_metrics_aggregation_fn provided\n",
            "DEBUG flwr 2023-04-29 02:28:23,646 | server.py:168 | evaluate_round 1: strategy sampled 5 clients (out of 10)\n"
          ]
        },
        {
          "name": "stdout",
          "output_type": "stream",
          "text": [
            "\u001b[2m\u001b[36m(launch_and_evaluate pid=514834)\u001b[0m Accuracy 0.258\n",
            "\u001b[2m\u001b[36m(launch_and_evaluate pid=514894)\u001b[0m Accuracy 0.25\n",
            "\u001b[2m\u001b[36m(launch_and_evaluate pid=514954)\u001b[0m Accuracy 0.272\n",
            "\u001b[2m\u001b[1m\u001b[36m(autoscaler +39s)\u001b[0m Tip: use `ray status` to view detailed cluster status. To disable these messages, set RAY_SCHEDULER_EVENTS=0.\n",
            "\u001b[2m\u001b[1m\u001b[33m(autoscaler +39s)\u001b[0m Warning: The following resource request cannot be scheduled right now: {'CPU': 1.0, 'GPU': 1.0}. This is likely due to all cluster resources being claimed by actors. Consider creating fewer actors or adding more nodes to this Ray cluster.\n",
            "\u001b[2m\u001b[36m(launch_and_evaluate pid=515014)\u001b[0m Accuracy 0.262\n"
          ]
        },
        {
          "name": "stderr",
          "output_type": "stream",
          "text": [
            "DEBUG flwr 2023-04-29 02:28:32,173 | server.py:182 | evaluate_round 1 received 5 results and 0 failures\n",
            "WARNING flwr 2023-04-29 02:28:32,173 | fedavg.py:274 | No evaluate_metrics_aggregation_fn provided\n",
            "DEBUG flwr 2023-04-29 02:28:32,174 | server.py:218 | fit_round 2: strategy sampled 10 clients (out of 10)\n"
          ]
        },
        {
          "name": "stdout",
          "output_type": "stream",
          "text": [
            "\u001b[2m\u001b[36m(launch_and_evaluate pid=515075)\u001b[0m Accuracy 0.294\n"
          ]
        },
        {
          "name": "stderr",
          "output_type": "stream",
          "text": [
            "DEBUG flwr 2023-04-29 02:28:54,839 | server.py:232 | fit_round 2 received 10 results and 0 failures\n",
            "DEBUG flwr 2023-04-29 02:28:54,851 | server.py:168 | evaluate_round 2: strategy sampled 5 clients (out of 10)\n"
          ]
        },
        {
          "name": "stdout",
          "output_type": "stream",
          "text": [
            "\u001b[2m\u001b[36m(launch_and_evaluate pid=515730)\u001b[0m Accuracy 0.332\n",
            "\u001b[2m\u001b[36m(launch_and_evaluate pid=515786)\u001b[0m Accuracy 0.318\n",
            "\u001b[2m\u001b[36m(launch_and_evaluate pid=515842)\u001b[0m Accuracy 0.34\n",
            "\u001b[2m\u001b[36m(launch_and_evaluate pid=515899)\u001b[0m Accuracy 0.37\n"
          ]
        },
        {
          "name": "stderr",
          "output_type": "stream",
          "text": [
            "DEBUG flwr 2023-04-29 02:29:03,442 | server.py:182 | evaluate_round 2 received 5 results and 0 failures\n",
            "DEBUG flwr 2023-04-29 02:29:03,443 | server.py:218 | fit_round 3: strategy sampled 10 clients (out of 10)\n"
          ]
        },
        {
          "name": "stdout",
          "output_type": "stream",
          "text": [
            "\u001b[2m\u001b[36m(launch_and_evaluate pid=515955)\u001b[0m Accuracy 0.358\n"
          ]
        },
        {
          "name": "stderr",
          "output_type": "stream",
          "text": [
            "DEBUG flwr 2023-04-29 02:29:25,072 | server.py:232 | fit_round 3 received 10 results and 0 failures\n",
            "DEBUG flwr 2023-04-29 02:29:25,083 | server.py:168 | evaluate_round 3: strategy sampled 5 clients (out of 10)\n"
          ]
        },
        {
          "name": "stdout",
          "output_type": "stream",
          "text": [
            "\u001b[2m\u001b[36m(launch_and_evaluate pid=516607)\u001b[0m Accuracy 0.394\n",
            "\u001b[2m\u001b[36m(launch_and_evaluate pid=516663)\u001b[0m Accuracy 0.394\n",
            "\u001b[2m\u001b[36m(launch_and_evaluate pid=516720)\u001b[0m Accuracy 0.378\n",
            "\u001b[2m\u001b[36m(launch_and_evaluate pid=516776)\u001b[0m Accuracy 0.388\n"
          ]
        },
        {
          "name": "stderr",
          "output_type": "stream",
          "text": [
            "DEBUG flwr 2023-04-29 02:29:33,748 | server.py:182 | evaluate_round 3 received 5 results and 0 failures\n",
            "DEBUG flwr 2023-04-29 02:29:33,748 | server.py:218 | fit_round 4: strategy sampled 10 clients (out of 10)\n"
          ]
        },
        {
          "name": "stdout",
          "output_type": "stream",
          "text": [
            "\u001b[2m\u001b[36m(launch_and_evaluate pid=516832)\u001b[0m Accuracy 0.42\n",
            "\u001b[2m\u001b[1m\u001b[33m(autoscaler +1m50s)\u001b[0m Warning: The following resource request cannot be scheduled right now: {'GPU': 1.0, 'CPU': 1.0}. This is likely due to all cluster resources being claimed by actors. Consider creating fewer actors or adding more nodes to this Ray cluster.\n"
          ]
        },
        {
          "name": "stderr",
          "output_type": "stream",
          "text": [
            "DEBUG flwr 2023-04-29 02:29:56,729 | server.py:232 | fit_round 4 received 10 results and 0 failures\n",
            "DEBUG flwr 2023-04-29 02:29:56,740 | server.py:168 | evaluate_round 4: strategy sampled 5 clients (out of 10)\n"
          ]
        },
        {
          "name": "stdout",
          "output_type": "stream",
          "text": [
            "\u001b[2m\u001b[36m(launch_and_evaluate pid=517483)\u001b[0m Accuracy 0.396\n",
            "\u001b[2m\u001b[36m(launch_and_evaluate pid=517540)\u001b[0m Accuracy 0.396\n",
            "\u001b[2m\u001b[36m(launch_and_evaluate pid=517596)\u001b[0m Accuracy 0.418\n",
            "\u001b[2m\u001b[36m(launch_and_evaluate pid=517652)\u001b[0m Accuracy 0.43\n"
          ]
        },
        {
          "name": "stderr",
          "output_type": "stream",
          "text": [
            "DEBUG flwr 2023-04-29 02:30:05,306 | server.py:182 | evaluate_round 4 received 5 results and 0 failures\n",
            "DEBUG flwr 2023-04-29 02:30:05,307 | server.py:218 | fit_round 5: strategy sampled 10 clients (out of 10)\n"
          ]
        },
        {
          "name": "stdout",
          "output_type": "stream",
          "text": [
            "\u001b[2m\u001b[36m(launch_and_evaluate pid=517708)\u001b[0m Accuracy 0.416\n",
            "\u001b[2m\u001b[1m\u001b[33m(autoscaler +2m35s)\u001b[0m Warning: The following resource request cannot be scheduled right now: {'CPU': 1.0, 'GPU': 1.0}. This is likely due to all cluster resources being claimed by actors. Consider creating fewer actors or adding more nodes to this Ray cluster.\n"
          ]
        },
        {
          "name": "stderr",
          "output_type": "stream",
          "text": [
            "DEBUG flwr 2023-04-29 02:30:27,353 | server.py:232 | fit_round 5 received 10 results and 0 failures\n",
            "DEBUG flwr 2023-04-29 02:30:27,364 | server.py:168 | evaluate_round 5: strategy sampled 5 clients (out of 10)\n"
          ]
        },
        {
          "name": "stdout",
          "output_type": "stream",
          "text": [
            "\u001b[2m\u001b[36m(launch_and_evaluate pid=518359)\u001b[0m Accuracy 0.452\n",
            "\u001b[2m\u001b[36m(launch_and_evaluate pid=518416)\u001b[0m Accuracy 0.456\n",
            "\u001b[2m\u001b[36m(launch_and_evaluate pid=518472)\u001b[0m Accuracy 0.416\n",
            "\u001b[2m\u001b[36m(launch_and_evaluate pid=518528)\u001b[0m Accuracy 0.404\n"
          ]
        },
        {
          "name": "stderr",
          "output_type": "stream",
          "text": [
            "DEBUG flwr 2023-04-29 02:30:35,987 | server.py:182 | evaluate_round 5 received 5 results and 0 failures\n",
            "INFO flwr 2023-04-29 02:30:35,987 | server.py:147 | FL finished in 153.76097438996658\n",
            "INFO flwr 2023-04-29 02:30:35,988 | app.py:218 | app_fit: losses_distributed [(1, 0.06306343264579772), (2, 0.05485629596710205), (3, 0.052388023805618286), (4, 0.05025902705192566), (5, 0.04893521370887756)]\n",
            "INFO flwr 2023-04-29 02:30:35,988 | app.py:219 | app_fit: metrics_distributed_fit {}\n",
            "INFO flwr 2023-04-29 02:30:35,989 | app.py:220 | app_fit: metrics_distributed {}\n",
            "INFO flwr 2023-04-29 02:30:35,989 | app.py:221 | app_fit: losses_centralized []\n",
            "INFO flwr 2023-04-29 02:30:35,989 | app.py:222 | app_fit: metrics_centralized {}\n"
          ]
        }
      ],
      "source": [
        "# Create FedAvg strategy\n",
        "strategy = fl.server.strategy.FedAvg(\n",
        "    fraction_fit=1.0,  # Sample 100% of available clients for training\n",
        "    fraction_evaluate=0.5,  # Sample 50% of available clients for evaluation\n",
        "    min_fit_clients=10,  # Never sample less than 10 clients for training\n",
        "    min_evaluate_clients=5,  # Never sample less than 5 clients for evaluation\n",
        "    min_available_clients=10,  # Wait until all 10 clients are available\n",
        ")\n",
        "\n",
        "# Specify client resources if you need GPU (defaults to 1 CPU and 0 GPU)\n",
        "client_resources = None\n",
        "if DEVICE.type == \"cuda\":\n",
        "    client_resources = {\"num_gpus\": 1}\n",
        "\n",
        "# Start simulation\n",
        "history = fl.simulation.start_simulation(\n",
        "    client_fn=client_fn,\n",
        "    num_clients=NUM_CLIENTS,\n",
        "    config=fl.server.ServerConfig(num_rounds=5),\n",
        "    strategy=strategy,\n",
        "    client_resources=client_resources,\n",
        ")"
      ]
    },
    {
      "cell_type": "markdown",
      "metadata": {
        "id": "xP8Qugv00SWp"
      },
      "source": [
        "### Behind the scenes\n",
        "\n",
        "So how does this work? How does Flower execute this simulation?\n",
        "\n",
        "When we call `start_simulation`, we tell Flower that there are 10 clients (`num_clients=10`). Flower then goes ahead an asks the `FedAvg` strategy to select clients. `FedAvg` knows that it should select 100% of the available clients (`fraction_fit=1.0`), so it goes ahead and selects 10 random clients (i.e., 100% of 10).\n",
        "\n",
        "Flower then asks the selected 10 clients to train the model. When the server receives the model parameter updates from the clients, it hands those updates over to the strategy (*FedAvg*) for aggregation. The strategy aggregates those updates and returns the new global model, which then gets used in the next round of federated learning."
      ]
    },
    {
      "cell_type": "markdown",
      "metadata": {
        "id": "8wKW1VHx0SWp"
      },
      "source": [
        "### Where's the accuracy?\n",
        "\n",
        "You may have noticed that all metrics except for `losses_distributed` are empty. Where did the `{\"accuracy\": float(accuracy)}` go?\n",
        "\n",
        "Flower can automatically aggregate losses returned by individual clients, but it cannot do the same for metrics in the generic metrics dictionary (the one with the `accuracy` key). Metrics dictionaries can contain very different kinds of metrics and even key/value pairs that are not metrics at all, so the framework does not (and can not) know how to handle these automatically.\n",
        "\n",
        "As users, we need to tell the framework how to handle/aggregate these custom metrics, and we do so by passing metric aggregation functions to the strategy. The strategy will then call these functions whenever it receives fit or evaluate metrics from clients. The two possible functions are `fit_metrics_aggregation_fn` and `evaluate_metrics_aggregation_fn`.\n",
        "\n",
        "Let's create a simple weighted averaging function to aggregate the `accuracy` metric we return from `evaluate`:"
      ]
    },
    {
      "cell_type": "code",
      "execution_count": 16,
      "metadata": {
        "id": "RN35I2Ye0SWp"
      },
      "outputs": [
        {
          "name": "stdout",
          "output_type": "stream",
          "text": [
            "\u001b[2m\u001b[36m(launch_and_evaluate pid=518584)\u001b[0m Accuracy 0.412\n"
          ]
        }
      ],
      "source": [
        "def weighted_average(metrics: List[Tuple[int, Metrics]]) -> Metrics:\n",
        "    # Multiply accuracy of each client by number of examples used\n",
        "    accuracies = [num_examples * m[\"accuracy\"] for num_examples, m in metrics]\n",
        "    examples = [num_examples for num_examples, _ in metrics]\n",
        "\n",
        "    # Aggregate and return custom metric (weighted average)\n",
        "    return {\"accuracy\": sum(accuracies) / sum(examples)}"
      ]
    },
    {
      "cell_type": "markdown",
      "metadata": {
        "id": "2Ae6rTZ60SWp"
      },
      "source": [
        "The only thing left to do is to tell the strategy to call this function whenever it receives evaluation metric dictionaries from the clients:"
      ]
    },
    {
      "cell_type": "code",
      "execution_count": 17,
      "metadata": {
        "id": "NOUzqXbF0SWp"
      },
      "outputs": [
        {
          "name": "stderr",
          "output_type": "stream",
          "text": [
            "INFO flwr 2023-04-29 02:30:36,525 | app.py:146 | Starting Flower simulation, config: ServerConfig(num_rounds=50, round_timeout=None)\n",
            "2023-04-29 02:30:40,354\tINFO worker.py:1553 -- Started a local Ray instance.\n",
            "INFO flwr 2023-04-29 02:30:40,887 | app.py:180 | Flower VCE: Ray initialized with resources: {'node:172.17.0.2': 1.0, 'memory': 79695170970.0, 'object_store_memory': 38440787558.0, 'GPU': 1.0, 'CPU': 16.0, 'accelerator_type:RTX': 1.0}\n",
            "INFO flwr 2023-04-29 02:30:40,887 | server.py:86 | Initializing global parameters\n",
            "INFO flwr 2023-04-29 02:30:40,888 | server.py:273 | Requesting initial parameters from one random client\n",
            "INFO flwr 2023-04-29 02:30:42,485 | server.py:277 | Received initial parameters from one random client\n",
            "INFO flwr 2023-04-29 02:30:42,486 | server.py:88 | Evaluating initial parameters\n",
            "INFO flwr 2023-04-29 02:30:42,486 | server.py:101 | FL starting\n",
            "DEBUG flwr 2023-04-29 02:30:42,486 | server.py:218 | fit_round 1: strategy sampled 10 clients (out of 10)\n",
            "DEBUG flwr 2023-04-29 02:31:03,357 | server.py:232 | fit_round 1 received 10 results and 0 failures\n",
            "WARNING flwr 2023-04-29 02:31:03,369 | fedavg.py:243 | No fit_metrics_aggregation_fn provided\n",
            "DEBUG flwr 2023-04-29 02:31:03,369 | server.py:168 | evaluate_round 1: strategy sampled 5 clients (out of 10)\n"
          ]
        },
        {
          "name": "stdout",
          "output_type": "stream",
          "text": [
            "\u001b[2m\u001b[36m(launch_and_evaluate pid=520494)\u001b[0m Accuracy 0.282\n",
            "\u001b[2m\u001b[36m(launch_and_evaluate pid=520554)\u001b[0m Accuracy 0.27\n",
            "\u001b[2m\u001b[36m(launch_and_evaluate pid=520614)\u001b[0m Accuracy 0.3\n",
            "\u001b[2m\u001b[36m(launch_and_evaluate pid=520674)\u001b[0m Accuracy 0.318\n"
          ]
        },
        {
          "name": "stderr",
          "output_type": "stream",
          "text": [
            "DEBUG flwr 2023-04-29 02:31:11,927 | server.py:182 | evaluate_round 1 received 5 results and 0 failures\n",
            "DEBUG flwr 2023-04-29 02:31:11,927 | server.py:218 | fit_round 2: strategy sampled 10 clients (out of 10)\n"
          ]
        },
        {
          "name": "stdout",
          "output_type": "stream",
          "text": [
            "\u001b[2m\u001b[36m(launch_and_evaluate pid=520735)\u001b[0m Accuracy 0.246\n"
          ]
        },
        {
          "name": "stderr",
          "output_type": "stream",
          "text": [
            "DEBUG flwr 2023-04-29 02:31:34,687 | server.py:232 | fit_round 2 received 10 results and 0 failures\n",
            "DEBUG flwr 2023-04-29 02:31:34,699 | server.py:168 | evaluate_round 2: strategy sampled 5 clients (out of 10)\n"
          ]
        },
        {
          "name": "stdout",
          "output_type": "stream",
          "text": [
            "\u001b[2m\u001b[36m(launch_and_evaluate pid=521399)\u001b[0m Accuracy 0.376\n",
            "\u001b[2m\u001b[36m(launch_and_evaluate pid=521455)\u001b[0m Accuracy 0.308\n",
            "\u001b[2m\u001b[36m(launch_and_evaluate pid=521511)\u001b[0m Accuracy 0.34\n",
            "\u001b[2m\u001b[36m(launch_and_evaluate pid=521568)\u001b[0m Accuracy 0.356\n"
          ]
        },
        {
          "name": "stderr",
          "output_type": "stream",
          "text": [
            "DEBUG flwr 2023-04-29 02:31:43,276 | server.py:182 | evaluate_round 2 received 5 results and 0 failures\n",
            "DEBUG flwr 2023-04-29 02:31:43,277 | server.py:218 | fit_round 3: strategy sampled 10 clients (out of 10)\n"
          ]
        },
        {
          "name": "stdout",
          "output_type": "stream",
          "text": [
            "\u001b[2m\u001b[36m(launch_and_evaluate pid=521624)\u001b[0m Accuracy 0.358\n"
          ]
        },
        {
          "name": "stderr",
          "output_type": "stream",
          "text": [
            "DEBUG flwr 2023-04-29 02:32:04,469 | server.py:232 | fit_round 3 received 10 results and 0 failures\n",
            "DEBUG flwr 2023-04-29 02:32:04,481 | server.py:168 | evaluate_round 3: strategy sampled 5 clients (out of 10)\n"
          ]
        },
        {
          "name": "stdout",
          "output_type": "stream",
          "text": [
            "\u001b[2m\u001b[36m(launch_and_evaluate pid=522274)\u001b[0m Accuracy 0.394\n",
            "\u001b[2m\u001b[36m(launch_and_evaluate pid=522331)\u001b[0m Accuracy 0.384\n",
            "\u001b[2m\u001b[36m(launch_and_evaluate pid=522387)\u001b[0m Accuracy 0.422\n",
            "\u001b[2m\u001b[36m(launch_and_evaluate pid=522444)\u001b[0m Accuracy 0.384\n"
          ]
        },
        {
          "name": "stderr",
          "output_type": "stream",
          "text": [
            "DEBUG flwr 2023-04-29 02:32:13,088 | server.py:182 | evaluate_round 3 received 5 results and 0 failures\n",
            "DEBUG flwr 2023-04-29 02:32:13,089 | server.py:218 | fit_round 4: strategy sampled 10 clients (out of 10)\n"
          ]
        },
        {
          "name": "stdout",
          "output_type": "stream",
          "text": [
            "\u001b[2m\u001b[36m(launch_and_evaluate pid=522500)\u001b[0m Accuracy 0.382\n"
          ]
        },
        {
          "name": "stderr",
          "output_type": "stream",
          "text": [
            "DEBUG flwr 2023-04-29 02:32:34,445 | server.py:232 | fit_round 4 received 10 results and 0 failures\n",
            "DEBUG flwr 2023-04-29 02:32:34,457 | server.py:168 | evaluate_round 4: strategy sampled 5 clients (out of 10)\n"
          ]
        },
        {
          "name": "stdout",
          "output_type": "stream",
          "text": [
            "\u001b[2m\u001b[36m(launch_and_evaluate pid=523152)\u001b[0m Accuracy 0.424\n",
            "\u001b[2m\u001b[36m(launch_and_evaluate pid=523208)\u001b[0m Accuracy 0.42\n",
            "\u001b[2m\u001b[36m(launch_and_evaluate pid=523264)\u001b[0m Accuracy 0.424\n",
            "\u001b[2m\u001b[36m(launch_and_evaluate pid=523321)\u001b[0m Accuracy 0.406\n"
          ]
        },
        {
          "name": "stderr",
          "output_type": "stream",
          "text": [
            "DEBUG flwr 2023-04-29 02:32:43,123 | server.py:182 | evaluate_round 4 received 5 results and 0 failures\n",
            "DEBUG flwr 2023-04-29 02:32:43,124 | server.py:218 | fit_round 5: strategy sampled 10 clients (out of 10)\n"
          ]
        },
        {
          "name": "stdout",
          "output_type": "stream",
          "text": [
            "\u001b[2m\u001b[36m(launch_and_evaluate pid=523377)\u001b[0m Accuracy 0.374\n"
          ]
        },
        {
          "name": "stderr",
          "output_type": "stream",
          "text": [
            "DEBUG flwr 2023-04-29 02:33:04,715 | server.py:232 | fit_round 5 received 10 results and 0 failures\n",
            "DEBUG flwr 2023-04-29 02:33:04,727 | server.py:168 | evaluate_round 5: strategy sampled 5 clients (out of 10)\n"
          ]
        },
        {
          "name": "stdout",
          "output_type": "stream",
          "text": [
            "\u001b[2m\u001b[36m(launch_and_evaluate pid=524028)\u001b[0m Accuracy 0.406\n",
            "\u001b[2m\u001b[36m(launch_and_evaluate pid=524084)\u001b[0m Accuracy 0.46\n",
            "\u001b[2m\u001b[36m(launch_and_evaluate pid=524140)\u001b[0m Accuracy 0.43\n",
            "\u001b[2m\u001b[36m(launch_and_evaluate pid=524197)\u001b[0m Accuracy 0.44\n"
          ]
        },
        {
          "name": "stderr",
          "output_type": "stream",
          "text": [
            "DEBUG flwr 2023-04-29 02:33:13,390 | server.py:182 | evaluate_round 5 received 5 results and 0 failures\n",
            "DEBUG flwr 2023-04-29 02:33:13,391 | server.py:218 | fit_round 6: strategy sampled 10 clients (out of 10)\n"
          ]
        },
        {
          "name": "stdout",
          "output_type": "stream",
          "text": [
            "\u001b[2m\u001b[36m(launch_and_evaluate pid=524253)\u001b[0m Accuracy 0.438\n"
          ]
        },
        {
          "name": "stderr",
          "output_type": "stream",
          "text": [
            "DEBUG flwr 2023-04-29 02:33:36,177 | server.py:232 | fit_round 6 received 10 results and 0 failures\n",
            "DEBUG flwr 2023-04-29 02:33:36,189 | server.py:168 | evaluate_round 6: strategy sampled 5 clients (out of 10)\n"
          ]
        },
        {
          "name": "stdout",
          "output_type": "stream",
          "text": [
            "\u001b[2m\u001b[36m(launch_and_evaluate pid=524907)\u001b[0m Accuracy 0.422\n",
            "\u001b[2m\u001b[36m(launch_and_evaluate pid=524963)\u001b[0m Accuracy 0.454\n",
            "\u001b[2m\u001b[36m(launch_and_evaluate pid=525020)\u001b[0m Accuracy 0.474\n",
            "\u001b[2m\u001b[36m(launch_and_evaluate pid=525079)\u001b[0m Accuracy 0.448\n"
          ]
        },
        {
          "name": "stderr",
          "output_type": "stream",
          "text": [
            "DEBUG flwr 2023-04-29 02:33:44,875 | server.py:182 | evaluate_round 6 received 5 results and 0 failures\n",
            "DEBUG flwr 2023-04-29 02:33:44,875 | server.py:218 | fit_round 7: strategy sampled 10 clients (out of 10)\n"
          ]
        },
        {
          "name": "stdout",
          "output_type": "stream",
          "text": [
            "\u001b[2m\u001b[36m(launch_and_evaluate pid=525135)\u001b[0m Accuracy 0.456\n"
          ]
        },
        {
          "name": "stderr",
          "output_type": "stream",
          "text": [
            "DEBUG flwr 2023-04-29 02:34:05,824 | server.py:232 | fit_round 7 received 10 results and 0 failures\n",
            "DEBUG flwr 2023-04-29 02:34:05,835 | server.py:168 | evaluate_round 7: strategy sampled 5 clients (out of 10)\n"
          ]
        },
        {
          "name": "stdout",
          "output_type": "stream",
          "text": [
            "\u001b[2m\u001b[36m(launch_and_evaluate pid=525789)\u001b[0m Accuracy 0.454\n",
            "\u001b[2m\u001b[36m(launch_and_evaluate pid=525844)\u001b[0m Accuracy 0.478\n",
            "\u001b[2m\u001b[1m\u001b[33m(autoscaler +6m20s)\u001b[0m Warning: The following resource request cannot be scheduled right now: {'CPU': 1.0, 'GPU': 1.0}. This is likely due to all cluster resources being claimed by actors. Consider creating fewer actors or adding more nodes to this Ray cluster.\n",
            "\u001b[2m\u001b[36m(launch_and_evaluate pid=525901)\u001b[0m Accuracy 0.442\n",
            "\u001b[2m\u001b[36m(launch_and_evaluate pid=525964)\u001b[0m Accuracy 0.462\n"
          ]
        },
        {
          "name": "stderr",
          "output_type": "stream",
          "text": [
            "DEBUG flwr 2023-04-29 02:34:14,210 | server.py:182 | evaluate_round 7 received 5 results and 0 failures\n",
            "DEBUG flwr 2023-04-29 02:34:14,210 | server.py:218 | fit_round 8: strategy sampled 10 clients (out of 10)\n"
          ]
        },
        {
          "name": "stdout",
          "output_type": "stream",
          "text": [
            "\u001b[2m\u001b[36m(launch_and_evaluate pid=526021)\u001b[0m Accuracy 0.474\n"
          ]
        },
        {
          "name": "stderr",
          "output_type": "stream",
          "text": [
            "DEBUG flwr 2023-04-29 02:34:35,939 | server.py:232 | fit_round 8 received 10 results and 0 failures\n",
            "DEBUG flwr 2023-04-29 02:34:35,950 | server.py:168 | evaluate_round 8: strategy sampled 5 clients (out of 10)\n"
          ]
        },
        {
          "name": "stdout",
          "output_type": "stream",
          "text": [
            "\u001b[2m\u001b[36m(launch_and_evaluate pid=526671)\u001b[0m Accuracy 0.492\n",
            "\u001b[2m\u001b[36m(launch_and_evaluate pid=526727)\u001b[0m Accuracy 0.472\n",
            "\u001b[2m\u001b[36m(launch_and_evaluate pid=526784)\u001b[0m Accuracy 0.472\n",
            "\u001b[2m\u001b[36m(launch_and_evaluate pid=526840)\u001b[0m Accuracy 0.476\n"
          ]
        },
        {
          "name": "stderr",
          "output_type": "stream",
          "text": [
            "DEBUG flwr 2023-04-29 02:34:44,584 | server.py:182 | evaluate_round 8 received 5 results and 0 failures\n",
            "DEBUG flwr 2023-04-29 02:34:44,584 | server.py:218 | fit_round 9: strategy sampled 10 clients (out of 10)\n"
          ]
        },
        {
          "name": "stdout",
          "output_type": "stream",
          "text": [
            "\u001b[2m\u001b[36m(launch_and_evaluate pid=526896)\u001b[0m Accuracy 0.498\n",
            "\u001b[2m\u001b[1m\u001b[33m(autoscaler +7m5s)\u001b[0m Warning: The following resource request cannot be scheduled right now: {'CPU': 1.0, 'GPU': 1.0}. This is likely due to all cluster resources being claimed by actors. Consider creating fewer actors or adding more nodes to this Ray cluster.\n"
          ]
        },
        {
          "name": "stderr",
          "output_type": "stream",
          "text": [
            "DEBUG flwr 2023-04-29 02:35:07,101 | server.py:232 | fit_round 9 received 10 results and 0 failures\n",
            "DEBUG flwr 2023-04-29 02:35:07,113 | server.py:168 | evaluate_round 9: strategy sampled 5 clients (out of 10)\n"
          ]
        },
        {
          "name": "stdout",
          "output_type": "stream",
          "text": [
            "\u001b[2m\u001b[36m(launch_and_evaluate pid=527552)\u001b[0m Accuracy 0.48\n",
            "\u001b[2m\u001b[36m(launch_and_evaluate pid=527611)\u001b[0m Accuracy 0.496\n",
            "\u001b[2m\u001b[36m(launch_and_evaluate pid=527669)\u001b[0m Accuracy 0.476\n",
            "\u001b[2m\u001b[36m(launch_and_evaluate pid=527725)\u001b[0m Accuracy 0.534\n"
          ]
        },
        {
          "name": "stderr",
          "output_type": "stream",
          "text": [
            "DEBUG flwr 2023-04-29 02:35:15,341 | server.py:182 | evaluate_round 9 received 5 results and 0 failures\n",
            "DEBUG flwr 2023-04-29 02:35:15,341 | server.py:218 | fit_round 10: strategy sampled 10 clients (out of 10)\n"
          ]
        },
        {
          "name": "stdout",
          "output_type": "stream",
          "text": [
            "\u001b[2m\u001b[36m(launch_and_evaluate pid=527781)\u001b[0m Accuracy 0.47\n"
          ]
        },
        {
          "name": "stderr",
          "output_type": "stream",
          "text": [
            "DEBUG flwr 2023-04-29 02:35:36,745 | server.py:232 | fit_round 10 received 10 results and 0 failures\n",
            "DEBUG flwr 2023-04-29 02:35:36,756 | server.py:168 | evaluate_round 10: strategy sampled 5 clients (out of 10)\n"
          ]
        },
        {
          "name": "stdout",
          "output_type": "stream",
          "text": [
            "\u001b[2m\u001b[36m(launch_and_evaluate pid=528442)\u001b[0m Accuracy 0.506\n",
            "\u001b[2m\u001b[36m(launch_and_evaluate pid=528498)\u001b[0m Accuracy 0.494\n",
            "\u001b[2m\u001b[36m(launch_and_evaluate pid=528555)\u001b[0m Accuracy 0.502\n",
            "\u001b[2m\u001b[36m(launch_and_evaluate pid=528611)\u001b[0m Accuracy 0.51\n"
          ]
        },
        {
          "name": "stderr",
          "output_type": "stream",
          "text": [
            "DEBUG flwr 2023-04-29 02:35:45,502 | server.py:182 | evaluate_round 10 received 5 results and 0 failures\n",
            "DEBUG flwr 2023-04-29 02:35:45,502 | server.py:218 | fit_round 11: strategy sampled 10 clients (out of 10)\n"
          ]
        },
        {
          "name": "stdout",
          "output_type": "stream",
          "text": [
            "\u001b[2m\u001b[36m(launch_and_evaluate pid=528667)\u001b[0m Accuracy 0.494\n"
          ]
        },
        {
          "name": "stderr",
          "output_type": "stream",
          "text": [
            "DEBUG flwr 2023-04-29 02:36:07,430 | server.py:232 | fit_round 11 received 10 results and 0 failures\n",
            "DEBUG flwr 2023-04-29 02:36:07,442 | server.py:168 | evaluate_round 11: strategy sampled 5 clients (out of 10)\n"
          ]
        },
        {
          "name": "stdout",
          "output_type": "stream",
          "text": [
            "\u001b[2m\u001b[36m(launch_and_evaluate pid=529318)\u001b[0m Accuracy 0.498\n",
            "\u001b[2m\u001b[36m(launch_and_evaluate pid=529375)\u001b[0m Accuracy 0.504\n",
            "\u001b[2m\u001b[36m(launch_and_evaluate pid=529431)\u001b[0m Accuracy 0.536\n",
            "\u001b[2m\u001b[36m(launch_and_evaluate pid=529487)\u001b[0m Accuracy 0.516\n"
          ]
        },
        {
          "name": "stderr",
          "output_type": "stream",
          "text": [
            "DEBUG flwr 2023-04-29 02:36:16,229 | server.py:182 | evaluate_round 11 received 5 results and 0 failures\n",
            "DEBUG flwr 2023-04-29 02:36:16,229 | server.py:218 | fit_round 12: strategy sampled 10 clients (out of 10)\n"
          ]
        },
        {
          "name": "stdout",
          "output_type": "stream",
          "text": [
            "\u001b[2m\u001b[36m(launch_and_evaluate pid=529546)\u001b[0m Accuracy 0.526\n",
            "\u001b[2m\u001b[1m\u001b[33m(autoscaler +8m40s)\u001b[0m Warning: The following resource request cannot be scheduled right now: {'CPU': 1.0, 'GPU': 1.0}. This is likely due to all cluster resources being claimed by actors. Consider creating fewer actors or adding more nodes to this Ray cluster.\n"
          ]
        },
        {
          "name": "stderr",
          "output_type": "stream",
          "text": [
            "DEBUG flwr 2023-04-29 02:36:37,685 | server.py:232 | fit_round 12 received 10 results and 0 failures\n",
            "DEBUG flwr 2023-04-29 02:36:37,697 | server.py:168 | evaluate_round 12: strategy sampled 5 clients (out of 10)\n"
          ]
        },
        {
          "name": "stdout",
          "output_type": "stream",
          "text": [
            "\u001b[2m\u001b[36m(launch_and_evaluate pid=530208)\u001b[0m Accuracy 0.508\n",
            "\u001b[2m\u001b[36m(launch_and_evaluate pid=530266)\u001b[0m Accuracy 0.528\n",
            "\u001b[2m\u001b[36m(launch_and_evaluate pid=530322)\u001b[0m Accuracy 0.522\n",
            "\u001b[2m\u001b[36m(launch_and_evaluate pid=530378)\u001b[0m Accuracy 0.494\n"
          ]
        },
        {
          "name": "stderr",
          "output_type": "stream",
          "text": [
            "DEBUG flwr 2023-04-29 02:36:46,407 | server.py:182 | evaluate_round 12 received 5 results and 0 failures\n",
            "DEBUG flwr 2023-04-29 02:36:46,407 | server.py:218 | fit_round 13: strategy sampled 10 clients (out of 10)\n"
          ]
        },
        {
          "name": "stdout",
          "output_type": "stream",
          "text": [
            "\u001b[2m\u001b[36m(launch_and_evaluate pid=530434)\u001b[0m Accuracy 0.522\n"
          ]
        },
        {
          "name": "stderr",
          "output_type": "stream",
          "text": [
            "DEBUG flwr 2023-04-29 02:37:08,274 | server.py:232 | fit_round 13 received 10 results and 0 failures\n",
            "DEBUG flwr 2023-04-29 02:37:08,285 | server.py:168 | evaluate_round 13: strategy sampled 5 clients (out of 10)\n"
          ]
        },
        {
          "name": "stdout",
          "output_type": "stream",
          "text": [
            "\u001b[2m\u001b[36m(launch_and_evaluate pid=531088)\u001b[0m Accuracy 0.542\n",
            "\u001b[2m\u001b[36m(launch_and_evaluate pid=531145)\u001b[0m Accuracy 0.528\n",
            "\u001b[2m\u001b[36m(launch_and_evaluate pid=531201)\u001b[0m Accuracy 0.51\n",
            "\u001b[2m\u001b[36m(launch_and_evaluate pid=531257)\u001b[0m Accuracy 0.502\n"
          ]
        },
        {
          "name": "stderr",
          "output_type": "stream",
          "text": [
            "DEBUG flwr 2023-04-29 02:37:16,959 | server.py:182 | evaluate_round 13 received 5 results and 0 failures\n",
            "DEBUG flwr 2023-04-29 02:37:16,959 | server.py:218 | fit_round 14: strategy sampled 10 clients (out of 10)\n"
          ]
        },
        {
          "name": "stdout",
          "output_type": "stream",
          "text": [
            "\u001b[2m\u001b[36m(launch_and_evaluate pid=531314)\u001b[0m Accuracy 0.49\n"
          ]
        },
        {
          "name": "stderr",
          "output_type": "stream",
          "text": [
            "DEBUG flwr 2023-04-29 02:37:39,358 | server.py:232 | fit_round 14 received 10 results and 0 failures\n",
            "DEBUG flwr 2023-04-29 02:37:39,370 | server.py:168 | evaluate_round 14: strategy sampled 5 clients (out of 10)\n"
          ]
        },
        {
          "name": "stdout",
          "output_type": "stream",
          "text": [
            "\u001b[2m\u001b[36m(launch_and_evaluate pid=531965)\u001b[0m Accuracy 0.544\n",
            "\u001b[2m\u001b[36m(launch_and_evaluate pid=532021)\u001b[0m Accuracy 0.554\n",
            "\u001b[2m\u001b[36m(launch_and_evaluate pid=532077)\u001b[0m Accuracy 0.574\n",
            "\u001b[2m\u001b[36m(launch_and_evaluate pid=532133)\u001b[0m Accuracy 0.532\n"
          ]
        },
        {
          "name": "stderr",
          "output_type": "stream",
          "text": [
            "DEBUG flwr 2023-04-29 02:37:47,987 | server.py:182 | evaluate_round 14 received 5 results and 0 failures\n",
            "DEBUG flwr 2023-04-29 02:37:47,988 | server.py:218 | fit_round 15: strategy sampled 10 clients (out of 10)\n"
          ]
        },
        {
          "name": "stdout",
          "output_type": "stream",
          "text": [
            "\u001b[2m\u001b[36m(launch_and_evaluate pid=532190)\u001b[0m Accuracy 0.52\n"
          ]
        },
        {
          "name": "stderr",
          "output_type": "stream",
          "text": [
            "DEBUG flwr 2023-04-29 02:38:10,559 | server.py:232 | fit_round 15 received 10 results and 0 failures\n",
            "DEBUG flwr 2023-04-29 02:38:10,571 | server.py:168 | evaluate_round 15: strategy sampled 5 clients (out of 10)\n"
          ]
        },
        {
          "name": "stdout",
          "output_type": "stream",
          "text": [
            "\u001b[2m\u001b[36m(launch_and_evaluate pid=532841)\u001b[0m Accuracy 0.548\n",
            "\u001b[2m\u001b[36m(launch_and_evaluate pid=532897)\u001b[0m Accuracy 0.524\n",
            "\u001b[2m\u001b[36m(launch_and_evaluate pid=532953)\u001b[0m Accuracy 0.538\n",
            "\u001b[2m\u001b[36m(launch_and_evaluate pid=533010)\u001b[0m Accuracy 0.516\n"
          ]
        },
        {
          "name": "stderr",
          "output_type": "stream",
          "text": [
            "DEBUG flwr 2023-04-29 02:38:19,244 | server.py:182 | evaluate_round 15 received 5 results and 0 failures\n",
            "DEBUG flwr 2023-04-29 02:38:19,245 | server.py:218 | fit_round 16: strategy sampled 10 clients (out of 10)\n"
          ]
        },
        {
          "name": "stdout",
          "output_type": "stream",
          "text": [
            "\u001b[2m\u001b[36m(launch_and_evaluate pid=533066)\u001b[0m Accuracy 0.562\n"
          ]
        },
        {
          "name": "stderr",
          "output_type": "stream",
          "text": [
            "DEBUG flwr 2023-04-29 02:38:40,773 | server.py:232 | fit_round 16 received 10 results and 0 failures\n",
            "DEBUG flwr 2023-04-29 02:38:40,784 | server.py:168 | evaluate_round 16: strategy sampled 5 clients (out of 10)\n"
          ]
        },
        {
          "name": "stdout",
          "output_type": "stream",
          "text": [
            "\u001b[2m\u001b[36m(launch_and_evaluate pid=533718)\u001b[0m Accuracy 0.55\n",
            "\u001b[2m\u001b[36m(launch_and_evaluate pid=533774)\u001b[0m Accuracy 0.532\n",
            "\u001b[2m\u001b[36m(launch_and_evaluate pid=533831)\u001b[0m Accuracy 0.528\n",
            "\u001b[2m\u001b[36m(launch_and_evaluate pid=533887)\u001b[0m Accuracy 0.528\n"
          ]
        },
        {
          "name": "stderr",
          "output_type": "stream",
          "text": [
            "DEBUG flwr 2023-04-29 02:38:49,429 | server.py:182 | evaluate_round 16 received 5 results and 0 failures\n",
            "DEBUG flwr 2023-04-29 02:38:49,430 | server.py:218 | fit_round 17: strategy sampled 10 clients (out of 10)\n"
          ]
        },
        {
          "name": "stdout",
          "output_type": "stream",
          "text": [
            "\u001b[2m\u001b[36m(launch_and_evaluate pid=533943)\u001b[0m Accuracy 0.544\n"
          ]
        },
        {
          "name": "stderr",
          "output_type": "stream",
          "text": [
            "DEBUG flwr 2023-04-29 02:39:11,005 | server.py:232 | fit_round 17 received 10 results and 0 failures\n",
            "DEBUG flwr 2023-04-29 02:39:11,016 | server.py:168 | evaluate_round 17: strategy sampled 5 clients (out of 10)\n"
          ]
        },
        {
          "name": "stdout",
          "output_type": "stream",
          "text": [
            "\u001b[2m\u001b[36m(launch_and_evaluate pid=534600)\u001b[0m Accuracy 0.534\n",
            "\u001b[2m\u001b[36m(launch_and_evaluate pid=534659)\u001b[0m Accuracy 0.552\n",
            "\u001b[2m\u001b[36m(launch_and_evaluate pid=534716)\u001b[0m Accuracy 0.56\n",
            "\u001b[2m\u001b[36m(launch_and_evaluate pid=534772)\u001b[0m Accuracy 0.54\n"
          ]
        },
        {
          "name": "stderr",
          "output_type": "stream",
          "text": [
            "DEBUG flwr 2023-04-29 02:39:19,747 | server.py:182 | evaluate_round 17 received 5 results and 0 failures\n",
            "DEBUG flwr 2023-04-29 02:39:19,748 | server.py:218 | fit_round 18: strategy sampled 10 clients (out of 10)\n"
          ]
        },
        {
          "name": "stdout",
          "output_type": "stream",
          "text": [
            "\u001b[2m\u001b[36m(launch_and_evaluate pid=534828)\u001b[0m Accuracy 0.532\n"
          ]
        },
        {
          "name": "stderr",
          "output_type": "stream",
          "text": [
            "DEBUG flwr 2023-04-29 02:39:42,822 | server.py:232 | fit_round 18 received 10 results and 0 failures\n",
            "DEBUG flwr 2023-04-29 02:39:42,833 | server.py:168 | evaluate_round 18: strategy sampled 5 clients (out of 10)\n"
          ]
        },
        {
          "name": "stdout",
          "output_type": "stream",
          "text": [
            "\u001b[2m\u001b[36m(launch_and_evaluate pid=535479)\u001b[0m Accuracy 0.552\n",
            "\u001b[2m\u001b[36m(launch_and_evaluate pid=535536)\u001b[0m Accuracy 0.546\n",
            "\u001b[2m\u001b[36m(launch_and_evaluate pid=535592)\u001b[0m Accuracy 0.556\n",
            "\u001b[2m\u001b[36m(launch_and_evaluate pid=535648)\u001b[0m Accuracy 0.554\n"
          ]
        },
        {
          "name": "stderr",
          "output_type": "stream",
          "text": [
            "DEBUG flwr 2023-04-29 02:39:51,453 | server.py:182 | evaluate_round 18 received 5 results and 0 failures\n",
            "DEBUG flwr 2023-04-29 02:39:51,453 | server.py:218 | fit_round 19: strategy sampled 10 clients (out of 10)\n"
          ]
        },
        {
          "name": "stdout",
          "output_type": "stream",
          "text": [
            "\u001b[2m\u001b[36m(launch_and_evaluate pid=535704)\u001b[0m Accuracy 0.54\n"
          ]
        },
        {
          "name": "stderr",
          "output_type": "stream",
          "text": [
            "DEBUG flwr 2023-04-29 02:40:13,677 | server.py:232 | fit_round 19 received 10 results and 0 failures\n",
            "DEBUG flwr 2023-04-29 02:40:13,688 | server.py:168 | evaluate_round 19: strategy sampled 5 clients (out of 10)\n"
          ]
        },
        {
          "name": "stdout",
          "output_type": "stream",
          "text": [
            "\u001b[2m\u001b[36m(launch_and_evaluate pid=536356)\u001b[0m Accuracy 0.558\n",
            "\u001b[2m\u001b[36m(launch_and_evaluate pid=536412)\u001b[0m Accuracy 0.548\n",
            "\u001b[2m\u001b[36m(launch_and_evaluate pid=536468)\u001b[0m Accuracy 0.518\n",
            "\u001b[2m\u001b[36m(launch_and_evaluate pid=536527)\u001b[0m Accuracy 0.564\n"
          ]
        },
        {
          "name": "stderr",
          "output_type": "stream",
          "text": [
            "DEBUG flwr 2023-04-29 02:40:22,329 | server.py:182 | evaluate_round 19 received 5 results and 0 failures\n",
            "DEBUG flwr 2023-04-29 02:40:22,329 | server.py:218 | fit_round 20: strategy sampled 10 clients (out of 10)\n"
          ]
        },
        {
          "name": "stdout",
          "output_type": "stream",
          "text": [
            "\u001b[2m\u001b[36m(launch_and_evaluate pid=536584)\u001b[0m Accuracy 0.556\n",
            "\u001b[2m\u001b[1m\u001b[33m(autoscaler +12m50s)\u001b[0m Warning: The following resource request cannot be scheduled right now: {'CPU': 1.0, 'GPU': 1.0}. This is likely due to all cluster resources being claimed by actors. Consider creating fewer actors or adding more nodes to this Ray cluster.\n"
          ]
        },
        {
          "name": "stderr",
          "output_type": "stream",
          "text": [
            "DEBUG flwr 2023-04-29 02:40:43,954 | server.py:232 | fit_round 20 received 10 results and 0 failures\n",
            "DEBUG flwr 2023-04-29 02:40:43,966 | server.py:168 | evaluate_round 20: strategy sampled 5 clients (out of 10)\n"
          ]
        },
        {
          "name": "stdout",
          "output_type": "stream",
          "text": [
            "\u001b[2m\u001b[36m(launch_and_evaluate pid=537240)\u001b[0m Accuracy 0.574\n",
            "\u001b[2m\u001b[36m(launch_and_evaluate pid=537296)\u001b[0m Accuracy 0.55\n",
            "\u001b[2m\u001b[36m(launch_and_evaluate pid=537355)\u001b[0m Accuracy 0.548\n",
            "\u001b[2m\u001b[36m(launch_and_evaluate pid=537411)\u001b[0m Accuracy 0.554\n"
          ]
        },
        {
          "name": "stderr",
          "output_type": "stream",
          "text": [
            "DEBUG flwr 2023-04-29 02:40:52,674 | server.py:182 | evaluate_round 20 received 5 results and 0 failures\n",
            "DEBUG flwr 2023-04-29 02:40:52,675 | server.py:218 | fit_round 21: strategy sampled 10 clients (out of 10)\n"
          ]
        },
        {
          "name": "stdout",
          "output_type": "stream",
          "text": [
            "\u001b[2m\u001b[36m(launch_and_evaluate pid=537468)\u001b[0m Accuracy 0.554\n"
          ]
        },
        {
          "name": "stderr",
          "output_type": "stream",
          "text": [
            "DEBUG flwr 2023-04-29 02:41:14,801 | server.py:232 | fit_round 21 received 10 results and 0 failures\n",
            "DEBUG flwr 2023-04-29 02:41:14,812 | server.py:168 | evaluate_round 21: strategy sampled 5 clients (out of 10)\n"
          ]
        },
        {
          "name": "stdout",
          "output_type": "stream",
          "text": [
            "\u001b[2m\u001b[36m(launch_and_evaluate pid=538131)\u001b[0m Accuracy 0.558\n",
            "\u001b[2m\u001b[36m(launch_and_evaluate pid=538187)\u001b[0m Accuracy 0.594\n",
            "\u001b[2m\u001b[36m(launch_and_evaluate pid=538243)\u001b[0m Accuracy 0.542\n",
            "\u001b[2m\u001b[36m(launch_and_evaluate pid=538300)\u001b[0m Accuracy 0.546\n"
          ]
        },
        {
          "name": "stderr",
          "output_type": "stream",
          "text": [
            "DEBUG flwr 2023-04-29 02:41:23,473 | server.py:182 | evaluate_round 21 received 5 results and 0 failures\n",
            "DEBUG flwr 2023-04-29 02:41:23,473 | server.py:218 | fit_round 22: strategy sampled 10 clients (out of 10)\n"
          ]
        },
        {
          "name": "stdout",
          "output_type": "stream",
          "text": [
            "\u001b[2m\u001b[36m(launch_and_evaluate pid=538359)\u001b[0m Accuracy 0.598\n"
          ]
        },
        {
          "name": "stderr",
          "output_type": "stream",
          "text": [
            "DEBUG flwr 2023-04-29 02:41:46,717 | server.py:232 | fit_round 22 received 10 results and 0 failures\n",
            "DEBUG flwr 2023-04-29 02:41:46,728 | server.py:168 | evaluate_round 22: strategy sampled 5 clients (out of 10)\n"
          ]
        },
        {
          "name": "stdout",
          "output_type": "stream",
          "text": [
            "\u001b[2m\u001b[36m(launch_and_evaluate pid=539017)\u001b[0m Accuracy 0.584\n",
            "\u001b[2m\u001b[1m\u001b[33m(autoscaler +14m0s)\u001b[0m Warning: The following resource request cannot be scheduled right now: {'CPU': 1.0, 'GPU': 1.0}. This is likely due to all cluster resources being claimed by actors. Consider creating fewer actors or adding more nodes to this Ray cluster.\n",
            "\u001b[2m\u001b[36m(launch_and_evaluate pid=539076)\u001b[0m Accuracy 0.564\n",
            "\u001b[2m\u001b[36m(launch_and_evaluate pid=539133)\u001b[0m Accuracy 0.574\n",
            "\u001b[2m\u001b[36m(launch_and_evaluate pid=539189)\u001b[0m Accuracy 0.602\n"
          ]
        },
        {
          "name": "stderr",
          "output_type": "stream",
          "text": [
            "DEBUG flwr 2023-04-29 02:41:55,371 | server.py:182 | evaluate_round 22 received 5 results and 0 failures\n",
            "DEBUG flwr 2023-04-29 02:41:55,372 | server.py:218 | fit_round 23: strategy sampled 10 clients (out of 10)\n"
          ]
        },
        {
          "name": "stdout",
          "output_type": "stream",
          "text": [
            "\u001b[2m\u001b[36m(launch_and_evaluate pid=539245)\u001b[0m Accuracy 0.554\n"
          ]
        },
        {
          "name": "stderr",
          "output_type": "stream",
          "text": [
            "DEBUG flwr 2023-04-29 02:42:16,610 | server.py:232 | fit_round 23 received 10 results and 0 failures\n",
            "DEBUG flwr 2023-04-29 02:42:16,622 | server.py:168 | evaluate_round 23: strategy sampled 5 clients (out of 10)\n"
          ]
        },
        {
          "name": "stdout",
          "output_type": "stream",
          "text": [
            "\u001b[2m\u001b[36m(launch_and_evaluate pid=539905)\u001b[0m Accuracy 0.58\n",
            "\u001b[2m\u001b[36m(launch_and_evaluate pid=539964)\u001b[0m Accuracy 0.592\n",
            "\u001b[2m\u001b[36m(launch_and_evaluate pid=540021)\u001b[0m Accuracy 0.564\n",
            "\u001b[2m\u001b[36m(launch_and_evaluate pid=540077)\u001b[0m Accuracy 0.552\n"
          ]
        },
        {
          "name": "stderr",
          "output_type": "stream",
          "text": [
            "DEBUG flwr 2023-04-29 02:42:25,279 | server.py:182 | evaluate_round 23 received 5 results and 0 failures\n",
            "DEBUG flwr 2023-04-29 02:42:25,280 | server.py:218 | fit_round 24: strategy sampled 10 clients (out of 10)\n"
          ]
        },
        {
          "name": "stdout",
          "output_type": "stream",
          "text": [
            "\u001b[2m\u001b[36m(launch_and_evaluate pid=540133)\u001b[0m Accuracy 0.564\n",
            "\u001b[2m\u001b[1m\u001b[33m(autoscaler +14m50s)\u001b[0m Warning: The following resource request cannot be scheduled right now: {'GPU': 1.0, 'CPU': 1.0}. This is likely due to all cluster resources being claimed by actors. Consider creating fewer actors or adding more nodes to this Ray cluster.\n"
          ]
        },
        {
          "name": "stderr",
          "output_type": "stream",
          "text": [
            "DEBUG flwr 2023-04-29 02:42:47,794 | server.py:232 | fit_round 24 received 10 results and 0 failures\n",
            "DEBUG flwr 2023-04-29 02:42:47,806 | server.py:168 | evaluate_round 24: strategy sampled 5 clients (out of 10)\n"
          ]
        },
        {
          "name": "stdout",
          "output_type": "stream",
          "text": [
            "\u001b[2m\u001b[36m(launch_and_evaluate pid=540796)\u001b[0m Accuracy 0.598\n",
            "\u001b[2m\u001b[36m(launch_and_evaluate pid=540857)\u001b[0m Accuracy 0.554\n",
            "\u001b[2m\u001b[36m(launch_and_evaluate pid=540913)\u001b[0m Accuracy 0.594\n",
            "\u001b[2m\u001b[36m(launch_and_evaluate pid=540969)\u001b[0m Accuracy 0.57\n"
          ]
        },
        {
          "name": "stderr",
          "output_type": "stream",
          "text": [
            "DEBUG flwr 2023-04-29 02:42:56,609 | server.py:182 | evaluate_round 24 received 5 results and 0 failures\n",
            "DEBUG flwr 2023-04-29 02:42:56,610 | server.py:218 | fit_round 25: strategy sampled 10 clients (out of 10)\n"
          ]
        },
        {
          "name": "stdout",
          "output_type": "stream",
          "text": [
            "\u001b[2m\u001b[36m(launch_and_evaluate pid=541028)\u001b[0m Accuracy 0.584\n"
          ]
        },
        {
          "name": "stderr",
          "output_type": "stream",
          "text": [
            "DEBUG flwr 2023-04-29 02:43:19,755 | server.py:232 | fit_round 25 received 10 results and 0 failures\n",
            "DEBUG flwr 2023-04-29 02:43:19,766 | server.py:168 | evaluate_round 25: strategy sampled 5 clients (out of 10)\n"
          ]
        },
        {
          "name": "stdout",
          "output_type": "stream",
          "text": [
            "\u001b[2m\u001b[36m(launch_and_evaluate pid=541683)\u001b[0m Accuracy 0.584\n",
            "\u001b[2m\u001b[36m(launch_and_evaluate pid=541742)\u001b[0m Accuracy 0.564\n",
            "\u001b[2m\u001b[36m(launch_and_evaluate pid=541798)\u001b[0m Accuracy 0.558\n",
            "\u001b[2m\u001b[36m(launch_and_evaluate pid=541854)\u001b[0m Accuracy 0.58\n"
          ]
        },
        {
          "name": "stderr",
          "output_type": "stream",
          "text": [
            "DEBUG flwr 2023-04-29 02:43:28,446 | server.py:182 | evaluate_round 25 received 5 results and 0 failures\n",
            "DEBUG flwr 2023-04-29 02:43:28,447 | server.py:218 | fit_round 26: strategy sampled 10 clients (out of 10)\n"
          ]
        },
        {
          "name": "stdout",
          "output_type": "stream",
          "text": [
            "\u001b[2m\u001b[36m(launch_and_evaluate pid=541911)\u001b[0m Accuracy 0.59\n",
            "\u001b[2m\u001b[1m\u001b[33m(autoscaler +15m51s)\u001b[0m Warning: The following resource request cannot be scheduled right now: {'GPU': 1.0, 'CPU': 1.0}. This is likely due to all cluster resources being claimed by actors. Consider creating fewer actors or adding more nodes to this Ray cluster.\n"
          ]
        },
        {
          "name": "stderr",
          "output_type": "stream",
          "text": [
            "DEBUG flwr 2023-04-29 02:43:49,497 | server.py:232 | fit_round 26 received 10 results and 0 failures\n",
            "DEBUG flwr 2023-04-29 02:43:49,509 | server.py:168 | evaluate_round 26: strategy sampled 5 clients (out of 10)\n"
          ]
        },
        {
          "name": "stdout",
          "output_type": "stream",
          "text": [
            "\u001b[2m\u001b[36m(launch_and_evaluate pid=542574)\u001b[0m Accuracy 0.57\n",
            "\u001b[2m\u001b[36m(launch_and_evaluate pid=542633)\u001b[0m Accuracy 0.574\n",
            "\u001b[2m\u001b[36m(launch_and_evaluate pid=542689)\u001b[0m Accuracy 0.578\n",
            "\u001b[2m\u001b[36m(launch_and_evaluate pid=542745)\u001b[0m Accuracy 0.6\n"
          ]
        },
        {
          "name": "stderr",
          "output_type": "stream",
          "text": [
            "DEBUG flwr 2023-04-29 02:43:58,104 | server.py:182 | evaluate_round 26 received 5 results and 0 failures\n",
            "DEBUG flwr 2023-04-29 02:43:58,105 | server.py:218 | fit_round 27: strategy sampled 10 clients (out of 10)\n"
          ]
        },
        {
          "name": "stdout",
          "output_type": "stream",
          "text": [
            "\u001b[2m\u001b[36m(launch_and_evaluate pid=542802)\u001b[0m Accuracy 0.58\n",
            "\u001b[2m\u001b[1m\u001b[33m(autoscaler +16m26s)\u001b[0m Warning: The following resource request cannot be scheduled right now: {'GPU': 1.0, 'CPU': 1.0}. This is likely due to all cluster resources being claimed by actors. Consider creating fewer actors or adding more nodes to this Ray cluster.\n"
          ]
        },
        {
          "name": "stderr",
          "output_type": "stream",
          "text": [
            "DEBUG flwr 2023-04-29 02:44:21,470 | server.py:232 | fit_round 27 received 10 results and 0 failures\n",
            "DEBUG flwr 2023-04-29 02:44:21,481 | server.py:168 | evaluate_round 27: strategy sampled 5 clients (out of 10)\n"
          ]
        },
        {
          "name": "stdout",
          "output_type": "stream",
          "text": [
            "\u001b[2m\u001b[36m(launch_and_evaluate pid=543465)\u001b[0m Accuracy 0.588\n",
            "\u001b[2m\u001b[36m(launch_and_evaluate pid=543525)\u001b[0m Accuracy 0.562\n",
            "\u001b[2m\u001b[36m(launch_and_evaluate pid=543582)\u001b[0m Accuracy 0.6\n",
            "\u001b[2m\u001b[36m(launch_and_evaluate pid=543638)\u001b[0m Accuracy 0.594\n"
          ]
        },
        {
          "name": "stderr",
          "output_type": "stream",
          "text": [
            "DEBUG flwr 2023-04-29 02:44:30,150 | server.py:182 | evaluate_round 27 received 5 results and 0 failures\n",
            "DEBUG flwr 2023-04-29 02:44:30,150 | server.py:218 | fit_round 28: strategy sampled 10 clients (out of 10)\n"
          ]
        },
        {
          "name": "stdout",
          "output_type": "stream",
          "text": [
            "\u001b[2m\u001b[36m(launch_and_evaluate pid=543694)\u001b[0m Accuracy 0.578\n"
          ]
        },
        {
          "name": "stderr",
          "output_type": "stream",
          "text": [
            "DEBUG flwr 2023-04-29 02:44:52,369 | server.py:232 | fit_round 28 received 10 results and 0 failures\n",
            "DEBUG flwr 2023-04-29 02:44:52,381 | server.py:168 | evaluate_round 28: strategy sampled 5 clients (out of 10)\n"
          ]
        },
        {
          "name": "stdout",
          "output_type": "stream",
          "text": [
            "\u001b[2m\u001b[36m(launch_and_evaluate pid=544354)\u001b[0m Accuracy 0.588\n",
            "\u001b[2m\u001b[36m(launch_and_evaluate pid=544413)\u001b[0m Accuracy 0.58\n",
            "\u001b[2m\u001b[36m(launch_and_evaluate pid=544470)\u001b[0m Accuracy 0.612\n",
            "\u001b[2m\u001b[36m(launch_and_evaluate pid=544526)\u001b[0m Accuracy 0.592\n"
          ]
        },
        {
          "name": "stderr",
          "output_type": "stream",
          "text": [
            "DEBUG flwr 2023-04-29 02:45:01,020 | server.py:182 | evaluate_round 28 received 5 results and 0 failures\n",
            "DEBUG flwr 2023-04-29 02:45:01,021 | server.py:218 | fit_round 29: strategy sampled 10 clients (out of 10)\n"
          ]
        },
        {
          "name": "stdout",
          "output_type": "stream",
          "text": [
            "\u001b[2m\u001b[36m(launch_and_evaluate pid=544582)\u001b[0m Accuracy 0.586\n"
          ]
        },
        {
          "name": "stderr",
          "output_type": "stream",
          "text": [
            "DEBUG flwr 2023-04-29 02:45:24,172 | server.py:232 | fit_round 29 received 10 results and 0 failures\n",
            "DEBUG flwr 2023-04-29 02:45:24,184 | server.py:168 | evaluate_round 29: strategy sampled 5 clients (out of 10)\n"
          ]
        },
        {
          "name": "stdout",
          "output_type": "stream",
          "text": [
            "\u001b[2m\u001b[36m(launch_and_evaluate pid=545246)\u001b[0m Accuracy 0.614\n",
            "\u001b[2m\u001b[36m(launch_and_evaluate pid=545302)\u001b[0m Accuracy 0.596\n",
            "\u001b[2m\u001b[36m(launch_and_evaluate pid=545358)\u001b[0m Accuracy 0.606\n",
            "\u001b[2m\u001b[1m\u001b[33m(autoscaler +17m41s)\u001b[0m Warning: The following resource request cannot be scheduled right now: {'GPU': 1.0, 'CPU': 1.0}. This is likely due to all cluster resources being claimed by actors. Consider creating fewer actors or adding more nodes to this Ray cluster.\n",
            "\u001b[2m\u001b[36m(launch_and_evaluate pid=545414)\u001b[0m Accuracy 0.572\n"
          ]
        },
        {
          "name": "stderr",
          "output_type": "stream",
          "text": [
            "DEBUG flwr 2023-04-29 02:45:32,791 | server.py:182 | evaluate_round 29 received 5 results and 0 failures\n",
            "DEBUG flwr 2023-04-29 02:45:32,791 | server.py:218 | fit_round 30: strategy sampled 10 clients (out of 10)\n"
          ]
        },
        {
          "name": "stdout",
          "output_type": "stream",
          "text": [
            "\u001b[2m\u001b[36m(launch_and_evaluate pid=545474)\u001b[0m Accuracy 0.576\n"
          ]
        },
        {
          "name": "stderr",
          "output_type": "stream",
          "text": [
            "DEBUG flwr 2023-04-29 02:45:55,156 | server.py:232 | fit_round 30 received 10 results and 0 failures\n",
            "DEBUG flwr 2023-04-29 02:45:55,168 | server.py:168 | evaluate_round 30: strategy sampled 5 clients (out of 10)\n"
          ]
        },
        {
          "name": "stdout",
          "output_type": "stream",
          "text": [
            "\u001b[2m\u001b[36m(launch_and_evaluate pid=546129)\u001b[0m Accuracy 0.596\n",
            "\u001b[2m\u001b[36m(launch_and_evaluate pid=546188)\u001b[0m Accuracy 0.61\n",
            "\u001b[2m\u001b[36m(launch_and_evaluate pid=546244)\u001b[0m Accuracy 0.606\n",
            "\u001b[2m\u001b[36m(launch_and_evaluate pid=546301)\u001b[0m Accuracy 0.578\n"
          ]
        },
        {
          "name": "stderr",
          "output_type": "stream",
          "text": [
            "DEBUG flwr 2023-04-29 02:46:03,823 | server.py:182 | evaluate_round 30 received 5 results and 0 failures\n",
            "DEBUG flwr 2023-04-29 02:46:03,823 | server.py:218 | fit_round 31: strategy sampled 10 clients (out of 10)\n"
          ]
        },
        {
          "name": "stdout",
          "output_type": "stream",
          "text": [
            "\u001b[2m\u001b[36m(launch_and_evaluate pid=546357)\u001b[0m Accuracy 0.588\n"
          ]
        },
        {
          "name": "stderr",
          "output_type": "stream",
          "text": [
            "DEBUG flwr 2023-04-29 02:46:24,419 | server.py:232 | fit_round 31 received 10 results and 0 failures\n",
            "DEBUG flwr 2023-04-29 02:46:24,430 | server.py:168 | evaluate_round 31: strategy sampled 5 clients (out of 10)\n"
          ]
        },
        {
          "name": "stdout",
          "output_type": "stream",
          "text": [
            "\u001b[2m\u001b[36m(launch_and_evaluate pid=547015)\u001b[0m Accuracy 0.578\n",
            "\u001b[2m\u001b[36m(launch_and_evaluate pid=547075)\u001b[0m Accuracy 0.582\n",
            "\u001b[2m\u001b[36m(launch_and_evaluate pid=547131)\u001b[0m Accuracy 0.572\n",
            "\u001b[2m\u001b[36m(launch_and_evaluate pid=547187)\u001b[0m Accuracy 0.612\n"
          ]
        },
        {
          "name": "stderr",
          "output_type": "stream",
          "text": [
            "DEBUG flwr 2023-04-29 02:46:33,114 | server.py:182 | evaluate_round 31 received 5 results and 0 failures\n",
            "DEBUG flwr 2023-04-29 02:46:33,114 | server.py:218 | fit_round 32: strategy sampled 10 clients (out of 10)\n"
          ]
        },
        {
          "name": "stdout",
          "output_type": "stream",
          "text": [
            "\u001b[2m\u001b[36m(launch_and_evaluate pid=547247)\u001b[0m Accuracy 0.576\n"
          ]
        },
        {
          "name": "stderr",
          "output_type": "stream",
          "text": [
            "DEBUG flwr 2023-04-29 02:46:54,206 | server.py:232 | fit_round 32 received 10 results and 0 failures\n",
            "DEBUG flwr 2023-04-29 02:46:54,217 | server.py:168 | evaluate_round 32: strategy sampled 5 clients (out of 10)\n"
          ]
        },
        {
          "name": "stdout",
          "output_type": "stream",
          "text": [
            "\u001b[2m\u001b[36m(launch_and_evaluate pid=547906)\u001b[0m Accuracy 0.608\n",
            "\u001b[2m\u001b[36m(launch_and_evaluate pid=547963)\u001b[0m Accuracy 0.594\n",
            "\u001b[2m\u001b[36m(launch_and_evaluate pid=548019)\u001b[0m Accuracy 0.566\n",
            "\u001b[2m\u001b[1m\u001b[33m(autoscaler +19m11s)\u001b[0m Warning: The following resource request cannot be scheduled right now: {'CPU': 1.0, 'GPU': 1.0}. This is likely due to all cluster resources being claimed by actors. Consider creating fewer actors or adding more nodes to this Ray cluster.\n",
            "\u001b[2m\u001b[36m(launch_and_evaluate pid=548075)\u001b[0m Accuracy 0.586\n"
          ]
        },
        {
          "name": "stderr",
          "output_type": "stream",
          "text": [
            "DEBUG flwr 2023-04-29 02:47:02,926 | server.py:182 | evaluate_round 32 received 5 results and 0 failures\n",
            "DEBUG flwr 2023-04-29 02:47:02,927 | server.py:218 | fit_round 33: strategy sampled 10 clients (out of 10)\n"
          ]
        },
        {
          "name": "stdout",
          "output_type": "stream",
          "text": [
            "\u001b[2m\u001b[36m(launch_and_evaluate pid=548135)\u001b[0m Accuracy 0.618\n"
          ]
        },
        {
          "name": "stderr",
          "output_type": "stream",
          "text": [
            "DEBUG flwr 2023-04-29 02:47:24,319 | server.py:232 | fit_round 33 received 10 results and 0 failures\n",
            "DEBUG flwr 2023-04-29 02:47:24,330 | server.py:168 | evaluate_round 33: strategy sampled 5 clients (out of 10)\n"
          ]
        },
        {
          "name": "stdout",
          "output_type": "stream",
          "text": [
            "\u001b[2m\u001b[36m(launch_and_evaluate pid=548794)\u001b[0m Accuracy 0.614\n",
            "\u001b[2m\u001b[36m(launch_and_evaluate pid=548852)\u001b[0m Accuracy 0.62\n",
            "\u001b[2m\u001b[36m(launch_and_evaluate pid=548908)\u001b[0m Accuracy 0.594\n",
            "\u001b[2m\u001b[36m(launch_and_evaluate pid=548964)\u001b[0m Accuracy 0.584\n"
          ]
        },
        {
          "name": "stderr",
          "output_type": "stream",
          "text": [
            "DEBUG flwr 2023-04-29 02:47:33,138 | server.py:182 | evaluate_round 33 received 5 results and 0 failures\n",
            "DEBUG flwr 2023-04-29 02:47:33,138 | server.py:218 | fit_round 34: strategy sampled 10 clients (out of 10)\n"
          ]
        },
        {
          "name": "stdout",
          "output_type": "stream",
          "text": [
            "\u001b[2m\u001b[36m(launch_and_evaluate pid=549024)\u001b[0m Accuracy 0.614\n",
            "\u001b[2m\u001b[1m\u001b[33m(autoscaler +19m51s)\u001b[0m Warning: The following resource request cannot be scheduled right now: {'CPU': 1.0, 'GPU': 1.0}. This is likely due to all cluster resources being claimed by actors. Consider creating fewer actors or adding more nodes to this Ray cluster.\n"
          ]
        },
        {
          "name": "stderr",
          "output_type": "stream",
          "text": [
            "DEBUG flwr 2023-04-29 02:47:53,328 | server.py:232 | fit_round 34 received 10 results and 0 failures\n",
            "DEBUG flwr 2023-04-29 02:47:53,340 | server.py:168 | evaluate_round 34: strategy sampled 5 clients (out of 10)\n"
          ]
        },
        {
          "name": "stdout",
          "output_type": "stream",
          "text": [
            "\u001b[2m\u001b[36m(launch_and_evaluate pid=549674)\u001b[0m Accuracy 0.614\n",
            "\u001b[2m\u001b[36m(launch_and_evaluate pid=549731)\u001b[0m Accuracy 0.61\n",
            "\u001b[2m\u001b[36m(launch_and_evaluate pid=549787)\u001b[0m Accuracy 0.59\n",
            "\u001b[2m\u001b[36m(launch_and_evaluate pid=549843)\u001b[0m Accuracy 0.582\n"
          ]
        },
        {
          "name": "stderr",
          "output_type": "stream",
          "text": [
            "DEBUG flwr 2023-04-29 02:48:02,117 | server.py:182 | evaluate_round 34 received 5 results and 0 failures\n",
            "DEBUG flwr 2023-04-29 02:48:02,117 | server.py:218 | fit_round 35: strategy sampled 10 clients (out of 10)\n"
          ]
        },
        {
          "name": "stdout",
          "output_type": "stream",
          "text": [
            "\u001b[2m\u001b[36m(launch_and_evaluate pid=549899)\u001b[0m Accuracy 0.598\n"
          ]
        },
        {
          "name": "stderr",
          "output_type": "stream",
          "text": [
            "DEBUG flwr 2023-04-29 02:48:24,568 | server.py:232 | fit_round 35 received 10 results and 0 failures\n",
            "DEBUG flwr 2023-04-29 02:48:24,579 | server.py:168 | evaluate_round 35: strategy sampled 5 clients (out of 10)\n"
          ]
        },
        {
          "name": "stdout",
          "output_type": "stream",
          "text": [
            "\u001b[2m\u001b[36m(launch_and_evaluate pid=550551)\u001b[0m Accuracy 0.614\n",
            "\u001b[2m\u001b[36m(launch_and_evaluate pid=550607)\u001b[0m Accuracy 0.576\n",
            "\u001b[2m\u001b[36m(launch_and_evaluate pid=550663)\u001b[0m Accuracy 0.586\n",
            "\u001b[2m\u001b[36m(launch_and_evaluate pid=550719)\u001b[0m Accuracy 0.606\n"
          ]
        },
        {
          "name": "stderr",
          "output_type": "stream",
          "text": [
            "DEBUG flwr 2023-04-29 02:48:33,359 | server.py:182 | evaluate_round 35 received 5 results and 0 failures\n",
            "DEBUG flwr 2023-04-29 02:48:33,360 | server.py:218 | fit_round 36: strategy sampled 10 clients (out of 10)\n"
          ]
        },
        {
          "name": "stdout",
          "output_type": "stream",
          "text": [
            "\u001b[2m\u001b[36m(launch_and_evaluate pid=550776)\u001b[0m Accuracy 0.592\n"
          ]
        },
        {
          "name": "stderr",
          "output_type": "stream",
          "text": [
            "DEBUG flwr 2023-04-29 02:48:54,409 | server.py:232 | fit_round 36 received 10 results and 0 failures\n",
            "DEBUG flwr 2023-04-29 02:48:54,420 | server.py:168 | evaluate_round 36: strategy sampled 5 clients (out of 10)\n"
          ]
        },
        {
          "name": "stdout",
          "output_type": "stream",
          "text": [
            "\u001b[2m\u001b[36m(launch_and_evaluate pid=551426)\u001b[0m Accuracy 0.574\n",
            "\u001b[2m\u001b[36m(launch_and_evaluate pid=551483)\u001b[0m Accuracy 0.586\n",
            "\u001b[2m\u001b[36m(launch_and_evaluate pid=551539)\u001b[0m Accuracy 0.582\n",
            "\u001b[2m\u001b[36m(launch_and_evaluate pid=551595)\u001b[0m Accuracy 0.596\n"
          ]
        },
        {
          "name": "stderr",
          "output_type": "stream",
          "text": [
            "DEBUG flwr 2023-04-29 02:49:03,224 | server.py:182 | evaluate_round 36 received 5 results and 0 failures\n",
            "DEBUG flwr 2023-04-29 02:49:03,224 | server.py:218 | fit_round 37: strategy sampled 10 clients (out of 10)\n"
          ]
        },
        {
          "name": "stdout",
          "output_type": "stream",
          "text": [
            "\u001b[2m\u001b[36m(launch_and_evaluate pid=551652)\u001b[0m Accuracy 0.6\n"
          ]
        },
        {
          "name": "stderr",
          "output_type": "stream",
          "text": [
            "DEBUG flwr 2023-04-29 02:49:24,364 | server.py:232 | fit_round 37 received 10 results and 0 failures\n",
            "DEBUG flwr 2023-04-29 02:49:24,375 | server.py:168 | evaluate_round 37: strategy sampled 5 clients (out of 10)\n"
          ]
        },
        {
          "name": "stdout",
          "output_type": "stream",
          "text": [
            "\u001b[2m\u001b[36m(launch_and_evaluate pid=552303)\u001b[0m Accuracy 0.574\n",
            "\u001b[2m\u001b[36m(launch_and_evaluate pid=552359)\u001b[0m Accuracy 0.614\n",
            "\u001b[2m\u001b[36m(launch_and_evaluate pid=552415)\u001b[0m Accuracy 0.632\n",
            "\u001b[2m\u001b[36m(launch_and_evaluate pid=552471)\u001b[0m Accuracy 0.598\n"
          ]
        },
        {
          "name": "stderr",
          "output_type": "stream",
          "text": [
            "DEBUG flwr 2023-04-29 02:49:33,102 | server.py:182 | evaluate_round 37 received 5 results and 0 failures\n",
            "DEBUG flwr 2023-04-29 02:49:33,103 | server.py:218 | fit_round 38: strategy sampled 10 clients (out of 10)\n"
          ]
        },
        {
          "name": "stdout",
          "output_type": "stream",
          "text": [
            "\u001b[2m\u001b[36m(launch_and_evaluate pid=552528)\u001b[0m Accuracy 0.622\n"
          ]
        },
        {
          "name": "stderr",
          "output_type": "stream",
          "text": [
            "DEBUG flwr 2023-04-29 02:49:56,335 | server.py:232 | fit_round 38 received 10 results and 0 failures\n",
            "DEBUG flwr 2023-04-29 02:49:56,346 | server.py:168 | evaluate_round 38: strategy sampled 5 clients (out of 10)\n"
          ]
        },
        {
          "name": "stdout",
          "output_type": "stream",
          "text": [
            "\u001b[2m\u001b[36m(launch_and_evaluate pid=553179)\u001b[0m Accuracy 0.628\n",
            "\u001b[2m\u001b[36m(launch_and_evaluate pid=553235)\u001b[0m Accuracy 0.604\n",
            "\u001b[2m\u001b[36m(launch_and_evaluate pid=553291)\u001b[0m Accuracy 0.618\n",
            "\u001b[2m\u001b[36m(launch_and_evaluate pid=553348)\u001b[0m Accuracy 0.568\n"
          ]
        },
        {
          "name": "stderr",
          "output_type": "stream",
          "text": [
            "DEBUG flwr 2023-04-29 02:50:04,916 | server.py:182 | evaluate_round 38 received 5 results and 0 failures\n",
            "DEBUG flwr 2023-04-29 02:50:04,916 | server.py:218 | fit_round 39: strategy sampled 10 clients (out of 10)\n"
          ]
        },
        {
          "name": "stdout",
          "output_type": "stream",
          "text": [
            "\u001b[2m\u001b[36m(launch_and_evaluate pid=553404)\u001b[0m Accuracy 0.602\n"
          ]
        },
        {
          "name": "stderr",
          "output_type": "stream",
          "text": [
            "DEBUG flwr 2023-04-29 02:50:26,645 | server.py:232 | fit_round 39 received 10 results and 0 failures\n",
            "DEBUG flwr 2023-04-29 02:50:26,656 | server.py:168 | evaluate_round 39: strategy sampled 5 clients (out of 10)\n"
          ]
        },
        {
          "name": "stdout",
          "output_type": "stream",
          "text": [
            "\u001b[2m\u001b[36m(launch_and_evaluate pid=554056)\u001b[0m Accuracy 0.59\n",
            "\u001b[2m\u001b[1m\u001b[33m(autoscaler +22m41s)\u001b[0m Warning: The following resource request cannot be scheduled right now: {'CPU': 1.0, 'GPU': 1.0}. This is likely due to all cluster resources being claimed by actors. Consider creating fewer actors or adding more nodes to this Ray cluster.\n",
            "\u001b[2m\u001b[36m(launch_and_evaluate pid=554112)\u001b[0m Accuracy 0.624\n",
            "\u001b[2m\u001b[36m(launch_and_evaluate pid=554168)\u001b[0m Accuracy 0.63\n",
            "\u001b[2m\u001b[36m(launch_and_evaluate pid=554225)\u001b[0m Accuracy 0.636\n"
          ]
        },
        {
          "name": "stderr",
          "output_type": "stream",
          "text": [
            "DEBUG flwr 2023-04-29 02:50:35,258 | server.py:182 | evaluate_round 39 received 5 results and 0 failures\n",
            "DEBUG flwr 2023-04-29 02:50:35,259 | server.py:218 | fit_round 40: strategy sampled 10 clients (out of 10)\n"
          ]
        },
        {
          "name": "stdout",
          "output_type": "stream",
          "text": [
            "\u001b[2m\u001b[36m(launch_and_evaluate pid=554281)\u001b[0m Accuracy 0.608\n"
          ]
        },
        {
          "name": "stderr",
          "output_type": "stream",
          "text": [
            "DEBUG flwr 2023-04-29 02:50:57,199 | server.py:232 | fit_round 40 received 10 results and 0 failures\n",
            "DEBUG flwr 2023-04-29 02:50:57,210 | server.py:168 | evaluate_round 40: strategy sampled 5 clients (out of 10)\n"
          ]
        },
        {
          "name": "stdout",
          "output_type": "stream",
          "text": [
            "\u001b[2m\u001b[36m(launch_and_evaluate pid=554934)\u001b[0m Accuracy 0.626\n",
            "\u001b[2m\u001b[36m(launch_and_evaluate pid=554990)\u001b[0m Accuracy 0.598\n",
            "\u001b[2m\u001b[36m(launch_and_evaluate pid=555047)\u001b[0m Accuracy 0.61\n",
            "\u001b[2m\u001b[36m(launch_and_evaluate pid=555103)\u001b[0m Accuracy 0.57\n"
          ]
        },
        {
          "name": "stderr",
          "output_type": "stream",
          "text": [
            "DEBUG flwr 2023-04-29 02:51:05,927 | server.py:182 | evaluate_round 40 received 5 results and 0 failures\n",
            "DEBUG flwr 2023-04-29 02:51:05,927 | server.py:218 | fit_round 41: strategy sampled 10 clients (out of 10)\n"
          ]
        },
        {
          "name": "stdout",
          "output_type": "stream",
          "text": [
            "\u001b[2m\u001b[36m(launch_and_evaluate pid=555159)\u001b[0m Accuracy 0.606\n"
          ]
        },
        {
          "name": "stderr",
          "output_type": "stream",
          "text": [
            "DEBUG flwr 2023-04-29 02:51:29,009 | server.py:232 | fit_round 41 received 10 results and 0 failures\n",
            "DEBUG flwr 2023-04-29 02:51:29,021 | server.py:168 | evaluate_round 41: strategy sampled 5 clients (out of 10)\n"
          ]
        },
        {
          "name": "stdout",
          "output_type": "stream",
          "text": [
            "\u001b[2m\u001b[36m(launch_and_evaluate pid=555810)\u001b[0m Accuracy 0.616\n",
            "\u001b[2m\u001b[36m(launch_and_evaluate pid=555867)\u001b[0m Accuracy 0.59\n",
            "\u001b[2m\u001b[36m(launch_and_evaluate pid=555923)\u001b[0m Accuracy 0.574\n",
            "\u001b[2m\u001b[36m(launch_and_evaluate pid=555979)\u001b[0m Accuracy 0.612\n"
          ]
        },
        {
          "name": "stderr",
          "output_type": "stream",
          "text": [
            "DEBUG flwr 2023-04-29 02:51:37,660 | server.py:182 | evaluate_round 41 received 5 results and 0 failures\n",
            "DEBUG flwr 2023-04-29 02:51:37,660 | server.py:218 | fit_round 42: strategy sampled 10 clients (out of 10)\n"
          ]
        },
        {
          "name": "stdout",
          "output_type": "stream",
          "text": [
            "\u001b[2m\u001b[36m(launch_and_evaluate pid=556035)\u001b[0m Accuracy 0.61\n",
            "\u001b[2m\u001b[1m\u001b[33m(autoscaler +24m1s)\u001b[0m Warning: The following resource request cannot be scheduled right now: {'CPU': 1.0, 'GPU': 1.0}. This is likely due to all cluster resources being claimed by actors. Consider creating fewer actors or adding more nodes to this Ray cluster.\n"
          ]
        },
        {
          "name": "stderr",
          "output_type": "stream",
          "text": [
            "DEBUG flwr 2023-04-29 02:51:59,403 | server.py:232 | fit_round 42 received 10 results and 0 failures\n",
            "DEBUG flwr 2023-04-29 02:51:59,415 | server.py:168 | evaluate_round 42: strategy sampled 5 clients (out of 10)\n"
          ]
        },
        {
          "name": "stdout",
          "output_type": "stream",
          "text": [
            "\u001b[2m\u001b[36m(launch_and_evaluate pid=556688)\u001b[0m Accuracy 0.576\n",
            "\u001b[2m\u001b[36m(launch_and_evaluate pid=556744)\u001b[0m Accuracy 0.636\n",
            "\u001b[2m\u001b[36m(launch_and_evaluate pid=556800)\u001b[0m Accuracy 0.63\n",
            "\u001b[2m\u001b[36m(launch_and_evaluate pid=556856)\u001b[0m Accuracy 0.614\n"
          ]
        },
        {
          "name": "stderr",
          "output_type": "stream",
          "text": [
            "DEBUG flwr 2023-04-29 02:52:08,049 | server.py:182 | evaluate_round 42 received 5 results and 0 failures\n",
            "DEBUG flwr 2023-04-29 02:52:08,049 | server.py:218 | fit_round 43: strategy sampled 10 clients (out of 10)\n"
          ]
        },
        {
          "name": "stdout",
          "output_type": "stream",
          "text": [
            "\u001b[2m\u001b[36m(launch_and_evaluate pid=556913)\u001b[0m Accuracy 0.634\n"
          ]
        },
        {
          "name": "stderr",
          "output_type": "stream",
          "text": [
            "DEBUG flwr 2023-04-29 02:52:30,537 | server.py:232 | fit_round 43 received 10 results and 0 failures\n",
            "DEBUG flwr 2023-04-29 02:52:30,548 | server.py:168 | evaluate_round 43: strategy sampled 5 clients (out of 10)\n"
          ]
        },
        {
          "name": "stdout",
          "output_type": "stream",
          "text": [
            "\u001b[2m\u001b[36m(launch_and_evaluate pid=557564)\u001b[0m Accuracy 0.634\n",
            "\u001b[2m\u001b[36m(launch_and_evaluate pid=557620)\u001b[0m Accuracy 0.628\n",
            "\u001b[2m\u001b[36m(launch_and_evaluate pid=557676)\u001b[0m Accuracy 0.638\n",
            "\u001b[2m\u001b[36m(launch_and_evaluate pid=557733)\u001b[0m Accuracy 0.622\n"
          ]
        },
        {
          "name": "stderr",
          "output_type": "stream",
          "text": [
            "DEBUG flwr 2023-04-29 02:52:39,238 | server.py:182 | evaluate_round 43 received 5 results and 0 failures\n",
            "DEBUG flwr 2023-04-29 02:52:39,239 | server.py:218 | fit_round 44: strategy sampled 10 clients (out of 10)\n"
          ]
        },
        {
          "name": "stdout",
          "output_type": "stream",
          "text": [
            "\u001b[2m\u001b[36m(launch_and_evaluate pid=557789)\u001b[0m Accuracy 0.582\n"
          ]
        },
        {
          "name": "stderr",
          "output_type": "stream",
          "text": [
            "DEBUG flwr 2023-04-29 02:53:02,512 | server.py:232 | fit_round 44 received 10 results and 0 failures\n",
            "DEBUG flwr 2023-04-29 02:53:02,525 | server.py:168 | evaluate_round 44: strategy sampled 5 clients (out of 10)\n"
          ]
        },
        {
          "name": "stdout",
          "output_type": "stream",
          "text": [
            "\u001b[2m\u001b[36m(launch_and_evaluate pid=558440)\u001b[0m Accuracy 0.616\n",
            "\u001b[2m\u001b[36m(launch_and_evaluate pid=558495)\u001b[0m Accuracy 0.646\n",
            "\u001b[2m\u001b[36m(launch_and_evaluate pid=558553)\u001b[0m Accuracy 0.628\n",
            "\u001b[2m\u001b[36m(launch_and_evaluate pid=558609)\u001b[0m Accuracy 0.592\n"
          ]
        },
        {
          "name": "stderr",
          "output_type": "stream",
          "text": [
            "DEBUG flwr 2023-04-29 02:53:10,759 | server.py:182 | evaluate_round 44 received 5 results and 0 failures\n",
            "DEBUG flwr 2023-04-29 02:53:10,760 | server.py:218 | fit_round 45: strategy sampled 10 clients (out of 10)\n"
          ]
        },
        {
          "name": "stdout",
          "output_type": "stream",
          "text": [
            "\u001b[2m\u001b[36m(launch_and_evaluate pid=558665)\u001b[0m Accuracy 0.642\n"
          ]
        },
        {
          "name": "stderr",
          "output_type": "stream",
          "text": [
            "DEBUG flwr 2023-04-29 02:53:32,232 | server.py:232 | fit_round 45 received 10 results and 0 failures\n",
            "DEBUG flwr 2023-04-29 02:53:32,244 | server.py:168 | evaluate_round 45: strategy sampled 5 clients (out of 10)\n"
          ]
        },
        {
          "name": "stdout",
          "output_type": "stream",
          "text": [
            "\u001b[2m\u001b[36m(launch_and_evaluate pid=559317)\u001b[0m Accuracy 0.596\n",
            "\u001b[2m\u001b[36m(launch_and_evaluate pid=559373)\u001b[0m Accuracy 0.64\n",
            "\u001b[2m\u001b[36m(launch_and_evaluate pid=559431)\u001b[0m Accuracy 0.628\n",
            "\u001b[2m\u001b[36m(launch_and_evaluate pid=559487)\u001b[0m Accuracy 0.582\n"
          ]
        },
        {
          "name": "stderr",
          "output_type": "stream",
          "text": [
            "DEBUG flwr 2023-04-29 02:53:40,908 | server.py:182 | evaluate_round 45 received 5 results and 0 failures\n",
            "DEBUG flwr 2023-04-29 02:53:40,909 | server.py:218 | fit_round 46: strategy sampled 10 clients (out of 10)\n"
          ]
        },
        {
          "name": "stdout",
          "output_type": "stream",
          "text": [
            "\u001b[2m\u001b[36m(launch_and_evaluate pid=559542)\u001b[0m Accuracy 0.632\n"
          ]
        },
        {
          "name": "stderr",
          "output_type": "stream",
          "text": [
            "DEBUG flwr 2023-04-29 02:54:02,491 | server.py:232 | fit_round 46 received 10 results and 0 failures\n",
            "DEBUG flwr 2023-04-29 02:54:02,502 | server.py:168 | evaluate_round 46: strategy sampled 5 clients (out of 10)\n"
          ]
        },
        {
          "name": "stdout",
          "output_type": "stream",
          "text": [
            "\u001b[2m\u001b[36m(launch_and_evaluate pid=560193)\u001b[0m Accuracy 0.612\n",
            "\u001b[2m\u001b[36m(launch_and_evaluate pid=560249)\u001b[0m Accuracy 0.58\n",
            "\u001b[2m\u001b[36m(launch_and_evaluate pid=560306)\u001b[0m Accuracy 0.62\n",
            "\u001b[2m\u001b[36m(launch_and_evaluate pid=560362)\u001b[0m Accuracy 0.598\n"
          ]
        },
        {
          "name": "stderr",
          "output_type": "stream",
          "text": [
            "DEBUG flwr 2023-04-29 02:54:11,237 | server.py:182 | evaluate_round 46 received 5 results and 0 failures\n",
            "DEBUG flwr 2023-04-29 02:54:11,238 | server.py:218 | fit_round 47: strategy sampled 10 clients (out of 10)\n"
          ]
        },
        {
          "name": "stdout",
          "output_type": "stream",
          "text": [
            "\u001b[2m\u001b[36m(launch_and_evaluate pid=560418)\u001b[0m Accuracy 0.642\n"
          ]
        },
        {
          "name": "stderr",
          "output_type": "stream",
          "text": [
            "DEBUG flwr 2023-04-29 02:54:31,780 | server.py:232 | fit_round 47 received 10 results and 0 failures\n",
            "DEBUG flwr 2023-04-29 02:54:31,792 | server.py:168 | evaluate_round 47: strategy sampled 5 clients (out of 10)\n"
          ]
        },
        {
          "name": "stdout",
          "output_type": "stream",
          "text": [
            "\u001b[2m\u001b[36m(launch_and_evaluate pid=561068)\u001b[0m Accuracy 0.596\n",
            "\u001b[2m\u001b[36m(launch_and_evaluate pid=561124)\u001b[0m Accuracy 0.578\n",
            "\u001b[2m\u001b[36m(launch_and_evaluate pid=561180)\u001b[0m Accuracy 0.636\n",
            "\u001b[2m\u001b[36m(launch_and_evaluate pid=561237)\u001b[0m Accuracy 0.588\n"
          ]
        },
        {
          "name": "stderr",
          "output_type": "stream",
          "text": [
            "DEBUG flwr 2023-04-29 02:54:40,464 | server.py:182 | evaluate_round 47 received 5 results and 0 failures\n",
            "DEBUG flwr 2023-04-29 02:54:40,464 | server.py:218 | fit_round 48: strategy sampled 10 clients (out of 10)\n"
          ]
        },
        {
          "name": "stdout",
          "output_type": "stream",
          "text": [
            "\u001b[2m\u001b[36m(launch_and_evaluate pid=561293)\u001b[0m Accuracy 0.642\n"
          ]
        },
        {
          "name": "stderr",
          "output_type": "stream",
          "text": [
            "DEBUG flwr 2023-04-29 02:55:02,148 | server.py:232 | fit_round 48 received 10 results and 0 failures\n",
            "DEBUG flwr 2023-04-29 02:55:02,159 | server.py:168 | evaluate_round 48: strategy sampled 5 clients (out of 10)\n"
          ]
        },
        {
          "name": "stdout",
          "output_type": "stream",
          "text": [
            "\u001b[2m\u001b[36m(launch_and_evaluate pid=561944)\u001b[0m Accuracy 0.602\n",
            "\u001b[2m\u001b[36m(launch_and_evaluate pid=562000)\u001b[0m Accuracy 0.616\n",
            "\u001b[2m\u001b[36m(launch_and_evaluate pid=562057)\u001b[0m Accuracy 0.646\n",
            "\u001b[2m\u001b[36m(launch_and_evaluate pid=562113)\u001b[0m Accuracy 0.642\n"
          ]
        },
        {
          "name": "stderr",
          "output_type": "stream",
          "text": [
            "DEBUG flwr 2023-04-29 02:55:10,860 | server.py:182 | evaluate_round 48 received 5 results and 0 failures\n",
            "DEBUG flwr 2023-04-29 02:55:10,861 | server.py:218 | fit_round 49: strategy sampled 10 clients (out of 10)\n"
          ]
        },
        {
          "name": "stdout",
          "output_type": "stream",
          "text": [
            "\u001b[2m\u001b[36m(launch_and_evaluate pid=562169)\u001b[0m Accuracy 0.576\n"
          ]
        },
        {
          "name": "stderr",
          "output_type": "stream",
          "text": [
            "DEBUG flwr 2023-04-29 02:55:33,619 | server.py:232 | fit_round 49 received 10 results and 0 failures\n",
            "DEBUG flwr 2023-04-29 02:55:33,630 | server.py:168 | evaluate_round 49: strategy sampled 5 clients (out of 10)\n"
          ]
        },
        {
          "name": "stdout",
          "output_type": "stream",
          "text": [
            "\u001b[2m\u001b[36m(launch_and_evaluate pid=562820)\u001b[0m Accuracy 0.622\n",
            "\u001b[2m\u001b[36m(launch_and_evaluate pid=562877)\u001b[0m Accuracy 0.644\n",
            "\u001b[2m\u001b[36m(launch_and_evaluate pid=562933)\u001b[0m Accuracy 0.606\n",
            "\u001b[2m\u001b[36m(launch_and_evaluate pid=562989)\u001b[0m Accuracy 0.632\n"
          ]
        },
        {
          "name": "stderr",
          "output_type": "stream",
          "text": [
            "DEBUG flwr 2023-04-29 02:55:42,399 | server.py:182 | evaluate_round 49 received 5 results and 0 failures\n",
            "DEBUG flwr 2023-04-29 02:55:42,400 | server.py:218 | fit_round 50: strategy sampled 10 clients (out of 10)\n"
          ]
        },
        {
          "name": "stdout",
          "output_type": "stream",
          "text": [
            "\u001b[2m\u001b[36m(launch_and_evaluate pid=563046)\u001b[0m Accuracy 0.644\n"
          ]
        },
        {
          "name": "stderr",
          "output_type": "stream",
          "text": [
            "DEBUG flwr 2023-04-29 02:56:02,851 | server.py:232 | fit_round 50 received 10 results and 0 failures\n",
            "DEBUG flwr 2023-04-29 02:56:02,863 | server.py:168 | evaluate_round 50: strategy sampled 5 clients (out of 10)\n"
          ]
        },
        {
          "name": "stdout",
          "output_type": "stream",
          "text": [
            "\u001b[2m\u001b[36m(launch_and_evaluate pid=563696)\u001b[0m Accuracy 0.592\n",
            "\u001b[2m\u001b[36m(launch_and_evaluate pid=563752)\u001b[0m Accuracy 0.6\n",
            "\u001b[2m\u001b[36m(launch_and_evaluate pid=563809)\u001b[0m Accuracy 0.632\n",
            "\u001b[2m\u001b[36m(launch_and_evaluate pid=563865)\u001b[0m Accuracy 0.638\n"
          ]
        },
        {
          "name": "stderr",
          "output_type": "stream",
          "text": [
            "DEBUG flwr 2023-04-29 02:56:11,508 | server.py:182 | evaluate_round 50 received 5 results and 0 failures\n",
            "INFO flwr 2023-04-29 02:56:11,509 | server.py:147 | FL finished in 1529.0227078000316\n",
            "INFO flwr 2023-04-29 02:56:11,509 | app.py:218 | app_fit: losses_distributed [(1, 0.06535736975669862), (2, 0.05521247210502624), (3, 0.052412825584411626), (4, 0.05073809294700623), (5, 0.048797952461242675), (6, 0.047866187667846685), (7, 0.04683580870628357), (8, 0.045576507520675665), (9, 0.04460346965789795), (10, 0.04401318492889404), (11, 0.042952544689178467), (12, 0.04283313798904419), (13, 0.04227458815574646), (14, 0.04053966438770294), (15, 0.04060579416751861), (16, 0.040541370725631715), (17, 0.04009458727836609), (18, 0.039831566691398625), (19, 0.039320118093490605), (20, 0.03850023746490479), (21, 0.03796275384426116), (22, 0.037582941365242005), (23, 0.037733622717857365), (24, 0.037383888626098635), (25, 0.03669786043167115), (26, 0.03643215982913971), (27, 0.036219168400764466), (28, 0.035567704319953916), (29, 0.03582949328422547), (30, 0.03544141156673432), (31, 0.03666671850681305), (32, 0.03641388733386994), (33, 0.03456234784126282), (34, 0.03549167983531952), (35, 0.034857940053939815), (36, 0.03600628366470337), (37, 0.035119141578674316), (38, 0.03511927490234375), (39, 0.03419487915039062), (40, 0.035740060758590694), (41, 0.03466933073997497), (42, 0.03330767960548401), (43, 0.03336111607551574), (44, 0.03309629175662994), (45, 0.03386915950775147), (46, 0.03435728557109833), (47, 0.03451057751178742), (48, 0.03301283023357391), (49, 0.033112622284889225), (50, 0.035035413622856136)]\n",
            "INFO flwr 2023-04-29 02:56:11,510 | app.py:219 | app_fit: metrics_distributed_fit {}\n",
            "INFO flwr 2023-04-29 02:56:11,510 | app.py:220 | app_fit: metrics_distributed {'accuracy': [(1, 0.2832), (2, 0.3476), (3, 0.3932), (4, 0.4096), (5, 0.43479999999999996), (6, 0.4508), (7, 0.462), (8, 0.48200000000000004), (9, 0.49119999999999997), (10, 0.5012000000000001), (11, 0.516), (12, 0.5147999999999999), (13, 0.5144), (14, 0.5448000000000001), (15, 0.5376000000000001), (16, 0.5364), (17, 0.5436000000000001), (18, 0.5496000000000001), (19, 0.5488), (20, 0.556), (21, 0.5676), (22, 0.5756), (23, 0.5704), (24, 0.5799999999999998), (25, 0.5752), (26, 0.5803999999999999), (27, 0.5843999999999999), (28, 0.5916), (29, 0.5927999999999999), (30, 0.5955999999999999), (31, 0.584), (32, 0.5944), (33, 0.6052), (34, 0.5988), (35, 0.5948), (36, 0.5875999999999999), (37, 0.608), (38, 0.604), (39, 0.6176), (40, 0.602), (41, 0.6004), (42, 0.618), (43, 0.6207999999999999), (44, 0.6248), (45, 0.6155999999999999), (46, 0.6104), (47, 0.608), (48, 0.6164), (49, 0.6296), (50, 0.6128)]}\n",
            "INFO flwr 2023-04-29 02:56:11,510 | app.py:221 | app_fit: losses_centralized []\n",
            "INFO flwr 2023-04-29 02:56:11,510 | app.py:222 | app_fit: metrics_centralized {}\n"
          ]
        }
      ],
      "source": [
        "# Create FedAvg strategy\n",
        "strategy = fl.server.strategy.FedAvg(\n",
        "    fraction_fit=1.0,\n",
        "    fraction_evaluate=0.5,\n",
        "    min_fit_clients=10,\n",
        "    min_evaluate_clients=5,\n",
        "    min_available_clients=10,\n",
        "    evaluate_metrics_aggregation_fn=weighted_average,  # <-- pass the metric aggregation function\n",
        "    # 이게 없으면, loss 만 weighted로 해주는 거임. accuracy는 이걸 넣어야함.\n",
        ")\n",
        "\n",
        "# Start simulation\n",
        "historyFedAvg = fl.simulation.start_simulation(\n",
        "    client_fn=client_fn,\n",
        "    num_clients=NUM_CLIENTS,\n",
        "    config=fl.server.ServerConfig(num_rounds=EPOCH),\n",
        "    strategy=strategy,\n",
        "    client_resources=client_resources,\n",
        ")"
      ]
    },
    {
      "cell_type": "code",
      "execution_count": 18,
      "metadata": {},
      "outputs": [
        {
          "name": "stdout",
          "output_type": "stream",
          "text": [
            "\u001b[2m\u001b[36m(launch_and_evaluate pid=563921)\u001b[0m Accuracy 0.602\n",
            "a\n"
          ]
        }
      ],
      "source": [
        "historyFedAvg\n",
        "print(\"a\")"
      ]
    },
    {
      "cell_type": "markdown",
      "metadata": {
        "id": "_vUA0vBv0SWp"
      },
      "source": [
        "We now have a full system that performs federated training and federated evaluation. It uses the `weighted_average` function to aggregate custom evaluation metrics and calculates a single `accuracy` metric across all clients on the server side.\n",
        "\n",
        "The other two categories of metrics (`losses_centralized` and `metrics_centralized`) are still empty because they only apply when centralized evaluation is being used. Part two of the Flower tutorial will cover centralized evaluation."
      ]
    },
    {
      "cell_type": "code",
      "execution_count": 19,
      "metadata": {},
      "outputs": [
        {
          "name": "stderr",
          "output_type": "stream",
          "text": [
            "INFO flwr 2023-04-29 02:56:11,998 | app.py:146 | Starting Flower simulation, config: ServerConfig(num_rounds=50, round_timeout=None)\n",
            "2023-04-29 02:56:16,143\tINFO worker.py:1553 -- Started a local Ray instance.\n",
            "INFO flwr 2023-04-29 02:56:16,673 | app.py:180 | Flower VCE: Ray initialized with resources: {'node:172.17.0.2': 1.0, 'object_store_memory': 38423305420.0, 'CPU': 16.0, 'GPU': 1.0, 'memory': 79654379316.0, 'accelerator_type:RTX': 1.0}\n",
            "INFO flwr 2023-04-29 02:56:16,673 | server.py:86 | Initializing global parameters\n",
            "INFO flwr 2023-04-29 02:56:16,673 | server.py:269 | Using initial parameters provided by strategy\n",
            "INFO flwr 2023-04-29 02:56:16,674 | server.py:88 | Evaluating initial parameters\n",
            "INFO flwr 2023-04-29 02:56:16,674 | server.py:101 | FL starting\n",
            "DEBUG flwr 2023-04-29 02:56:16,674 | server.py:218 | fit_round 1: strategy sampled 10 clients (out of 10)\n",
            "DEBUG flwr 2023-04-29 02:56:39,344 | server.py:232 | fit_round 1 received 10 results and 0 failures\n",
            "WARNING flwr 2023-04-29 02:56:39,356 | fedavg.py:243 | No fit_metrics_aggregation_fn provided\n",
            "DEBUG flwr 2023-04-29 02:56:39,357 | server.py:168 | evaluate_round 1: strategy sampled 5 clients (out of 10)\n"
          ]
        },
        {
          "name": "stdout",
          "output_type": "stream",
          "text": [
            "\u001b[2m\u001b[36m(launch_and_evaluate pid=565773)\u001b[0m Accuracy 0.078\n",
            "\u001b[2m\u001b[36m(launch_and_evaluate pid=565833)\u001b[0m Accuracy 0.08\n",
            "\u001b[2m\u001b[36m(launch_and_evaluate pid=565894)\u001b[0m Accuracy 0.086\n",
            "\u001b[2m\u001b[36m(launch_and_evaluate pid=565954)\u001b[0m Accuracy 0.116\n"
          ]
        },
        {
          "name": "stderr",
          "output_type": "stream",
          "text": [
            "DEBUG flwr 2023-04-29 02:56:47,300 | server.py:182 | evaluate_round 1 received 5 results and 0 failures\n",
            "DEBUG flwr 2023-04-29 02:56:47,301 | server.py:218 | fit_round 2: strategy sampled 10 clients (out of 10)\n"
          ]
        },
        {
          "name": "stdout",
          "output_type": "stream",
          "text": [
            "\u001b[2m\u001b[36m(launch_and_evaluate pid=566015)\u001b[0m Accuracy 0.098\n"
          ]
        },
        {
          "name": "stderr",
          "output_type": "stream",
          "text": [
            "DEBUG flwr 2023-04-29 02:57:08,214 | server.py:232 | fit_round 2 received 10 results and 0 failures\n",
            "DEBUG flwr 2023-04-29 02:57:08,227 | server.py:168 | evaluate_round 2: strategy sampled 5 clients (out of 10)\n"
          ]
        },
        {
          "name": "stdout",
          "output_type": "stream",
          "text": [
            "\u001b[2m\u001b[36m(launch_and_evaluate pid=566673)\u001b[0m Accuracy 0.146\n",
            "\u001b[2m\u001b[36m(launch_and_evaluate pid=566730)\u001b[0m Accuracy 0.156\n",
            "\u001b[2m\u001b[36m(launch_and_evaluate pid=566786)\u001b[0m Accuracy 0.182\n",
            "\u001b[2m\u001b[36m(launch_and_evaluate pid=566842)\u001b[0m Accuracy 0.142\n"
          ]
        },
        {
          "name": "stderr",
          "output_type": "stream",
          "text": [
            "DEBUG flwr 2023-04-29 02:57:16,830 | server.py:182 | evaluate_round 2 received 5 results and 0 failures\n",
            "DEBUG flwr 2023-04-29 02:57:16,830 | server.py:218 | fit_round 3: strategy sampled 10 clients (out of 10)\n"
          ]
        },
        {
          "name": "stdout",
          "output_type": "stream",
          "text": [
            "\u001b[2m\u001b[36m(launch_and_evaluate pid=566898)\u001b[0m Accuracy 0.156\n"
          ]
        },
        {
          "name": "stderr",
          "output_type": "stream",
          "text": [
            "DEBUG flwr 2023-04-29 02:57:37,553 | server.py:232 | fit_round 3 received 10 results and 0 failures\n",
            "DEBUG flwr 2023-04-29 02:57:37,566 | server.py:168 | evaluate_round 3: strategy sampled 5 clients (out of 10)\n"
          ]
        },
        {
          "name": "stdout",
          "output_type": "stream",
          "text": [
            "\u001b[2m\u001b[36m(launch_and_evaluate pid=567549)\u001b[0m Accuracy 0.096\n",
            "\u001b[2m\u001b[36m(launch_and_evaluate pid=567606)\u001b[0m Accuracy 0.114\n",
            "\u001b[2m\u001b[36m(launch_and_evaluate pid=567662)\u001b[0m Accuracy 0.09\n",
            "\u001b[2m\u001b[36m(launch_and_evaluate pid=567718)\u001b[0m Accuracy 0.12\n"
          ]
        },
        {
          "name": "stderr",
          "output_type": "stream",
          "text": [
            "DEBUG flwr 2023-04-29 02:57:46,205 | server.py:182 | evaluate_round 3 received 5 results and 0 failures\n",
            "DEBUG flwr 2023-04-29 02:57:46,205 | server.py:218 | fit_round 4: strategy sampled 10 clients (out of 10)\n"
          ]
        },
        {
          "name": "stdout",
          "output_type": "stream",
          "text": [
            "\u001b[2m\u001b[36m(launch_and_evaluate pid=567774)\u001b[0m Accuracy 0.106\n"
          ]
        },
        {
          "name": "stderr",
          "output_type": "stream",
          "text": [
            "DEBUG flwr 2023-04-29 02:58:08,533 | server.py:232 | fit_round 4 received 10 results and 0 failures\n",
            "DEBUG flwr 2023-04-29 02:58:08,545 | server.py:168 | evaluate_round 4: strategy sampled 5 clients (out of 10)\n"
          ]
        },
        {
          "name": "stdout",
          "output_type": "stream",
          "text": [
            "\u001b[2m\u001b[36m(launch_and_evaluate pid=568425)\u001b[0m Accuracy 0.092\n",
            "\u001b[2m\u001b[36m(launch_and_evaluate pid=568482)\u001b[0m Accuracy 0.11\n",
            "\u001b[2m\u001b[36m(launch_and_evaluate pid=568538)\u001b[0m Accuracy 0.102\n",
            "\u001b[2m\u001b[36m(launch_and_evaluate pid=568594)\u001b[0m Accuracy 0.122\n"
          ]
        },
        {
          "name": "stderr",
          "output_type": "stream",
          "text": [
            "DEBUG flwr 2023-04-29 02:58:17,218 | server.py:182 | evaluate_round 4 received 5 results and 0 failures\n",
            "DEBUG flwr 2023-04-29 02:58:17,219 | server.py:218 | fit_round 5: strategy sampled 10 clients (out of 10)\n"
          ]
        },
        {
          "name": "stdout",
          "output_type": "stream",
          "text": [
            "\u001b[2m\u001b[36m(launch_and_evaluate pid=568650)\u001b[0m Accuracy 0.092\n"
          ]
        },
        {
          "name": "stderr",
          "output_type": "stream",
          "text": [
            "DEBUG flwr 2023-04-29 02:58:39,427 | server.py:232 | fit_round 5 received 10 results and 0 failures\n",
            "DEBUG flwr 2023-04-29 02:58:39,439 | server.py:168 | evaluate_round 5: strategy sampled 5 clients (out of 10)\n"
          ]
        },
        {
          "name": "stdout",
          "output_type": "stream",
          "text": [
            "\u001b[2m\u001b[36m(launch_and_evaluate pid=569302)\u001b[0m Accuracy 0.15\n",
            "\u001b[2m\u001b[36m(launch_and_evaluate pid=569358)\u001b[0m Accuracy 0.106\n",
            "\u001b[2m\u001b[36m(launch_and_evaluate pid=569414)\u001b[0m Accuracy 0.172\n",
            "\u001b[2m\u001b[36m(launch_and_evaluate pid=569470)\u001b[0m Accuracy 0.148\n"
          ]
        },
        {
          "name": "stderr",
          "output_type": "stream",
          "text": [
            "DEBUG flwr 2023-04-29 02:58:48,044 | server.py:182 | evaluate_round 5 received 5 results and 0 failures\n",
            "DEBUG flwr 2023-04-29 02:58:48,045 | server.py:218 | fit_round 6: strategy sampled 10 clients (out of 10)\n"
          ]
        },
        {
          "name": "stdout",
          "output_type": "stream",
          "text": [
            "\u001b[2m\u001b[36m(launch_and_evaluate pid=569527)\u001b[0m Accuracy 0.14\n",
            "\u001b[2m\u001b[1m\u001b[33m(autoscaler +31m11s)\u001b[0m Warning: The following resource request cannot be scheduled right now: {'GPU': 1.0, 'CPU': 1.0}. This is likely due to all cluster resources being claimed by actors. Consider creating fewer actors or adding more nodes to this Ray cluster.\n"
          ]
        },
        {
          "name": "stderr",
          "output_type": "stream",
          "text": [
            "DEBUG flwr 2023-04-29 02:59:08,892 | server.py:232 | fit_round 6 received 10 results and 0 failures\n",
            "DEBUG flwr 2023-04-29 02:59:08,905 | server.py:168 | evaluate_round 6: strategy sampled 5 clients (out of 10)\n"
          ]
        },
        {
          "name": "stdout",
          "output_type": "stream",
          "text": [
            "\u001b[2m\u001b[36m(launch_and_evaluate pid=570177)\u001b[0m Accuracy 0.136\n",
            "\u001b[2m\u001b[36m(launch_and_evaluate pid=570233)\u001b[0m Accuracy 0.136\n",
            "\u001b[2m\u001b[36m(launch_and_evaluate pid=570290)\u001b[0m Accuracy 0.106\n",
            "\u001b[2m\u001b[36m(launch_and_evaluate pid=570346)\u001b[0m Accuracy 0.142\n"
          ]
        },
        {
          "name": "stderr",
          "output_type": "stream",
          "text": [
            "DEBUG flwr 2023-04-29 02:59:17,162 | server.py:182 | evaluate_round 6 received 5 results and 0 failures\n",
            "DEBUG flwr 2023-04-29 02:59:17,162 | server.py:218 | fit_round 7: strategy sampled 10 clients (out of 10)\n"
          ]
        },
        {
          "name": "stdout",
          "output_type": "stream",
          "text": [
            "\u001b[2m\u001b[36m(launch_and_evaluate pid=570402)\u001b[0m Accuracy 0.142\n"
          ]
        },
        {
          "name": "stderr",
          "output_type": "stream",
          "text": [
            "DEBUG flwr 2023-04-29 02:59:37,803 | server.py:232 | fit_round 7 received 10 results and 0 failures\n",
            "DEBUG flwr 2023-04-29 02:59:37,816 | server.py:168 | evaluate_round 7: strategy sampled 5 clients (out of 10)\n"
          ]
        },
        {
          "name": "stdout",
          "output_type": "stream",
          "text": [
            "\u001b[2m\u001b[36m(launch_and_evaluate pid=571054)\u001b[0m Accuracy 0.13\n",
            "\u001b[2m\u001b[36m(launch_and_evaluate pid=571111)\u001b[0m Accuracy 0.142\n",
            "\u001b[2m\u001b[36m(launch_and_evaluate pid=571167)\u001b[0m Accuracy 0.148\n",
            "\u001b[2m\u001b[36m(launch_and_evaluate pid=571223)\u001b[0m Accuracy 0.118\n"
          ]
        },
        {
          "name": "stderr",
          "output_type": "stream",
          "text": [
            "DEBUG flwr 2023-04-29 02:59:46,491 | server.py:182 | evaluate_round 7 received 5 results and 0 failures\n",
            "DEBUG flwr 2023-04-29 02:59:46,492 | server.py:218 | fit_round 8: strategy sampled 10 clients (out of 10)\n"
          ]
        },
        {
          "name": "stdout",
          "output_type": "stream",
          "text": [
            "\u001b[2m\u001b[36m(launch_and_evaluate pid=571279)\u001b[0m Accuracy 0.154\n"
          ]
        },
        {
          "name": "stderr",
          "output_type": "stream",
          "text": [
            "DEBUG flwr 2023-04-29 03:00:07,967 | server.py:232 | fit_round 8 received 10 results and 0 failures\n",
            "DEBUG flwr 2023-04-29 03:00:07,979 | server.py:168 | evaluate_round 8: strategy sampled 5 clients (out of 10)\n"
          ]
        },
        {
          "name": "stdout",
          "output_type": "stream",
          "text": [
            "\u001b[2m\u001b[36m(launch_and_evaluate pid=571930)\u001b[0m Accuracy 0.178\n",
            "\u001b[2m\u001b[36m(launch_and_evaluate pid=571987)\u001b[0m Accuracy 0.218\n",
            "\u001b[2m\u001b[36m(launch_and_evaluate pid=572043)\u001b[0m Accuracy 0.182\n",
            "\u001b[2m\u001b[36m(launch_and_evaluate pid=572099)\u001b[0m Accuracy 0.198\n"
          ]
        },
        {
          "name": "stderr",
          "output_type": "stream",
          "text": [
            "DEBUG flwr 2023-04-29 03:00:16,715 | server.py:182 | evaluate_round 8 received 5 results and 0 failures\n",
            "DEBUG flwr 2023-04-29 03:00:16,715 | server.py:218 | fit_round 9: strategy sampled 10 clients (out of 10)\n"
          ]
        },
        {
          "name": "stdout",
          "output_type": "stream",
          "text": [
            "\u001b[2m\u001b[36m(launch_and_evaluate pid=572155)\u001b[0m Accuracy 0.208\n"
          ]
        },
        {
          "name": "stderr",
          "output_type": "stream",
          "text": [
            "DEBUG flwr 2023-04-29 03:00:38,532 | server.py:232 | fit_round 9 received 10 results and 0 failures\n",
            "DEBUG flwr 2023-04-29 03:00:38,544 | server.py:168 | evaluate_round 9: strategy sampled 5 clients (out of 10)\n"
          ]
        },
        {
          "name": "stdout",
          "output_type": "stream",
          "text": [
            "\u001b[2m\u001b[36m(launch_and_evaluate pid=572806)\u001b[0m Accuracy 0.174\n",
            "\u001b[2m\u001b[36m(launch_and_evaluate pid=572863)\u001b[0m Accuracy 0.184\n",
            "\u001b[2m\u001b[36m(launch_and_evaluate pid=572919)\u001b[0m Accuracy 0.226\n",
            "\u001b[2m\u001b[36m(launch_and_evaluate pid=572975)\u001b[0m Accuracy 0.176\n"
          ]
        },
        {
          "name": "stderr",
          "output_type": "stream",
          "text": [
            "DEBUG flwr 2023-04-29 03:00:47,243 | server.py:182 | evaluate_round 9 received 5 results and 0 failures\n",
            "DEBUG flwr 2023-04-29 03:00:47,244 | server.py:218 | fit_round 10: strategy sampled 10 clients (out of 10)\n"
          ]
        },
        {
          "name": "stdout",
          "output_type": "stream",
          "text": [
            "\u001b[2m\u001b[36m(launch_and_evaluate pid=573031)\u001b[0m Accuracy 0.17\n"
          ]
        },
        {
          "name": "stderr",
          "output_type": "stream",
          "text": [
            "DEBUG flwr 2023-04-29 03:01:08,725 | server.py:232 | fit_round 10 received 10 results and 0 failures\n",
            "DEBUG flwr 2023-04-29 03:01:08,738 | server.py:168 | evaluate_round 10: strategy sampled 5 clients (out of 10)\n"
          ]
        },
        {
          "name": "stdout",
          "output_type": "stream",
          "text": [
            "\u001b[2m\u001b[36m(launch_and_evaluate pid=573682)\u001b[0m Accuracy 0.17\n",
            "\u001b[2m\u001b[36m(launch_and_evaluate pid=573740)\u001b[0m Accuracy 0.192\n",
            "\u001b[2m\u001b[36m(launch_and_evaluate pid=573795)\u001b[0m Accuracy 0.172\n",
            "\u001b[2m\u001b[36m(launch_and_evaluate pid=573851)\u001b[0m Accuracy 0.144\n"
          ]
        },
        {
          "name": "stderr",
          "output_type": "stream",
          "text": [
            "DEBUG flwr 2023-04-29 03:01:17,511 | server.py:182 | evaluate_round 10 received 5 results and 0 failures\n",
            "DEBUG flwr 2023-04-29 03:01:17,511 | server.py:218 | fit_round 11: strategy sampled 10 clients (out of 10)\n"
          ]
        },
        {
          "name": "stdout",
          "output_type": "stream",
          "text": [
            "\u001b[2m\u001b[36m(launch_and_evaluate pid=573907)\u001b[0m Accuracy 0.178\n",
            "\u001b[2m\u001b[1m\u001b[33m(autoscaler +33m36s)\u001b[0m Warning: The following resource request cannot be scheduled right now: {'GPU': 1.0, 'CPU': 1.0}. This is likely due to all cluster resources being claimed by actors. Consider creating fewer actors or adding more nodes to this Ray cluster.\n"
          ]
        },
        {
          "name": "stderr",
          "output_type": "stream",
          "text": [
            "DEBUG flwr 2023-04-29 03:01:39,019 | server.py:232 | fit_round 11 received 10 results and 0 failures\n",
            "DEBUG flwr 2023-04-29 03:01:39,032 | server.py:168 | evaluate_round 11: strategy sampled 5 clients (out of 10)\n"
          ]
        },
        {
          "name": "stdout",
          "output_type": "stream",
          "text": [
            "\u001b[2m\u001b[36m(launch_and_evaluate pid=574559)\u001b[0m Accuracy 0.186\n",
            "\u001b[2m\u001b[36m(launch_and_evaluate pid=574615)\u001b[0m Accuracy 0.188\n",
            "\u001b[2m\u001b[36m(launch_and_evaluate pid=574671)\u001b[0m Accuracy 0.202\n",
            "\u001b[2m\u001b[36m(launch_and_evaluate pid=574727)\u001b[0m Accuracy 0.198\n"
          ]
        },
        {
          "name": "stderr",
          "output_type": "stream",
          "text": [
            "DEBUG flwr 2023-04-29 03:01:47,853 | server.py:182 | evaluate_round 11 received 5 results and 0 failures\n",
            "DEBUG flwr 2023-04-29 03:01:47,854 | server.py:218 | fit_round 12: strategy sampled 10 clients (out of 10)\n"
          ]
        },
        {
          "name": "stdout",
          "output_type": "stream",
          "text": [
            "\u001b[2m\u001b[36m(launch_and_evaluate pid=574784)\u001b[0m Accuracy 0.19\n"
          ]
        },
        {
          "name": "stderr",
          "output_type": "stream",
          "text": [
            "DEBUG flwr 2023-04-29 03:02:10,257 | server.py:232 | fit_round 12 received 10 results and 0 failures\n",
            "DEBUG flwr 2023-04-29 03:02:10,270 | server.py:168 | evaluate_round 12: strategy sampled 5 clients (out of 10)\n"
          ]
        },
        {
          "name": "stdout",
          "output_type": "stream",
          "text": [
            "\u001b[2m\u001b[36m(launch_and_evaluate pid=575435)\u001b[0m Accuracy 0.198\n",
            "\u001b[2m\u001b[36m(launch_and_evaluate pid=575491)\u001b[0m Accuracy 0.226\n",
            "\u001b[2m\u001b[36m(launch_and_evaluate pid=575547)\u001b[0m Accuracy 0.178\n",
            "\u001b[2m\u001b[36m(launch_and_evaluate pid=575604)\u001b[0m Accuracy 0.174\n"
          ]
        },
        {
          "name": "stderr",
          "output_type": "stream",
          "text": [
            "DEBUG flwr 2023-04-29 03:02:18,923 | server.py:182 | evaluate_round 12 received 5 results and 0 failures\n",
            "DEBUG flwr 2023-04-29 03:02:18,924 | server.py:218 | fit_round 13: strategy sampled 10 clients (out of 10)\n"
          ]
        },
        {
          "name": "stdout",
          "output_type": "stream",
          "text": [
            "\u001b[2m\u001b[36m(launch_and_evaluate pid=575660)\u001b[0m Accuracy 0.142\n"
          ]
        },
        {
          "name": "stderr",
          "output_type": "stream",
          "text": [
            "DEBUG flwr 2023-04-29 03:02:40,506 | server.py:232 | fit_round 13 received 10 results and 0 failures\n",
            "DEBUG flwr 2023-04-29 03:02:40,519 | server.py:168 | evaluate_round 13: strategy sampled 5 clients (out of 10)\n"
          ]
        },
        {
          "name": "stdout",
          "output_type": "stream",
          "text": [
            "\u001b[2m\u001b[36m(launch_and_evaluate pid=576312)\u001b[0m Accuracy 0.228\n",
            "\u001b[2m\u001b[36m(launch_and_evaluate pid=576368)\u001b[0m Accuracy 0.196\n",
            "\u001b[2m\u001b[36m(launch_and_evaluate pid=576424)\u001b[0m Accuracy 0.186\n",
            "\u001b[2m\u001b[36m(launch_and_evaluate pid=576481)\u001b[0m Accuracy 0.214\n"
          ]
        },
        {
          "name": "stderr",
          "output_type": "stream",
          "text": [
            "DEBUG flwr 2023-04-29 03:02:49,111 | server.py:182 | evaluate_round 13 received 5 results and 0 failures\n",
            "DEBUG flwr 2023-04-29 03:02:49,112 | server.py:218 | fit_round 14: strategy sampled 10 clients (out of 10)\n"
          ]
        },
        {
          "name": "stdout",
          "output_type": "stream",
          "text": [
            "\u001b[2m\u001b[36m(launch_and_evaluate pid=576537)\u001b[0m Accuracy 0.18\n",
            "\u001b[2m\u001b[1m\u001b[33m(autoscaler +35m16s)\u001b[0m Warning: The following resource request cannot be scheduled right now: {'GPU': 1.0, 'CPU': 1.0}. This is likely due to all cluster resources being claimed by actors. Consider creating fewer actors or adding more nodes to this Ray cluster.\n"
          ]
        },
        {
          "name": "stderr",
          "output_type": "stream",
          "text": [
            "DEBUG flwr 2023-04-29 03:03:11,624 | server.py:232 | fit_round 14 received 10 results and 0 failures\n",
            "DEBUG flwr 2023-04-29 03:03:11,637 | server.py:168 | evaluate_round 14: strategy sampled 5 clients (out of 10)\n"
          ]
        },
        {
          "name": "stdout",
          "output_type": "stream",
          "text": [
            "\u001b[2m\u001b[36m(launch_and_evaluate pid=577185)\u001b[0m Accuracy 0.218\n",
            "\u001b[2m\u001b[36m(launch_and_evaluate pid=577244)\u001b[0m Accuracy 0.184\n",
            "\u001b[2m\u001b[36m(launch_and_evaluate pid=577300)\u001b[0m Accuracy 0.2\n",
            "\u001b[2m\u001b[36m(launch_and_evaluate pid=577357)\u001b[0m Accuracy 0.168\n"
          ]
        },
        {
          "name": "stderr",
          "output_type": "stream",
          "text": [
            "DEBUG flwr 2023-04-29 03:03:19,169 | server.py:182 | evaluate_round 14 received 5 results and 0 failures\n",
            "DEBUG flwr 2023-04-29 03:03:19,170 | server.py:218 | fit_round 15: strategy sampled 10 clients (out of 10)\n"
          ]
        },
        {
          "name": "stdout",
          "output_type": "stream",
          "text": [
            "\u001b[2m\u001b[36m(launch_and_evaluate pid=577414)\u001b[0m Accuracy 0.192\n"
          ]
        },
        {
          "name": "stderr",
          "output_type": "stream",
          "text": [
            "DEBUG flwr 2023-04-29 03:03:41,471 | server.py:232 | fit_round 15 received 10 results and 0 failures\n",
            "DEBUG flwr 2023-04-29 03:03:41,483 | server.py:168 | evaluate_round 15: strategy sampled 5 clients (out of 10)\n"
          ]
        },
        {
          "name": "stdout",
          "output_type": "stream",
          "text": [
            "\u001b[2m\u001b[36m(launch_and_evaluate pid=578064)\u001b[0m Accuracy 0.194\n",
            "\u001b[2m\u001b[36m(launch_and_evaluate pid=578120)\u001b[0m Accuracy 0.206\n",
            "\u001b[2m\u001b[36m(launch_and_evaluate pid=578177)\u001b[0m Accuracy 0.222\n",
            "\u001b[2m\u001b[36m(launch_and_evaluate pid=578233)\u001b[0m Accuracy 0.194\n"
          ]
        },
        {
          "name": "stderr",
          "output_type": "stream",
          "text": [
            "DEBUG flwr 2023-04-29 03:03:50,163 | server.py:182 | evaluate_round 15 received 5 results and 0 failures\n",
            "DEBUG flwr 2023-04-29 03:03:50,163 | server.py:218 | fit_round 16: strategy sampled 10 clients (out of 10)\n"
          ]
        },
        {
          "name": "stdout",
          "output_type": "stream",
          "text": [
            "\u001b[2m\u001b[36m(launch_and_evaluate pid=578289)\u001b[0m Accuracy 0.198\n"
          ]
        },
        {
          "name": "stderr",
          "output_type": "stream",
          "text": [
            "DEBUG flwr 2023-04-29 03:04:11,240 | server.py:232 | fit_round 16 received 10 results and 0 failures\n",
            "DEBUG flwr 2023-04-29 03:04:11,253 | server.py:168 | evaluate_round 16: strategy sampled 5 clients (out of 10)\n"
          ]
        },
        {
          "name": "stdout",
          "output_type": "stream",
          "text": [
            "\u001b[2m\u001b[36m(launch_and_evaluate pid=578940)\u001b[0m Accuracy 0.19\n",
            "\u001b[2m\u001b[36m(launch_and_evaluate pid=578996)\u001b[0m Accuracy 0.218\n",
            "\u001b[2m\u001b[36m(launch_and_evaluate pid=579052)\u001b[0m Accuracy 0.2\n",
            "\u001b[2m\u001b[36m(launch_and_evaluate pid=579109)\u001b[0m Accuracy 0.18\n"
          ]
        },
        {
          "name": "stderr",
          "output_type": "stream",
          "text": [
            "DEBUG flwr 2023-04-29 03:04:19,983 | server.py:182 | evaluate_round 16 received 5 results and 0 failures\n",
            "DEBUG flwr 2023-04-29 03:04:19,983 | server.py:218 | fit_round 17: strategy sampled 10 clients (out of 10)\n"
          ]
        },
        {
          "name": "stdout",
          "output_type": "stream",
          "text": [
            "\u001b[2m\u001b[36m(launch_and_evaluate pid=579165)\u001b[0m Accuracy 0.212\n"
          ]
        },
        {
          "name": "stderr",
          "output_type": "stream",
          "text": [
            "DEBUG flwr 2023-04-29 03:04:41,882 | server.py:232 | fit_round 17 received 10 results and 0 failures\n",
            "DEBUG flwr 2023-04-29 03:04:41,895 | server.py:168 | evaluate_round 17: strategy sampled 5 clients (out of 10)\n"
          ]
        },
        {
          "name": "stdout",
          "output_type": "stream",
          "text": [
            "\u001b[2m\u001b[36m(launch_and_evaluate pid=579816)\u001b[0m Accuracy 0.192\n",
            "\u001b[2m\u001b[36m(launch_and_evaluate pid=579872)\u001b[0m Accuracy 0.196\n",
            "\u001b[2m\u001b[36m(launch_and_evaluate pid=579929)\u001b[0m Accuracy 0.182\n",
            "\u001b[2m\u001b[36m(launch_and_evaluate pid=579985)\u001b[0m Accuracy 0.192\n"
          ]
        },
        {
          "name": "stderr",
          "output_type": "stream",
          "text": [
            "DEBUG flwr 2023-04-29 03:04:50,634 | server.py:182 | evaluate_round 17 received 5 results and 0 failures\n",
            "DEBUG flwr 2023-04-29 03:04:50,635 | server.py:218 | fit_round 18: strategy sampled 10 clients (out of 10)\n"
          ]
        },
        {
          "name": "stdout",
          "output_type": "stream",
          "text": [
            "\u001b[2m\u001b[36m(launch_and_evaluate pid=580041)\u001b[0m Accuracy 0.158\n"
          ]
        },
        {
          "name": "stderr",
          "output_type": "stream",
          "text": [
            "DEBUG flwr 2023-04-29 03:05:13,895 | server.py:232 | fit_round 18 received 10 results and 0 failures\n",
            "DEBUG flwr 2023-04-29 03:05:13,907 | server.py:168 | evaluate_round 18: strategy sampled 5 clients (out of 10)\n"
          ]
        },
        {
          "name": "stdout",
          "output_type": "stream",
          "text": [
            "\u001b[2m\u001b[36m(launch_and_evaluate pid=580692)\u001b[0m Accuracy 0.2\n",
            "\u001b[2m\u001b[36m(launch_and_evaluate pid=580749)\u001b[0m Accuracy 0.2\n",
            "\u001b[2m\u001b[36m(launch_and_evaluate pid=580805)\u001b[0m Accuracy 0.218\n",
            "\u001b[2m\u001b[36m(launch_and_evaluate pid=580861)\u001b[0m Accuracy 0.192\n"
          ]
        },
        {
          "name": "stderr",
          "output_type": "stream",
          "text": [
            "DEBUG flwr 2023-04-29 03:05:22,532 | server.py:182 | evaluate_round 18 received 5 results and 0 failures\n",
            "DEBUG flwr 2023-04-29 03:05:22,533 | server.py:218 | fit_round 19: strategy sampled 10 clients (out of 10)\n"
          ]
        },
        {
          "name": "stdout",
          "output_type": "stream",
          "text": [
            "\u001b[2m\u001b[36m(launch_and_evaluate pid=580917)\u001b[0m Accuracy 0.228\n"
          ]
        },
        {
          "name": "stderr",
          "output_type": "stream",
          "text": [
            "DEBUG flwr 2023-04-29 03:05:44,656 | server.py:232 | fit_round 19 received 10 results and 0 failures\n",
            "DEBUG flwr 2023-04-29 03:05:44,668 | server.py:168 | evaluate_round 19: strategy sampled 5 clients (out of 10)\n"
          ]
        },
        {
          "name": "stdout",
          "output_type": "stream",
          "text": [
            "\u001b[2m\u001b[36m(launch_and_evaluate pid=581570)\u001b[0m Accuracy 0.164\n",
            "\u001b[2m\u001b[36m(launch_and_evaluate pid=581626)\u001b[0m Accuracy 0.188\n",
            "\u001b[2m\u001b[36m(launch_and_evaluate pid=581682)\u001b[0m Accuracy 0.184\n",
            "\u001b[2m\u001b[36m(launch_and_evaluate pid=581738)\u001b[0m Accuracy 0.178\n"
          ]
        },
        {
          "name": "stderr",
          "output_type": "stream",
          "text": [
            "DEBUG flwr 2023-04-29 03:05:53,375 | server.py:182 | evaluate_round 19 received 5 results and 0 failures\n",
            "DEBUG flwr 2023-04-29 03:05:53,375 | server.py:218 | fit_round 20: strategy sampled 10 clients (out of 10)\n"
          ]
        },
        {
          "name": "stdout",
          "output_type": "stream",
          "text": [
            "\u001b[2m\u001b[36m(launch_and_evaluate pid=581795)\u001b[0m Accuracy 0.182\n"
          ]
        },
        {
          "name": "stderr",
          "output_type": "stream",
          "text": [
            "DEBUG flwr 2023-04-29 03:06:15,007 | server.py:232 | fit_round 20 received 10 results and 0 failures\n",
            "DEBUG flwr 2023-04-29 03:06:15,020 | server.py:168 | evaluate_round 20: strategy sampled 5 clients (out of 10)\n"
          ]
        },
        {
          "name": "stdout",
          "output_type": "stream",
          "text": [
            "\u001b[2m\u001b[36m(launch_and_evaluate pid=582448)\u001b[0m Accuracy 0.186\n",
            "\u001b[2m\u001b[36m(launch_and_evaluate pid=582504)\u001b[0m Accuracy 0.206\n",
            "\u001b[2m\u001b[36m(launch_and_evaluate pid=582560)\u001b[0m Accuracy 0.202\n",
            "\u001b[2m\u001b[36m(launch_and_evaluate pid=582616)\u001b[0m Accuracy 0.16\n"
          ]
        },
        {
          "name": "stderr",
          "output_type": "stream",
          "text": [
            "DEBUG flwr 2023-04-29 03:06:23,754 | server.py:182 | evaluate_round 20 received 5 results and 0 failures\n",
            "DEBUG flwr 2023-04-29 03:06:23,754 | server.py:218 | fit_round 21: strategy sampled 10 clients (out of 10)\n"
          ]
        },
        {
          "name": "stdout",
          "output_type": "stream",
          "text": [
            "\u001b[2m\u001b[36m(launch_and_evaluate pid=582673)\u001b[0m Accuracy 0.164\n"
          ]
        },
        {
          "name": "stderr",
          "output_type": "stream",
          "text": [
            "DEBUG flwr 2023-04-29 03:06:45,411 | server.py:232 | fit_round 21 received 10 results and 0 failures\n",
            "DEBUG flwr 2023-04-29 03:06:45,424 | server.py:168 | evaluate_round 21: strategy sampled 5 clients (out of 10)\n"
          ]
        },
        {
          "name": "stdout",
          "output_type": "stream",
          "text": [
            "\u001b[2m\u001b[36m(launch_and_evaluate pid=583324)\u001b[0m Accuracy 0.18\n",
            "\u001b[2m\u001b[36m(launch_and_evaluate pid=583380)\u001b[0m Accuracy 0.186\n",
            "\u001b[2m\u001b[36m(launch_and_evaluate pid=583436)\u001b[0m Accuracy 0.172\n",
            "\u001b[2m\u001b[36m(launch_and_evaluate pid=583492)\u001b[0m Accuracy 0.186\n"
          ]
        },
        {
          "name": "stderr",
          "output_type": "stream",
          "text": [
            "DEBUG flwr 2023-04-29 03:06:54,091 | server.py:182 | evaluate_round 21 received 5 results and 0 failures\n",
            "DEBUG flwr 2023-04-29 03:06:54,091 | server.py:218 | fit_round 22: strategy sampled 10 clients (out of 10)\n"
          ]
        },
        {
          "name": "stdout",
          "output_type": "stream",
          "text": [
            "\u001b[2m\u001b[36m(launch_and_evaluate pid=583549)\u001b[0m Accuracy 0.2\n"
          ]
        },
        {
          "name": "stderr",
          "output_type": "stream",
          "text": [
            "DEBUG flwr 2023-04-29 03:07:16,795 | server.py:232 | fit_round 22 received 10 results and 0 failures\n",
            "DEBUG flwr 2023-04-29 03:07:16,807 | server.py:168 | evaluate_round 22: strategy sampled 5 clients (out of 10)\n"
          ]
        },
        {
          "name": "stdout",
          "output_type": "stream",
          "text": [
            "\u001b[2m\u001b[36m(launch_and_evaluate pid=584200)\u001b[0m Accuracy 0.188\n",
            "\u001b[2m\u001b[36m(launch_and_evaluate pid=584256)\u001b[0m Accuracy 0.174\n",
            "\u001b[2m\u001b[36m(launch_and_evaluate pid=584313)\u001b[0m Accuracy 0.198\n",
            "\u001b[2m\u001b[36m(launch_and_evaluate pid=584369)\u001b[0m Accuracy 0.184\n"
          ]
        },
        {
          "name": "stderr",
          "output_type": "stream",
          "text": [
            "DEBUG flwr 2023-04-29 03:07:25,462 | server.py:182 | evaluate_round 22 received 5 results and 0 failures\n",
            "DEBUG flwr 2023-04-29 03:07:25,463 | server.py:218 | fit_round 23: strategy sampled 10 clients (out of 10)\n"
          ]
        },
        {
          "name": "stdout",
          "output_type": "stream",
          "text": [
            "\u001b[2m\u001b[36m(launch_and_evaluate pid=584425)\u001b[0m Accuracy 0.184\n"
          ]
        },
        {
          "name": "stderr",
          "output_type": "stream",
          "text": [
            "DEBUG flwr 2023-04-29 03:07:46,550 | server.py:232 | fit_round 23 received 10 results and 0 failures\n",
            "DEBUG flwr 2023-04-29 03:07:46,563 | server.py:168 | evaluate_round 23: strategy sampled 5 clients (out of 10)\n"
          ]
        },
        {
          "name": "stdout",
          "output_type": "stream",
          "text": [
            "\u001b[2m\u001b[36m(launch_and_evaluate pid=585076)\u001b[0m Accuracy 0.206\n",
            "\u001b[2m\u001b[36m(launch_and_evaluate pid=585132)\u001b[0m Accuracy 0.214\n",
            "\u001b[2m\u001b[36m(launch_and_evaluate pid=585188)\u001b[0m Accuracy 0.19\n",
            "\u001b[2m\u001b[36m(launch_and_evaluate pid=585245)\u001b[0m Accuracy 0.196\n"
          ]
        },
        {
          "name": "stderr",
          "output_type": "stream",
          "text": [
            "DEBUG flwr 2023-04-29 03:07:55,293 | server.py:182 | evaluate_round 23 received 5 results and 0 failures\n",
            "DEBUG flwr 2023-04-29 03:07:55,294 | server.py:218 | fit_round 24: strategy sampled 10 clients (out of 10)\n"
          ]
        },
        {
          "name": "stdout",
          "output_type": "stream",
          "text": [
            "\u001b[2m\u001b[36m(launch_and_evaluate pid=585301)\u001b[0m Accuracy 0.196\n"
          ]
        },
        {
          "name": "stderr",
          "output_type": "stream",
          "text": [
            "DEBUG flwr 2023-04-29 03:08:17,754 | server.py:232 | fit_round 24 received 10 results and 0 failures\n",
            "DEBUG flwr 2023-04-29 03:08:17,766 | server.py:168 | evaluate_round 24: strategy sampled 5 clients (out of 10)\n"
          ]
        },
        {
          "name": "stdout",
          "output_type": "stream",
          "text": [
            "\u001b[2m\u001b[36m(launch_and_evaluate pid=585952)\u001b[0m Accuracy 0.18\n",
            "\u001b[2m\u001b[36m(launch_and_evaluate pid=586008)\u001b[0m Accuracy 0.202\n",
            "\u001b[2m\u001b[36m(launch_and_evaluate pid=586065)\u001b[0m Accuracy 0.202\n",
            "\u001b[2m\u001b[36m(launch_and_evaluate pid=586121)\u001b[0m Accuracy 0.212\n"
          ]
        },
        {
          "name": "stderr",
          "output_type": "stream",
          "text": [
            "DEBUG flwr 2023-04-29 03:08:26,635 | server.py:182 | evaluate_round 24 received 5 results and 0 failures\n",
            "DEBUG flwr 2023-04-29 03:08:26,635 | server.py:218 | fit_round 25: strategy sampled 10 clients (out of 10)\n"
          ]
        },
        {
          "name": "stdout",
          "output_type": "stream",
          "text": [
            "\u001b[2m\u001b[36m(launch_and_evaluate pid=586178)\u001b[0m Accuracy 0.18\n"
          ]
        },
        {
          "name": "stderr",
          "output_type": "stream",
          "text": [
            "DEBUG flwr 2023-04-29 03:08:48,018 | server.py:232 | fit_round 25 received 10 results and 0 failures\n",
            "DEBUG flwr 2023-04-29 03:08:48,030 | server.py:168 | evaluate_round 25: strategy sampled 5 clients (out of 10)\n"
          ]
        },
        {
          "name": "stdout",
          "output_type": "stream",
          "text": [
            "\u001b[2m\u001b[36m(launch_and_evaluate pid=586830)\u001b[0m Accuracy 0.22\n",
            "\u001b[2m\u001b[36m(launch_and_evaluate pid=586886)\u001b[0m Accuracy 0.194\n",
            "\u001b[2m\u001b[36m(launch_and_evaluate pid=586943)\u001b[0m Accuracy 0.182\n",
            "\u001b[2m\u001b[36m(launch_and_evaluate pid=586999)\u001b[0m Accuracy 0.172\n"
          ]
        },
        {
          "name": "stderr",
          "output_type": "stream",
          "text": [
            "DEBUG flwr 2023-04-29 03:08:56,725 | server.py:182 | evaluate_round 25 received 5 results and 0 failures\n",
            "DEBUG flwr 2023-04-29 03:08:56,725 | server.py:218 | fit_round 26: strategy sampled 10 clients (out of 10)\n"
          ]
        },
        {
          "name": "stdout",
          "output_type": "stream",
          "text": [
            "\u001b[2m\u001b[36m(launch_and_evaluate pid=587055)\u001b[0m Accuracy 0.2\n"
          ]
        },
        {
          "name": "stderr",
          "output_type": "stream",
          "text": [
            "DEBUG flwr 2023-04-29 03:09:19,468 | server.py:232 | fit_round 26 received 10 results and 0 failures\n",
            "DEBUG flwr 2023-04-29 03:09:19,481 | server.py:168 | evaluate_round 26: strategy sampled 5 clients (out of 10)\n"
          ]
        },
        {
          "name": "stdout",
          "output_type": "stream",
          "text": [
            "\u001b[2m\u001b[36m(launch_and_evaluate pid=587706)\u001b[0m Accuracy 0.2\n",
            "\u001b[2m\u001b[36m(launch_and_evaluate pid=587763)\u001b[0m Accuracy 0.228\n",
            "\u001b[2m\u001b[36m(launch_and_evaluate pid=587819)\u001b[0m Accuracy 0.202\n",
            "\u001b[2m\u001b[36m(launch_and_evaluate pid=587875)\u001b[0m Accuracy 0.154\n"
          ]
        },
        {
          "name": "stderr",
          "output_type": "stream",
          "text": [
            "DEBUG flwr 2023-04-29 03:09:28,075 | server.py:182 | evaluate_round 26 received 5 results and 0 failures\n",
            "DEBUG flwr 2023-04-29 03:09:28,076 | server.py:218 | fit_round 27: strategy sampled 10 clients (out of 10)\n"
          ]
        },
        {
          "name": "stdout",
          "output_type": "stream",
          "text": [
            "\u001b[2m\u001b[36m(launch_and_evaluate pid=587932)\u001b[0m Accuracy 0.192\n"
          ]
        },
        {
          "name": "stderr",
          "output_type": "stream",
          "text": [
            "DEBUG flwr 2023-04-29 03:09:51,048 | server.py:232 | fit_round 27 received 10 results and 0 failures\n",
            "DEBUG flwr 2023-04-29 03:09:51,061 | server.py:168 | evaluate_round 27: strategy sampled 5 clients (out of 10)\n"
          ]
        },
        {
          "name": "stdout",
          "output_type": "stream",
          "text": [
            "\u001b[2m\u001b[36m(launch_and_evaluate pid=588583)\u001b[0m Accuracy 0.226\n",
            "\u001b[2m\u001b[36m(launch_and_evaluate pid=588639)\u001b[0m Accuracy 0.24\n",
            "\u001b[2m\u001b[36m(launch_and_evaluate pid=588695)\u001b[0m Accuracy 0.194\n",
            "\u001b[2m\u001b[36m(launch_and_evaluate pid=588752)\u001b[0m Accuracy 0.208\n"
          ]
        },
        {
          "name": "stderr",
          "output_type": "stream",
          "text": [
            "DEBUG flwr 2023-04-29 03:09:59,672 | server.py:182 | evaluate_round 27 received 5 results and 0 failures\n",
            "DEBUG flwr 2023-04-29 03:09:59,673 | server.py:218 | fit_round 28: strategy sampled 10 clients (out of 10)\n"
          ]
        },
        {
          "name": "stdout",
          "output_type": "stream",
          "text": [
            "\u001b[2m\u001b[36m(launch_and_evaluate pid=588808)\u001b[0m Accuracy 0.202\n"
          ]
        },
        {
          "name": "stderr",
          "output_type": "stream",
          "text": [
            "DEBUG flwr 2023-04-29 03:10:22,807 | server.py:232 | fit_round 28 received 10 results and 0 failures\n",
            "DEBUG flwr 2023-04-29 03:10:22,820 | server.py:168 | evaluate_round 28: strategy sampled 5 clients (out of 10)\n"
          ]
        },
        {
          "name": "stdout",
          "output_type": "stream",
          "text": [
            "\u001b[2m\u001b[36m(launch_and_evaluate pid=589459)\u001b[0m Accuracy 0.186\n",
            "\u001b[2m\u001b[36m(launch_and_evaluate pid=589515)\u001b[0m Accuracy 0.196\n",
            "\u001b[2m\u001b[36m(launch_and_evaluate pid=589572)\u001b[0m Accuracy 0.194\n",
            "\u001b[2m\u001b[36m(launch_and_evaluate pid=589628)\u001b[0m Accuracy 0.164\n"
          ]
        },
        {
          "name": "stderr",
          "output_type": "stream",
          "text": [
            "DEBUG flwr 2023-04-29 03:10:31,401 | server.py:182 | evaluate_round 28 received 5 results and 0 failures\n",
            "DEBUG flwr 2023-04-29 03:10:31,401 | server.py:218 | fit_round 29: strategy sampled 10 clients (out of 10)\n"
          ]
        },
        {
          "name": "stdout",
          "output_type": "stream",
          "text": [
            "\u001b[2m\u001b[36m(launch_and_evaluate pid=589684)\u001b[0m Accuracy 0.172\n"
          ]
        },
        {
          "name": "stderr",
          "output_type": "stream",
          "text": [
            "DEBUG flwr 2023-04-29 03:10:54,094 | server.py:232 | fit_round 29 received 10 results and 0 failures\n",
            "DEBUG flwr 2023-04-29 03:10:54,106 | server.py:168 | evaluate_round 29: strategy sampled 5 clients (out of 10)\n"
          ]
        },
        {
          "name": "stdout",
          "output_type": "stream",
          "text": [
            "\u001b[2m\u001b[36m(launch_and_evaluate pid=590335)\u001b[0m Accuracy 0.23\n",
            "\u001b[2m\u001b[36m(launch_and_evaluate pid=590392)\u001b[0m Accuracy 0.196\n",
            "\u001b[2m\u001b[36m(launch_and_evaluate pid=590448)\u001b[0m Accuracy 0.204\n",
            "\u001b[2m\u001b[36m(launch_and_evaluate pid=590504)\u001b[0m Accuracy 0.174\n"
          ]
        },
        {
          "name": "stderr",
          "output_type": "stream",
          "text": [
            "DEBUG flwr 2023-04-29 03:11:02,755 | server.py:182 | evaluate_round 29 received 5 results and 0 failures\n",
            "DEBUG flwr 2023-04-29 03:11:02,755 | server.py:218 | fit_round 30: strategy sampled 10 clients (out of 10)\n"
          ]
        },
        {
          "name": "stdout",
          "output_type": "stream",
          "text": [
            "\u001b[2m\u001b[36m(launch_and_evaluate pid=590560)\u001b[0m Accuracy 0.194\n"
          ]
        },
        {
          "name": "stderr",
          "output_type": "stream",
          "text": [
            "DEBUG flwr 2023-04-29 03:11:25,827 | server.py:232 | fit_round 30 received 10 results and 0 failures\n",
            "DEBUG flwr 2023-04-29 03:11:25,840 | server.py:168 | evaluate_round 30: strategy sampled 5 clients (out of 10)\n"
          ]
        },
        {
          "name": "stdout",
          "output_type": "stream",
          "text": [
            "\u001b[2m\u001b[36m(launch_and_evaluate pid=591213)\u001b[0m Accuracy 0.168\n",
            "\u001b[2m\u001b[36m(launch_and_evaluate pid=591269)\u001b[0m Accuracy 0.196\n",
            "\u001b[2m\u001b[36m(launch_and_evaluate pid=591325)\u001b[0m Accuracy 0.224\n",
            "\u001b[2m\u001b[36m(launch_and_evaluate pid=591382)\u001b[0m Accuracy 0.244\n"
          ]
        },
        {
          "name": "stderr",
          "output_type": "stream",
          "text": [
            "DEBUG flwr 2023-04-29 03:11:34,454 | server.py:182 | evaluate_round 30 received 5 results and 0 failures\n",
            "DEBUG flwr 2023-04-29 03:11:34,455 | server.py:218 | fit_round 31: strategy sampled 10 clients (out of 10)\n"
          ]
        },
        {
          "name": "stdout",
          "output_type": "stream",
          "text": [
            "\u001b[2m\u001b[36m(launch_and_evaluate pid=591438)\u001b[0m Accuracy 0.186\n"
          ]
        },
        {
          "name": "stderr",
          "output_type": "stream",
          "text": [
            "DEBUG flwr 2023-04-29 03:11:57,475 | server.py:232 | fit_round 31 received 10 results and 0 failures\n",
            "DEBUG flwr 2023-04-29 03:11:57,488 | server.py:168 | evaluate_round 31: strategy sampled 5 clients (out of 10)\n"
          ]
        },
        {
          "name": "stdout",
          "output_type": "stream",
          "text": [
            "\u001b[2m\u001b[36m(launch_and_evaluate pid=592089)\u001b[0m Accuracy 0.202\n",
            "\u001b[2m\u001b[36m(launch_and_evaluate pid=592145)\u001b[0m Accuracy 0.214\n",
            "\u001b[2m\u001b[36m(launch_and_evaluate pid=592202)\u001b[0m Accuracy 0.23\n",
            "\u001b[2m\u001b[36m(launch_and_evaluate pid=592258)\u001b[0m Accuracy 0.184\n"
          ]
        },
        {
          "name": "stderr",
          "output_type": "stream",
          "text": [
            "DEBUG flwr 2023-04-29 03:12:06,099 | server.py:182 | evaluate_round 31 received 5 results and 0 failures\n",
            "DEBUG flwr 2023-04-29 03:12:06,100 | server.py:218 | fit_round 32: strategy sampled 10 clients (out of 10)\n"
          ]
        },
        {
          "name": "stdout",
          "output_type": "stream",
          "text": [
            "\u001b[2m\u001b[36m(launch_and_evaluate pid=592314)\u001b[0m Accuracy 0.272\n",
            "\u001b[2m\u001b[1m\u001b[33m(autoscaler +44m26s)\u001b[0m Warning: The following resource request cannot be scheduled right now: {'CPU': 1.0, 'GPU': 1.0}. This is likely due to all cluster resources being claimed by actors. Consider creating fewer actors or adding more nodes to this Ray cluster.\n"
          ]
        },
        {
          "name": "stderr",
          "output_type": "stream",
          "text": [
            "DEBUG flwr 2023-04-29 03:12:27,187 | server.py:232 | fit_round 32 received 10 results and 0 failures\n",
            "DEBUG flwr 2023-04-29 03:12:27,200 | server.py:168 | evaluate_round 32: strategy sampled 5 clients (out of 10)\n"
          ]
        },
        {
          "name": "stdout",
          "output_type": "stream",
          "text": [
            "\u001b[2m\u001b[36m(launch_and_evaluate pid=592965)\u001b[0m Accuracy 0.182\n",
            "\u001b[2m\u001b[36m(launch_and_evaluate pid=593021)\u001b[0m Accuracy 0.208\n",
            "\u001b[2m\u001b[36m(launch_and_evaluate pid=593078)\u001b[0m Accuracy 0.208\n",
            "\u001b[2m\u001b[36m(launch_and_evaluate pid=593134)\u001b[0m Accuracy 0.254\n"
          ]
        },
        {
          "name": "stderr",
          "output_type": "stream",
          "text": [
            "DEBUG flwr 2023-04-29 03:12:35,829 | server.py:182 | evaluate_round 32 received 5 results and 0 failures\n",
            "DEBUG flwr 2023-04-29 03:12:35,829 | server.py:218 | fit_round 33: strategy sampled 10 clients (out of 10)\n"
          ]
        },
        {
          "name": "stdout",
          "output_type": "stream",
          "text": [
            "\u001b[2m\u001b[36m(launch_and_evaluate pid=593190)\u001b[0m Accuracy 0.232\n"
          ]
        },
        {
          "name": "stderr",
          "output_type": "stream",
          "text": [
            "DEBUG flwr 2023-04-29 03:12:58,740 | server.py:232 | fit_round 33 received 10 results and 0 failures\n",
            "DEBUG flwr 2023-04-29 03:12:58,752 | server.py:168 | evaluate_round 33: strategy sampled 5 clients (out of 10)\n"
          ]
        },
        {
          "name": "stdout",
          "output_type": "stream",
          "text": [
            "\u001b[2m\u001b[36m(launch_and_evaluate pid=593841)\u001b[0m Accuracy 0.234\n",
            "\u001b[2m\u001b[36m(launch_and_evaluate pid=593898)\u001b[0m Accuracy 0.244\n",
            "\u001b[2m\u001b[36m(launch_and_evaluate pid=593954)\u001b[0m Accuracy 0.21\n",
            "\u001b[2m\u001b[36m(launch_and_evaluate pid=594010)\u001b[0m Accuracy 0.22\n"
          ]
        },
        {
          "name": "stderr",
          "output_type": "stream",
          "text": [
            "DEBUG flwr 2023-04-29 03:13:07,435 | server.py:182 | evaluate_round 33 received 5 results and 0 failures\n",
            "DEBUG flwr 2023-04-29 03:13:07,435 | server.py:218 | fit_round 34: strategy sampled 10 clients (out of 10)\n"
          ]
        },
        {
          "name": "stdout",
          "output_type": "stream",
          "text": [
            "\u001b[2m\u001b[36m(launch_and_evaluate pid=594066)\u001b[0m Accuracy 0.186\n"
          ]
        },
        {
          "name": "stderr",
          "output_type": "stream",
          "text": [
            "DEBUG flwr 2023-04-29 03:13:30,619 | server.py:232 | fit_round 34 received 10 results and 0 failures\n",
            "DEBUG flwr 2023-04-29 03:13:30,631 | server.py:168 | evaluate_round 34: strategy sampled 5 clients (out of 10)\n"
          ]
        },
        {
          "name": "stdout",
          "output_type": "stream",
          "text": [
            "\u001b[2m\u001b[36m(launch_and_evaluate pid=594718)\u001b[0m Accuracy 0.184\n",
            "\u001b[2m\u001b[36m(launch_and_evaluate pid=594774)\u001b[0m Accuracy 0.21\n",
            "\u001b[2m\u001b[36m(launch_and_evaluate pid=594830)\u001b[0m Accuracy 0.216\n",
            "\u001b[2m\u001b[36m(launch_and_evaluate pid=594887)\u001b[0m Accuracy 0.214\n"
          ]
        },
        {
          "name": "stderr",
          "output_type": "stream",
          "text": [
            "DEBUG flwr 2023-04-29 03:13:39,235 | server.py:182 | evaluate_round 34 received 5 results and 0 failures\n",
            "DEBUG flwr 2023-04-29 03:13:39,235 | server.py:218 | fit_round 35: strategy sampled 10 clients (out of 10)\n"
          ]
        },
        {
          "name": "stdout",
          "output_type": "stream",
          "text": [
            "\u001b[2m\u001b[36m(launch_and_evaluate pid=594943)\u001b[0m Accuracy 0.188\n"
          ]
        }
      ],
      "source": [
        "# FedAdam\n",
        "strategy = fl.server.strategy.FedAdam(\n",
        "    fraction_fit=1.0,\n",
        "    fraction_evaluate=0.5,\n",
        "    min_fit_clients=10,\n",
        "    min_evaluate_clients=5,\n",
        "    min_available_clients=10,\n",
        "    evaluate_metrics_aggregation_fn=weighted_average,  # <-- pass the metric aggregation function\n",
        "    initial_parameters  = flwr.common.ndarrays_to_parameters(get_parameters(net))\n",
        ")\n",
        "\n",
        "# Start simulation\n",
        "historyFedAdam = fl.simulation.start_simulation(\n",
        "    client_fn=client_fn,\n",
        "    num_clients=NUM_CLIENTS,\n",
        "    config=fl.server.ServerConfig(num_rounds=EPOCH),\n",
        "    strategy=strategy,\n",
        "    client_resources=client_resources,\n",
        ")"
      ]
    },
    {
      "cell_type": "code",
      "execution_count": null,
      "metadata": {},
      "outputs": [
        {
          "data": {
            "text/plain": [
              "History (loss, distributed):\n",
              "\tround 1: 0.07609903421401977\n",
              "\tround 2: 2.0046006271362304\n",
              "\tround 3: 0.867990623474121\n",
              "\tround 4: 0.13507078285217286\n",
              "\tround 5: 0.08201024398803711\n",
              "\tround 6: 0.08384517507553099\n",
              "\tround 7: 0.07350656571388245\n",
              "\tround 8: 0.06918863506317138\n",
              "\tround 9: 0.06820909347534179\n",
              "\tround 10: 0.06657745490074159\n",
              "\tround 11: 0.07509647331237793\n",
              "\tround 12: 0.0717469398021698\n",
              "\tround 13: 0.0647759247303009\n",
              "\tround 14: 0.06753410553932189\n",
              "\tround 15: 0.061917456960678095\n",
              "\tround 16: 0.06795043792724609\n",
              "\tround 17: 0.06287464699745178\n",
              "\tround 18: 0.06356527967453003\n",
              "\tround 19: 0.06293819932937622\n",
              "\tround 20: 0.06074403953552245\n",
              "\tround 21: 0.06437308087348938\n",
              "\tround 22: 0.06169502053260802\n",
              "\tround 23: 0.06195940036773682\n",
              "\tround 24: 0.061223048830032344\n",
              "\tround 25: 0.059998712825775145\n",
              "\tround 26: 0.06123829193115234\n",
              "\tround 27: 0.06029387488365173\n",
              "\tround 28: 0.0597606385231018\n",
              "\tround 29: 0.059735484457015986\n",
              "\tround 30: 0.0594839129447937\n",
              "\tround 31: 0.059261047077178955\n",
              "\tround 32: 0.05909517068862915\n",
              "\tround 33: 0.058630465412139884\n",
              "\tround 34: 0.05996454510688781\n",
              "\tround 35: 0.05838205704689026\n",
              "\tround 36: 0.0597892168521881\n",
              "\tround 37: 0.058496501111984255\n",
              "\tround 38: 0.05897086958885193\n",
              "\tround 39: 0.060049289989471434\n",
              "\tround 40: 0.05799992890357971\n",
              "\tround 41: 0.05953196682929993\n",
              "\tround 42: 0.05770564994812012\n",
              "\tround 43: 0.05873726582527161\n",
              "\tround 44: 0.05905619301795959\n",
              "\tround 45: 0.059237657833099366\n",
              "\tround 46: 0.060468900251388555\n",
              "\tround 47: 0.0589381667137146\n",
              "\tround 48: 0.06065724878311157\n",
              "\tround 49: 0.05869542093276977\n",
              "\tround 50: 0.06018808159828186\n",
              "History (metrics, distributed, evaluate):\n",
              "{'accuracy': [(1, 0.0908), (2, 0.1048), (3, 0.0948), (4, 0.12840000000000001), (5, 0.15360000000000001), (6, 0.14800000000000002), (7, 0.16760000000000003), (8, 0.1584), (9, 0.1572), (10, 0.1808), (11, 0.21680000000000002), (12, 0.2132), (13, 0.18839999999999998), (14, 0.1612), (15, 0.2532), (16, 0.2156), (17, 0.2552), (18, 0.21600000000000003), (19, 0.22280000000000003), (20, 0.2604), (21, 0.2432), (22, 0.246), (23, 0.2488), (24, 0.23199999999999998), (25, 0.274), (26, 0.2712), (27, 0.2516), (28, 0.2584), (29, 0.254), (30, 0.26480000000000004), (31, 0.28800000000000003), (32, 0.2816), (33, 0.2848), (34, 0.2572), (35, 0.2772), (36, 0.27040000000000003), (37, 0.2712), (38, 0.27559999999999996), (39, 0.2552), (40, 0.28400000000000003), (41, 0.2684), (42, 0.27280000000000004), (43, 0.27640000000000003), (44, 0.28040000000000004), (45, 0.2564), (46, 0.2364), (47, 0.26680000000000004), (48, 0.24559999999999998), (49, 0.26480000000000004), (50, 0.2428)]}"
            ]
          },
          "execution_count": 19,
          "metadata": {},
          "output_type": "execute_result"
        }
      ],
      "source": [
        "historyFedAdam"
      ]
    },
    {
      "cell_type": "markdown",
      "metadata": {
        "id": "BjtXHakh0SWq"
      },
      "source": [
        "## Final remarks\n",
        "\n",
        "Congratulations, you just trained a convolutional neural network, federated over 10 clients! With that, you understand the basics of federated learning with Flower. The same approach you've seen can be used with other machine learning frameworks (not just PyTorch) and tasks (not just CIFAR-10 images classification), for example NLP with Hugging Face Transformers or speech with SpeechBrain.\n",
        "\n",
        "In the next notebook, we're going to cover some more advanced concepts. Want to customize your strategy? Initialize parameters on the server side? Or evaluate the aggregated model on the server side? We'll cover all this and more in the next tutorial."
      ]
    },
    {
      "cell_type": "markdown",
      "metadata": {
        "id": "bXWB7udL0SWq"
      },
      "source": [
        "## Next steps\n",
        "\n",
        "Before you continue, make sure to join the Flower community on Slack: [Join Slack](https://flower.dev/join-slack/)\n",
        "\n",
        "There's a dedicated `#questions` channel if you need help, but we'd also love to hear who you are in `#introductions`!\n",
        "\n",
        "The [Flower Federated Learning Tutorial - Part 2](https://flower.dev/docs/tutorial/Flower-2-Strategies-in-FL-PyTorch.html) goes into more depth about strategies and all the advanced things you can build with them."
      ]
    },
    {
      "cell_type": "code",
      "execution_count": 4,
      "metadata": {},
      "outputs": [
        {
          "name": "stdout",
          "output_type": "stream",
          "text": [
            "Files already downloaded and verified\n",
            "Files already downloaded and verified\n"
          ]
        },
        {
          "data": {
            "text/plain": [
              "10000"
            ]
          },
          "execution_count": 4,
          "metadata": {},
          "output_type": "execute_result"
        }
      ],
      "source": [
        "import torchvision.transforms as transforms\n",
        "from torch.utils.data import DataLoader, random_split, TensorDataset\n",
        "from torchvision.datasets import CIFAR10\n",
        "transform_train = transforms.Compose([\n",
        "    transforms.RandomCrop(32, padding=4),\n",
        "    transforms.RandomHorizontalFlip(),\n",
        "    transforms.ToTensor(),\n",
        "    transforms.Normalize((0.4914, 0.4822, 0.4465), (0.2023, 0.1994, 0.2010)),\n",
        "])\n",
        "\n",
        "transform_test = transforms.Compose([\n",
        "    transforms.ToTensor(),\n",
        "    transforms.Normalize((0.4914, 0.4822, 0.4465), (0.2023, 0.1994, 0.2010)),\n",
        "])\n",
        "trainset = CIFAR10(\"./dataset\", train=True, download=True, transform=transform_train)\n",
        "testset = CIFAR10(\"./dataset\", train=False, download=True, transform=transform_test)\n",
        "\n",
        "len(trainset)\n",
        "len(testset)"
      ]
    }
  ],
  "metadata": {
    "colab": {
      "name": "Flower-1-Intro-to-FL-PyTorch.ipynb",
      "provenance": [],
      "toc_visible": true
    },
    "kernelspec": {
      "display_name": "flower-3.7.12",
      "language": "python",
      "name": "python3"
    },
    "language_info": {
      "codemirror_mode": {
        "name": "ipython",
        "version": 3
      },
      "file_extension": ".py",
      "mimetype": "text/x-python",
      "name": "python",
      "nbconvert_exporter": "python",
      "pygments_lexer": "ipython3",
      "version": "3.10.11"
    }
  },
  "nbformat": 4,
  "nbformat_minor": 0
}
