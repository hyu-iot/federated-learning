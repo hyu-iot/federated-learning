{
 "cells": [
  {
   "attachments": {},
   "cell_type": "markdown",
   "metadata": {},
   "source": [
    "## CIFAR10 DATASET SPLIT ##\n",
    "\n",
    "Total_Trainset = 50000, Total_Testset = 10000\n",
    "\n",
    "### Centralized ###\n",
    "\n",
    "Trainset = 45000, Valset= 5000, Testset = 10000\n",
    "\n",
    "### Federated ###\n",
    "\n",
    "NUM_CLIENTS = 10\n",
    "Trainset = 4500, Valset= 500, (Each client)\n",
    "Testset = 10000 (Aggregated Model)\n",
    "\n",
    "metrics_distributed 가 각 client에서 돌린 결과 평균낸 accuracy\n",
    "metrics_centralized 가 모은 model test한 결과 나온 accuracy"
   ]
  },
  {
   "cell_type": "code",
   "execution_count": 46,
   "metadata": {},
   "outputs": [],
   "source": [
    "from collections import OrderedDict\n",
    "from typing import List, Tuple, Dict, Optional\n",
    "\n",
    "import matplotlib.pyplot as plt\n",
    "import numpy as np\n",
    "import torch\n",
    "import torch.nn as nn\n",
    "import torch.nn.functional as F\n",
    "import torchvision\n",
    "import torchvision.transforms as transforms\n",
    "from torch.utils.data import DataLoader, random_split\n",
    "from torchvision.datasets import CIFAR10\n",
    "import torchvision.models\n",
    "\n",
    "from sklearn.metrics import f1_score, precision_score, recall_score\n",
    "\n",
    "import os\n",
    "# 여기서는 10개로 나눈 것 중, 하나만 train 함.\n",
    "import pandas as pd\n",
    "\n",
    "\n",
    "import flwr as fl\n",
    "from flwr.common import Metrics\n",
    "import flwr.common"
   ]
  },
  {
   "cell_type": "code",
   "execution_count": 47,
   "metadata": {},
   "outputs": [
    {
     "name": "stdout",
     "output_type": "stream",
     "text": [
      "Training on cuda using PyTorch 2.0.0 and Flower 1.4.0\n",
      "Files already downloaded and verified\n",
      "Files already downloaded and verified\n"
     ]
    }
   ],
   "source": [
    "\n",
    "DEVICE = torch.device(\"cuda\")  # Try \"cuda\" to train on GPU\n",
    "print(\n",
    "    f\"Training on {DEVICE} using PyTorch {torch.__version__} and Flower {fl.__version__}\"\n",
    ")\n",
    "\n",
    "NUM_CLIENTS = 10\n",
    "EPOCH = 100\n",
    "BATCH_SIZE = 32\n",
    "\n",
    "client_resources = None\n",
    "if DEVICE.type == \"cuda\":\n",
    "    client_resources = {\"num_gpus\": 1}\n",
    "\n",
    "transform = transforms.Compose(\n",
    "    [transforms.ToTensor(), \n",
    "     transforms.Normalize((0.4914, 0.4822, 0.4465), (0.2023, 0.1994, 0.2010))]\n",
    ")\n",
    "trainset = CIFAR10(\"../dataset\", train=True, download=True, transform=transform)\n",
    "testset = CIFAR10(\"../dataset\", train=False, download=True, transform=transform)\n",
    "\n",
    "# Split dataset\n",
    "lengths = [45000, 5000]\n",
    "split_trainset, valset = random_split(trainset, lengths, torch.Generator().manual_seed(42)) \n",
    "    \n",
    "# 45000\n",
    "full_split_trainloader = DataLoader(split_trainset, batch_size=BATCH_SIZE, shuffle=True)\n",
    "# 5000\n",
    "full_valloader = DataLoader(valset, batch_size=BATCH_SIZE, shuffle=True)\n",
    "# 10000\n",
    "full_testloader = DataLoader(testset, batch_size=BATCH_SIZE, shuffle=True)\n",
    "\n",
    "\n",
    "def load_datasets():\n",
    "    # Split training set into 10 partitions to simulate the individual dataset\n",
    "    partition_size = len(trainset) // NUM_CLIENTS\n",
    "    lengths = [partition_size] * NUM_CLIENTS\n",
    "    datasets= random_split(trainset, lengths, torch.Generator().manual_seed(42))\n",
    "\n",
    "    # Split each partition into train/val and create DataLoader\n",
    "    trainloaders = []\n",
    "    valloaders = []\n",
    "    for idx, ds in enumerate(datasets):\n",
    "        len_val = len(ds) // 10  # 10 % validation set\n",
    "        len_train = len(ds) - len_val\n",
    "        lengths = [len_train, len_val]\n",
    "        ds_train, ds_val = random_split(ds, lengths, torch.Generator().manual_seed(42))\n",
    "        # Always splits in the same way.\n",
    "\n",
    "        # Count Distribution of data\n",
    "        # print(dict(Counter(ds_train.targets)))\n",
    "        # custom_subset(ds_train)\n",
    "        # arr = []\n",
    "        # print(\"ds_train\", idx)\n",
    "        # for a in ds_train:\n",
    "        #     arr.append(a[1])\n",
    "        # for i in range(10):\n",
    "        #     print(i, \":\", arr.count(i))\n",
    "        # Data is not perfectly distributed\n",
    "\n",
    "        trainloaders.append(DataLoader(ds_train, batch_size=BATCH_SIZE, shuffle=True))\n",
    "        valloaders.append(DataLoader(ds_val, batch_size=BATCH_SIZE))\n",
    "    testloader = DataLoader(testset, batch_size=BATCH_SIZE)\n",
    "    return trainloaders, valloaders, testloader\n",
    "\n",
    "trainloaders, valloaders, testloader = load_datasets()\n"
   ]
  },
  {
   "attachments": {},
   "cell_type": "markdown",
   "metadata": {},
   "source": [
    "### VGG 16 ###"
   ]
  },
  {
   "cell_type": "code",
   "execution_count": 48,
   "metadata": {},
   "outputs": [],
   "source": [
    "# all_models = torchvision.models.list_models()\n",
    "# all_models"
   ]
  },
  {
   "cell_type": "code",
   "execution_count": 49,
   "metadata": {},
   "outputs": [],
   "source": [
    "# net = torchvision.models.densenet121(num_classes=10).to(DEVICE)\n",
    "# net = torchvision.models.resnet18(num_classes=10).to(DEVICE)\n",
    "# net = torchvision.models.resnet34(num_classes=10).to(DEVICE)\n",
    "# net = torchvision.models.resnet50(num_classes=10).to(DEVICE)\n",
    "\n",
    "# net = torchvision.models.googlenet(num_classes=10).to(DEVICE)\n",
    "# net"
   ]
  },
  {
   "cell_type": "code",
   "execution_count": 50,
   "metadata": {},
   "outputs": [],
   "source": [
    "def train(net, trainloader, epochs: int, verbose=False):\n",
    "    \"\"\"Train the network on the training set.\"\"\"\n",
    "    criterion = torch.nn.CrossEntropyLoss()\n",
    "    optimizer = torch.optim.SGD(net.parameters(), lr=0.01, momentum=0.5)\n",
    "    net.train()\n",
    "    for epoch in range(epochs):\n",
    "        correct, total, epoch_loss = 0, 0, 0.0\n",
    "        for images, labels in trainloader:\n",
    "            images, labels = images.to(DEVICE), labels.to(DEVICE)\n",
    "            optimizer.zero_grad()\n",
    "            outputs = net(images)\n",
    "            loss = criterion(outputs, labels)\n",
    "            loss.backward()\n",
    "            optimizer.step()\n",
    "            # Metrics\n",
    "            epoch_loss += loss\n",
    "            total += labels.size(0)\n",
    "            correct += (torch.max(outputs.data, 1)[1] == labels).sum().item()\n",
    "        epoch_loss /= len(trainloader.dataset)\n",
    "        epoch_acc = correct / total\n",
    "        if verbose:\n",
    "            print(f\"Epoch {epoch+1}: train loss {epoch_loss}, accuracy {epoch_acc}\")\n",
    "\n",
    "\n",
    "def test(net, testloader):\n",
    "    \"\"\"Evaluate the network on the entire test set.\"\"\"\n",
    "    criterion = torch.nn.CrossEntropyLoss()\n",
    "    correct, total, loss = 0, 0, 0.0\n",
    "    pred = torch.Tensor([])\n",
    "    target = torch.Tensor([])\n",
    "    net.eval()\n",
    "    with torch.no_grad():\n",
    "        for images, labels in testloader:\n",
    "            images, labels = images.to(DEVICE), labels.to(DEVICE)\n",
    "            outputs = net(images)\n",
    "            loss += criterion(outputs, labels).item()\n",
    "            _, predicted = torch.max(outputs.data, 1)\n",
    "            total += labels.size(0)\n",
    "            correct += (predicted == labels).sum().item()\n",
    "            pred = torch.cat([pred, predicted.cpu()], dim=0)\n",
    "            target = torch.cat([target, labels.cpu()], dim=0)\n",
    "    loss /= len(testloader.dataset)\n",
    "    accuracy = correct / total\n",
    "    recall = recall_score(pred, target, average='macro')\n",
    "    precision = precision_score(pred, target, average='macro')\n",
    "    f1 = f1_score(pred, target, average='macro')\n",
    "    return loss, {\"loss\": loss, \"accuracy\": accuracy, \"recall\": recall, \"precision\": precision, \"f1_score\": f1}\n"
   ]
  },
  {
   "attachments": {},
   "cell_type": "markdown",
   "metadata": {},
   "source": [
    "## Federated ##"
   ]
  },
  {
   "cell_type": "code",
   "execution_count": 51,
   "metadata": {},
   "outputs": [],
   "source": [
    "def get_parameters(net) -> List[np.ndarray]:\n",
    "    return [val.cpu().numpy() for _, val in net.state_dict().items()]\n",
    "\n",
    "def set_parameters(net, parameters: List[np.ndarray]):\n",
    "    params_dict = zip(net.state_dict().keys(), parameters)\n",
    "    state_dict = OrderedDict(\n",
    "        {\n",
    "            k: torch.Tensor(v) if v.shape != torch.Size([]) else torch.Tensor([0])\n",
    "            for k, v in params_dict\n",
    "        }\n",
    "    )\n",
    "    net.load_state_dict(state_dict, strict=True)\n",
    "\n",
    "\n",
    "class FlowerClient(fl.client.NumPyClient):\n",
    "    def __init__(self, net, trainloader, valloader):\n",
    "        self.net = net\n",
    "        self.trainloader = trainloader\n",
    "        self.valloader = valloader\n",
    "\n",
    "    def get_parameters(self, config):\n",
    "        return get_parameters(self.net)\n",
    "\n",
    "    def fit(self, parameters, config):\n",
    "        set_parameters(self.net, parameters)\n",
    "        train(self.net, self.trainloader, epochs=1)\n",
    "        return get_parameters(self.net), len(self.trainloader), {}\n",
    "\n",
    "    def evaluate(self, parameters, config):\n",
    "        set_parameters(self.net, parameters)\n",
    "        loss, metrics = test(self.net, self.valloader)\n",
    "        print(f\"Accuracy {metrics['accuracy']}\")\n",
    "        return float(loss), len(self.valloader), metrics\n",
    "    \n",
    "def client_fn(cid: str) -> FlowerClient:\n",
    "    \"\"\"Create a Flower client representing a single organization.\"\"\"\n",
    "\n",
    "    # Load model\n",
    "    # net = Net().to(DEVICE)\n",
    "\n",
    "    # Load data (CIFAR-10)\n",
    "    # Note: each client gets a different trainloader/valloader, so each client\n",
    "    # will train and evaluate on their own unique data\n",
    "    trainloader = trainloaders[int(cid)]\n",
    "    valloader = valloaders[int(cid)]\n",
    "\n",
    "    # Create a  single Flower client representing a single organization\n",
    "    return FlowerClient(net, trainloader, valloader)\n",
    "    \n",
    "def weighted_average(metrics: List[Tuple[int, Metrics]]) -> Metrics:\n",
    "\n",
    "    averages = {}\n",
    "    targets = [\"accuracy\", \"recall\", \"precision\", \"f1_score\"]\n",
    "\n",
    "    total_examples = sum([num_examples for num_examples, _ in metrics])\n",
    "    for target in targets:\n",
    "        target_distributed = [num_examples * m[target] for num_examples, m in metrics]\n",
    "        averages[target] = sum(target_distributed) / total_examples\n",
    "    \n",
    "    # Aggregate and return custom metric (weighted average)\n",
    "    return averages\n",
    "\n",
    "# The `evaluate` function will be by Flower called after every round\n",
    "def evaluate(\n",
    "    server_round: int,\n",
    "    parameters: fl.common.NDArrays,\n",
    "    config: Dict[str, fl.common.Scalar],\n",
    ") -> Optional[Tuple[float, Dict[str, fl.common.Scalar]]]:\n",
    "    # net = Net().to(DEVICE)\n",
    "    set_parameters(net, parameters)  # Update model with the latest parameters\n",
    "    loss, metrics = test(net, full_testloader) # Test total test_loader\n",
    "    print(f\"Server-side evaluation loss {loss} / accuracy {metrics['accuracy']}\")\n",
    "    return loss, metrics\n"
   ]
  },
  {
   "cell_type": "code",
   "execution_count": 52,
   "metadata": {},
   "outputs": [],
   "source": [
    "models = {\n",
    "    'Densenet121' : \"densenet121\",\n",
    "    'Mobilenet_v2': \"mobilenet_v2\", # Odd results\n",
    "    'Googlenet' : \"googlenet\", # Odd results\n",
    "    'Resnet18' : \"resnet18\",\n",
    "    'Resnet34' : \"resnet34\",\n",
    "    'Resnet50' : \"resnet50\",\n",
    "    'VGG11' : \"vgg11\", \n",
    "    'VGG13' : \"vgg13\", \n",
    "    'VGG16' : \"vgg16\", \n",
    "    'VGG19' : \"vgg19\",\n",
    "}"
   ]
  },
  {
   "cell_type": "code",
   "execution_count": 54,
   "metadata": {},
   "outputs": [
    {
     "name": "stderr",
     "output_type": "stream",
     "text": [
      "/home/dongha/anaconda3/envs/fl/lib/python3.10/site-packages/torchvision/models/googlenet.py:47: FutureWarning: The default weight initialization of GoogleNet will be changed in future releases of torchvision. If you wish to keep the old behavior (which leads to long initialization times due to scipy/scipy#11299), please set init_weights=True.\n",
      "  warnings.warn(\n"
     ]
    },
    {
     "name": "stdout",
     "output_type": "stream",
     "text": [
      "Centralized: Googlenet\n",
      "Googlenet Epoch 1: validation loss 0.04944972150325775, accuracy 0.4186\n"
     ]
    },
    {
     "name": "stderr",
     "output_type": "stream",
     "text": [
      "/home/dongha/anaconda3/envs/fl/lib/python3.10/site-packages/torchvision/models/googlenet.py:47: FutureWarning: The default weight initialization of GoogleNet will be changed in future releases of torchvision. If you wish to keep the old behavior (which leads to long initialization times due to scipy/scipy#11299), please set init_weights=True.\n",
      "  warnings.warn(\n",
      "INFO flwr 2023-05-05 10:56:33,260 | app.py:146 | Starting Flower simulation, config: ServerConfig(num_rounds=2, round_timeout=None)\n"
     ]
    },
    {
     "name": "stdout",
     "output_type": "stream",
     "text": [
      "Googlenet Epoch 2: validation loss 0.036049307090044024, accuracy 0.5941\n",
      "Federated: Googlenet\n"
     ]
    },
    {
     "name": "stderr",
     "output_type": "stream",
     "text": [
      "2023-05-05 10:56:37,054\tINFO worker.py:1553 -- Started a local Ray instance.\n",
      "INFO flwr 2023-05-05 10:56:37,579 | app.py:180 | Flower VCE: Ray initialized with resources: {'memory': 76419200000.0, 'GPU': 1.0, 'object_store_memory': 37036800000.0, 'node:172.17.0.2': 1.0, 'accelerator_type:RTX': 1.0, 'CPU': 16.0}\n",
      "INFO flwr 2023-05-05 10:56:37,580 | server.py:86 | Initializing global parameters\n",
      "INFO flwr 2023-05-05 10:56:37,580 | server.py:273 | Requesting initial parameters from one random client\n",
      "INFO flwr 2023-05-05 10:56:39,582 | server.py:277 | Received initial parameters from one random client\n",
      "INFO flwr 2023-05-05 10:56:39,582 | server.py:88 | Evaluating initial parameters\n",
      "/home/dongha/anaconda3/envs/fl/lib/python3.10/site-packages/sklearn/metrics/_classification.py:1344: UndefinedMetricWarning: Recall is ill-defined and being set to 0.0 in labels with no true samples. Use `zero_division` parameter to control this behavior.\n",
      "  _warn_prf(average, modifier, msg_start, len(result))\n",
      "INFO flwr 2023-05-05 10:56:41,936 | server.py:91 | initial parameters (loss, other metrics): 0.07207401340007782, {'loss': 0.07207401340007782, 'accuracy': 0.1, 'recall': 0.01, 'precision': 0.1, 'f1_score': 0.01818181818181818}\n",
      "INFO flwr 2023-05-05 10:56:41,936 | server.py:101 | FL starting\n",
      "DEBUG flwr 2023-05-05 10:56:41,937 | server.py:218 | fit_round 1: strategy sampled 10 clients (out of 10)\n"
     ]
    },
    {
     "name": "stdout",
     "output_type": "stream",
     "text": [
      "Server-side evaluation loss 0.07207401340007782 / accuracy 0.1\n"
     ]
    },
    {
     "name": "stderr",
     "output_type": "stream",
     "text": [
      "DEBUG flwr 2023-05-05 10:57:27,352 | server.py:232 | fit_round 1 received 10 results and 0 failures\n",
      "WARNING flwr 2023-05-05 10:57:27,758 | fedavg.py:243 | No fit_metrics_aggregation_fn provided\n",
      "/home/dongha/anaconda3/envs/fl/lib/python3.10/site-packages/sklearn/metrics/_classification.py:1344: UndefinedMetricWarning: Recall is ill-defined and being set to 0.0 in labels with no true samples. Use `zero_division` parameter to control this behavior.\n",
      "  _warn_prf(average, modifier, msg_start, len(result))\n",
      "INFO flwr 2023-05-05 10:57:30,076 | server.py:119 | fit progress: (1, 0.07250363295078277, {'loss': 0.07250363295078277, 'accuracy': 0.1, 'recall': 0.01, 'precision': 0.1, 'f1_score': 0.01818181818181818}, 48.13971837610006)\n",
      "DEBUG flwr 2023-05-05 10:57:30,077 | server.py:168 | evaluate_round 1: strategy sampled 5 clients (out of 10)\n"
     ]
    },
    {
     "name": "stdout",
     "output_type": "stream",
     "text": [
      "Server-side evaluation loss 0.07250363295078277 / accuracy 0.1\n"
     ]
    },
    {
     "name": "stderr",
     "output_type": "stream",
     "text": [
      "\u001b[2m\u001b[36m(launch_and_evaluate pid=1782526)\u001b[0m /home/dongha/anaconda3/envs/fl/lib/python3.10/site-packages/sklearn/metrics/_classification.py:1344: UndefinedMetricWarning: Recall is ill-defined and being set to 0.0 in labels with no true samples. Use `zero_division` parameter to control this behavior.\n",
      "\u001b[2m\u001b[36m(launch_and_evaluate pid=1782526)\u001b[0m   _warn_prf(average, modifier, msg_start, len(result))\n"
     ]
    },
    {
     "name": "stdout",
     "output_type": "stream",
     "text": [
      "\u001b[2m\u001b[36m(launch_and_evaluate pid=1782526)\u001b[0m Accuracy 0.098\n",
      "\u001b[2m\u001b[36m(launch_and_evaluate pid=1782585)\u001b[0m Accuracy 0.11\n"
     ]
    },
    {
     "name": "stderr",
     "output_type": "stream",
     "text": [
      "\u001b[2m\u001b[36m(launch_and_evaluate pid=1782585)\u001b[0m /home/dongha/anaconda3/envs/fl/lib/python3.10/site-packages/sklearn/metrics/_classification.py:1344: UndefinedMetricWarning: Recall is ill-defined and being set to 0.0 in labels with no true samples. Use `zero_division` parameter to control this behavior.\n",
      "\u001b[2m\u001b[36m(launch_and_evaluate pid=1782585)\u001b[0m   _warn_prf(average, modifier, msg_start, len(result))\n",
      "\u001b[2m\u001b[36m(launch_and_evaluate pid=1782646)\u001b[0m /home/dongha/anaconda3/envs/fl/lib/python3.10/site-packages/sklearn/metrics/_classification.py:1344: UndefinedMetricWarning: Recall is ill-defined and being set to 0.0 in labels with no true samples. Use `zero_division` parameter to control this behavior.\n",
      "\u001b[2m\u001b[36m(launch_and_evaluate pid=1782646)\u001b[0m   _warn_prf(average, modifier, msg_start, len(result))\n"
     ]
    },
    {
     "name": "stdout",
     "output_type": "stream",
     "text": [
      "\u001b[2m\u001b[36m(launch_and_evaluate pid=1782646)\u001b[0m Accuracy 0.094\n",
      "\u001b[2m\u001b[36m(launch_and_evaluate pid=1782709)\u001b[0m Accuracy 0.104\n"
     ]
    },
    {
     "name": "stderr",
     "output_type": "stream",
     "text": [
      "\u001b[2m\u001b[36m(launch_and_evaluate pid=1782709)\u001b[0m /home/dongha/anaconda3/envs/fl/lib/python3.10/site-packages/sklearn/metrics/_classification.py:1344: UndefinedMetricWarning: Recall is ill-defined and being set to 0.0 in labels with no true samples. Use `zero_division` parameter to control this behavior.\n",
      "\u001b[2m\u001b[36m(launch_and_evaluate pid=1782709)\u001b[0m   _warn_prf(average, modifier, msg_start, len(result))\n",
      "DEBUG flwr 2023-05-05 10:57:42,094 | server.py:182 | evaluate_round 1 received 5 results and 0 failures\n",
      "DEBUG flwr 2023-05-05 10:57:42,095 | server.py:218 | fit_round 2: strategy sampled 10 clients (out of 10)\n",
      "\u001b[2m\u001b[36m(launch_and_evaluate pid=1782771)\u001b[0m /home/dongha/anaconda3/envs/fl/lib/python3.10/site-packages/sklearn/metrics/_classification.py:1344: UndefinedMetricWarning: Recall is ill-defined and being set to 0.0 in labels with no true samples. Use `zero_division` parameter to control this behavior.\n",
      "\u001b[2m\u001b[36m(launch_and_evaluate pid=1782771)\u001b[0m   _warn_prf(average, modifier, msg_start, len(result))\n"
     ]
    },
    {
     "name": "stdout",
     "output_type": "stream",
     "text": [
      "\u001b[2m\u001b[36m(launch_and_evaluate pid=1782771)\u001b[0m Accuracy 0.104\n"
     ]
    },
    {
     "name": "stderr",
     "output_type": "stream",
     "text": [
      "DEBUG flwr 2023-05-05 10:58:27,924 | server.py:232 | fit_round 2 received 10 results and 0 failures\n",
      "/home/dongha/anaconda3/envs/fl/lib/python3.10/site-packages/sklearn/metrics/_classification.py:1344: UndefinedMetricWarning: Recall is ill-defined and being set to 0.0 in labels with no true samples. Use `zero_division` parameter to control this behavior.\n",
      "  _warn_prf(average, modifier, msg_start, len(result))\n",
      "INFO flwr 2023-05-05 10:58:30,614 | server.py:119 | fit progress: (2, 0.07414841747283936, {'loss': 0.07414841747283936, 'accuracy': 0.1, 'recall': 0.01, 'precision': 0.1, 'f1_score': 0.01818181818181818}, 108.67746177897789)\n",
      "DEBUG flwr 2023-05-05 10:58:30,615 | server.py:168 | evaluate_round 2: strategy sampled 5 clients (out of 10)\n"
     ]
    },
    {
     "name": "stdout",
     "output_type": "stream",
     "text": [
      "Server-side evaluation loss 0.07414841747283936 / accuracy 0.1\n",
      "\u001b[2m\u001b[36m(launch_and_evaluate pid=1783434)\u001b[0m Accuracy 0.11\n"
     ]
    },
    {
     "name": "stderr",
     "output_type": "stream",
     "text": [
      "\u001b[2m\u001b[36m(launch_and_evaluate pid=1783434)\u001b[0m /home/dongha/anaconda3/envs/fl/lib/python3.10/site-packages/sklearn/metrics/_classification.py:1344: UndefinedMetricWarning: Recall is ill-defined and being set to 0.0 in labels with no true samples. Use `zero_division` parameter to control this behavior.\n",
      "\u001b[2m\u001b[36m(launch_and_evaluate pid=1783434)\u001b[0m   _warn_prf(average, modifier, msg_start, len(result))\n"
     ]
    },
    {
     "name": "stdout",
     "output_type": "stream",
     "text": [
      "\u001b[2m\u001b[36m(launch_and_evaluate pid=1783489)\u001b[0m Accuracy 0.11\n"
     ]
    },
    {
     "name": "stderr",
     "output_type": "stream",
     "text": [
      "\u001b[2m\u001b[36m(launch_and_evaluate pid=1783489)\u001b[0m /home/dongha/anaconda3/envs/fl/lib/python3.10/site-packages/sklearn/metrics/_classification.py:1344: UndefinedMetricWarning: Recall is ill-defined and being set to 0.0 in labels with no true samples. Use `zero_division` parameter to control this behavior.\n",
      "\u001b[2m\u001b[36m(launch_and_evaluate pid=1783489)\u001b[0m   _warn_prf(average, modifier, msg_start, len(result))\n",
      "\u001b[2m\u001b[36m(launch_and_evaluate pid=1783547)\u001b[0m /home/dongha/anaconda3/envs/fl/lib/python3.10/site-packages/sklearn/metrics/_classification.py:1344: UndefinedMetricWarning: Recall is ill-defined and being set to 0.0 in labels with no true samples. Use `zero_division` parameter to control this behavior.\n",
      "\u001b[2m\u001b[36m(launch_and_evaluate pid=1783547)\u001b[0m   _warn_prf(average, modifier, msg_start, len(result))\n"
     ]
    },
    {
     "name": "stdout",
     "output_type": "stream",
     "text": [
      "\u001b[2m\u001b[36m(launch_and_evaluate pid=1783547)\u001b[0m Accuracy 0.106\n"
     ]
    },
    {
     "name": "stderr",
     "output_type": "stream",
     "text": [
      "\u001b[2m\u001b[36m(launch_and_evaluate pid=1783605)\u001b[0m /home/dongha/anaconda3/envs/fl/lib/python3.10/site-packages/sklearn/metrics/_classification.py:1344: UndefinedMetricWarning: Recall is ill-defined and being set to 0.0 in labels with no true samples. Use `zero_division` parameter to control this behavior.\n",
      "\u001b[2m\u001b[36m(launch_and_evaluate pid=1783605)\u001b[0m   _warn_prf(average, modifier, msg_start, len(result))\n"
     ]
    },
    {
     "name": "stdout",
     "output_type": "stream",
     "text": [
      "\u001b[2m\u001b[36m(launch_and_evaluate pid=1783605)\u001b[0m Accuracy 0.104\n"
     ]
    },
    {
     "name": "stderr",
     "output_type": "stream",
     "text": [
      "DEBUG flwr 2023-05-05 10:58:42,666 | server.py:182 | evaluate_round 2 received 5 results and 0 failures\n",
      "INFO flwr 2023-05-05 10:58:42,666 | server.py:147 | FL finished in 120.72940043103881\n",
      "INFO flwr 2023-05-05 10:58:42,667 | app.py:218 | app_fit: losses_distributed [(1, 0.07389889707565307), (2, 0.0755520218849182)]\n",
      "INFO flwr 2023-05-05 10:58:42,667 | app.py:219 | app_fit: metrics_distributed_fit {}\n",
      "INFO flwr 2023-05-05 10:58:42,667 | app.py:220 | app_fit: metrics_distributed {'accuracy': [(1, 0.10200000000000001), (2, 0.11279999999999998)], 'recall': [(1, 0.010199999999999997), (2, 0.011279999999999998)], 'precision': [(1, 0.1), (2, 0.1)], 'f1_score': [(1, 0.018507252054586636), (2, 0.02025630998296564)]}\n",
      "INFO flwr 2023-05-05 10:58:42,667 | app.py:221 | app_fit: losses_centralized [(0, 0.07207401340007782), (1, 0.07250363295078277), (2, 0.07414841747283936)]\n",
      "INFO flwr 2023-05-05 10:58:42,668 | app.py:222 | app_fit: metrics_centralized {'loss': [(0, 0.07207401340007782), (1, 0.07250363295078277), (2, 0.07414841747283936)], 'accuracy': [(0, 0.1), (1, 0.1), (2, 0.1)], 'recall': [(0, 0.01), (1, 0.01), (2, 0.01)], 'precision': [(0, 0.1), (1, 0.1), (2, 0.1)], 'f1_score': [(0, 0.01818181818181818), (1, 0.01818181818181818), (2, 0.01818181818181818)]}\n"
     ]
    },
    {
     "name": "stderr",
     "output_type": "stream",
     "text": [
      "\u001b[2m\u001b[36m(launch_and_evaluate pid=1783663)\u001b[0m /home/dongha/anaconda3/envs/fl/lib/python3.10/site-packages/sklearn/metrics/_classification.py:1344: UndefinedMetricWarning: Recall is ill-defined and being set to 0.0 in labels with no true samples. Use `zero_division` parameter to control this behavior.\n",
      "\u001b[2m\u001b[36m(launch_and_evaluate pid=1783663)\u001b[0m   _warn_prf(average, modifier, msg_start, len(result))\n"
     ]
    },
    {
     "name": "stdout",
     "output_type": "stream",
     "text": [
      "\u001b[2m\u001b[36m(launch_and_evaluate pid=1783663)\u001b[0m Accuracy 0.134\n"
     ]
    }
   ],
   "source": [
    "df_final = pd.DataFrame()\n",
    "\n",
    "for key, value in models.items():\n",
    "    if key == 'Googlenet':\n",
    "        net = torchvision.models.googlenet(num_classes=10, aux_logits=False).to(DEVICE)\n",
    "    else:    \n",
    "        net = getattr(torchvision.models, value)(num_classes=10).to(DEVICE)\n",
    "    ######## Centralized #########\n",
    "    print(\"Centralized: \" + key)\n",
    "    trained_path = \"../dataset/trained_centralized_\"+key+\".pkl\"\n",
    "    df_centralized = pd.DataFrame()\n",
    "    for epoch in range(EPOCH):\n",
    "        df_temp = pd.DataFrame()\n",
    "        train(net, full_split_trainloader, 1)\n",
    "        loss, c_metrics = test(net, full_testloader) # Federated aggregation model tests full_testloader\n",
    "        print(f\"{key} Epoch {epoch+1}: validation loss {loss}, accuracy {c_metrics['accuracy']}\")\n",
    "        \n",
    "        df_temp['round'] = epoch+1,\n",
    "        df_temp['Centralized'] = 'Centralized',\n",
    "        df_temp['model'] = key\n",
    "        for metric in c_metrics:\n",
    "            df_temp[f\"c_{metric}\"] = c_metrics[metric]\n",
    "        df_centralized = pd.concat([df_centralized, df_temp], axis=0)\n",
    "        df_final = pd.concat([df_final, df_temp], axis=0)\n",
    "        df_centralized.to_csv('../result/result_c_'+key+'.csv', index=False)\n",
    "    torch.save(net.state_dict(), trained_path)\n",
    "\n",
    "    ######## Federated ######## \n",
    "    # Reset net\n",
    "    if key == 'Googlenet':\n",
    "        net = torchvision.models.googlenet(num_classes=10, aux_logits=False).to(DEVICE)\n",
    "    else:    \n",
    "        net = getattr(torchvision.models, value)(num_classes=10).to(DEVICE)\n",
    "    print(\"Federated: \" + key)\n",
    "    fedavg = fl.server.strategy.FedAvg(\n",
    "        fraction_fit=1.0,\n",
    "        fraction_evaluate=0.5,\n",
    "        min_fit_clients=10,\n",
    "        min_evaluate_clients=5,\n",
    "        min_available_clients=10,\n",
    "        evaluate_metrics_aggregation_fn=weighted_average,   # aggregate evaluation of local model\n",
    "        evaluate_fn=evaluate,   # evaluate global model\n",
    "    )  \n",
    "    hist = fl.simulation.start_simulation(\n",
    "        client_fn=client_fn,\n",
    "        num_clients=NUM_CLIENTS,\n",
    "        config=fl.server.ServerConfig(num_rounds=EPOCH),\n",
    "        strategy=fedavg,\n",
    "        client_resources=client_resources,\n",
    "    ) \n",
    "\n",
    "    df_federated = pd.DataFrame()\n",
    "    df_federated['round'] = [i for i in range(1, EPOCH + 1)]\n",
    "    df_federated['Centralized'] = \"Federated\" \n",
    "    df_federated['model'] = key\n",
    "\n",
    "    # centralized metrics\n",
    "    metrics_cen = list(hist.metrics_centralized.keys())\n",
    "    metrics_dis = list(hist.metrics_distributed.keys())\n",
    "\n",
    "    for metric in metrics_cen:\n",
    "        df_federated[f\"c_{metric}\"] = [h[1] for h in hist.metrics_centralized[metric][1:]]\n",
    "    for metric in metrics_dis:\n",
    "        df_federated[f\"d_{metric}\"] = [h[1] for h in hist.metrics_distributed[metric]]\n",
    "    \n",
    "    df_federated.to_csv('../result/result_f_'+key+'.csv', index=False)\n",
    "\n",
    "    df_final = pd.concat([df_final, df_federated], axis=0)\n",
    "\n",
    "    df_final.to_csv('../result/result_total.csv', index=False)"
   ]
  }
 ],
 "metadata": {
  "kernelspec": {
   "display_name": "fl",
   "language": "python",
   "name": "python3"
  },
  "language_info": {
   "codemirror_mode": {
    "name": "ipython",
    "version": 3
   },
   "file_extension": ".py",
   "mimetype": "text/x-python",
   "name": "python",
   "nbconvert_exporter": "python",
   "pygments_lexer": "ipython3",
   "version": "3.10.11"
  },
  "orig_nbformat": 4
 },
 "nbformat": 4,
 "nbformat_minor": 2
}
