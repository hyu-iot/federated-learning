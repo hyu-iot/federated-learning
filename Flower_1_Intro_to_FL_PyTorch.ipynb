{
  "cells": [
    {
      "cell_type": "markdown",
      "metadata": {
        "id": "aTRlhdG00SWd"
      },
      "source": [
        "# An Introduction to Federated Learning\n",
        "\n",
        "Welcome to the Flower federated learning tutorial!\n",
        "\n",
        "In this notebook, we'll build a federated learning system using Flower and PyTorch. In part 1, we use PyTorch for the model training pipeline and data loading. In part 2, we continue to federate the PyTorch-based pipeline using Flower.\n",
        "\n",
        "> [Star Flower on GitHub](https://github.com/adap/flower) ⭐️ and join the Flower community on Slack to connect, ask questions, and get help: [Join Slack](https://flower.dev/join-slack) 🌼 We'd love to hear from you in the `#introductions` channel! And if anything is unclear, head over to the `#questions` channel.\n",
        "\n",
        "Let's get stated!"
      ]
    },
    {
      "cell_type": "markdown",
      "metadata": {
        "id": "iiEJDn3c0SWg"
      },
      "source": [
        "## Step 0: Preparation\n",
        "\n",
        "Before we begin with any actual code, let's make sure that we have everything we need."
      ]
    },
    {
      "cell_type": "markdown",
      "metadata": {
        "id": "-SW_D28p0SWh"
      },
      "source": [
        "### Installing dependencies\n",
        "\n",
        "Next, we install the necessary packages for PyTorch (`torch` and `torchvision`) and Flower (`flwr`):"
      ]
    },
    {
      "cell_type": "markdown",
      "metadata": {
        "id": "YMqyEOBU0SWi"
      },
      "source": [
        "Now that we have all dependencies installed, we can import everything we need for this tutorial:"
      ]
    },
    {
      "cell_type": "code",
      "execution_count": 1,
      "metadata": {
        "id": "QBVWHlGq0SWi"
      },
      "outputs": [
        {
          "name": "stdout",
          "output_type": "stream",
          "text": [
            "Training on cuda using PyTorch 2.0.0 and Flower 1.4.0\n"
          ]
        }
      ],
      "source": [
        "from collections import OrderedDict\n",
        "from typing import List, Tuple\n",
        "\n",
        "import matplotlib.pyplot as plt\n",
        "import numpy as np\n",
        "import torch\n",
        "import torch.nn as nn\n",
        "import torch.nn.functional as F\n",
        "import torchvision\n",
        "import torchvision.transforms as transforms\n",
        "from torch.utils.data import DataLoader, random_split\n",
        "from torchvision.datasets import CIFAR10\n",
        "\n",
        "import flwr as fl\n",
        "from flwr.common import Metrics\n",
        "import flwr.common\n",
        "\n",
        "DEVICE = torch.device(\"cuda\")  # Try \"cuda\" to train on GPU\n",
        "print(\n",
        "    f\"Training on {DEVICE} using PyTorch {torch.__version__} and Flower {fl.__version__}\"\n",
        ")"
      ]
    },
    {
      "cell_type": "markdown",
      "metadata": {
        "id": "Kv8hP7450SWi"
      },
      "source": [
        "It is possible to switch to a runtime that has GPU acceleration enabled (on Google Colab: `Runtime > Change runtime type > Hardware acclerator: GPU > Save`). Note, however, that Google Colab is not always able to offer GPU acceleration. If you see an error related to GPU availability in one of the following sections, consider switching back to CPU-based execution by setting `DEVICE = torch.device(\"cpu\")`. If the runtime has GPU acceleration enabled, you should see the output `Training on cuda`, otherwise it'll say `Training on cpu`."
      ]
    },
    {
      "cell_type": "markdown",
      "metadata": {
        "id": "L2Wyrha40SWi"
      },
      "source": [
        "\n",
        "### Loading the data\n",
        "\n",
        "Federated learning can be applied to many different types of tasks across different domains. In this tutorial, we introduce federated learning by training a simple convolutional neural network (CNN) on the popular CIFAR-10 dataset. CIFAR-10 can be used to train image classifiers that distinguish between images from ten different classes:"
      ]
    },
    {
      "cell_type": "code",
      "execution_count": 2,
      "metadata": {
        "id": "Mz-KR5qQ0SWj"
      },
      "outputs": [],
      "source": [
        "CLASSES = (\n",
        "    \"plane\",\n",
        "    \"car\",\n",
        "    \"bird\",\n",
        "    \"cat\",\n",
        "    \"deer\",\n",
        "    \"dog\",\n",
        "    \"frog\",\n",
        "    \"horse\",\n",
        "    \"ship\",\n",
        "    \"truck\",\n",
        ")"
      ]
    },
    {
      "cell_type": "markdown",
      "metadata": {
        "id": "8KJMgcrS0SWj"
      },
      "source": [
        "We simulate having multiple datasets from multiple organizations (also called the \"cross-silo\" setting in federated learning) by splitting the original CIFAR-10 dataset into multiple partitions. Each partition will represent the data from a single organization. We're doing this purely for experimentation purposes, in the real world there's no need for data splitting because each organization already has their own data (so the data is naturally partitioned).\n",
        "\n",
        "Each organization will act as a client in the federated learning system. So having ten organizations participate in a federation means having ten clients connected to the federated learning server:\n"
      ]
    },
    {
      "cell_type": "code",
      "execution_count": 3,
      "metadata": {
        "id": "t3sdi09A0SWj"
      },
      "outputs": [],
      "source": [
        "NUM_CLIENTS = 10"
      ]
    },
    {
      "cell_type": "markdown",
      "metadata": {
        "id": "JoU-dXJv0SWk"
      },
      "source": [
        "\n",
        "Let's now load the CIFAR-10 training and test set, partition them into ten smaller datasets (each split into training and validation set), and wrap the resulting partitions by creating a PyTorch `DataLoader` for each of them:"
      ]
    },
    {
      "cell_type": "code",
      "execution_count": 4,
      "metadata": {},
      "outputs": [],
      "source": [
        "from torch.utils.data import Dataset\n",
        "class custom_subset(Dataset):\n",
        "    r\"\"\"\n",
        "    Subset of a dataset at specified indices.\n",
        "\n",
        "    Arguments:\n",
        "        dataset (Dataset): The whole Dataset\n",
        "        indices (sequence): Indices in the whole set selected for subset\n",
        "        labels(sequence) : targets as required for the indices. will be the same length as indices\n",
        "    \"\"\"\n",
        "    def __init__(self, dataset, indices, labels):\n",
        "        self.dataset = torch.utils.data.Subset(dataset, indices)\n",
        "        self.targets = labels\n",
        "    def __getitem__(self, idx):\n",
        "        image = self.dataset[idx][0]\n",
        "        target = self.targets[idx]\n",
        "        return (image, target)\n",
        "\n",
        "    def __len__(self):\n",
        "        return len(self.targets)"
      ]
    },
    {
      "cell_type": "code",
      "execution_count": 5,
      "metadata": {
        "id": "qFReNNTA0SWk"
      },
      "outputs": [
        {
          "name": "stdout",
          "output_type": "stream",
          "text": [
            "Files already downloaded and verified\n",
            "Files already downloaded and verified\n",
            "ds_train 0\n",
            "0 : 474\n",
            "1 : 443\n",
            "2 : 427\n",
            "3 : 411\n",
            "4 : 444\n",
            "5 : 447\n",
            "6 : 475\n",
            "7 : 467\n",
            "8 : 463\n",
            "9 : 449\n",
            "ds_train 1\n",
            "0 : 438\n",
            "1 : 480\n",
            "2 : 450\n",
            "3 : 451\n",
            "4 : 462\n",
            "5 : 431\n",
            "6 : 453\n",
            "7 : 455\n",
            "8 : 420\n",
            "9 : 460\n",
            "ds_train 2\n",
            "0 : 474\n",
            "1 : 453\n",
            "2 : 444\n",
            "3 : 460\n",
            "4 : 464\n",
            "5 : 392\n",
            "6 : 470\n",
            "7 : 438\n",
            "8 : 458\n",
            "9 : 447\n",
            "ds_train 3\n",
            "0 : 474\n",
            "1 : 423\n",
            "2 : 433\n",
            "3 : 449\n",
            "4 : 482\n",
            "5 : 463\n",
            "6 : 439\n",
            "7 : 456\n",
            "8 : 447\n",
            "9 : 434\n",
            "ds_train 4\n",
            "0 : 444\n",
            "1 : 467\n",
            "2 : 455\n",
            "3 : 447\n",
            "4 : 448\n",
            "5 : 448\n",
            "6 : 421\n",
            "7 : 444\n",
            "8 : 446\n",
            "9 : 480\n",
            "ds_train 5\n",
            "0 : 446\n",
            "1 : 439\n",
            "2 : 469\n",
            "3 : 469\n",
            "4 : 441\n",
            "5 : 480\n",
            "6 : 425\n",
            "7 : 418\n",
            "8 : 454\n",
            "9 : 459\n",
            "ds_train 6\n",
            "0 : 441\n",
            "1 : 456\n",
            "2 : 451\n",
            "3 : 453\n",
            "4 : 473\n",
            "5 : 458\n",
            "6 : 458\n",
            "7 : 451\n",
            "8 : 445\n",
            "9 : 414\n",
            "ds_train 7\n",
            "0 : 418\n",
            "1 : 458\n",
            "2 : 477\n",
            "3 : 457\n",
            "4 : 438\n",
            "5 : 436\n",
            "6 : 437\n",
            "7 : 437\n",
            "8 : 464\n",
            "9 : 478\n",
            "ds_train 8\n",
            "0 : 444\n",
            "1 : 448\n",
            "2 : 427\n",
            "3 : 441\n",
            "4 : 445\n",
            "5 : 462\n",
            "6 : 454\n",
            "7 : 483\n",
            "8 : 455\n",
            "9 : 441\n",
            "ds_train 9\n",
            "0 : 432\n",
            "1 : 463\n",
            "2 : 481\n",
            "3 : 422\n",
            "4 : 422\n",
            "5 : 462\n",
            "6 : 464\n",
            "7 : 447\n",
            "8 : 463\n",
            "9 : 444\n"
          ]
        }
      ],
      "source": [
        "BATCH_SIZE = 32\n",
        "\n",
        "from collections import Counter\n",
        "\n",
        "def load_datasets():\n",
        "    # Download and transform CIFAR-10 (train and test)\n",
        "    transform = transforms.Compose(\n",
        "        [transforms.ToTensor(), transforms.Normalize((0.5, 0.5, 0.5), (0.5, 0.5, 0.5))]\n",
        "    )\n",
        "    trainset = CIFAR10(\"./dataset\", train=True, download=True, transform=transform)\n",
        "    testset = CIFAR10(\"./dataset\", train=False, download=True, transform=transform)\n",
        "\n",
        "    # Split training set into 10 partitions to simulate the individual dataset\n",
        "    partition_size = len(trainset) // NUM_CLIENTS\n",
        "    lengths = [partition_size] * NUM_CLIENTS\n",
        "    datasets = random_split(trainset, lengths, torch.Generator().manual_seed(42))\n",
        "\n",
        "    # Split each partition into train/val and create DataLoader\n",
        "    trainloaders = []\n",
        "    valloaders = []\n",
        "    for idx, ds in enumerate(datasets):\n",
        "        len_val = len(ds) // 10  # 10 % validation set\n",
        "        len_train = len(ds) - len_val\n",
        "        lengths = [len_train, len_val]\n",
        "        ds_train, ds_val = random_split(ds, lengths, torch.Generator().manual_seed(42))\n",
        "        # Always splits in the same way.\n",
        "\n",
        "        # print(dict(Counter(ds_train.targets)))\n",
        "        # custom_subset(ds_train)\n",
        "        arr = []\n",
        "        print(\"ds_train\", idx)\n",
        "        for a in ds_train:\n",
        "            arr.append(a[1])\n",
        "        for i in range(10):\n",
        "            print(i, \":\", arr.count(i))\n",
        "        # Data is not perfectly distributed\n",
        "\n",
        "\n",
        "        trainloaders.append(DataLoader(ds_train, batch_size=BATCH_SIZE, shuffle=True))\n",
        "        valloaders.append(DataLoader(ds_val, batch_size=BATCH_SIZE))\n",
        "    testloader = DataLoader(testset, batch_size=BATCH_SIZE)\n",
        "    return trainloaders, valloaders, testloader\n",
        "\n",
        "\n",
        "trainloaders, valloaders, testloader = load_datasets()"
      ]
    },
    {
      "cell_type": "markdown",
      "metadata": {
        "id": "EnLdugua0SWl"
      },
      "source": [
        "We now have a list of ten training sets and ten validation sets (`trainloaders` and `valloaders`) representing the data of ten different organizations. Each `trainloader`/`valloader` pair contains 4500 training examples and 500 validation examples. There's also a single `testloader` (we did not split the test set). Again, this is only necessary for building research or educational systems, actual federated learning systems have their data naturally distributed across multiple partitions.\n",
        "\n",
        "Let's take a look at the first batch of images and labels in the first training set (i.e., `trainloaders[0]`) before we move on:"
      ]
    },
    {
      "cell_type": "code",
      "execution_count": 6,
      "metadata": {
        "id": "mBYYuom40SWl"
      },
      "outputs": [
        {
          "data": {
            "image/png": "[encoded data removed]",
            "text/plain": [
              "<Figure size 1200x600 with 32 Axes>"
            ]
          },
          "metadata": {},
          "output_type": "display_data"
        }
      ],
      "source": [
        "images, labels = next(iter(trainloaders[0]))\n",
        "\n",
        "# Reshape and convert images to a NumPy array\n",
        "# matplotlib requires images with the shape (height, width, 3)\n",
        "images = images.permute(0, 2, 3, 1).numpy()\n",
        "# Denormalize\n",
        "images = images / 2 + 0.5\n",
        "\n",
        "# Create a figure and a grid of subplots\n",
        "fig, axs = plt.subplots(4, 8, figsize=(12, 6))\n",
        "\n",
        "# Loop over the images and plot them\n",
        "for i, ax in enumerate(axs.flat):\n",
        "    ax.imshow(images[i])\n",
        "    ax.set_title(CLASSES[labels[i]])\n",
        "    ax.axis(\"off\")\n",
        "\n",
        "# Show the plot\n",
        "fig.tight_layout()\n",
        "plt.show()"
      ]
    },
    {
      "cell_type": "markdown",
      "metadata": {
        "id": "ChbBln1W0SWl"
      },
      "source": [
        "The output above shows a random batch of images from the first `trainloader` in our list of ten `trainloaders`. It also prints the labels associated with each image (i.e., one of the ten possible labels we've seen above). If you run the cell again, you should see another batch of images."
      ]
    },
    {
      "cell_type": "markdown",
      "metadata": {
        "id": "6i-cQNfl0SWl"
      },
      "source": [
        "## Step 1: Centralized Training with PyTorch\n",
        "\n"
      ]
    },
    {
      "cell_type": "markdown",
      "metadata": {
        "id": "2-kKX1UU0SWl"
      },
      "source": [
        "Next, we're going to use PyTorch to define a simple convolutional neural network. This introduction assumes basic familiarity with PyTorch, so it doesn't cover the PyTorch-related aspects in full detail. If you want to dive deeper into PyTorch, we recommend [*DEEP LEARNING WITH PYTORCH: A 60 MINUTE BLITZ*](https://pytorch.org/tutorials/beginner/deep_learning_60min_blitz.html).\n"
      ]
    },
    {
      "cell_type": "markdown",
      "metadata": {
        "id": "GEd8GzOV0SWm"
      },
      "source": [
        "### Defining the model\n",
        "\n",
        "We use the simple CNN described in the [PyTorch tutorial](https://pytorch.org/tutorials/beginner/blitz/cifar10_tutorial.html#define-a-convolutional-neural-network):"
      ]
    },
    {
      "cell_type": "code",
      "execution_count": 7,
      "metadata": {
        "id": "EpjBnCBM0SWm"
      },
      "outputs": [],
      "source": [
        "class Net(nn.Module):\n",
        "    def __init__(self) -> None:\n",
        "        super(Net, self).__init__()\n",
        "        self.conv1 = nn.Conv2d(3, 6, 5)\n",
        "        self.pool = nn.MaxPool2d(2, 2)\n",
        "        self.conv2 = nn.Conv2d(6, 16, 5)\n",
        "        self.fc1 = nn.Linear(16 * 5 * 5, 120)\n",
        "        self.fc2 = nn.Linear(120, 84)\n",
        "        self.fc3 = nn.Linear(84, 10)\n",
        "\n",
        "    def forward(self, x: torch.Tensor) -> torch.Tensor:\n",
        "        x = self.pool(F.relu(self.conv1(x)))\n",
        "        x = self.pool(F.relu(self.conv2(x)))\n",
        "        x = x.view(-1, 16 * 5 * 5)\n",
        "        x = F.relu(self.fc1(x))\n",
        "        x = F.relu(self.fc2(x))\n",
        "        x = self.fc3(x)\n",
        "        return x"
      ]
    },
    {
      "cell_type": "markdown",
      "metadata": {
        "id": "RbNXxhxM0SWm"
      },
      "source": [
        "Let's continue with the usual training and test functions:"
      ]
    },
    {
      "cell_type": "code",
      "execution_count": 8,
      "metadata": {
        "id": "LDIO-MaF0SWm"
      },
      "outputs": [],
      "source": [
        "def train(net, trainloader, epochs: int, verbose=False):\n",
        "    \"\"\"Train the network on the training set.\"\"\"\n",
        "    criterion = torch.nn.CrossEntropyLoss()\n",
        "    optimizer = torch.optim.Adam(net.parameters())\n",
        "    net.train()\n",
        "    for epoch in range(epochs):\n",
        "        correct, total, epoch_loss = 0, 0, 0.0\n",
        "        for images, labels in trainloader:\n",
        "            images, labels = images.to(DEVICE), labels.to(DEVICE)\n",
        "            optimizer.zero_grad()\n",
        "            outputs = net(images)\n",
        "            loss = criterion(outputs, labels)\n",
        "            loss.backward()\n",
        "            optimizer.step()\n",
        "            # Metrics\n",
        "            epoch_loss += loss\n",
        "            total += labels.size(0)\n",
        "            correct += (torch.max(outputs.data, 1)[1] == labels).sum().item()\n",
        "        epoch_loss /= len(trainloader.dataset)\n",
        "        epoch_acc = correct / total\n",
        "        if verbose:\n",
        "            print(f\"Epoch {epoch+1}: train loss {epoch_loss}, accuracy {epoch_acc}\")\n",
        "\n",
        "\n",
        "def test(net, testloader):\n",
        "    \"\"\"Evaluate the network on the entire test set.\"\"\"\n",
        "    criterion = torch.nn.CrossEntropyLoss()\n",
        "    correct, total, loss = 0, 0, 0.0\n",
        "    net.eval()\n",
        "    with torch.no_grad():\n",
        "        for images, labels in testloader:\n",
        "            images, labels = images.to(DEVICE), labels.to(DEVICE)\n",
        "            outputs = net(images)\n",
        "            loss += criterion(outputs, labels).item()\n",
        "            _, predicted = torch.max(outputs.data, 1)\n",
        "            total += labels.size(0)\n",
        "            correct += (predicted == labels).sum().item()\n",
        "    loss /= len(testloader.dataset)\n",
        "    accuracy = correct / total\n",
        "    return loss, accuracy"
      ]
    },
    {
      "cell_type": "markdown",
      "metadata": {
        "id": "k1uq_wKI0SWn"
      },
      "source": [
        "### Training the model\n",
        "\n",
        "We now have all the basic building blocks we need: a dataset, a model, a training function, and a test function. Let's put them together to train the model on the dataset of one of our organizations (`trainloaders[0]`). This simulates the reality of most machine learning projects today: each organization has their own data and trains models only on this internal data: "
      ]
    },
    {
      "cell_type": "code",
      "execution_count": 9,
      "metadata": {},
      "outputs": [],
      "source": [
        "EPOCH = 50"
      ]
    },
    {
      "cell_type": "code",
      "execution_count": 10,
      "metadata": {
        "id": "S4Y7-U5T0SWn"
      },
      "outputs": [
        {
          "name": "stdout",
          "output_type": "stream",
          "text": [
            "Final test set performance:\n",
            "\tloss 0.1795283366918564\n",
            "\taccuracy 0.4507\n"
          ]
        }
      ],
      "source": [
        "import os\n",
        "# 여기서는 10개로 나눈 것 중, 하나만 train 함.\n",
        "\n",
        "trainloader = trainloaders[0]\n",
        "valloader = valloaders[0]\n",
        "net = Net().to(DEVICE)\n",
        "trained_path = \"./dataset/trained_centralized.pkl\"\n",
        "\n",
        "\n",
        "if not (os.path.isfile(trained_path)):\n",
        "    for epoch in range(EPOCH):\n",
        "        train(net, trainloader, 1)\n",
        "        loss, accuracy = test(net, valloader)\n",
        "        print(f\"Epoch {epoch+1}: validation loss {loss}, accuracy {accuracy}\")\n",
        "    torch.save(net.state_dict(), trained_path)\n",
        "else :\n",
        "    net.load_state_dict(torch.load(trained_path))\n",
        "loss, accuracy = test(net, testloader)\n",
        "print(f\"Final test set performance:\\n\\tloss {loss}\\n\\taccuracy {accuracy}\")"
      ]
    },
    {
      "cell_type": "markdown",
      "metadata": {
        "id": "nwSeJOS00SWn"
      },
      "source": [
        "Training the simple CNN on our CIFAR-10 split for 5 epochs should result in a test set accuracy of about 41%, which is not good, but at the same time, it doesn't really matter for the purposes of this tutorial. The intent was just to show a simplistic centralized training pipeline that sets the stage for what comes next - federated learning!"
      ]
    },
    {
      "cell_type": "markdown",
      "metadata": {
        "id": "GDFQEIzY0SWn"
      },
      "source": [
        "## Step 2: Federated Learning with Flower\n",
        "\n",
        "Step 1 demonstrated a simple centralized training pipeline. All data was in one place (i.e., a single `trainloader` and a single `valloader`). Next, we'll simulate a situation where we have multiple datasets in multiple organizations and where we train a model over these organizations using federated learning."
      ]
    },
    {
      "cell_type": "markdown",
      "metadata": {
        "id": "lvbvfYYI0SWo"
      },
      "source": [
        "### Updating model parameters\n",
        "\n",
        "In federated learning, the server sends the global model parameters to the client, and the client updates the local model with the parameters received from the server. It then trains the model on the local data (which changes the model parameters locally) and sends the updated/changed model parameters back to the server (or, alternatively, it sends just the gradients back to the server, not the full model parameters).\n",
        "\n",
        "We need two helper functions to update the local model with parameters received from the server and to get the updated model parameters from the local model: `set_parameters` and `get_parameters`. The following two functions do just that for the PyTorch model above.\n",
        "\n",
        "The details of how this works are not really important here (feel free to consult the PyTorch documentation if you want to learn more). In essence, we use `state_dict` to access PyTorch model parameter tensors. The parameter tensors are then converted to/from a list of NumPy ndarray's (which Flower knows how to serialize/deserialize):"
      ]
    },
    {
      "cell_type": "code",
      "execution_count": 11,
      "metadata": {
        "id": "l4N6xhRp0SWo"
      },
      "outputs": [],
      "source": [
        "def get_parameters(net) -> List[np.ndarray]:\n",
        "    return [val.cpu().numpy() for _, val in net.state_dict().items()]\n",
        "\n",
        "\n",
        "def set_parameters(net, parameters: List[np.ndarray]):\n",
        "    params_dict = zip(net.state_dict().keys(), parameters)\n",
        "    state_dict = OrderedDict({k: torch.Tensor(v) for k, v in params_dict})\n",
        "    net.load_state_dict(state_dict, strict=True)"
      ]
    },
    {
      "cell_type": "markdown",
      "metadata": {
        "id": "2EnhPR0P0SWo"
      },
      "source": [
        "### Implementing a Flower client\n",
        "\n",
        "With that out of the way, let's move on to the interesting part. Federated learning systems consist of a server and multiple clients. In Flower, we create clients by implementing subclasses of `flwr.client.Client` or `flwr.client.NumPyClient`. We use `NumPyClient` in this tutorial because it is easier to implement and requires us to write less boilerplate.\n",
        "\n",
        "To implement the Flower client, we create a subclass of `flwr.client.NumPyClient` and implement the three methods `get_parameters`, `fit`, and `evaluate`:\n",
        "\n",
        "* `get_parameters`: Return the current local model parameters\n",
        "* `fit`: Receive model parameters from the server, train the model parameters on the local data, and return the (updated) model parameters to the server\n",
        "* `evaluate`: Receive model parameters from the server, evaluate the model parameters on the local data, and return the evaluation result to the server\n",
        "\n",
        "We mentioned that our clients will use the previously defined PyTorch components for model training and evaluation. Let's see a simple Flower client implementation that brings everything together:"
      ]
    },
    {
      "cell_type": "code",
      "execution_count": 12,
      "metadata": {
        "id": "_GvJEqsZ0SWo"
      },
      "outputs": [],
      "source": [
        "class FlowerClient(fl.client.NumPyClient):\n",
        "    def __init__(self, net, trainloader, valloader):\n",
        "        self.net = net\n",
        "        self.trainloader = trainloader\n",
        "        self.valloader = valloader\n",
        "\n",
        "    def get_parameters(self, config):\n",
        "        return get_parameters(self.net)\n",
        "\n",
        "    def fit(self, parameters, config):\n",
        "        set_parameters(self.net, parameters)\n",
        "        train(self.net, self.trainloader, epochs=1)\n",
        "        return get_parameters(self.net), len(self.trainloader), {}\n",
        "\n",
        "    def evaluate(self, parameters, config):\n",
        "        set_parameters(self.net, parameters)\n",
        "        loss, accuracy = test(self.net, self.valloader)\n",
        "        return float(loss), len(self.valloader), {\"accuracy\": float(accuracy)}"
      ]
    },
    {
      "cell_type": "markdown",
      "metadata": {
        "id": "fcg2_vTW0SWo"
      },
      "source": [
        "Our class `FlowerClient` defines how local training/evaluation will be performed and allows Flower to call the local training/evaluation through `fit` and `evaluate`. Each instance of `FlowerClient` represents a *single client* in our federated learning system. Federated learning systems have multiple clients (otherwise, there's not much to federate), so each client will be represented by its own instance of `FlowerClient`. If we have, for example, three clients in our workload, then we'd have three instances of `FlowerClient`. Flower calls `FlowerClient.fit` on the respective instance when the server selects a particular client for training (and `FlowerClient.evaluate` for evaluation).\n",
        "\n",
        "### Using the Virtual Client Engine\n",
        "\n",
        "In this notebook, we want to simulate a federated learning system with 10 clients on a single machine. This means that the server and all 10 clients will live on a single machine and share resources such as CPU, GPU, and memory. Having 10 clients would mean having 10 instances of `FlowerClient` in memory. Doing this on a single machine can quickly exhaust the available memory resources, even if only a subset of these clients participates in a single round of federated learning.\n",
        "\n",
        "In addition to the regular capabilities where server and clients run on multiple machines, Flower, therefore, provides special simulation capabilities that create `FlowerClient` instances only when they are actually necessary for training or evaluation. To enable the Flower framework to create clients when necessary, we need to implement a function called `client_fn` that creates a `FlowerClient` instance on demand. Flower calls `client_fn` whenever it needs an instance of one particular client to call `fit` or `evaluate` (those instances are usually discarded after use, so they should not keep any local state). Clients are identified by a client ID, or short `cid`. The `cid` can be used, for example, to load different local data partitions for different clients, as can be seen below:"
      ]
    },
    {
      "cell_type": "code",
      "execution_count": 13,
      "metadata": {
        "id": "bd2ptaY10SWo"
      },
      "outputs": [],
      "source": [
        "def client_fn(cid: str) -> FlowerClient:\n",
        "    \"\"\"Create a Flower client representing a single organization.\"\"\"\n",
        "\n",
        "    # Load model\n",
        "    net = Net().to(DEVICE)\n",
        "\n",
        "    # Load data (CIFAR-10)\n",
        "    # Note: each client gets a different trainloader/valloader, so each client\n",
        "    # will train and evaluate on their own unique data\n",
        "    trainloader = trainloaders[int(cid)]\n",
        "    valloader = valloaders[int(cid)]\n",
        "\n",
        "    # Create a  single Flower client representing a single organization\n",
        "    return FlowerClient(net, trainloader, valloader)"
      ]
    },
    {
      "cell_type": "markdown",
      "metadata": {
        "id": "3j7BVkl60SWo"
      },
      "source": [
        "### Starting the training\n",
        "\n",
        "We now have the class `FlowerClient` which defines client-side training/evaluation and `client_fn` which allows Flower to create `FlowerClient` instances whenever it needs to call `fit` or `evaluate` on one particular client. The last step is to start the actual simulation using `flwr.simulation.start_simulation`. \n",
        "\n",
        "The function `start_simulation` accepts a number of arguments, amongst them the `client_fn` used to create `FlowerClient` instances, the number of clients to simulate (`num_clients`), the number of federated learning rounds (`num_rounds`), and the strategy. The strategy encapsulates the federated learning approach/algorithm, for example, *Federated Averaging* (FedAvg).\n",
        "\n",
        "Flower has a number of built-in strategies, but we can also use our own strategy implementations to customize nearly all aspects of the federated learning approach. For this example, we use the built-in `FedAvg` implementation and customize it using a few basic parameters. The last step is the actual call to `start_simulation` which - you guessed it - starts the simulation:"
      ]
    },
    {
      "cell_type": "code",
      "execution_count": 14,
      "metadata": {
        "id": "Ok0S14oP0SWp"
      },
      "outputs": [
        {
          "name": "stderr",
          "output_type": "stream",
          "text": [
            "INFO flwr 2023-04-28 06:54:39,195 | app.py:146 | Starting Flower simulation, config: ServerConfig(num_rounds=5, round_timeout=None)\n",
            "2023-04-28 06:54:40,831\tINFO worker.py:1553 -- Started a local Ray instance.\n",
            "INFO flwr 2023-04-28 06:54:41,332 | app.py:180 | Flower VCE: Ray initialized with resources: {'memory': 79768020788.0, 'object_store_memory': 38472008908.0, 'CPU': 16.0, 'GPU': 1.0, 'accelerator_type:RTX': 1.0, 'node:172.17.0.2': 1.0}\n",
            "INFO flwr 2023-04-28 06:54:41,332 | server.py:86 | Initializing global parameters\n",
            "INFO flwr 2023-04-28 06:54:41,332 | server.py:273 | Requesting initial parameters from one random client\n",
            "INFO flwr 2023-04-28 06:54:42,916 | server.py:277 | Received initial parameters from one random client\n",
            "INFO flwr 2023-04-28 06:54:42,916 | server.py:88 | Evaluating initial parameters\n",
            "INFO flwr 2023-04-28 06:54:42,917 | server.py:101 | FL starting\n",
            "DEBUG flwr 2023-04-28 06:54:42,917 | server.py:218 | fit_round 1: strategy sampled 10 clients (out of 10)\n"
          ]
        },
        {
          "name": "stdout",
          "output_type": "stream",
          "text": [
            "\u001b[2m\u001b[1m\u001b[36m(autoscaler +25s)\u001b[0m Tip: use `ray status` to view detailed cluster status. To disable these messages, set RAY_SCHEDULER_EVENTS=0.\n",
            "\u001b[2m\u001b[1m\u001b[33m(autoscaler +25s)\u001b[0m Warning: The following resource request cannot be scheduled right now: {'CPU': 1.0, 'GPU': 1.0}. This is likely due to all cluster resources being claimed by actors. Consider creating fewer actors or adding more nodes to this Ray cluster.\n"
          ]
        },
        {
          "name": "stderr",
          "output_type": "stream",
          "text": [
            "DEBUG flwr 2023-04-28 06:55:03,387 | server.py:232 | fit_round 1 received 10 results and 0 failures\n",
            "WARNING flwr 2023-04-28 06:55:03,399 | fedavg.py:243 | No fit_metrics_aggregation_fn provided\n",
            "DEBUG flwr 2023-04-28 06:55:03,399 | server.py:168 | evaluate_round 1: strategy sampled 5 clients (out of 10)\n",
            "DEBUG flwr 2023-04-28 06:55:11,902 | server.py:182 | evaluate_round 1 received 5 results and 0 failures\n",
            "WARNING flwr 2023-04-28 06:55:11,903 | fedavg.py:274 | No evaluate_metrics_aggregation_fn provided\n",
            "DEBUG flwr 2023-04-28 06:55:11,903 | server.py:218 | fit_round 2: strategy sampled 10 clients (out of 10)\n",
            "DEBUG flwr 2023-04-28 06:55:32,822 | server.py:232 | fit_round 2 received 10 results and 0 failures\n",
            "DEBUG flwr 2023-04-28 06:55:32,833 | server.py:168 | evaluate_round 2: strategy sampled 5 clients (out of 10)\n",
            "DEBUG flwr 2023-04-28 06:55:41,348 | server.py:182 | evaluate_round 2 received 5 results and 0 failures\n",
            "DEBUG flwr 2023-04-28 06:55:41,349 | server.py:218 | fit_round 3: strategy sampled 10 clients (out of 10)\n",
            "DEBUG flwr 2023-04-28 06:56:03,054 | server.py:232 | fit_round 3 received 10 results and 0 failures\n",
            "DEBUG flwr 2023-04-28 06:56:03,065 | server.py:168 | evaluate_round 3: strategy sampled 5 clients (out of 10)\n",
            "DEBUG flwr 2023-04-28 06:56:11,622 | server.py:182 | evaluate_round 3 received 5 results and 0 failures\n",
            "DEBUG flwr 2023-04-28 06:56:11,623 | server.py:218 | fit_round 4: strategy sampled 10 clients (out of 10)\n",
            "DEBUG flwr 2023-04-28 06:56:33,387 | server.py:232 | fit_round 4 received 10 results and 0 failures\n",
            "DEBUG flwr 2023-04-28 06:56:33,399 | server.py:168 | evaluate_round 4: strategy sampled 5 clients (out of 10)\n",
            "DEBUG flwr 2023-04-28 06:56:42,132 | server.py:182 | evaluate_round 4 received 5 results and 0 failures\n",
            "DEBUG flwr 2023-04-28 06:56:42,133 | server.py:218 | fit_round 5: strategy sampled 10 clients (out of 10)\n",
            "DEBUG flwr 2023-04-28 06:57:03,089 | server.py:232 | fit_round 5 received 10 results and 0 failures\n",
            "DEBUG flwr 2023-04-28 06:57:03,100 | server.py:168 | evaluate_round 5: strategy sampled 5 clients (out of 10)\n",
            "DEBUG flwr 2023-04-28 06:57:11,801 | server.py:182 | evaluate_round 5 received 5 results and 0 failures\n",
            "INFO flwr 2023-04-28 06:57:11,802 | server.py:147 | FL finished in 148.88481468101963\n",
            "INFO flwr 2023-04-28 06:57:11,802 | app.py:218 | app_fit: losses_distributed [(1, 0.06250545220375062), (2, 0.0546618923664093), (3, 0.051277329397201546), (4, 0.04993689661026001), (5, 0.04789346046447753)]\n",
            "INFO flwr 2023-04-28 06:57:11,803 | app.py:219 | app_fit: metrics_distributed_fit {}\n",
            "INFO flwr 2023-04-28 06:57:11,803 | app.py:220 | app_fit: metrics_distributed {}\n",
            "INFO flwr 2023-04-28 06:57:11,803 | app.py:221 | app_fit: losses_centralized []\n",
            "INFO flwr 2023-04-28 06:57:11,803 | app.py:222 | app_fit: metrics_centralized {}\n"
          ]
        }
      ],
      "source": [
        "# Create FedAvg strategy\n",
        "strategy = fl.server.strategy.FedAvg(\n",
        "    fraction_fit=1.0,  # Sample 100% of available clients for training\n",
        "    fraction_evaluate=0.5,  # Sample 50% of available clients for evaluation\n",
        "    min_fit_clients=10,  # Never sample less than 10 clients for training\n",
        "    min_evaluate_clients=5,  # Never sample less than 5 clients for evaluation\n",
        "    min_available_clients=10,  # Wait until all 10 clients are available\n",
        ")\n",
        "\n",
        "# Specify client resources if you need GPU (defaults to 1 CPU and 0 GPU)\n",
        "client_resources = None\n",
        "if DEVICE.type == \"cuda\":\n",
        "    client_resources = {\"num_gpus\": 1}\n",
        "\n",
        "# Start simulation\n",
        "history = fl.simulation.start_simulation(\n",
        "    client_fn=client_fn,\n",
        "    num_clients=NUM_CLIENTS,\n",
        "    config=fl.server.ServerConfig(num_rounds=5),\n",
        "    strategy=strategy,\n",
        "    client_resources=client_resources,\n",
        ")"
      ]
    },
    {
      "cell_type": "markdown",
      "metadata": {
        "id": "xP8Qugv00SWp"
      },
      "source": [
        "### Behind the scenes\n",
        "\n",
        "So how does this work? How does Flower execute this simulation?\n",
        "\n",
        "When we call `start_simulation`, we tell Flower that there are 10 clients (`num_clients=10`). Flower then goes ahead an asks the `FedAvg` strategy to select clients. `FedAvg` knows that it should select 100% of the available clients (`fraction_fit=1.0`), so it goes ahead and selects 10 random clients (i.e., 100% of 10).\n",
        "\n",
        "Flower then asks the selected 10 clients to train the model. When the server receives the model parameter updates from the clients, it hands those updates over to the strategy (*FedAvg*) for aggregation. The strategy aggregates those updates and returns the new global model, which then gets used in the next round of federated learning."
      ]
    },
    {
      "cell_type": "markdown",
      "metadata": {
        "id": "8wKW1VHx0SWp"
      },
      "source": [
        "### Where's the accuracy?\n",
        "\n",
        "You may have noticed that all metrics except for `losses_distributed` are empty. Where did the `{\"accuracy\": float(accuracy)}` go?\n",
        "\n",
        "Flower can automatically aggregate losses returned by individual clients, but it cannot do the same for metrics in the generic metrics dictionary (the one with the `accuracy` key). Metrics dictionaries can contain very different kinds of metrics and even key/value pairs that are not metrics at all, so the framework does not (and can not) know how to handle these automatically.\n",
        "\n",
        "As users, we need to tell the framework how to handle/aggregate these custom metrics, and we do so by passing metric aggregation functions to the strategy. The strategy will then call these functions whenever it receives fit or evaluate metrics from clients. The two possible functions are `fit_metrics_aggregation_fn` and `evaluate_metrics_aggregation_fn`.\n",
        "\n",
        "Let's create a simple weighted averaging function to aggregate the `accuracy` metric we return from `evaluate`:"
      ]
    },
    {
      "cell_type": "code",
      "execution_count": 15,
      "metadata": {
        "id": "RN35I2Ye0SWp"
      },
      "outputs": [],
      "source": [
        "def weighted_average(metrics: List[Tuple[int, Metrics]]) -> Metrics:\n",
        "    # Multiply accuracy of each client by number of examples used\n",
        "    accuracies = [num_examples * m[\"accuracy\"] for num_examples, m in metrics]\n",
        "    examples = [num_examples for num_examples, _ in metrics]\n",
        "\n",
        "    # Aggregate and return custom metric (weighted average)\n",
        "    return {\"accuracy\": sum(accuracies) / sum(examples)}"
      ]
    },
    {
      "cell_type": "markdown",
      "metadata": {
        "id": "2Ae6rTZ60SWp"
      },
      "source": [
        "The only thing left to do is to tell the strategy to call this function whenever it receives evaluation metric dictionaries from the clients:"
      ]
    },
    {
      "cell_type": "code",
      "execution_count": 16,
      "metadata": {
        "id": "NOUzqXbF0SWp"
      },
      "outputs": [
        {
          "name": "stderr",
          "output_type": "stream",
          "text": [
            "INFO flwr 2023-04-28 06:57:11,986 | app.py:146 | Starting Flower simulation, config: ServerConfig(num_rounds=50, round_timeout=None)\n",
            "2023-04-28 06:57:16,070\tINFO worker.py:1553 -- Started a local Ray instance.\n",
            "INFO flwr 2023-04-28 06:57:16,566 | app.py:180 | Flower VCE: Ray initialized with resources: {'CPU': 16.0, 'node:172.17.0.2': 1.0, 'GPU': 1.0, 'memory': 79753251840.0, 'accelerator_type:RTX': 1.0, 'object_store_memory': 38465679360.0}\n",
            "INFO flwr 2023-04-28 06:57:16,566 | server.py:86 | Initializing global parameters\n",
            "INFO flwr 2023-04-28 06:57:16,567 | server.py:273 | Requesting initial parameters from one random client\n",
            "INFO flwr 2023-04-28 06:57:18,189 | server.py:277 | Received initial parameters from one random client\n",
            "INFO flwr 2023-04-28 06:57:18,190 | server.py:88 | Evaluating initial parameters\n",
            "INFO flwr 2023-04-28 06:57:18,190 | server.py:101 | FL starting\n",
            "DEBUG flwr 2023-04-28 06:57:18,190 | server.py:218 | fit_round 1: strategy sampled 10 clients (out of 10)\n",
            "DEBUG flwr 2023-04-28 06:57:40,805 | server.py:232 | fit_round 1 received 10 results and 0 failures\n",
            "WARNING flwr 2023-04-28 06:57:40,817 | fedavg.py:243 | No fit_metrics_aggregation_fn provided\n",
            "DEBUG flwr 2023-04-28 06:57:40,817 | server.py:168 | evaluate_round 1: strategy sampled 5 clients (out of 10)\n",
            "DEBUG flwr 2023-04-28 06:57:49,320 | server.py:182 | evaluate_round 1 received 5 results and 0 failures\n",
            "DEBUG flwr 2023-04-28 06:57:49,321 | server.py:218 | fit_round 2: strategy sampled 10 clients (out of 10)\n",
            "DEBUG flwr 2023-04-28 06:58:11,134 | server.py:232 | fit_round 2 received 10 results and 0 failures\n",
            "DEBUG flwr 2023-04-28 06:58:11,145 | server.py:168 | evaluate_round 2: strategy sampled 5 clients (out of 10)\n",
            "DEBUG flwr 2023-04-28 06:58:19,698 | server.py:182 | evaluate_round 2 received 5 results and 0 failures\n",
            "DEBUG flwr 2023-04-28 06:58:19,698 | server.py:218 | fit_round 3: strategy sampled 10 clients (out of 10)\n"
          ]
        },
        {
          "name": "stdout",
          "output_type": "stream",
          "text": [
            "\u001b[2m\u001b[1m\u001b[33m(autoscaler +3m55s)\u001b[0m Warning: The following resource request cannot be scheduled right now: {'GPU': 1.0, 'CPU': 1.0}. This is likely due to all cluster resources being claimed by actors. Consider creating fewer actors or adding more nodes to this Ray cluster.\n"
          ]
        },
        {
          "name": "stderr",
          "output_type": "stream",
          "text": [
            "DEBUG flwr 2023-04-28 06:58:41,810 | server.py:232 | fit_round 3 received 10 results and 0 failures\n",
            "DEBUG flwr 2023-04-28 06:58:41,821 | server.py:168 | evaluate_round 3: strategy sampled 5 clients (out of 10)\n",
            "DEBUG flwr 2023-04-28 06:58:50,415 | server.py:182 | evaluate_round 3 received 5 results and 0 failures\n",
            "DEBUG flwr 2023-04-28 06:58:50,415 | server.py:218 | fit_round 4: strategy sampled 10 clients (out of 10)\n",
            "DEBUG flwr 2023-04-28 06:59:11,268 | server.py:232 | fit_round 4 received 10 results and 0 failures\n",
            "DEBUG flwr 2023-04-28 06:59:11,279 | server.py:168 | evaluate_round 4: strategy sampled 5 clients (out of 10)\n",
            "DEBUG flwr 2023-04-28 06:59:19,842 | server.py:182 | evaluate_round 4 received 5 results and 0 failures\n",
            "DEBUG flwr 2023-04-28 06:59:19,842 | server.py:218 | fit_round 5: strategy sampled 10 clients (out of 10)\n",
            "DEBUG flwr 2023-04-28 06:59:41,177 | server.py:232 | fit_round 5 received 10 results and 0 failures\n",
            "DEBUG flwr 2023-04-28 06:59:41,189 | server.py:168 | evaluate_round 5: strategy sampled 5 clients (out of 10)\n",
            "DEBUG flwr 2023-04-28 06:59:49,806 | server.py:182 | evaluate_round 5 received 5 results and 0 failures\n",
            "DEBUG flwr 2023-04-28 06:59:49,807 | server.py:218 | fit_round 6: strategy sampled 10 clients (out of 10)\n",
            "DEBUG flwr 2023-04-28 07:00:11,270 | server.py:232 | fit_round 6 received 10 results and 0 failures\n",
            "DEBUG flwr 2023-04-28 07:00:11,282 | server.py:168 | evaluate_round 6: strategy sampled 5 clients (out of 10)\n",
            "DEBUG flwr 2023-04-28 07:00:19,980 | server.py:182 | evaluate_round 6 received 5 results and 0 failures\n",
            "DEBUG flwr 2023-04-28 07:00:19,980 | server.py:218 | fit_round 7: strategy sampled 10 clients (out of 10)\n",
            "DEBUG flwr 2023-04-28 07:00:40,851 | server.py:232 | fit_round 7 received 10 results and 0 failures\n",
            "DEBUG flwr 2023-04-28 07:00:40,862 | server.py:168 | evaluate_round 7: strategy sampled 5 clients (out of 10)\n",
            "DEBUG flwr 2023-04-28 07:00:49,634 | server.py:182 | evaluate_round 7 received 5 results and 0 failures\n",
            "DEBUG flwr 2023-04-28 07:00:49,634 | server.py:218 | fit_round 8: strategy sampled 10 clients (out of 10)\n",
            "DEBUG flwr 2023-04-28 07:01:11,992 | server.py:232 | fit_round 8 received 10 results and 0 failures\n",
            "DEBUG flwr 2023-04-28 07:01:12,003 | server.py:168 | evaluate_round 8: strategy sampled 5 clients (out of 10)\n",
            "DEBUG flwr 2023-04-28 07:01:20,620 | server.py:182 | evaluate_round 8 received 5 results and 0 failures\n",
            "DEBUG flwr 2023-04-28 07:01:20,621 | server.py:218 | fit_round 9: strategy sampled 10 clients (out of 10)\n"
          ]
        },
        {
          "name": "stdout",
          "output_type": "stream",
          "text": [
            "\u001b[2m\u001b[1m\u001b[33m(autoscaler +7m5s)\u001b[0m Warning: The following resource request cannot be scheduled right now: {'CPU': 1.0, 'GPU': 1.0}. This is likely due to all cluster resources being claimed by actors. Consider creating fewer actors or adding more nodes to this Ray cluster.\n"
          ]
        },
        {
          "name": "stderr",
          "output_type": "stream",
          "text": [
            "DEBUG flwr 2023-04-28 07:01:41,579 | server.py:232 | fit_round 9 received 10 results and 0 failures\n",
            "DEBUG flwr 2023-04-28 07:01:41,590 | server.py:168 | evaluate_round 9: strategy sampled 5 clients (out of 10)\n",
            "DEBUG flwr 2023-04-28 07:01:50,282 | server.py:182 | evaluate_round 9 received 5 results and 0 failures\n",
            "DEBUG flwr 2023-04-28 07:01:50,282 | server.py:218 | fit_round 10: strategy sampled 10 clients (out of 10)\n",
            "DEBUG flwr 2023-04-28 07:02:12,723 | server.py:232 | fit_round 10 received 10 results and 0 failures\n",
            "DEBUG flwr 2023-04-28 07:02:12,734 | server.py:168 | evaluate_round 10: strategy sampled 5 clients (out of 10)\n",
            "DEBUG flwr 2023-04-28 07:02:21,418 | server.py:182 | evaluate_round 10 received 5 results and 0 failures\n",
            "DEBUG flwr 2023-04-28 07:02:21,419 | server.py:218 | fit_round 11: strategy sampled 10 clients (out of 10)\n"
          ]
        },
        {
          "name": "stdout",
          "output_type": "stream",
          "text": [
            "\u001b[2m\u001b[1m\u001b[33m(autoscaler +8m5s)\u001b[0m Warning: The following resource request cannot be scheduled right now: {'GPU': 1.0, 'CPU': 1.0}. This is likely due to all cluster resources being claimed by actors. Consider creating fewer actors or adding more nodes to this Ray cluster.\n"
          ]
        },
        {
          "name": "stderr",
          "output_type": "stream",
          "text": [
            "DEBUG flwr 2023-04-28 07:02:43,365 | server.py:232 | fit_round 11 received 10 results and 0 failures\n",
            "DEBUG flwr 2023-04-28 07:02:43,376 | server.py:168 | evaluate_round 11: strategy sampled 5 clients (out of 10)\n",
            "DEBUG flwr 2023-04-28 07:02:51,995 | server.py:182 | evaluate_round 11 received 5 results and 0 failures\n",
            "DEBUG flwr 2023-04-28 07:02:51,995 | server.py:218 | fit_round 12: strategy sampled 10 clients (out of 10)\n"
          ]
        },
        {
          "name": "stdout",
          "output_type": "stream",
          "text": [
            "\u001b[2m\u001b[1m\u001b[33m(autoscaler +8m40s)\u001b[0m Warning: The following resource request cannot be scheduled right now: {'CPU': 1.0, 'GPU': 1.0}. This is likely due to all cluster resources being claimed by actors. Consider creating fewer actors or adding more nodes to this Ray cluster.\n"
          ]
        },
        {
          "name": "stderr",
          "output_type": "stream",
          "text": [
            "DEBUG flwr 2023-04-28 07:03:13,421 | server.py:232 | fit_round 12 received 10 results and 0 failures\n",
            "DEBUG flwr 2023-04-28 07:03:13,432 | server.py:168 | evaluate_round 12: strategy sampled 5 clients (out of 10)\n",
            "DEBUG flwr 2023-04-28 07:03:22,079 | server.py:182 | evaluate_round 12 received 5 results and 0 failures\n",
            "DEBUG flwr 2023-04-28 07:03:22,079 | server.py:218 | fit_round 13: strategy sampled 10 clients (out of 10)\n",
            "DEBUG flwr 2023-04-28 07:03:43,494 | server.py:232 | fit_round 13 received 10 results and 0 failures\n",
            "DEBUG flwr 2023-04-28 07:03:43,505 | server.py:168 | evaluate_round 13: strategy sampled 5 clients (out of 10)\n",
            "DEBUG flwr 2023-04-28 07:03:52,070 | server.py:182 | evaluate_round 13 received 5 results and 0 failures\n",
            "DEBUG flwr 2023-04-28 07:03:52,071 | server.py:218 | fit_round 14: strategy sampled 10 clients (out of 10)\n",
            "DEBUG flwr 2023-04-28 07:04:13,853 | server.py:232 | fit_round 14 received 10 results and 0 failures\n",
            "DEBUG flwr 2023-04-28 07:04:13,864 | server.py:168 | evaluate_round 14: strategy sampled 5 clients (out of 10)\n",
            "DEBUG flwr 2023-04-28 07:04:22,550 | server.py:182 | evaluate_round 14 received 5 results and 0 failures\n",
            "DEBUG flwr 2023-04-28 07:04:22,551 | server.py:218 | fit_round 15: strategy sampled 10 clients (out of 10)\n",
            "DEBUG flwr 2023-04-28 07:04:44,027 | server.py:232 | fit_round 15 received 10 results and 0 failures\n",
            "DEBUG flwr 2023-04-28 07:04:44,038 | server.py:168 | evaluate_round 15: strategy sampled 5 clients (out of 10)\n",
            "DEBUG flwr 2023-04-28 07:04:52,726 | server.py:182 | evaluate_round 15 received 5 results and 0 failures\n",
            "DEBUG flwr 2023-04-28 07:04:52,727 | server.py:218 | fit_round 16: strategy sampled 10 clients (out of 10)\n",
            "DEBUG flwr 2023-04-28 07:05:15,549 | server.py:232 | fit_round 16 received 10 results and 0 failures\n",
            "DEBUG flwr 2023-04-28 07:05:15,560 | server.py:168 | evaluate_round 16: strategy sampled 5 clients (out of 10)\n",
            "DEBUG flwr 2023-04-28 07:05:23,780 | server.py:182 | evaluate_round 16 received 5 results and 0 failures\n",
            "DEBUG flwr 2023-04-28 07:05:23,780 | server.py:218 | fit_round 17: strategy sampled 10 clients (out of 10)\n",
            "DEBUG flwr 2023-04-28 07:05:46,357 | server.py:232 | fit_round 17 received 10 results and 0 failures\n",
            "DEBUG flwr 2023-04-28 07:05:46,368 | server.py:168 | evaluate_round 17: strategy sampled 5 clients (out of 10)\n",
            "DEBUG flwr 2023-04-28 07:05:54,964 | server.py:182 | evaluate_round 17 received 5 results and 0 failures\n",
            "DEBUG flwr 2023-04-28 07:05:54,965 | server.py:218 | fit_round 18: strategy sampled 10 clients (out of 10)\n",
            "DEBUG flwr 2023-04-28 07:06:17,575 | server.py:232 | fit_round 18 received 10 results and 0 failures\n",
            "DEBUG flwr 2023-04-28 07:06:17,586 | server.py:168 | evaluate_round 18: strategy sampled 5 clients (out of 10)\n",
            "DEBUG flwr 2023-04-28 07:06:26,184 | server.py:182 | evaluate_round 18 received 5 results and 0 failures\n",
            "DEBUG flwr 2023-04-28 07:06:26,185 | server.py:218 | fit_round 19: strategy sampled 10 clients (out of 10)\n",
            "DEBUG flwr 2023-04-28 07:06:48,000 | server.py:232 | fit_round 19 received 10 results and 0 failures\n",
            "DEBUG flwr 2023-04-28 07:06:48,011 | server.py:168 | evaluate_round 19: strategy sampled 5 clients (out of 10)\n",
            "DEBUG flwr 2023-04-28 07:06:56,606 | server.py:182 | evaluate_round 19 received 5 results and 0 failures\n",
            "DEBUG flwr 2023-04-28 07:06:56,606 | server.py:218 | fit_round 20: strategy sampled 10 clients (out of 10)\n",
            "DEBUG flwr 2023-04-28 07:07:18,623 | server.py:232 | fit_round 20 received 10 results and 0 failures\n",
            "DEBUG flwr 2023-04-28 07:07:18,634 | server.py:168 | evaluate_round 20: strategy sampled 5 clients (out of 10)\n",
            "DEBUG flwr 2023-04-28 07:07:27,219 | server.py:182 | evaluate_round 20 received 5 results and 0 failures\n",
            "DEBUG flwr 2023-04-28 07:07:27,219 | server.py:218 | fit_round 21: strategy sampled 10 clients (out of 10)\n",
            "DEBUG flwr 2023-04-28 07:07:50,113 | server.py:232 | fit_round 21 received 10 results and 0 failures\n",
            "DEBUG flwr 2023-04-28 07:07:50,125 | server.py:168 | evaluate_round 21: strategy sampled 5 clients (out of 10)\n",
            "DEBUG flwr 2023-04-28 07:07:58,707 | server.py:182 | evaluate_round 21 received 5 results and 0 failures\n",
            "DEBUG flwr 2023-04-28 07:07:58,708 | server.py:218 | fit_round 22: strategy sampled 10 clients (out of 10)\n",
            "DEBUG flwr 2023-04-28 07:08:20,434 | server.py:232 | fit_round 22 received 10 results and 0 failures\n",
            "DEBUG flwr 2023-04-28 07:08:20,445 | server.py:168 | evaluate_round 22: strategy sampled 5 clients (out of 10)\n",
            "DEBUG flwr 2023-04-28 07:08:29,055 | server.py:182 | evaluate_round 22 received 5 results and 0 failures\n",
            "DEBUG flwr 2023-04-28 07:08:29,055 | server.py:218 | fit_round 23: strategy sampled 10 clients (out of 10)\n",
            "DEBUG flwr 2023-04-28 07:08:50,938 | server.py:232 | fit_round 23 received 10 results and 0 failures\n",
            "DEBUG flwr 2023-04-28 07:08:50,949 | server.py:168 | evaluate_round 23: strategy sampled 5 clients (out of 10)\n",
            "DEBUG flwr 2023-04-28 07:08:59,600 | server.py:182 | evaluate_round 23 received 5 results and 0 failures\n",
            "DEBUG flwr 2023-04-28 07:08:59,600 | server.py:218 | fit_round 24: strategy sampled 10 clients (out of 10)\n",
            "DEBUG flwr 2023-04-28 07:09:22,040 | server.py:232 | fit_round 24 received 10 results and 0 failures\n",
            "DEBUG flwr 2023-04-28 07:09:22,051 | server.py:168 | evaluate_round 24: strategy sampled 5 clients (out of 10)\n",
            "DEBUG flwr 2023-04-28 07:09:30,671 | server.py:182 | evaluate_round 24 received 5 results and 0 failures\n",
            "DEBUG flwr 2023-04-28 07:09:30,671 | server.py:218 | fit_round 25: strategy sampled 10 clients (out of 10)\n",
            "DEBUG flwr 2023-04-28 07:09:53,712 | server.py:232 | fit_round 25 received 10 results and 0 failures\n",
            "DEBUG flwr 2023-04-28 07:09:53,723 | server.py:168 | evaluate_round 25: strategy sampled 5 clients (out of 10)\n",
            "DEBUG flwr 2023-04-28 07:10:02,250 | server.py:182 | evaluate_round 25 received 5 results and 0 failures\n",
            "DEBUG flwr 2023-04-28 07:10:02,250 | server.py:218 | fit_round 26: strategy sampled 10 clients (out of 10)\n",
            "DEBUG flwr 2023-04-28 07:10:24,015 | server.py:232 | fit_round 26 received 10 results and 0 failures\n",
            "DEBUG flwr 2023-04-28 07:10:24,026 | server.py:168 | evaluate_round 26: strategy sampled 5 clients (out of 10)\n",
            "DEBUG flwr 2023-04-28 07:10:32,626 | server.py:182 | evaluate_round 26 received 5 results and 0 failures\n",
            "DEBUG flwr 2023-04-28 07:10:32,626 | server.py:218 | fit_round 27: strategy sampled 10 clients (out of 10)\n",
            "DEBUG flwr 2023-04-28 07:10:53,671 | server.py:232 | fit_round 27 received 10 results and 0 failures\n",
            "DEBUG flwr 2023-04-28 07:10:53,682 | server.py:168 | evaluate_round 27: strategy sampled 5 clients (out of 10)\n"
          ]
        },
        {
          "name": "stdout",
          "output_type": "stream",
          "text": [
            "\u001b[2m\u001b[1m\u001b[33m(autoscaler +16m26s)\u001b[0m Warning: The following resource request cannot be scheduled right now: {'CPU': 1.0, 'GPU': 1.0}. This is likely due to all cluster resources being claimed by actors. Consider creating fewer actors or adding more nodes to this Ray cluster.\n"
          ]
        },
        {
          "name": "stderr",
          "output_type": "stream",
          "text": [
            "DEBUG flwr 2023-04-28 07:11:02,376 | server.py:182 | evaluate_round 27 received 5 results and 0 failures\n",
            "DEBUG flwr 2023-04-28 07:11:02,376 | server.py:218 | fit_round 28: strategy sampled 10 clients (out of 10)\n",
            "DEBUG flwr 2023-04-28 07:11:24,327 | server.py:232 | fit_round 28 received 10 results and 0 failures\n",
            "DEBUG flwr 2023-04-28 07:11:24,339 | server.py:168 | evaluate_round 28: strategy sampled 5 clients (out of 10)\n",
            "DEBUG flwr 2023-04-28 07:11:33,079 | server.py:182 | evaluate_round 28 received 5 results and 0 failures\n",
            "DEBUG flwr 2023-04-28 07:11:33,080 | server.py:218 | fit_round 29: strategy sampled 10 clients (out of 10)\n"
          ]
        },
        {
          "name": "stdout",
          "output_type": "stream",
          "text": [
            "\u001b[2m\u001b[1m\u001b[33m(autoscaler +17m7s)\u001b[0m Warning: The following resource request cannot be scheduled right now: {'CPU': 1.0, 'GPU': 1.0}. This is likely due to all cluster resources being claimed by actors. Consider creating fewer actors or adding more nodes to this Ray cluster.\n"
          ]
        },
        {
          "name": "stderr",
          "output_type": "stream",
          "text": [
            "DEBUG flwr 2023-04-28 07:11:54,589 | server.py:232 | fit_round 29 received 10 results and 0 failures\n",
            "DEBUG flwr 2023-04-28 07:11:54,600 | server.py:168 | evaluate_round 29: strategy sampled 5 clients (out of 10)\n",
            "DEBUG flwr 2023-04-28 07:12:03,275 | server.py:182 | evaluate_round 29 received 5 results and 0 failures\n",
            "DEBUG flwr 2023-04-28 07:12:03,276 | server.py:218 | fit_round 30: strategy sampled 10 clients (out of 10)\n"
          ]
        },
        {
          "name": "stdout",
          "output_type": "stream",
          "text": [
            "\u001b[2m\u001b[1m\u001b[33m(autoscaler +17m46s)\u001b[0m Warning: The following resource request cannot be scheduled right now: {'GPU': 1.0, 'CPU': 1.0}. This is likely due to all cluster resources being claimed by actors. Consider creating fewer actors or adding more nodes to this Ray cluster.\n"
          ]
        },
        {
          "name": "stderr",
          "output_type": "stream",
          "text": [
            "DEBUG flwr 2023-04-28 07:12:25,219 | server.py:232 | fit_round 30 received 10 results and 0 failures\n",
            "DEBUG flwr 2023-04-28 07:12:25,230 | server.py:168 | evaluate_round 30: strategy sampled 5 clients (out of 10)\n",
            "DEBUG flwr 2023-04-28 07:12:33,955 | server.py:182 | evaluate_round 30 received 5 results and 0 failures\n",
            "DEBUG flwr 2023-04-28 07:12:33,956 | server.py:218 | fit_round 31: strategy sampled 10 clients (out of 10)\n"
          ]
        },
        {
          "name": "stdout",
          "output_type": "stream",
          "text": [
            "\u001b[2m\u001b[1m\u001b[33m(autoscaler +18m21s)\u001b[0m Warning: The following resource request cannot be scheduled right now: {'GPU': 1.0, 'CPU': 1.0}. This is likely due to all cluster resources being claimed by actors. Consider creating fewer actors or adding more nodes to this Ray cluster.\n"
          ]
        },
        {
          "name": "stderr",
          "output_type": "stream",
          "text": [
            "DEBUG flwr 2023-04-28 07:12:57,131 | server.py:232 | fit_round 31 received 10 results and 0 failures\n",
            "DEBUG flwr 2023-04-28 07:12:57,142 | server.py:168 | evaluate_round 31: strategy sampled 5 clients (out of 10)\n",
            "DEBUG flwr 2023-04-28 07:13:05,805 | server.py:182 | evaluate_round 31 received 5 results and 0 failures\n",
            "DEBUG flwr 2023-04-28 07:13:05,805 | server.py:218 | fit_round 32: strategy sampled 10 clients (out of 10)\n",
            "DEBUG flwr 2023-04-28 07:13:27,447 | server.py:232 | fit_round 32 received 10 results and 0 failures\n",
            "DEBUG flwr 2023-04-28 07:13:27,458 | server.py:168 | evaluate_round 32: strategy sampled 5 clients (out of 10)\n",
            "DEBUG flwr 2023-04-28 07:13:36,077 | server.py:182 | evaluate_round 32 received 5 results and 0 failures\n",
            "DEBUG flwr 2023-04-28 07:13:36,077 | server.py:218 | fit_round 33: strategy sampled 10 clients (out of 10)\n",
            "DEBUG flwr 2023-04-28 07:13:58,409 | server.py:232 | fit_round 33 received 10 results and 0 failures\n",
            "DEBUG flwr 2023-04-28 07:13:58,421 | server.py:168 | evaluate_round 33: strategy sampled 5 clients (out of 10)\n",
            "DEBUG flwr 2023-04-28 07:14:07,086 | server.py:182 | evaluate_round 33 received 5 results and 0 failures\n",
            "DEBUG flwr 2023-04-28 07:14:07,086 | server.py:218 | fit_round 34: strategy sampled 10 clients (out of 10)\n",
            "DEBUG flwr 2023-04-28 07:14:30,098 | server.py:232 | fit_round 34 received 10 results and 0 failures\n",
            "DEBUG flwr 2023-04-28 07:14:30,109 | server.py:168 | evaluate_round 34: strategy sampled 5 clients (out of 10)\n",
            "DEBUG flwr 2023-04-28 07:14:38,700 | server.py:182 | evaluate_round 34 received 5 results and 0 failures\n",
            "DEBUG flwr 2023-04-28 07:14:38,701 | server.py:218 | fit_round 35: strategy sampled 10 clients (out of 10)\n",
            "DEBUG flwr 2023-04-28 07:15:01,734 | server.py:232 | fit_round 35 received 10 results and 0 failures\n",
            "DEBUG flwr 2023-04-28 07:15:01,745 | server.py:168 | evaluate_round 35: strategy sampled 5 clients (out of 10)\n",
            "DEBUG flwr 2023-04-28 07:15:10,382 | server.py:182 | evaluate_round 35 received 5 results and 0 failures\n",
            "DEBUG flwr 2023-04-28 07:15:10,383 | server.py:218 | fit_round 36: strategy sampled 10 clients (out of 10)\n",
            "DEBUG flwr 2023-04-28 07:15:31,950 | server.py:232 | fit_round 36 received 10 results and 0 failures\n",
            "DEBUG flwr 2023-04-28 07:15:31,961 | server.py:168 | evaluate_round 36: strategy sampled 5 clients (out of 10)\n",
            "DEBUG flwr 2023-04-28 07:15:40,581 | server.py:182 | evaluate_round 36 received 5 results and 0 failures\n",
            "DEBUG flwr 2023-04-28 07:15:40,582 | server.py:218 | fit_round 37: strategy sampled 10 clients (out of 10)\n",
            "DEBUG flwr 2023-04-28 07:16:02,445 | server.py:232 | fit_round 37 received 10 results and 0 failures\n",
            "DEBUG flwr 2023-04-28 07:16:02,456 | server.py:168 | evaluate_round 37: strategy sampled 5 clients (out of 10)\n"
          ]
        },
        {
          "name": "stdout",
          "output_type": "stream",
          "text": [
            "\u001b[2m\u001b[1m\u001b[33m(autoscaler +21m36s)\u001b[0m Warning: The following resource request cannot be scheduled right now: {'GPU': 1.0, 'CPU': 1.0}. This is likely due to all cluster resources being claimed by actors. Consider creating fewer actors or adding more nodes to this Ray cluster.\n"
          ]
        },
        {
          "name": "stderr",
          "output_type": "stream",
          "text": [
            "DEBUG flwr 2023-04-28 07:16:11,126 | server.py:182 | evaluate_round 37 received 5 results and 0 failures\n",
            "DEBUG flwr 2023-04-28 07:16:11,126 | server.py:218 | fit_round 38: strategy sampled 10 clients (out of 10)\n",
            "DEBUG flwr 2023-04-28 07:16:32,083 | server.py:232 | fit_round 38 received 10 results and 0 failures\n",
            "DEBUG flwr 2023-04-28 07:16:32,095 | server.py:168 | evaluate_round 38: strategy sampled 5 clients (out of 10)\n",
            "DEBUG flwr 2023-04-28 07:16:40,768 | server.py:182 | evaluate_round 38 received 5 results and 0 failures\n",
            "DEBUG flwr 2023-04-28 07:16:40,769 | server.py:218 | fit_round 39: strategy sampled 10 clients (out of 10)\n",
            "DEBUG flwr 2023-04-28 07:17:03,992 | server.py:232 | fit_round 39 received 10 results and 0 failures\n",
            "DEBUG flwr 2023-04-28 07:17:04,004 | server.py:168 | evaluate_round 39: strategy sampled 5 clients (out of 10)\n",
            "DEBUG flwr 2023-04-28 07:17:12,655 | server.py:182 | evaluate_round 39 received 5 results and 0 failures\n",
            "DEBUG flwr 2023-04-28 07:17:12,656 | server.py:218 | fit_round 40: strategy sampled 10 clients (out of 10)\n",
            "DEBUG flwr 2023-04-28 07:17:34,150 | server.py:232 | fit_round 40 received 10 results and 0 failures\n",
            "DEBUG flwr 2023-04-28 07:17:34,161 | server.py:168 | evaluate_round 40: strategy sampled 5 clients (out of 10)\n",
            "DEBUG flwr 2023-04-28 07:17:42,754 | server.py:182 | evaluate_round 40 received 5 results and 0 failures\n",
            "DEBUG flwr 2023-04-28 07:17:42,754 | server.py:218 | fit_round 41: strategy sampled 10 clients (out of 10)\n",
            "DEBUG flwr 2023-04-28 07:18:05,514 | server.py:232 | fit_round 41 received 10 results and 0 failures\n",
            "DEBUG flwr 2023-04-28 07:18:05,526 | server.py:168 | evaluate_round 41: strategy sampled 5 clients (out of 10)\n",
            "DEBUG flwr 2023-04-28 07:18:14,147 | server.py:182 | evaluate_round 41 received 5 results and 0 failures\n",
            "DEBUG flwr 2023-04-28 07:18:14,147 | server.py:218 | fit_round 42: strategy sampled 10 clients (out of 10)\n"
          ]
        },
        {
          "name": "stdout",
          "output_type": "stream",
          "text": [
            "\u001b[2m\u001b[1m\u001b[33m(autoscaler +23m57s)\u001b[0m Warning: The following resource request cannot be scheduled right now: {'GPU': 1.0, 'CPU': 1.0}. This is likely due to all cluster resources being claimed by actors. Consider creating fewer actors or adding more nodes to this Ray cluster.\n"
          ]
        },
        {
          "name": "stderr",
          "output_type": "stream",
          "text": [
            "DEBUG flwr 2023-04-28 07:18:37,104 | server.py:232 | fit_round 42 received 10 results and 0 failures\n",
            "DEBUG flwr 2023-04-28 07:18:37,115 | server.py:168 | evaluate_round 42: strategy sampled 5 clients (out of 10)\n",
            "DEBUG flwr 2023-04-28 07:18:45,699 | server.py:182 | evaluate_round 42 received 5 results and 0 failures\n",
            "DEBUG flwr 2023-04-28 07:18:45,699 | server.py:218 | fit_round 43: strategy sampled 10 clients (out of 10)\n",
            "DEBUG flwr 2023-04-28 07:19:08,410 | server.py:232 | fit_round 43 received 10 results and 0 failures\n",
            "DEBUG flwr 2023-04-28 07:19:08,421 | server.py:168 | evaluate_round 43: strategy sampled 5 clients (out of 10)\n",
            "DEBUG flwr 2023-04-28 07:19:16,568 | server.py:182 | evaluate_round 43 received 5 results and 0 failures\n",
            "DEBUG flwr 2023-04-28 07:19:16,568 | server.py:218 | fit_round 44: strategy sampled 10 clients (out of 10)\n",
            "DEBUG flwr 2023-04-28 07:19:38,064 | server.py:232 | fit_round 44 received 10 results and 0 failures\n",
            "DEBUG flwr 2023-04-28 07:19:38,076 | server.py:168 | evaluate_round 44: strategy sampled 5 clients (out of 10)\n",
            "DEBUG flwr 2023-04-28 07:19:46,319 | server.py:182 | evaluate_round 44 received 5 results and 0 failures\n",
            "DEBUG flwr 2023-04-28 07:19:46,320 | server.py:218 | fit_round 45: strategy sampled 10 clients (out of 10)\n",
            "DEBUG flwr 2023-04-28 07:20:07,959 | server.py:232 | fit_round 45 received 10 results and 0 failures\n",
            "DEBUG flwr 2023-04-28 07:20:07,970 | server.py:168 | evaluate_round 45: strategy sampled 5 clients (out of 10)\n",
            "DEBUG flwr 2023-04-28 07:20:16,745 | server.py:182 | evaluate_round 45 received 5 results and 0 failures\n",
            "DEBUG flwr 2023-04-28 07:20:16,745 | server.py:218 | fit_round 46: strategy sampled 10 clients (out of 10)\n",
            "DEBUG flwr 2023-04-28 07:20:39,564 | server.py:232 | fit_round 46 received 10 results and 0 failures\n",
            "DEBUG flwr 2023-04-28 07:20:39,576 | server.py:168 | evaluate_round 46: strategy sampled 5 clients (out of 10)\n",
            "DEBUG flwr 2023-04-28 07:20:48,186 | server.py:182 | evaluate_round 46 received 5 results and 0 failures\n",
            "DEBUG flwr 2023-04-28 07:20:48,186 | server.py:218 | fit_round 47: strategy sampled 10 clients (out of 10)\n",
            "DEBUG flwr 2023-04-28 07:21:11,242 | server.py:232 | fit_round 47 received 10 results and 0 failures\n",
            "DEBUG flwr 2023-04-28 07:21:11,253 | server.py:168 | evaluate_round 47: strategy sampled 5 clients (out of 10)\n"
          ]
        },
        {
          "name": "stdout",
          "output_type": "stream",
          "text": [
            "\u001b[2m\u001b[1m\u001b[33m(autoscaler +26m47s)\u001b[0m Warning: The following resource request cannot be scheduled right now: {'CPU': 1.0, 'GPU': 1.0}. This is likely due to all cluster resources being claimed by actors. Consider creating fewer actors or adding more nodes to this Ray cluster.\n"
          ]
        },
        {
          "name": "stderr",
          "output_type": "stream",
          "text": [
            "DEBUG flwr 2023-04-28 07:21:19,824 | server.py:182 | evaluate_round 47 received 5 results and 0 failures\n",
            "DEBUG flwr 2023-04-28 07:21:19,825 | server.py:218 | fit_round 48: strategy sampled 10 clients (out of 10)\n",
            "DEBUG flwr 2023-04-28 07:21:41,959 | server.py:232 | fit_round 48 received 10 results and 0 failures\n",
            "DEBUG flwr 2023-04-28 07:21:41,970 | server.py:168 | evaluate_round 48: strategy sampled 5 clients (out of 10)\n",
            "DEBUG flwr 2023-04-28 07:21:50,619 | server.py:182 | evaluate_round 48 received 5 results and 0 failures\n",
            "DEBUG flwr 2023-04-28 07:21:50,620 | server.py:218 | fit_round 49: strategy sampled 10 clients (out of 10)\n",
            "DEBUG flwr 2023-04-28 07:22:13,012 | server.py:232 | fit_round 49 received 10 results and 0 failures\n",
            "DEBUG flwr 2023-04-28 07:22:13,023 | server.py:168 | evaluate_round 49: strategy sampled 5 clients (out of 10)\n",
            "DEBUG flwr 2023-04-28 07:22:21,628 | server.py:182 | evaluate_round 49 received 5 results and 0 failures\n",
            "DEBUG flwr 2023-04-28 07:22:21,629 | server.py:218 | fit_round 50: strategy sampled 10 clients (out of 10)\n",
            "DEBUG flwr 2023-04-28 07:22:43,818 | server.py:232 | fit_round 50 received 10 results and 0 failures\n",
            "DEBUG flwr 2023-04-28 07:22:43,829 | server.py:168 | evaluate_round 50: strategy sampled 5 clients (out of 10)\n",
            "DEBUG flwr 2023-04-28 07:22:52,399 | server.py:182 | evaluate_round 50 received 5 results and 0 failures\n",
            "INFO flwr 2023-04-28 07:22:52,399 | server.py:147 | FL finished in 1534.2088964510476\n",
            "INFO flwr 2023-04-28 07:22:52,400 | app.py:218 | app_fit: losses_distributed [(1, 0.061860783815383916), (2, 0.05365400500297547), (3, 0.05125926218032837), (4, 0.04954519128799438), (5, 0.04751921648979186), (6, 0.04656614093780518), (7, 0.045554365682601926), (8, 0.043709047746658326), (9, 0.04387280619144439), (10, 0.043112682962417596), (11, 0.043041634297370915), (12, 0.04166591866016388), (13, 0.04129814658164978), (14, 0.04128056783676148), (15, 0.039738673162460325), (16, 0.03971258261203765), (17, 0.04005018699169159), (18, 0.03870718402862549), (19, 0.03896322367191314), (20, 0.03872953979969025), (21, 0.038216394519805914), (22, 0.03768183627128601), (23, 0.037557553744316095), (24, 0.03728259346485139), (25, 0.03649091265201569), (26, 0.03702066383361816), (27, 0.03565608136653901), (28, 0.03641317126750946), (29, 0.036064496517181396), (30, 0.035888703489303585), (31, 0.03517708268165588), (32, 0.0357569147348404), (33, 0.034766734504699706), (34, 0.03496136114597321), (35, 0.03525679314136505), (36, 0.034796132469177246), (37, 0.03423298754692077), (38, 0.034429944467544556), (39, 0.035161614894866945), (40, 0.03437458407878876), (41, 0.034522111153602604), (42, 0.034309663629531854), (43, 0.03462437117099762), (44, 0.03391077053546905), (45, 0.033423227787017826), (46, 0.03325424799919128), (47, 0.035106908512115474), (48, 0.034006201338768006), (49, 0.033589827919006346), (50, 0.03393333122730255)]\n",
            "INFO flwr 2023-04-28 07:22:52,400 | app.py:219 | app_fit: metrics_distributed_fit {}\n",
            "INFO flwr 2023-04-28 07:22:52,400 | app.py:220 | app_fit: metrics_distributed {'accuracy': [(1, 0.2752), (2, 0.382), (3, 0.40560000000000007), (4, 0.41719999999999996), (5, 0.4372), (6, 0.4548), (7, 0.4603999999999999), (8, 0.4868), (9, 0.5016), (10, 0.506), (11, 0.5096), (12, 0.5224), (13, 0.5336000000000001), (14, 0.5336000000000001), (15, 0.5612), (16, 0.556), (17, 0.5471999999999999), (18, 0.5608000000000001), (19, 0.5588), (20, 0.5628), (21, 0.574), (22, 0.584), (23, 0.572), (24, 0.5776000000000001), (25, 0.5896000000000001), (26, 0.5871999999999999), (27, 0.5988), (28, 0.5923999999999999), (29, 0.5955999999999999), (30, 0.6008), (31, 0.6043999999999999), (32, 0.5988), (33, 0.6028), (34, 0.6052), (35, 0.6092000000000001), (36, 0.6104), (37, 0.6104), (38, 0.6144000000000001), (39, 0.6068), (40, 0.6052), (41, 0.6112), (42, 0.6136), (43, 0.6068), (44, 0.6136), (45, 0.622), (46, 0.6272), (47, 0.6087999999999999), (48, 0.6252), (49, 0.6235999999999999), (50, 0.6112)]}\n",
            "INFO flwr 2023-04-28 07:22:52,400 | app.py:221 | app_fit: losses_centralized []\n",
            "INFO flwr 2023-04-28 07:22:52,400 | app.py:222 | app_fit: metrics_centralized {}\n"
          ]
        }
      ],
      "source": [
        "# Create FedAvg strategy\n",
        "strategy = fl.server.strategy.FedAvg(\n",
        "    fraction_fit=1.0,\n",
        "    fraction_evaluate=0.5,\n",
        "    min_fit_clients=10,\n",
        "    min_evaluate_clients=5,\n",
        "    min_available_clients=10,\n",
        "    evaluate_metrics_aggregation_fn=weighted_average,  # <-- pass the metric aggregation function\n",
        "    # 이게 없으면, loss 만 weighted로 해주는 거임. accuracy는 이걸 넣어야함.\n",
        ")\n",
        "\n",
        "# Start simulation\n",
        "historyFedAvg = fl.simulation.start_simulation(\n",
        "    client_fn=client_fn,\n",
        "    num_clients=NUM_CLIENTS,\n",
        "    config=fl.server.ServerConfig(num_rounds=EPOCH),\n",
        "    strategy=strategy,\n",
        "    client_resources=client_resources,\n",
        ")"
      ]
    },
    {
      "cell_type": "code",
      "execution_count": 17,
      "metadata": {},
      "outputs": [
        {
          "name": "stdout",
          "output_type": "stream",
          "text": [
            "a\n"
          ]
        }
      ],
      "source": [
        "historyFedAvg\n",
        "print(\"a\")"
      ]
    },
    {
      "cell_type": "markdown",
      "metadata": {
        "id": "_vUA0vBv0SWp"
      },
      "source": [
        "We now have a full system that performs federated training and federated evaluation. It uses the `weighted_average` function to aggregate custom evaluation metrics and calculates a single `accuracy` metric across all clients on the server side.\n",
        "\n",
        "The other two categories of metrics (`losses_centralized` and `metrics_centralized`) are still empty because they only apply when centralized evaluation is being used. Part two of the Flower tutorial will cover centralized evaluation."
      ]
    },
    {
      "cell_type": "code",
      "execution_count": 18,
      "metadata": {},
      "outputs": [
        {
          "name": "stderr",
          "output_type": "stream",
          "text": [
            "INFO flwr 2023-04-28 07:22:52,616 | app.py:146 | Starting Flower simulation, config: ServerConfig(num_rounds=50, round_timeout=None)\n",
            "2023-04-28 07:22:56,455\tINFO worker.py:1553 -- Started a local Ray instance.\n",
            "INFO flwr 2023-04-28 07:22:56,985 | app.py:180 | Flower VCE: Ray initialized with resources: {'node:172.17.0.2': 1.0, 'GPU': 1.0, 'object_store_memory': 38445842841.0, 'accelerator_type:RTX': 1.0, 'memory': 79706966631.0, 'CPU': 16.0}\n",
            "INFO flwr 2023-04-28 07:22:56,986 | server.py:86 | Initializing global parameters\n",
            "INFO flwr 2023-04-28 07:22:56,986 | server.py:269 | Using initial parameters provided by strategy\n",
            "INFO flwr 2023-04-28 07:22:56,986 | server.py:88 | Evaluating initial parameters\n",
            "INFO flwr 2023-04-28 07:22:56,986 | server.py:101 | FL starting\n",
            "DEBUG flwr 2023-04-28 07:22:56,987 | server.py:218 | fit_round 1: strategy sampled 10 clients (out of 10)\n",
            "DEBUG flwr 2023-04-28 07:23:19,199 | server.py:232 | fit_round 1 received 10 results and 0 failures\n",
            "WARNING flwr 2023-04-28 07:23:19,210 | fedavg.py:243 | No fit_metrics_aggregation_fn provided\n",
            "DEBUG flwr 2023-04-28 07:23:19,212 | server.py:168 | evaluate_round 1: strategy sampled 5 clients (out of 10)\n",
            "DEBUG flwr 2023-04-28 07:23:27,741 | server.py:182 | evaluate_round 1 received 5 results and 0 failures\n",
            "DEBUG flwr 2023-04-28 07:23:27,742 | server.py:218 | fit_round 2: strategy sampled 10 clients (out of 10)\n",
            "DEBUG flwr 2023-04-28 07:23:48,894 | server.py:232 | fit_round 2 received 10 results and 0 failures\n",
            "DEBUG flwr 2023-04-28 07:23:48,907 | server.py:168 | evaluate_round 2: strategy sampled 5 clients (out of 10)\n",
            "DEBUG flwr 2023-04-28 07:23:57,447 | server.py:182 | evaluate_round 2 received 5 results and 0 failures\n",
            "DEBUG flwr 2023-04-28 07:23:57,448 | server.py:218 | fit_round 3: strategy sampled 10 clients (out of 10)\n",
            "DEBUG flwr 2023-04-28 07:24:18,636 | server.py:232 | fit_round 3 received 10 results and 0 failures\n",
            "DEBUG flwr 2023-04-28 07:24:18,649 | server.py:168 | evaluate_round 3: strategy sampled 5 clients (out of 10)\n",
            "DEBUG flwr 2023-04-28 07:24:27,147 | server.py:182 | evaluate_round 3 received 5 results and 0 failures\n",
            "DEBUG flwr 2023-04-28 07:24:27,147 | server.py:218 | fit_round 4: strategy sampled 10 clients (out of 10)\n",
            "DEBUG flwr 2023-04-28 07:24:50,314 | server.py:232 | fit_round 4 received 10 results and 0 failures\n",
            "DEBUG flwr 2023-04-28 07:24:50,327 | server.py:168 | evaluate_round 4: strategy sampled 5 clients (out of 10)\n",
            "DEBUG flwr 2023-04-28 07:24:58,892 | server.py:182 | evaluate_round 4 received 5 results and 0 failures\n",
            "DEBUG flwr 2023-04-28 07:24:58,893 | server.py:218 | fit_round 5: strategy sampled 10 clients (out of 10)\n"
          ]
        },
        {
          "name": "stdout",
          "output_type": "stream",
          "text": [
            "\u001b[2m\u001b[1m\u001b[33m(autoscaler +30m36s)\u001b[0m Warning: The following resource request cannot be scheduled right now: {'GPU': 1.0, 'CPU': 1.0}. This is likely due to all cluster resources being claimed by actors. Consider creating fewer actors or adding more nodes to this Ray cluster.\n"
          ]
        },
        {
          "name": "stderr",
          "output_type": "stream",
          "text": [
            "DEBUG flwr 2023-04-28 07:25:20,444 | server.py:232 | fit_round 5 received 10 results and 0 failures\n",
            "DEBUG flwr 2023-04-28 07:25:20,457 | server.py:168 | evaluate_round 5: strategy sampled 5 clients (out of 10)\n",
            "DEBUG flwr 2023-04-28 07:25:29,000 | server.py:182 | evaluate_round 5 received 5 results and 0 failures\n",
            "DEBUG flwr 2023-04-28 07:25:29,000 | server.py:218 | fit_round 6: strategy sampled 10 clients (out of 10)\n",
            "DEBUG flwr 2023-04-28 07:25:50,915 | server.py:232 | fit_round 6 received 10 results and 0 failures\n",
            "DEBUG flwr 2023-04-28 07:25:50,928 | server.py:168 | evaluate_round 6: strategy sampled 5 clients (out of 10)\n",
            "DEBUG flwr 2023-04-28 07:25:59,525 | server.py:182 | evaluate_round 6 received 5 results and 0 failures\n",
            "DEBUG flwr 2023-04-28 07:25:59,525 | server.py:218 | fit_round 7: strategy sampled 10 clients (out of 10)\n",
            "DEBUG flwr 2023-04-28 07:26:21,999 | server.py:232 | fit_round 7 received 10 results and 0 failures\n",
            "DEBUG flwr 2023-04-28 07:26:22,012 | server.py:168 | evaluate_round 7: strategy sampled 5 clients (out of 10)\n"
          ]
        },
        {
          "name": "stdout",
          "output_type": "stream",
          "text": [
            "\u001b[2m\u001b[1m\u001b[33m(autoscaler +31m56s)\u001b[0m Warning: The following resource request cannot be scheduled right now: {'GPU': 1.0, 'CPU': 1.0}. This is likely due to all cluster resources being claimed by actors. Consider creating fewer actors or adding more nodes to this Ray cluster.\n"
          ]
        },
        {
          "name": "stderr",
          "output_type": "stream",
          "text": [
            "DEBUG flwr 2023-04-28 07:26:30,575 | server.py:182 | evaluate_round 7 received 5 results and 0 failures\n",
            "DEBUG flwr 2023-04-28 07:26:30,575 | server.py:218 | fit_round 8: strategy sampled 10 clients (out of 10)\n",
            "DEBUG flwr 2023-04-28 07:26:53,082 | server.py:232 | fit_round 8 received 10 results and 0 failures\n",
            "DEBUG flwr 2023-04-28 07:26:53,095 | server.py:168 | evaluate_round 8: strategy sampled 5 clients (out of 10)\n",
            "DEBUG flwr 2023-04-28 07:27:01,632 | server.py:182 | evaluate_round 8 received 5 results and 0 failures\n",
            "DEBUG flwr 2023-04-28 07:27:01,633 | server.py:218 | fit_round 9: strategy sampled 10 clients (out of 10)\n"
          ]
        },
        {
          "name": "stdout",
          "output_type": "stream",
          "text": [
            "\u001b[2m\u001b[1m\u001b[33m(autoscaler +32m46s)\u001b[0m Warning: The following resource request cannot be scheduled right now: {'GPU': 1.0, 'CPU': 1.0}. This is likely due to all cluster resources being claimed by actors. Consider creating fewer actors or adding more nodes to this Ray cluster.\n"
          ]
        },
        {
          "name": "stderr",
          "output_type": "stream",
          "text": [
            "DEBUG flwr 2023-04-28 07:27:23,833 | server.py:232 | fit_round 9 received 10 results and 0 failures\n",
            "DEBUG flwr 2023-04-28 07:27:23,846 | server.py:168 | evaluate_round 9: strategy sampled 5 clients (out of 10)\n",
            "DEBUG flwr 2023-04-28 07:27:32,458 | server.py:182 | evaluate_round 9 received 5 results and 0 failures\n",
            "DEBUG flwr 2023-04-28 07:27:32,459 | server.py:218 | fit_round 10: strategy sampled 10 clients (out of 10)\n",
            "DEBUG flwr 2023-04-28 07:27:55,014 | server.py:232 | fit_round 10 received 10 results and 0 failures\n",
            "DEBUG flwr 2023-04-28 07:27:55,026 | server.py:168 | evaluate_round 10: strategy sampled 5 clients (out of 10)\n",
            "DEBUG flwr 2023-04-28 07:28:03,655 | server.py:182 | evaluate_round 10 received 5 results and 0 failures\n",
            "DEBUG flwr 2023-04-28 07:28:03,656 | server.py:218 | fit_round 11: strategy sampled 10 clients (out of 10)\n",
            "DEBUG flwr 2023-04-28 07:28:25,739 | server.py:232 | fit_round 11 received 10 results and 0 failures\n",
            "DEBUG flwr 2023-04-28 07:28:25,752 | server.py:168 | evaluate_round 11: strategy sampled 5 clients (out of 10)\n",
            "DEBUG flwr 2023-04-28 07:28:33,864 | server.py:182 | evaluate_round 11 received 5 results and 0 failures\n",
            "DEBUG flwr 2023-04-28 07:28:33,865 | server.py:218 | fit_round 12: strategy sampled 10 clients (out of 10)\n",
            "DEBUG flwr 2023-04-28 07:28:55,893 | server.py:232 | fit_round 12 received 10 results and 0 failures\n",
            "DEBUG flwr 2023-04-28 07:28:55,906 | server.py:168 | evaluate_round 12: strategy sampled 5 clients (out of 10)\n",
            "DEBUG flwr 2023-04-28 07:29:04,667 | server.py:182 | evaluate_round 12 received 5 results and 0 failures\n",
            "DEBUG flwr 2023-04-28 07:29:04,667 | server.py:218 | fit_round 13: strategy sampled 10 clients (out of 10)\n"
          ]
        },
        {
          "name": "stdout",
          "output_type": "stream",
          "text": [
            "\u001b[2m\u001b[1m\u001b[33m(autoscaler +34m46s)\u001b[0m Warning: The following resource request cannot be scheduled right now: {'GPU': 1.0, 'CPU': 1.0}. This is likely due to all cluster resources being claimed by actors. Consider creating fewer actors or adding more nodes to this Ray cluster.\n"
          ]
        },
        {
          "name": "stderr",
          "output_type": "stream",
          "text": [
            "DEBUG flwr 2023-04-28 07:29:27,443 | server.py:232 | fit_round 13 received 10 results and 0 failures\n",
            "DEBUG flwr 2023-04-28 07:29:27,456 | server.py:168 | evaluate_round 13: strategy sampled 5 clients (out of 10)\n",
            "DEBUG flwr 2023-04-28 07:29:36,031 | server.py:182 | evaluate_round 13 received 5 results and 0 failures\n",
            "DEBUG flwr 2023-04-28 07:29:36,031 | server.py:218 | fit_round 14: strategy sampled 10 clients (out of 10)\n",
            "DEBUG flwr 2023-04-28 07:29:57,725 | server.py:232 | fit_round 14 received 10 results and 0 failures\n",
            "DEBUG flwr 2023-04-28 07:29:57,738 | server.py:168 | evaluate_round 14: strategy sampled 5 clients (out of 10)\n",
            "DEBUG flwr 2023-04-28 07:30:06,348 | server.py:182 | evaluate_round 14 received 5 results and 0 failures\n",
            "DEBUG flwr 2023-04-28 07:30:06,348 | server.py:218 | fit_round 15: strategy sampled 10 clients (out of 10)\n",
            "DEBUG flwr 2023-04-28 07:30:27,890 | server.py:232 | fit_round 15 received 10 results and 0 failures\n",
            "DEBUG flwr 2023-04-28 07:30:27,903 | server.py:168 | evaluate_round 15: strategy sampled 5 clients (out of 10)\n",
            "DEBUG flwr 2023-04-28 07:30:36,682 | server.py:182 | evaluate_round 15 received 5 results and 0 failures\n",
            "DEBUG flwr 2023-04-28 07:30:36,683 | server.py:218 | fit_round 16: strategy sampled 10 clients (out of 10)\n",
            "DEBUG flwr 2023-04-28 07:30:57,754 | server.py:232 | fit_round 16 received 10 results and 0 failures\n",
            "DEBUG flwr 2023-04-28 07:30:57,767 | server.py:168 | evaluate_round 16: strategy sampled 5 clients (out of 10)\n",
            "DEBUG flwr 2023-04-28 07:31:06,491 | server.py:182 | evaluate_round 16 received 5 results and 0 failures\n",
            "DEBUG flwr 2023-04-28 07:31:06,492 | server.py:218 | fit_round 17: strategy sampled 10 clients (out of 10)\n",
            "DEBUG flwr 2023-04-28 07:31:28,983 | server.py:232 | fit_round 17 received 10 results and 0 failures\n",
            "DEBUG flwr 2023-04-28 07:31:28,996 | server.py:168 | evaluate_round 17: strategy sampled 5 clients (out of 10)\n",
            "DEBUG flwr 2023-04-28 07:31:37,793 | server.py:182 | evaluate_round 17 received 5 results and 0 failures\n",
            "DEBUG flwr 2023-04-28 07:31:37,794 | server.py:218 | fit_round 18: strategy sampled 10 clients (out of 10)\n",
            "DEBUG flwr 2023-04-28 07:32:00,848 | server.py:232 | fit_round 18 received 10 results and 0 failures\n",
            "DEBUG flwr 2023-04-28 07:32:00,860 | server.py:168 | evaluate_round 18: strategy sampled 5 clients (out of 10)\n",
            "DEBUG flwr 2023-04-28 07:32:09,023 | server.py:182 | evaluate_round 18 received 5 results and 0 failures\n",
            "DEBUG flwr 2023-04-28 07:32:09,023 | server.py:218 | fit_round 19: strategy sampled 10 clients (out of 10)\n",
            "DEBUG flwr 2023-04-28 07:32:30,718 | server.py:232 | fit_round 19 received 10 results and 0 failures\n",
            "DEBUG flwr 2023-04-28 07:32:30,731 | server.py:168 | evaluate_round 19: strategy sampled 5 clients (out of 10)\n",
            "DEBUG flwr 2023-04-28 07:32:39,315 | server.py:182 | evaluate_round 19 received 5 results and 0 failures\n",
            "DEBUG flwr 2023-04-28 07:32:39,315 | server.py:218 | fit_round 20: strategy sampled 10 clients (out of 10)\n",
            "DEBUG flwr 2023-04-28 07:33:02,149 | server.py:232 | fit_round 20 received 10 results and 0 failures\n",
            "DEBUG flwr 2023-04-28 07:33:02,161 | server.py:168 | evaluate_round 20: strategy sampled 5 clients (out of 10)\n",
            "DEBUG flwr 2023-04-28 07:33:10,716 | server.py:182 | evaluate_round 20 received 5 results and 0 failures\n",
            "DEBUG flwr 2023-04-28 07:33:10,717 | server.py:218 | fit_round 21: strategy sampled 10 clients (out of 10)\n",
            "DEBUG flwr 2023-04-28 07:33:33,287 | server.py:232 | fit_round 21 received 10 results and 0 failures\n",
            "DEBUG flwr 2023-04-28 07:33:33,300 | server.py:168 | evaluate_round 21: strategy sampled 5 clients (out of 10)\n",
            "DEBUG flwr 2023-04-28 07:33:41,937 | server.py:182 | evaluate_round 21 received 5 results and 0 failures\n",
            "DEBUG flwr 2023-04-28 07:33:41,937 | server.py:218 | fit_round 22: strategy sampled 10 clients (out of 10)\n",
            "DEBUG flwr 2023-04-28 07:34:04,087 | server.py:232 | fit_round 22 received 10 results and 0 failures\n",
            "DEBUG flwr 2023-04-28 07:34:04,100 | server.py:168 | evaluate_round 22: strategy sampled 5 clients (out of 10)\n"
          ]
        },
        {
          "name": "stdout",
          "output_type": "stream",
          "text": [
            "\u001b[2m\u001b[1m\u001b[33m(autoscaler +39m41s)\u001b[0m Warning: The following resource request cannot be scheduled right now: {'GPU': 1.0, 'CPU': 1.0}. This is likely due to all cluster resources being claimed by actors. Consider creating fewer actors or adding more nodes to this Ray cluster.\n"
          ]
        },
        {
          "name": "stderr",
          "output_type": "stream",
          "text": [
            "DEBUG flwr 2023-04-28 07:34:12,679 | server.py:182 | evaluate_round 22 received 5 results and 0 failures\n",
            "DEBUG flwr 2023-04-28 07:34:12,680 | server.py:218 | fit_round 23: strategy sampled 10 clients (out of 10)\n",
            "DEBUG flwr 2023-04-28 07:34:34,614 | server.py:232 | fit_round 23 received 10 results and 0 failures\n",
            "DEBUG flwr 2023-04-28 07:34:34,627 | server.py:168 | evaluate_round 23: strategy sampled 5 clients (out of 10)\n",
            "DEBUG flwr 2023-04-28 07:34:43,206 | server.py:182 | evaluate_round 23 received 5 results and 0 failures\n",
            "DEBUG flwr 2023-04-28 07:34:43,206 | server.py:218 | fit_round 24: strategy sampled 10 clients (out of 10)\n",
            "DEBUG flwr 2023-04-28 07:35:04,233 | server.py:232 | fit_round 24 received 10 results and 0 failures\n",
            "DEBUG flwr 2023-04-28 07:35:04,245 | server.py:168 | evaluate_round 24: strategy sampled 5 clients (out of 10)\n",
            "DEBUG flwr 2023-04-28 07:35:12,943 | server.py:182 | evaluate_round 24 received 5 results and 0 failures\n",
            "DEBUG flwr 2023-04-28 07:35:12,943 | server.py:218 | fit_round 25: strategy sampled 10 clients (out of 10)\n",
            "DEBUG flwr 2023-04-28 07:35:34,793 | server.py:232 | fit_round 25 received 10 results and 0 failures\n",
            "DEBUG flwr 2023-04-28 07:35:34,806 | server.py:168 | evaluate_round 25: strategy sampled 5 clients (out of 10)\n",
            "DEBUG flwr 2023-04-28 07:35:43,108 | server.py:182 | evaluate_round 25 received 5 results and 0 failures\n",
            "DEBUG flwr 2023-04-28 07:35:43,109 | server.py:218 | fit_round 26: strategy sampled 10 clients (out of 10)\n",
            "DEBUG flwr 2023-04-28 07:36:04,141 | server.py:232 | fit_round 26 received 10 results and 0 failures\n",
            "DEBUG flwr 2023-04-28 07:36:04,154 | server.py:168 | evaluate_round 26: strategy sampled 5 clients (out of 10)\n",
            "DEBUG flwr 2023-04-28 07:36:12,910 | server.py:182 | evaluate_round 26 received 5 results and 0 failures\n",
            "DEBUG flwr 2023-04-28 07:36:12,910 | server.py:218 | fit_round 27: strategy sampled 10 clients (out of 10)\n",
            "DEBUG flwr 2023-04-28 07:36:33,423 | server.py:232 | fit_round 27 received 10 results and 0 failures\n",
            "DEBUG flwr 2023-04-28 07:36:33,435 | server.py:168 | evaluate_round 27: strategy sampled 5 clients (out of 10)\n",
            "DEBUG flwr 2023-04-28 07:36:42,150 | server.py:182 | evaluate_round 27 received 5 results and 0 failures\n",
            "DEBUG flwr 2023-04-28 07:36:42,151 | server.py:218 | fit_round 28: strategy sampled 10 clients (out of 10)\n",
            "DEBUG flwr 2023-04-28 07:37:04,603 | server.py:232 | fit_round 28 received 10 results and 0 failures\n",
            "DEBUG flwr 2023-04-28 07:37:04,616 | server.py:168 | evaluate_round 28: strategy sampled 5 clients (out of 10)\n",
            "DEBUG flwr 2023-04-28 07:37:13,436 | server.py:182 | evaluate_round 28 received 5 results and 0 failures\n",
            "DEBUG flwr 2023-04-28 07:37:13,436 | server.py:218 | fit_round 29: strategy sampled 10 clients (out of 10)\n",
            "DEBUG flwr 2023-04-28 07:37:36,009 | server.py:232 | fit_round 29 received 10 results and 0 failures\n",
            "DEBUG flwr 2023-04-28 07:37:36,022 | server.py:168 | evaluate_round 29: strategy sampled 5 clients (out of 10)\n",
            "DEBUG flwr 2023-04-28 07:37:44,676 | server.py:182 | evaluate_round 29 received 5 results and 0 failures\n",
            "DEBUG flwr 2023-04-28 07:37:44,676 | server.py:218 | fit_round 30: strategy sampled 10 clients (out of 10)\n",
            "DEBUG flwr 2023-04-28 07:38:06,239 | server.py:232 | fit_round 30 received 10 results and 0 failures\n",
            "DEBUG flwr 2023-04-28 07:38:06,252 | server.py:168 | evaluate_round 30: strategy sampled 5 clients (out of 10)\n",
            "DEBUG flwr 2023-04-28 07:38:14,914 | server.py:182 | evaluate_round 30 received 5 results and 0 failures\n",
            "DEBUG flwr 2023-04-28 07:38:14,915 | server.py:218 | fit_round 31: strategy sampled 10 clients (out of 10)\n",
            "DEBUG flwr 2023-04-28 07:38:36,765 | server.py:232 | fit_round 31 received 10 results and 0 failures\n",
            "DEBUG flwr 2023-04-28 07:38:36,777 | server.py:168 | evaluate_round 31: strategy sampled 5 clients (out of 10)\n",
            "DEBUG flwr 2023-04-28 07:38:45,497 | server.py:182 | evaluate_round 31 received 5 results and 0 failures\n",
            "DEBUG flwr 2023-04-28 07:38:45,498 | server.py:218 | fit_round 32: strategy sampled 10 clients (out of 10)\n"
          ]
        },
        {
          "name": "stdout",
          "output_type": "stream",
          "text": [
            "\u001b[2m\u001b[1m\u001b[33m(autoscaler +44m27s)\u001b[0m Warning: The following resource request cannot be scheduled right now: {'GPU': 1.0, 'CPU': 1.0}. This is likely due to all cluster resources being claimed by actors. Consider creating fewer actors or adding more nodes to this Ray cluster.\n"
          ]
        },
        {
          "name": "stderr",
          "output_type": "stream",
          "text": [
            "DEBUG flwr 2023-04-28 07:39:07,420 | server.py:232 | fit_round 32 received 10 results and 0 failures\n",
            "DEBUG flwr 2023-04-28 07:39:07,432 | server.py:168 | evaluate_round 32: strategy sampled 5 clients (out of 10)\n",
            "DEBUG flwr 2023-04-28 07:39:16,119 | server.py:182 | evaluate_round 32 received 5 results and 0 failures\n",
            "DEBUG flwr 2023-04-28 07:39:16,120 | server.py:218 | fit_round 33: strategy sampled 10 clients (out of 10)\n",
            "DEBUG flwr 2023-04-28 07:39:37,260 | server.py:232 | fit_round 33 received 10 results and 0 failures\n",
            "DEBUG flwr 2023-04-28 07:39:37,272 | server.py:168 | evaluate_round 33: strategy sampled 5 clients (out of 10)\n",
            "DEBUG flwr 2023-04-28 07:39:46,005 | server.py:182 | evaluate_round 33 received 5 results and 0 failures\n",
            "DEBUG flwr 2023-04-28 07:39:46,006 | server.py:218 | fit_round 34: strategy sampled 10 clients (out of 10)\n"
          ]
        },
        {
          "name": "stdout",
          "output_type": "stream",
          "text": [
            "\u001b[2m\u001b[1m\u001b[33m(autoscaler +45m27s)\u001b[0m Warning: The following resource request cannot be scheduled right now: {'CPU': 1.0, 'GPU': 1.0}. This is likely due to all cluster resources being claimed by actors. Consider creating fewer actors or adding more nodes to this Ray cluster.\n"
          ]
        },
        {
          "name": "stderr",
          "output_type": "stream",
          "text": [
            "DEBUG flwr 2023-04-28 07:40:09,331 | server.py:232 | fit_round 34 received 10 results and 0 failures\n",
            "DEBUG flwr 2023-04-28 07:40:09,344 | server.py:168 | evaluate_round 34: strategy sampled 5 clients (out of 10)\n",
            "DEBUG flwr 2023-04-28 07:40:17,932 | server.py:182 | evaluate_round 34 received 5 results and 0 failures\n",
            "DEBUG flwr 2023-04-28 07:40:17,932 | server.py:218 | fit_round 35: strategy sampled 10 clients (out of 10)\n",
            "DEBUG flwr 2023-04-28 07:40:39,578 | server.py:232 | fit_round 35 received 10 results and 0 failures\n",
            "DEBUG flwr 2023-04-28 07:40:39,590 | server.py:168 | evaluate_round 35: strategy sampled 5 clients (out of 10)\n",
            "DEBUG flwr 2023-04-28 07:40:47,726 | server.py:182 | evaluate_round 35 received 5 results and 0 failures\n",
            "DEBUG flwr 2023-04-28 07:40:47,726 | server.py:218 | fit_round 36: strategy sampled 10 clients (out of 10)\n",
            "DEBUG flwr 2023-04-28 07:41:09,751 | server.py:232 | fit_round 36 received 10 results and 0 failures\n",
            "DEBUG flwr 2023-04-28 07:41:09,763 | server.py:168 | evaluate_round 36: strategy sampled 5 clients (out of 10)\n",
            "DEBUG flwr 2023-04-28 07:41:18,457 | server.py:182 | evaluate_round 36 received 5 results and 0 failures\n",
            "DEBUG flwr 2023-04-28 07:41:18,458 | server.py:218 | fit_round 37: strategy sampled 10 clients (out of 10)\n",
            "DEBUG flwr 2023-04-28 07:41:41,593 | server.py:232 | fit_round 37 received 10 results and 0 failures\n",
            "DEBUG flwr 2023-04-28 07:41:41,606 | server.py:168 | evaluate_round 37: strategy sampled 5 clients (out of 10)\n",
            "DEBUG flwr 2023-04-28 07:41:50,291 | server.py:182 | evaluate_round 37 received 5 results and 0 failures\n",
            "DEBUG flwr 2023-04-28 07:41:50,291 | server.py:218 | fit_round 38: strategy sampled 10 clients (out of 10)\n",
            "DEBUG flwr 2023-04-28 07:42:12,497 | server.py:232 | fit_round 38 received 10 results and 0 failures\n",
            "DEBUG flwr 2023-04-28 07:42:12,510 | server.py:168 | evaluate_round 38: strategy sampled 5 clients (out of 10)\n",
            "DEBUG flwr 2023-04-28 07:42:21,161 | server.py:182 | evaluate_round 38 received 5 results and 0 failures\n",
            "DEBUG flwr 2023-04-28 07:42:21,162 | server.py:218 | fit_round 39: strategy sampled 10 clients (out of 10)\n",
            "DEBUG flwr 2023-04-28 07:42:42,635 | server.py:232 | fit_round 39 received 10 results and 0 failures\n",
            "DEBUG flwr 2023-04-28 07:42:42,647 | server.py:168 | evaluate_round 39: strategy sampled 5 clients (out of 10)\n",
            "DEBUG flwr 2023-04-28 07:42:51,443 | server.py:182 | evaluate_round 39 received 5 results and 0 failures\n",
            "DEBUG flwr 2023-04-28 07:42:51,443 | server.py:218 | fit_round 40: strategy sampled 10 clients (out of 10)\n",
            "DEBUG flwr 2023-04-28 07:43:14,148 | server.py:232 | fit_round 40 received 10 results and 0 failures\n",
            "DEBUG flwr 2023-04-28 07:43:14,160 | server.py:168 | evaluate_round 40: strategy sampled 5 clients (out of 10)\n",
            "DEBUG flwr 2023-04-28 07:43:22,802 | server.py:182 | evaluate_round 40 received 5 results and 0 failures\n",
            "DEBUG flwr 2023-04-28 07:43:22,803 | server.py:218 | fit_round 41: strategy sampled 10 clients (out of 10)\n",
            "DEBUG flwr 2023-04-28 07:43:45,408 | server.py:232 | fit_round 41 received 10 results and 0 failures\n",
            "DEBUG flwr 2023-04-28 07:43:45,421 | server.py:168 | evaluate_round 41: strategy sampled 5 clients (out of 10)\n",
            "DEBUG flwr 2023-04-28 07:43:54,025 | server.py:182 | evaluate_round 41 received 5 results and 0 failures\n",
            "DEBUG flwr 2023-04-28 07:43:54,026 | server.py:218 | fit_round 42: strategy sampled 10 clients (out of 10)\n",
            "DEBUG flwr 2023-04-28 07:44:16,096 | server.py:232 | fit_round 42 received 10 results and 0 failures\n",
            "DEBUG flwr 2023-04-28 07:44:16,110 | server.py:168 | evaluate_round 42: strategy sampled 5 clients (out of 10)\n",
            "DEBUG flwr 2023-04-28 07:44:24,733 | server.py:182 | evaluate_round 42 received 5 results and 0 failures\n",
            "DEBUG flwr 2023-04-28 07:44:24,733 | server.py:218 | fit_round 43: strategy sampled 10 clients (out of 10)\n",
            "DEBUG flwr 2023-04-28 07:44:46,627 | server.py:232 | fit_round 43 received 10 results and 0 failures\n",
            "DEBUG flwr 2023-04-28 07:44:46,639 | server.py:168 | evaluate_round 43: strategy sampled 5 clients (out of 10)\n",
            "DEBUG flwr 2023-04-28 07:44:55,308 | server.py:182 | evaluate_round 43 received 5 results and 0 failures\n",
            "DEBUG flwr 2023-04-28 07:44:55,309 | server.py:218 | fit_round 44: strategy sampled 10 clients (out of 10)\n",
            "DEBUG flwr 2023-04-28 07:45:18,042 | server.py:232 | fit_round 44 received 10 results and 0 failures\n",
            "DEBUG flwr 2023-04-28 07:45:18,055 | server.py:168 | evaluate_round 44: strategy sampled 5 clients (out of 10)\n",
            "DEBUG flwr 2023-04-28 07:45:26,658 | server.py:182 | evaluate_round 44 received 5 results and 0 failures\n",
            "DEBUG flwr 2023-04-28 07:45:26,658 | server.py:218 | fit_round 45: strategy sampled 10 clients (out of 10)\n",
            "DEBUG flwr 2023-04-28 07:45:48,284 | server.py:232 | fit_round 45 received 10 results and 0 failures\n",
            "DEBUG flwr 2023-04-28 07:45:48,297 | server.py:168 | evaluate_round 45: strategy sampled 5 clients (out of 10)\n",
            "DEBUG flwr 2023-04-28 07:45:56,918 | server.py:182 | evaluate_round 45 received 5 results and 0 failures\n",
            "DEBUG flwr 2023-04-28 07:45:56,919 | server.py:218 | fit_round 46: strategy sampled 10 clients (out of 10)\n",
            "DEBUG flwr 2023-04-28 07:46:19,315 | server.py:232 | fit_round 46 received 10 results and 0 failures\n",
            "DEBUG flwr 2023-04-28 07:46:19,327 | server.py:168 | evaluate_round 46: strategy sampled 5 clients (out of 10)\n",
            "DEBUG flwr 2023-04-28 07:46:27,594 | server.py:182 | evaluate_round 46 received 5 results and 0 failures\n",
            "DEBUG flwr 2023-04-28 07:46:27,595 | server.py:218 | fit_round 47: strategy sampled 10 clients (out of 10)\n",
            "DEBUG flwr 2023-04-28 07:46:49,894 | server.py:232 | fit_round 47 received 10 results and 0 failures\n",
            "DEBUG flwr 2023-04-28 07:46:49,907 | server.py:168 | evaluate_round 47: strategy sampled 5 clients (out of 10)\n",
            "DEBUG flwr 2023-04-28 07:46:58,540 | server.py:182 | evaluate_round 47 received 5 results and 0 failures\n",
            "DEBUG flwr 2023-04-28 07:46:58,540 | server.py:218 | fit_round 48: strategy sampled 10 clients (out of 10)\n",
            "DEBUG flwr 2023-04-28 07:47:20,412 | server.py:232 | fit_round 48 received 10 results and 0 failures\n",
            "DEBUG flwr 2023-04-28 07:47:20,424 | server.py:168 | evaluate_round 48: strategy sampled 5 clients (out of 10)\n",
            "DEBUG flwr 2023-04-28 07:47:29,091 | server.py:182 | evaluate_round 48 received 5 results and 0 failures\n",
            "DEBUG flwr 2023-04-28 07:47:29,091 | server.py:218 | fit_round 49: strategy sampled 10 clients (out of 10)\n",
            "DEBUG flwr 2023-04-28 07:47:50,977 | server.py:232 | fit_round 49 received 10 results and 0 failures\n",
            "DEBUG flwr 2023-04-28 07:47:50,989 | server.py:168 | evaluate_round 49: strategy sampled 5 clients (out of 10)\n",
            "DEBUG flwr 2023-04-28 07:47:59,827 | server.py:182 | evaluate_round 49 received 5 results and 0 failures\n",
            "DEBUG flwr 2023-04-28 07:47:59,827 | server.py:218 | fit_round 50: strategy sampled 10 clients (out of 10)\n"
          ]
        },
        {
          "name": "stdout",
          "output_type": "stream",
          "text": [
            "\u001b[2m\u001b[1m\u001b[33m(autoscaler +53m37s)\u001b[0m Warning: The following resource request cannot be scheduled right now: {'GPU': 1.0, 'CPU': 1.0}. This is likely due to all cluster resources being claimed by actors. Consider creating fewer actors or adding more nodes to this Ray cluster.\n"
          ]
        },
        {
          "name": "stderr",
          "output_type": "stream",
          "text": [
            "DEBUG flwr 2023-04-28 07:48:21,226 | server.py:232 | fit_round 50 received 10 results and 0 failures\n",
            "DEBUG flwr 2023-04-28 07:48:21,239 | server.py:168 | evaluate_round 50: strategy sampled 5 clients (out of 10)\n",
            "DEBUG flwr 2023-04-28 07:48:29,595 | server.py:182 | evaluate_round 50 received 5 results and 0 failures\n",
            "INFO flwr 2023-04-28 07:48:29,595 | server.py:147 | FL finished in 1532.6086869130377\n",
            "INFO flwr 2023-04-28 07:48:29,596 | app.py:218 | app_fit: losses_distributed [(1, 0.07609903421401977), (2, 2.0046006271362304), (3, 0.867990623474121), (4, 0.13507078285217286), (5, 0.08201024398803711), (6, 0.08384517507553099), (7, 0.07350656571388245), (8, 0.06918863506317138), (9, 0.06820909347534179), (10, 0.06657745490074159), (11, 0.07509647331237793), (12, 0.0717469398021698), (13, 0.0647759247303009), (14, 0.06753410553932189), (15, 0.061917456960678095), (16, 0.06795043792724609), (17, 0.06287464699745178), (18, 0.06356527967453003), (19, 0.06293819932937622), (20, 0.06074403953552245), (21, 0.06437308087348938), (22, 0.06169502053260802), (23, 0.06195940036773682), (24, 0.061223048830032344), (25, 0.059998712825775145), (26, 0.06123829193115234), (27, 0.06029387488365173), (28, 0.0597606385231018), (29, 0.059735484457015986), (30, 0.0594839129447937), (31, 0.059261047077178955), (32, 0.05909517068862915), (33, 0.058630465412139884), (34, 0.05996454510688781), (35, 0.05838205704689026), (36, 0.0597892168521881), (37, 0.058496501111984255), (38, 0.05897086958885193), (39, 0.060049289989471434), (40, 0.05799992890357971), (41, 0.05953196682929993), (42, 0.05770564994812012), (43, 0.05873726582527161), (44, 0.05905619301795959), (45, 0.059237657833099366), (46, 0.060468900251388555), (47, 0.0589381667137146), (48, 0.06065724878311157), (49, 0.05869542093276977), (50, 0.06018808159828186)]\n",
            "INFO flwr 2023-04-28 07:48:29,596 | app.py:219 | app_fit: metrics_distributed_fit {}\n",
            "INFO flwr 2023-04-28 07:48:29,596 | app.py:220 | app_fit: metrics_distributed {'accuracy': [(1, 0.0908), (2, 0.1048), (3, 0.0948), (4, 0.12840000000000001), (5, 0.15360000000000001), (6, 0.14800000000000002), (7, 0.16760000000000003), (8, 0.1584), (9, 0.1572), (10, 0.1808), (11, 0.21680000000000002), (12, 0.2132), (13, 0.18839999999999998), (14, 0.1612), (15, 0.2532), (16, 0.2156), (17, 0.2552), (18, 0.21600000000000003), (19, 0.22280000000000003), (20, 0.2604), (21, 0.2432), (22, 0.246), (23, 0.2488), (24, 0.23199999999999998), (25, 0.274), (26, 0.2712), (27, 0.2516), (28, 0.2584), (29, 0.254), (30, 0.26480000000000004), (31, 0.28800000000000003), (32, 0.2816), (33, 0.2848), (34, 0.2572), (35, 0.2772), (36, 0.27040000000000003), (37, 0.2712), (38, 0.27559999999999996), (39, 0.2552), (40, 0.28400000000000003), (41, 0.2684), (42, 0.27280000000000004), (43, 0.27640000000000003), (44, 0.28040000000000004), (45, 0.2564), (46, 0.2364), (47, 0.26680000000000004), (48, 0.24559999999999998), (49, 0.26480000000000004), (50, 0.2428)]}\n",
            "INFO flwr 2023-04-28 07:48:29,597 | app.py:221 | app_fit: losses_centralized []\n",
            "INFO flwr 2023-04-28 07:48:29,597 | app.py:222 | app_fit: metrics_centralized {}\n"
          ]
        }
      ],
      "source": [
        "# FedAdam\n",
        "strategy = fl.server.strategy.FedAdam(\n",
        "    fraction_fit=1.0,\n",
        "    fraction_evaluate=0.5,\n",
        "    min_fit_clients=10,\n",
        "    min_evaluate_clients=5,\n",
        "    min_available_clients=10,\n",
        "    evaluate_metrics_aggregation_fn=weighted_average,  # <-- pass the metric aggregation function\n",
        "    initial_parameters  = flwr.common.ndarrays_to_parameters(get_parameters(net))\n",
        ")\n",
        "\n",
        "# Start simulation\n",
        "historyFedAdam = fl.simulation.start_simulation(\n",
        "    client_fn=client_fn,\n",
        "    num_clients=NUM_CLIENTS,\n",
        "    config=fl.server.ServerConfig(num_rounds=EPOCH),\n",
        "    strategy=strategy,\n",
        "    client_resources=client_resources,\n",
        ")"
      ]
    },
    {
      "cell_type": "code",
      "execution_count": 19,
      "metadata": {},
      "outputs": [
        {
          "data": {
            "text/plain": [
              "History (loss, distributed):\n",
              "\tround 1: 0.07609903421401977\n",
              "\tround 2: 2.0046006271362304\n",
              "\tround 3: 0.867990623474121\n",
              "\tround 4: 0.13507078285217286\n",
              "\tround 5: 0.08201024398803711\n",
              "\tround 6: 0.08384517507553099\n",
              "\tround 7: 0.07350656571388245\n",
              "\tround 8: 0.06918863506317138\n",
              "\tround 9: 0.06820909347534179\n",
              "\tround 10: 0.06657745490074159\n",
              "\tround 11: 0.07509647331237793\n",
              "\tround 12: 0.0717469398021698\n",
              "\tround 13: 0.0647759247303009\n",
              "\tround 14: 0.06753410553932189\n",
              "\tround 15: 0.061917456960678095\n",
              "\tround 16: 0.06795043792724609\n",
              "\tround 17: 0.06287464699745178\n",
              "\tround 18: 0.06356527967453003\n",
              "\tround 19: 0.06293819932937622\n",
              "\tround 20: 0.06074403953552245\n",
              "\tround 21: 0.06437308087348938\n",
              "\tround 22: 0.06169502053260802\n",
              "\tround 23: 0.06195940036773682\n",
              "\tround 24: 0.061223048830032344\n",
              "\tround 25: 0.059998712825775145\n",
              "\tround 26: 0.06123829193115234\n",
              "\tround 27: 0.06029387488365173\n",
              "\tround 28: 0.0597606385231018\n",
              "\tround 29: 0.059735484457015986\n",
              "\tround 30: 0.0594839129447937\n",
              "\tround 31: 0.059261047077178955\n",
              "\tround 32: 0.05909517068862915\n",
              "\tround 33: 0.058630465412139884\n",
              "\tround 34: 0.05996454510688781\n",
              "\tround 35: 0.05838205704689026\n",
              "\tround 36: 0.0597892168521881\n",
              "\tround 37: 0.058496501111984255\n",
              "\tround 38: 0.05897086958885193\n",
              "\tround 39: 0.060049289989471434\n",
              "\tround 40: 0.05799992890357971\n",
              "\tround 41: 0.05953196682929993\n",
              "\tround 42: 0.05770564994812012\n",
              "\tround 43: 0.05873726582527161\n",
              "\tround 44: 0.05905619301795959\n",
              "\tround 45: 0.059237657833099366\n",
              "\tround 46: 0.060468900251388555\n",
              "\tround 47: 0.0589381667137146\n",
              "\tround 48: 0.06065724878311157\n",
              "\tround 49: 0.05869542093276977\n",
              "\tround 50: 0.06018808159828186\n",
              "History (metrics, distributed, evaluate):\n",
              "{'accuracy': [(1, 0.0908), (2, 0.1048), (3, 0.0948), (4, 0.12840000000000001), (5, 0.15360000000000001), (6, 0.14800000000000002), (7, 0.16760000000000003), (8, 0.1584), (9, 0.1572), (10, 0.1808), (11, 0.21680000000000002), (12, 0.2132), (13, 0.18839999999999998), (14, 0.1612), (15, 0.2532), (16, 0.2156), (17, 0.2552), (18, 0.21600000000000003), (19, 0.22280000000000003), (20, 0.2604), (21, 0.2432), (22, 0.246), (23, 0.2488), (24, 0.23199999999999998), (25, 0.274), (26, 0.2712), (27, 0.2516), (28, 0.2584), (29, 0.254), (30, 0.26480000000000004), (31, 0.28800000000000003), (32, 0.2816), (33, 0.2848), (34, 0.2572), (35, 0.2772), (36, 0.27040000000000003), (37, 0.2712), (38, 0.27559999999999996), (39, 0.2552), (40, 0.28400000000000003), (41, 0.2684), (42, 0.27280000000000004), (43, 0.27640000000000003), (44, 0.28040000000000004), (45, 0.2564), (46, 0.2364), (47, 0.26680000000000004), (48, 0.24559999999999998), (49, 0.26480000000000004), (50, 0.2428)]}"
            ]
          },
          "execution_count": 19,
          "metadata": {},
          "output_type": "execute_result"
        }
      ],
      "source": [
        "historyFedAdam"
      ]
    },
    {
      "cell_type": "markdown",
      "metadata": {
        "id": "BjtXHakh0SWq"
      },
      "source": [
        "## Final remarks\n",
        "\n",
        "Congratulations, you just trained a convolutional neural network, federated over 10 clients! With that, you understand the basics of federated learning with Flower. The same approach you've seen can be used with other machine learning frameworks (not just PyTorch) and tasks (not just CIFAR-10 images classification), for example NLP with Hugging Face Transformers or speech with SpeechBrain.\n",
        "\n",
        "In the next notebook, we're going to cover some more advanced concepts. Want to customize your strategy? Initialize parameters on the server side? Or evaluate the aggregated model on the server side? We'll cover all this and more in the next tutorial."
      ]
    },
    {
      "cell_type": "markdown",
      "metadata": {
        "id": "bXWB7udL0SWq"
      },
      "source": [
        "## Next steps\n",
        "\n",
        "Before you continue, make sure to join the Flower community on Slack: [Join Slack](https://flower.dev/join-slack/)\n",
        "\n",
        "There's a dedicated `#questions` channel if you need help, but we'd also love to hear who you are in `#introductions`!\n",
        "\n",
        "The [Flower Federated Learning Tutorial - Part 2](https://flower.dev/docs/tutorial/Flower-2-Strategies-in-FL-PyTorch.html) goes into more depth about strategies and all the advanced things you can build with them."
      ]
    }
  ],
  "metadata": {
    "colab": {
      "name": "Flower-1-Intro-to-FL-PyTorch.ipynb",
      "provenance": [],
      "toc_visible": true
    },
    "kernelspec": {
      "display_name": "flower-3.7.12",
      "language": "python",
      "name": "python3"
    },
    "language_info": {
      "codemirror_mode": {
        "name": "ipython",
        "version": 3
      },
      "file_extension": ".py",
      "mimetype": "text/x-python",
      "name": "python",
      "nbconvert_exporter": "python",
      "pygments_lexer": "ipython3",
      "version": "3.10.11"
    }
  },
  "nbformat": 4,
  "nbformat_minor": 0
}
