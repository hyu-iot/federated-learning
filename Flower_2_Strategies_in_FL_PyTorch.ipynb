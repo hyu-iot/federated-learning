{
  "cells": [
    {
      "cell_type": "markdown",
      "metadata": {
        "id": "EYqlqcKQvIGA"
      },
      "source": [
        "# Strategies in Federated Learning\n",
        "\n",
        "Welcome to the next part of the federated learning tutorial. In previous parts of this tutorial, we introduced federated learning with PyTorch and Flower ([part 1](https://flower.dev/docs/tutorial/Flower-1-Intro-to-FL-PyTorch.html)).\n",
        "\n",
        "In this notebook, we'll begin to customize the federated learning system we built in the introductory notebook (again, using [Flower](https://flower.dev/) and [PyTorch](https://pytorch.org/)).\n",
        "\n",
        "> [Star Flower on GitHub](https://github.com/adap/flower) ⭐️ and join the Flower community on Slack to connect, ask questions, and get help: [Join Slack](https://flower.dev/join-slack) 🌼 We'd love to hear from you in the `#introductions` channel! And if anything is unclear, head over to the `#questions` channel.\n",
        "\n",
        "Let's move beyond FedAvg with Flower Strategies!"
      ]
    },
    {
      "cell_type": "markdown",
      "metadata": {
        "id": "pfOlhr8HvIGH"
      },
      "source": [
        "## Preparation\n",
        "\n",
        "Before we begin with the actual code, let's make sure that we have everything we need."
      ]
    },
    {
      "cell_type": "markdown",
      "metadata": {
        "id": "_WqB5yu_vIGI"
      },
      "source": [
        "### Installing dependencies\n",
        "\n",
        "First, we install the necessary packages:"
      ]
    },
    {
      "cell_type": "markdown",
      "metadata": {
        "id": "Mrv4Alp5vIGK"
      },
      "source": [
        "Now that we have all dependencies installed, we can import everything we need for this tutorial:"
      ]
    },
    {
      "cell_type": "code",
      "execution_count": 1,
      "metadata": {
        "id": "BeNMqAFdvIGL"
      },
      "outputs": [
        {
          "name": "stdout",
          "output_type": "stream",
          "text": [
            "Training on cpu using PyTorch 2.0.0 and Flower 1.4.0\n"
          ]
        }
      ],
      "source": [
        "from collections import OrderedDict\n",
        "from typing import Dict, List, Optional, Tuple\n",
        "\n",
        "import numpy as np\n",
        "import torch\n",
        "import torch.nn as nn\n",
        "import torch.nn.functional as F\n",
        "import torchvision.transforms as transforms\n",
        "from torch.utils.data import DataLoader, random_split\n",
        "from torchvision.datasets import CIFAR10\n",
        "\n",
        "import flwr as fl\n",
        "\n",
        "DEVICE = torch.device(\"cpu\")  # Try \"cuda\" to train on GPU\n",
        "print(\n",
        "    f\"Training on {DEVICE} using PyTorch {torch.__version__} and Flower {fl.__version__}\"\n",
        ")"
      ]
    },
    {
      "cell_type": "markdown",
      "metadata": {
        "id": "8Va5Hkg7vIGM"
      },
      "source": [
        "It is possible to switch to a runtime that has GPU acceleration enabled (on Google Colab: `Runtime > Change runtime type > Hardware acclerator: GPU > Save`). Note, however, that Google Colab is not always able to offer GPU acceleration. If you see an error related to GPU availability in one of the following sections, consider switching back to CPU-based execution by setting `DEVICE = torch.device(\"cpu\")`. If the runtime has GPU acceleration enabled, you should see the output `Training on cuda`, otherwise it'll say `Training on cpu`."
      ]
    },
    {
      "cell_type": "markdown",
      "metadata": {
        "id": "1cnWUQ8zvIGN"
      },
      "source": [
        "### Data loading\n",
        "\n",
        "Let's now load the CIFAR-10 training and test set, partition them into ten smaller datasets (each split into training and validation set), and wrap everything in their own `DataLoader`. We introduce a new parameter `num_clients` which allows us to call `load_datasets` with different numbers of clients."
      ]
    },
    {
      "cell_type": "code",
      "execution_count": 2,
      "metadata": {
        "id": "R2Iow-0GvIGO"
      },
      "outputs": [
        {
          "name": "stdout",
          "output_type": "stream",
          "text": [
            "Files already downloaded and verified\n",
            "Files already downloaded and verified\n"
          ]
        }
      ],
      "source": [
        "NUM_CLIENTS = 10\n",
        "\n",
        "\n",
        "def load_datasets(num_clients: int):\n",
        "    # Download and transform CIFAR-10 (train and test)\n",
        "    transform = transforms.Compose(\n",
        "        [transforms.ToTensor(), transforms.Normalize((0.5, 0.5, 0.5), (0.5, 0.5, 0.5))]\n",
        "    )\n",
        "    trainset = CIFAR10(\"./dataset\", train=True, download=True, transform=transform)\n",
        "    testset = CIFAR10(\"./dataset\", train=False, download=True, transform=transform)\n",
        "\n",
        "    # Split training set into `num_clients` partitions to simulate different local datasets\n",
        "    partition_size = len(trainset) // num_clients\n",
        "    lengths = [partition_size] * num_clients\n",
        "    datasets = random_split(trainset, lengths, torch.Generator().manual_seed(42))\n",
        "\n",
        "    # Split each partition into train/val and create DataLoader\n",
        "    trainloaders = []\n",
        "    valloaders = []\n",
        "    for ds in datasets:\n",
        "        len_val = len(ds) // 10  # 10 % validation set\n",
        "        len_train = len(ds) - len_val\n",
        "        lengths = [len_train, len_val]\n",
        "        ds_train, ds_val = random_split(ds, lengths, torch.Generator().manual_seed(42))\n",
        "        trainloaders.append(DataLoader(ds_train, batch_size=32, shuffle=True))\n",
        "        valloaders.append(DataLoader(ds_val, batch_size=32))\n",
        "    testloader = DataLoader(testset, batch_size=32)\n",
        "    return trainloaders, valloaders, testloader\n",
        "\n",
        "\n",
        "trainloaders, valloaders, testloader = load_datasets(NUM_CLIENTS)"
      ]
    },
    {
      "cell_type": "markdown",
      "metadata": {
        "id": "NJ7wncx7vIGQ"
      },
      "source": [
        "### Model training/evaluation\n",
        "\n",
        "Let's continue with the usual model definition (including `set_parameters` and `get_parameters`), training and test functions:"
      ]
    },
    {
      "cell_type": "code",
      "execution_count": 3,
      "metadata": {
        "id": "0nDkhdltvIGR"
      },
      "outputs": [],
      "source": [
        "class Net(nn.Module):\n",
        "    def __init__(self) -> None:\n",
        "        super(Net, self).__init__()\n",
        "        self.conv1 = nn.Conv2d(3, 6, 5)\n",
        "        self.pool = nn.MaxPool2d(2, 2)\n",
        "        self.conv2 = nn.Conv2d(6, 16, 5)\n",
        "        self.fc1 = nn.Linear(16 * 5 * 5, 120)\n",
        "        self.fc2 = nn.Linear(120, 84)\n",
        "        self.fc3 = nn.Linear(84, 10)\n",
        "\n",
        "    def forward(self, x: torch.Tensor) -> torch.Tensor:\n",
        "        x = self.pool(F.relu(self.conv1(x)))\n",
        "        x = self.pool(F.relu(self.conv2(x)))\n",
        "        x = x.view(-1, 16 * 5 * 5)\n",
        "        x = F.relu(self.fc1(x))\n",
        "        x = F.relu(self.fc2(x))\n",
        "        x = self.fc3(x)\n",
        "        return x\n",
        "\n",
        "\n",
        "def get_parameters(net) -> List[np.ndarray]:\n",
        "    return [val.cpu().numpy() for _, val in net.state_dict().items()]\n",
        "\n",
        "\n",
        "def set_parameters(net, parameters: List[np.ndarray]):\n",
        "    params_dict = zip(net.state_dict().keys(), parameters)\n",
        "    state_dict = OrderedDict({k: torch.Tensor(v) for k, v in params_dict})\n",
        "    net.load_state_dict(state_dict, strict=True)\n",
        "\n",
        "\n",
        "def train(net, trainloader, epochs: int):\n",
        "    \"\"\"Train the network on the training set.\"\"\"\n",
        "    criterion = torch.nn.CrossEntropyLoss()\n",
        "    optimizer = torch.optim.Adam(net.parameters())\n",
        "    net.train()\n",
        "    for epoch in range(epochs):\n",
        "        correct, total, epoch_loss = 0, 0, 0.0\n",
        "        for images, labels in trainloader:\n",
        "            images, labels = images.to(DEVICE), labels.to(DEVICE)\n",
        "            optimizer.zero_grad()\n",
        "            outputs = net(images)\n",
        "            loss = criterion(net(images), labels)\n",
        "            loss.backward()\n",
        "            optimizer.step()\n",
        "            # Metrics\n",
        "            epoch_loss += loss\n",
        "            total += labels.size(0)\n",
        "            correct += (torch.max(outputs.data, 1)[1] == labels).sum().item()\n",
        "        epoch_loss /= len(trainloader.dataset)\n",
        "        epoch_acc = correct / total\n",
        "        print(f\"Epoch {epoch+1}: train loss {epoch_loss}, accuracy {epoch_acc}\")\n",
        "\n",
        "\n",
        "def test(net, testloader):\n",
        "    \"\"\"Evaluate the network on the entire test set.\"\"\"\n",
        "    criterion = torch.nn.CrossEntropyLoss()\n",
        "    correct, total, loss = 0, 0, 0.0\n",
        "    net.eval()\n",
        "    with torch.no_grad():\n",
        "        for images, labels in testloader:\n",
        "            images, labels = images.to(DEVICE), labels.to(DEVICE)\n",
        "            outputs = net(images)\n",
        "            loss += criterion(outputs, labels).item()\n",
        "            _, predicted = torch.max(outputs.data, 1)\n",
        "            total += labels.size(0)\n",
        "            correct += (predicted == labels).sum().item()\n",
        "    loss /= len(testloader.dataset)\n",
        "    accuracy = correct / total\n",
        "    return loss, accuracy"
      ]
    },
    {
      "cell_type": "markdown",
      "metadata": {
        "id": "sogq2wrJvIGR"
      },
      "source": [
        "### Flower client\n",
        "\n",
        "To implement the Flower client, we (again) create a subclass of `flwr.client.NumPyClient` and implement the three methods `get_parameters`, `fit`, and `evaluate`. Here, we also pass the `cid` to the client and use it log additional details:"
      ]
    },
    {
      "cell_type": "code",
      "execution_count": 4,
      "metadata": {
        "id": "CSGDFB29vIGS"
      },
      "outputs": [],
      "source": [
        "class FlowerClient(fl.client.NumPyClient):\n",
        "    def __init__(self, cid, net, trainloader, valloader):\n",
        "        self.cid = cid\n",
        "        self.net = net\n",
        "        self.trainloader = trainloader\n",
        "        self.valloader = valloader\n",
        "\n",
        "    def get_parameters(self, config):\n",
        "        print(f\"[Client {self.cid}] get_parameters\")\n",
        "        return get_parameters(self.net)\n",
        "\n",
        "    def fit(self, parameters, config):\n",
        "        print(f\"[Client {self.cid}] fit, config: {config}\")\n",
        "        set_parameters(self.net, parameters)\n",
        "        train(self.net, self.trainloader, epochs=1)\n",
        "        return get_parameters(self.net), len(self.trainloader), {}\n",
        "\n",
        "    def evaluate(self, parameters, config):\n",
        "        print(f\"[Client {self.cid}] evaluate, config: {config}\")\n",
        "        set_parameters(self.net, parameters)\n",
        "        loss, accuracy = test(self.net, self.valloader)\n",
        "        return float(loss), len(self.valloader), {\"accuracy\": float(accuracy)}\n",
        "\n",
        "\n",
        "def client_fn(cid) -> FlowerClient:\n",
        "    net = Net().to(DEVICE)\n",
        "    trainloader = trainloaders[int(cid)]\n",
        "    valloader = valloaders[int(cid)]\n",
        "    return FlowerClient(cid, net, trainloader, valloader)"
      ]
    },
    {
      "cell_type": "markdown",
      "metadata": {
        "id": "uJptU1aJvIGT"
      },
      "source": [
        "## Strategy customization\n",
        "\n",
        "So far, everything should look familiar if you've worked through the introductory notebook. With that, we're ready to introduce a number of new features. "
      ]
    },
    {
      "cell_type": "markdown",
      "metadata": {
        "id": "Mz82qnPHvIGT"
      },
      "source": [
        "### Server-side parameter **initialization**\n",
        "\n",
        "Flower, by default, initializes the global model by asking one random client for the initial parameters. In many cases, we want more control over parameter initialization though. Flower therefore allows you to directly pass the initial parameters to the Strategy:"
      ]
    },
    {
      "cell_type": "code",
      "execution_count": 5,
      "metadata": {
        "id": "zBRN_LfxvIGT"
      },
      "outputs": [
        {
          "name": "stderr",
          "output_type": "stream",
          "text": [
            "INFO flwr 2023-04-22 07:02:11,234 | app.py:146 | Starting Flower simulation, config: ServerConfig(num_rounds=3, round_timeout=None)\n",
            "2023-04-22 07:02:12,835\tINFO worker.py:1553 -- Started a local Ray instance.\n",
            "INFO flwr 2023-04-22 07:02:13,347 | app.py:180 | Flower VCE: Ray initialized with resources: {'CPU': 16.0, 'GPU': 1.0, 'memory': 81449971917.0, 'accelerator_type:RTX': 1.0, 'object_store_memory': 39192845107.0, 'node:172.17.0.2': 1.0}\n",
            "INFO flwr 2023-04-22 07:02:13,348 | server.py:86 | Initializing global parameters\n",
            "INFO flwr 2023-04-22 07:02:13,348 | server.py:269 | Using initial parameters provided by strategy\n",
            "INFO flwr 2023-04-22 07:02:13,348 | server.py:88 | Evaluating initial parameters\n",
            "INFO flwr 2023-04-22 07:02:13,349 | server.py:101 | FL starting\n",
            "DEBUG flwr 2023-04-22 07:02:13,349 | server.py:218 | fit_round 1: strategy sampled 3 clients (out of 10)\n"
          ]
        },
        {
          "name": "stdout",
          "output_type": "stream",
          "text": [
            "\u001b[2m\u001b[36m(launch_and_fit pid=26190)\u001b[0m [Client 7] fit, config: {}\n",
            "\u001b[2m\u001b[36m(launch_and_fit pid=26178)\u001b[0m [Client 1] fit, config: {}\n",
            "\u001b[2m\u001b[36m(launch_and_fit pid=26181)\u001b[0m [Client 2] fit, config: {}\n"
          ]
        },
        {
          "name": "stderr",
          "output_type": "stream",
          "text": [
            "DEBUG flwr 2023-04-22 07:02:16,933 | server.py:232 | fit_round 1 received 3 results and 0 failures\n",
            "WARNING flwr 2023-04-22 07:02:16,937 | fedavg.py:243 | No fit_metrics_aggregation_fn provided\n",
            "DEBUG flwr 2023-04-22 07:02:16,937 | server.py:168 | evaluate_round 1: strategy sampled 3 clients (out of 10)\n"
          ]
        },
        {
          "name": "stdout",
          "output_type": "stream",
          "text": [
            "\u001b[2m\u001b[36m(launch_and_fit pid=26178)\u001b[0m Epoch 1: train loss 0.06525014340877533, accuracy 0.22977777777777778\n"
          ]
        },
        {
          "name": "stderr",
          "output_type": "stream",
          "text": [
            "DEBUG flwr 2023-04-22 07:02:18,490 | server.py:182 | evaluate_round 1 received 3 results and 0 failures\n",
            "WARNING flwr 2023-04-22 07:02:18,491 | fedavg.py:274 | No evaluate_metrics_aggregation_fn provided\n",
            "DEBUG flwr 2023-04-22 07:02:18,491 | server.py:218 | fit_round 2: strategy sampled 3 clients (out of 10)\n"
          ]
        },
        {
          "name": "stdout",
          "output_type": "stream",
          "text": [
            "\u001b[2m\u001b[36m(launch_and_fit pid=26190)\u001b[0m Epoch 1: train loss 0.06510638445615768, accuracy 0.222\n",
            "\u001b[2m\u001b[36m(launch_and_fit pid=26181)\u001b[0m Epoch 1: train loss 0.06586910784244537, accuracy 0.21911111111111112\n",
            "\u001b[2m\u001b[36m(launch_and_evaluate pid=26178)\u001b[0m [Client 6] evaluate, config: {}\n",
            "\u001b[2m\u001b[36m(launch_and_evaluate pid=26190)\u001b[0m [Client 4] evaluate, config: {}\n",
            "\u001b[2m\u001b[36m(launch_and_evaluate pid=26181)\u001b[0m [Client 2] evaluate, config: {}\n",
            "\u001b[2m\u001b[36m(launch_and_fit pid=26178)\u001b[0m [Client 1] fit, config: {}\n",
            "\u001b[2m\u001b[36m(launch_and_fit pid=26190)\u001b[0m [Client 2] fit, config: {}\n",
            "\u001b[2m\u001b[36m(launch_and_fit pid=26181)\u001b[0m [Client 8] fit, config: {}\n"
          ]
        },
        {
          "name": "stderr",
          "output_type": "stream",
          "text": [
            "DEBUG flwr 2023-04-22 07:02:21,226 | server.py:232 | fit_round 2 received 3 results and 0 failures\n",
            "DEBUG flwr 2023-04-22 07:02:21,230 | server.py:168 | evaluate_round 2: strategy sampled 3 clients (out of 10)\n"
          ]
        },
        {
          "name": "stdout",
          "output_type": "stream",
          "text": [
            "\u001b[2m\u001b[36m(launch_and_fit pid=26178)\u001b[0m Epoch 1: train loss 0.057853300124406815, accuracy 0.31977777777777777\n"
          ]
        },
        {
          "name": "stderr",
          "output_type": "stream",
          "text": [
            "DEBUG flwr 2023-04-22 07:02:22,794 | server.py:182 | evaluate_round 2 received 3 results and 0 failures\n",
            "DEBUG flwr 2023-04-22 07:02:22,795 | server.py:218 | fit_round 3: strategy sampled 3 clients (out of 10)\n"
          ]
        },
        {
          "name": "stdout",
          "output_type": "stream",
          "text": [
            "\u001b[2m\u001b[36m(launch_and_fit pid=26190)\u001b[0m Epoch 1: train loss 0.058349113911390305, accuracy 0.3051111111111111\n",
            "\u001b[2m\u001b[36m(launch_and_fit pid=26181)\u001b[0m Epoch 1: train loss 0.05785178765654564, accuracy 0.3091111111111111\n",
            "\u001b[2m\u001b[36m(launch_and_evaluate pid=26178)\u001b[0m [Client 5] evaluate, config: {}\n",
            "\u001b[2m\u001b[36m(launch_and_evaluate pid=26190)\u001b[0m [Client 9] evaluate, config: {}\n",
            "\u001b[2m\u001b[36m(launch_and_evaluate pid=26181)\u001b[0m [Client 3] evaluate, config: {}\n",
            "\u001b[2m\u001b[36m(launch_and_fit pid=26178)\u001b[0m [Client 1] fit, config: {}\n",
            "\u001b[2m\u001b[36m(launch_and_fit pid=26190)\u001b[0m [Client 0] fit, config: {}\n",
            "\u001b[2m\u001b[36m(launch_and_fit pid=26181)\u001b[0m [Client 8] fit, config: {}\n"
          ]
        },
        {
          "name": "stderr",
          "output_type": "stream",
          "text": [
            "DEBUG flwr 2023-04-22 07:02:25,554 | server.py:232 | fit_round 3 received 3 results and 0 failures\n",
            "DEBUG flwr 2023-04-22 07:02:25,558 | server.py:168 | evaluate_round 3: strategy sampled 3 clients (out of 10)\n",
            "DEBUG flwr 2023-04-22 07:02:27,118 | server.py:182 | evaluate_round 3 received 3 results and 0 failures\n",
            "INFO flwr 2023-04-22 07:02:27,118 | server.py:147 | FL finished in 13.769745540019358\n",
            "INFO flwr 2023-04-22 07:02:27,119 | app.py:218 | app_fit: losses_distributed [(1, 0.06241602524121601), (2, 0.055532717386881515), (3, 0.05071285470326742)]\n",
            "INFO flwr 2023-04-22 07:02:27,120 | app.py:219 | app_fit: metrics_distributed_fit {}\n",
            "INFO flwr 2023-04-22 07:02:27,120 | app.py:220 | app_fit: metrics_distributed {}\n",
            "INFO flwr 2023-04-22 07:02:27,120 | app.py:221 | app_fit: losses_centralized []\n",
            "INFO flwr 2023-04-22 07:02:27,120 | app.py:222 | app_fit: metrics_centralized {}\n"
          ]
        },
        {
          "name": "stdout",
          "output_type": "stream",
          "text": [
            "\u001b[2m\u001b[36m(launch_and_fit pid=26178)\u001b[0m Epoch 1: train loss 0.05285913124680519, accuracy 0.3731111111111111\n",
            "\u001b[2m\u001b[36m(launch_and_fit pid=26190)\u001b[0m Epoch 1: train loss 0.05304573103785515, accuracy 0.37377777777777776\n",
            "\u001b[2m\u001b[36m(launch_and_fit pid=26181)\u001b[0m Epoch 1: train loss 0.052951399236917496, accuracy 0.3771111111111111\n",
            "\u001b[2m\u001b[36m(launch_and_evaluate pid=26190)\u001b[0m [Client 6] evaluate, config: {}\n"
          ]
        },
        {
          "data": {
            "text/plain": [
              "History (loss, distributed):\n",
              "\tround 1: 0.06241602524121601\n",
              "\tround 2: 0.055532717386881515\n",
              "\tround 3: 0.05071285470326742"
            ]
          },
          "execution_count": 5,
          "metadata": {},
          "output_type": "execute_result"
        }
      ],
      "source": [
        "# Create an instance of the model and get the parameters\n",
        "params = get_parameters(Net())\n",
        "\n",
        "# Pass parameters to the Strategy for server-side parameter initialization\n",
        "strategy = fl.server.strategy.FedAvg(\n",
        "    fraction_fit=0.3,\n",
        "    fraction_evaluate=0.3,\n",
        "    min_fit_clients=3,\n",
        "    min_evaluate_clients=3,\n",
        "    min_available_clients=NUM_CLIENTS,\n",
        "    initial_parameters=fl.common.ndarrays_to_parameters(params),\n",
        ")\n",
        "\n",
        "# Specify client resources if you need GPU (defaults to 1 CPU and 0 GPU)\n",
        "client_resources = None\n",
        "if DEVICE.type == \"cuda\":\n",
        "    client_resources = {\"num_gpus\": 1}\n",
        "\n",
        "# Start simulation\n",
        "fl.simulation.start_simulation(\n",
        "    client_fn=client_fn,\n",
        "    num_clients=NUM_CLIENTS,\n",
        "    config=fl.server.ServerConfig(num_rounds=3),  # Just three rounds\n",
        "    strategy=strategy,\n",
        "    client_resources=client_resources,\n",
        ")"
      ]
    },
    {
      "cell_type": "markdown",
      "metadata": {
        "id": "PTCh290fvIGU"
      },
      "source": [
        "Passing `initial_parameters` to the `FedAvg` strategy prevents Flower from asking one of the clients for the initial parameters. If we look closely, we can see that the logs do not show any calls to the `FlowerClient.get_parameters` method."
      ]
    },
    {
      "cell_type": "markdown",
      "metadata": {
        "id": "4rbuaUwfvIGU"
      },
      "source": [
        "### Starting with a customized strategy\n",
        "\n",
        "We've seen the function `start_simulation` before. It accepts a number of arguments, amongst them the `client_fn` used to create `FlowerClient` instances, the number of clients to simulate `num_clients`, the number of rounds `num_rounds`, and the strategy.\n",
        "\n",
        "The strategy encapsulates the federated learning approach/algorithm, for example, `FedAvg` or `FedAdagrad`. Let's try to use a different strategy this time:"
      ]
    },
    {
      "cell_type": "code",
      "execution_count": 6,
      "metadata": {
        "id": "W37plfF7vIGU"
      },
      "outputs": [
        {
          "name": "stdout",
          "output_type": "stream",
          "text": [
            "\u001b[2m\u001b[36m(launch_and_evaluate pid=26178)\u001b[0m [Client 3] evaluate, config: {}\n",
            "\u001b[2m\u001b[36m(launch_and_evaluate pid=26181)\u001b[0m [Client 7] evaluate, config: {}\n"
          ]
        },
        {
          "name": "stderr",
          "output_type": "stream",
          "text": [
            "INFO flwr 2023-04-22 07:02:27,328 | app.py:146 | Starting Flower simulation, config: ServerConfig(num_rounds=3, round_timeout=None)\n",
            "2023-04-22 07:02:31,114\tINFO worker.py:1553 -- Started a local Ray instance.\n",
            "INFO flwr 2023-04-22 07:02:31,627 | app.py:180 | Flower VCE: Ray initialized with resources: {'GPU': 1.0, 'object_store_memory': 39191371776.0, 'accelerator_type:RTX': 1.0, 'CPU': 16.0, 'memory': 81446534144.0, 'node:172.17.0.2': 1.0}\n",
            "INFO flwr 2023-04-22 07:02:31,628 | server.py:86 | Initializing global parameters\n",
            "INFO flwr 2023-04-22 07:02:31,628 | server.py:269 | Using initial parameters provided by strategy\n",
            "INFO flwr 2023-04-22 07:02:31,628 | server.py:88 | Evaluating initial parameters\n",
            "INFO flwr 2023-04-22 07:02:31,629 | server.py:101 | FL starting\n",
            "DEBUG flwr 2023-04-22 07:02:31,629 | server.py:218 | fit_round 1: strategy sampled 3 clients (out of 10)\n"
          ]
        },
        {
          "name": "stdout",
          "output_type": "stream",
          "text": [
            "\u001b[2m\u001b[36m(launch_and_fit pid=27363)\u001b[0m [Client 2] fit, config: {}\n",
            "\u001b[2m\u001b[36m(launch_and_fit pid=27364)\u001b[0m [Client 8] fit, config: {}\n",
            "\u001b[2m\u001b[36m(launch_and_fit pid=27355)\u001b[0m [Client 3] fit, config: {}\n"
          ]
        },
        {
          "name": "stderr",
          "output_type": "stream",
          "text": [
            "DEBUG flwr 2023-04-22 07:02:35,233 | server.py:232 | fit_round 1 received 3 results and 0 failures\n",
            "WARNING flwr 2023-04-22 07:02:35,238 | fedavg.py:243 | No fit_metrics_aggregation_fn provided\n",
            "DEBUG flwr 2023-04-22 07:02:35,240 | server.py:168 | evaluate_round 1: strategy sampled 3 clients (out of 10)\n"
          ]
        },
        {
          "name": "stdout",
          "output_type": "stream",
          "text": [
            "\u001b[2m\u001b[36m(launch_and_fit pid=27364)\u001b[0m Epoch 1: train loss 0.06468174606561661, accuracy 0.23\n",
            "\u001b[2m\u001b[36m(launch_and_fit pid=27355)\u001b[0m Epoch 1: train loss 0.06472698599100113, accuracy 0.21888888888888888\n",
            "\u001b[2m\u001b[36m(launch_and_fit pid=27363)\u001b[0m Epoch 1: train loss 0.06544194370508194, accuracy 0.22022222222222224\n",
            "\u001b[2m\u001b[36m(launch_and_evaluate pid=27363)\u001b[0m [Client 3] evaluate, config: {}\n",
            "\u001b[2m\u001b[36m(launch_and_evaluate pid=27364)\u001b[0m [Client 5] evaluate, config: {}\n",
            "\u001b[2m\u001b[36m(launch_and_evaluate pid=27355)\u001b[0m [Client 6] evaluate, config: {}\n"
          ]
        },
        {
          "name": "stderr",
          "output_type": "stream",
          "text": [
            "DEBUG flwr 2023-04-22 07:02:36,804 | server.py:182 | evaluate_round 1 received 3 results and 0 failures\n",
            "WARNING flwr 2023-04-22 07:02:36,804 | fedavg.py:274 | No evaluate_metrics_aggregation_fn provided\n",
            "DEBUG flwr 2023-04-22 07:02:36,804 | server.py:218 | fit_round 2: strategy sampled 3 clients (out of 10)\n"
          ]
        },
        {
          "name": "stdout",
          "output_type": "stream",
          "text": [
            "\u001b[2m\u001b[36m(launch_and_fit pid=27363)\u001b[0m [Client 6] fit, config: {}\n",
            "\u001b[2m\u001b[36m(launch_and_fit pid=27364)\u001b[0m [Client 5] fit, config: {}\n",
            "\u001b[2m\u001b[36m(launch_and_fit pid=27355)\u001b[0m [Client 7] fit, config: {}\n"
          ]
        },
        {
          "name": "stderr",
          "output_type": "stream",
          "text": [
            "DEBUG flwr 2023-04-22 07:02:39,551 | server.py:232 | fit_round 2 received 3 results and 0 failures\n",
            "DEBUG flwr 2023-04-22 07:02:39,557 | server.py:168 | evaluate_round 2: strategy sampled 3 clients (out of 10)\n"
          ]
        },
        {
          "name": "stdout",
          "output_type": "stream",
          "text": [
            "\u001b[2m\u001b[36m(launch_and_fit pid=27363)\u001b[0m Epoch 1: train loss 0.8216202855110168, accuracy 0.252\n"
          ]
        },
        {
          "name": "stderr",
          "output_type": "stream",
          "text": [
            "DEBUG flwr 2023-04-22 07:02:41,114 | server.py:182 | evaluate_round 2 received 3 results and 0 failures\n",
            "DEBUG flwr 2023-04-22 07:02:41,115 | server.py:218 | fit_round 3: strategy sampled 3 clients (out of 10)\n"
          ]
        },
        {
          "name": "stdout",
          "output_type": "stream",
          "text": [
            "\u001b[2m\u001b[36m(launch_and_fit pid=27364)\u001b[0m Epoch 1: train loss 0.7796672582626343, accuracy 0.2682222222222222\n",
            "\u001b[2m\u001b[36m(launch_and_fit pid=27355)\u001b[0m Epoch 1: train loss 0.760401725769043, accuracy 0.27266666666666667\n",
            "\u001b[2m\u001b[36m(launch_and_evaluate pid=27363)\u001b[0m [Client 5] evaluate, config: {}\n",
            "\u001b[2m\u001b[36m(launch_and_evaluate pid=27364)\u001b[0m [Client 9] evaluate, config: {}\n",
            "\u001b[2m\u001b[36m(launch_and_evaluate pid=27355)\u001b[0m [Client 4] evaluate, config: {}\n",
            "\u001b[2m\u001b[36m(launch_and_fit pid=27363)\u001b[0m [Client 2] fit, config: {}\n",
            "\u001b[2m\u001b[36m(launch_and_fit pid=27364)\u001b[0m [Client 1] fit, config: {}\n",
            "\u001b[2m\u001b[36m(launch_and_fit pid=27355)\u001b[0m [Client 8] fit, config: {}\n"
          ]
        },
        {
          "name": "stderr",
          "output_type": "stream",
          "text": [
            "DEBUG flwr 2023-04-22 07:02:43,847 | server.py:232 | fit_round 3 received 3 results and 0 failures\n",
            "DEBUG flwr 2023-04-22 07:02:43,852 | server.py:168 | evaluate_round 3: strategy sampled 3 clients (out of 10)\n",
            "DEBUG flwr 2023-04-22 07:02:45,407 | server.py:182 | evaluate_round 3 received 3 results and 0 failures\n",
            "INFO flwr 2023-04-22 07:02:45,407 | server.py:147 | FL finished in 13.77859928199905\n",
            "INFO flwr 2023-04-22 07:02:45,408 | app.py:218 | app_fit: losses_distributed [(1, 6.251721282958985), (2, 1.7226357905069987), (3, 0.08978998645146687)]\n",
            "INFO flwr 2023-04-22 07:02:45,408 | app.py:219 | app_fit: metrics_distributed_fit {}\n",
            "INFO flwr 2023-04-22 07:02:45,408 | app.py:220 | app_fit: metrics_distributed {}\n",
            "INFO flwr 2023-04-22 07:02:45,408 | app.py:221 | app_fit: losses_centralized []\n",
            "INFO flwr 2023-04-22 07:02:45,408 | app.py:222 | app_fit: metrics_centralized {}\n"
          ]
        },
        {
          "name": "stdout",
          "output_type": "stream",
          "text": [
            "\u001b[2m\u001b[36m(launch_and_fit pid=27363)\u001b[0m Epoch 1: train loss 0.1765015572309494, accuracy 0.15511111111111112\n",
            "\u001b[2m\u001b[36m(launch_and_fit pid=27364)\u001b[0m Epoch 1: train loss 0.16916421055793762, accuracy 0.15311111111111111\n",
            "\u001b[2m\u001b[36m(launch_and_fit pid=27355)\u001b[0m Epoch 1: train loss 0.1739998310804367, accuracy 0.15733333333333333\n",
            "\u001b[2m\u001b[36m(launch_and_evaluate pid=27363)\u001b[0m [Client 9] evaluate, config: {}\n",
            "\u001b[2m\u001b[36m(launch_and_evaluate pid=27364)\u001b[0m [Client 2] evaluate, config: {}\n",
            "\u001b[2m\u001b[36m(launch_and_evaluate pid=27355)\u001b[0m [Client 7] evaluate, config: {}\n"
          ]
        },
        {
          "data": {
            "text/plain": [
              "History (loss, distributed):\n",
              "\tround 1: 6.251721282958985\n",
              "\tround 2: 1.7226357905069987\n",
              "\tround 3: 0.08978998645146687"
            ]
          },
          "execution_count": 6,
          "metadata": {},
          "output_type": "execute_result"
        }
      ],
      "source": [
        "# Create FedAdam strategy\n",
        "strategy = fl.server.strategy.FedAdagrad(\n",
        "    fraction_fit=0.3,\n",
        "    fraction_evaluate=0.3,\n",
        "    min_fit_clients=3,\n",
        "    min_evaluate_clients=3,\n",
        "    min_available_clients=NUM_CLIENTS,\n",
        "    initial_parameters=fl.common.ndarrays_to_parameters(get_parameters(Net())),\n",
        ")\n",
        "\n",
        "# Start simulation\n",
        "fl.simulation.start_simulation(\n",
        "    client_fn=client_fn,\n",
        "    num_clients=NUM_CLIENTS,\n",
        "    config=fl.server.ServerConfig(num_rounds=3),  # Just three rounds\n",
        "    strategy=strategy,\n",
        "    client_resources=client_resources,\n",
        ")"
      ]
    },
    {
      "cell_type": "markdown",
      "metadata": {
        "id": "G71YHOQvvIGV"
      },
      "source": [
        "## Server-side parameter **evaluation**\n",
        "\n",
        "Flower can evaluate the aggregated model on the server-side or on the client-side. Client-side and server-side evaluation are similar in some ways, but different in others.\n",
        "\n",
        "**Centralized Evaluation** (or *server-side evaluation*) is conceptually simple: it works the same way that evaluation in centralized machine learning does. If there is a server-side dataset that can be used for evaluation purposes, then that's great. We can evaluate the newly aggregated model after each round of training without having to send the model to clients. We're also fortunate in the sense that our entire evaluation dataset is available at all times.\n",
        "\n",
        "**Federated Evaluation** (or *client-side evaluation*) is more complex, but also more powerful: it doesn't require a centralized dataset and allows us to evaluate models over a larger set of data, which often yields more realistic evaluation results. In fact, many scenarios require us to use **Federated Evaluation** if we want to get representative evaluation results at all. But this power comes at a cost: once we start to evaluate on the client side, we should be aware that our evaluation dataset can change over consecutive rounds of learning if those clients are not always available. Moreover, the dataset held by each client can also change over consecutive rounds. This can lead to evaluation results that are not stable, so even if we would not change the model, we'd see our evaluation results fluctuate over consecutive rounds.\n",
        "\n",
        "We've seen how federated evaluation works on the client side (i.e., by implementing the `evaluate` method in `FlowerClient`). Now let's see how we can evaluate aggregated model parameters on the server-side:"
      ]
    },
    {
      "cell_type": "code",
      "execution_count": 7,
      "metadata": {
        "id": "QW9lbt-9vIGV"
      },
      "outputs": [],
      "source": [
        "# The `evaluate` function will be by Flower called after every round\n",
        "def evaluate(\n",
        "    server_round: int,\n",
        "    parameters: fl.common.NDArrays,\n",
        "    config: Dict[str, fl.common.Scalar],\n",
        ") -> Optional[Tuple[float, Dict[str, fl.common.Scalar]]]:\n",
        "    net = Net().to(DEVICE)\n",
        "    valloader = valloaders[0]\n",
        "    set_parameters(net, parameters)  # Update model with the latest parameters\n",
        "    loss, accuracy = test(net, valloader)\n",
        "    print(f\"Server-side evaluation loss {loss} / accuracy {accuracy}\")\n",
        "    return loss, {\"accuracy\": accuracy}"
      ]
    },
    {
      "cell_type": "code",
      "execution_count": 8,
      "metadata": {
        "id": "sj1Gc6WbvIGV"
      },
      "outputs": [
        {
          "name": "stderr",
          "output_type": "stream",
          "text": [
            "INFO flwr 2023-04-22 07:02:45,688 | app.py:146 | Starting Flower simulation, config: ServerConfig(num_rounds=3, round_timeout=None)\n",
            "2023-04-22 07:02:49,495\tINFO worker.py:1553 -- Started a local Ray instance.\n",
            "INFO flwr 2023-04-22 07:02:50,033 | app.py:180 | Flower VCE: Ray initialized with resources: {'GPU': 1.0, 'CPU': 16.0, 'object_store_memory': 39190219161.0, 'accelerator_type:RTX': 1.0, 'memory': 81443844711.0, 'node:172.17.0.2': 1.0}\n",
            "INFO flwr 2023-04-22 07:02:50,033 | server.py:86 | Initializing global parameters\n",
            "INFO flwr 2023-04-22 07:02:50,034 | server.py:269 | Using initial parameters provided by strategy\n",
            "INFO flwr 2023-04-22 07:02:50,034 | server.py:88 | Evaluating initial parameters\n",
            "INFO flwr 2023-04-22 07:02:50,114 | server.py:91 | initial parameters (loss, other metrics): 0.07376225471496582, {'accuracy': 0.084}\n",
            "INFO flwr 2023-04-22 07:02:50,114 | server.py:101 | FL starting\n",
            "DEBUG flwr 2023-04-22 07:02:50,114 | server.py:218 | fit_round 1: strategy sampled 3 clients (out of 10)\n"
          ]
        },
        {
          "name": "stdout",
          "output_type": "stream",
          "text": [
            "Server-side evaluation loss 0.07376225471496582 / accuracy 0.084\n",
            "\u001b[2m\u001b[36m(launch_and_fit pid=28535)\u001b[0m [Client 4] fit, config: {}\n",
            "\u001b[2m\u001b[36m(launch_and_fit pid=28527)\u001b[0m [Client 0] fit, config: {}\n",
            "\u001b[2m\u001b[36m(launch_and_fit pid=28536)\u001b[0m [Client 2] fit, config: {}\n"
          ]
        },
        {
          "name": "stderr",
          "output_type": "stream",
          "text": [
            "DEBUG flwr 2023-04-22 07:02:53,759 | server.py:232 | fit_round 1 received 3 results and 0 failures\n",
            "WARNING flwr 2023-04-22 07:02:53,764 | fedavg.py:243 | No fit_metrics_aggregation_fn provided\n",
            "INFO flwr 2023-04-22 07:02:53,840 | server.py:119 | fit progress: (1, 0.06406156420707702, {'accuracy': 0.254}, 3.7258102739870083)\n",
            "DEBUG flwr 2023-04-22 07:02:53,840 | server.py:168 | evaluate_round 1: strategy sampled 3 clients (out of 10)\n"
          ]
        },
        {
          "name": "stdout",
          "output_type": "stream",
          "text": [
            "\u001b[2m\u001b[36m(launch_and_fit pid=28535)\u001b[0m Epoch 1: train loss 0.06578769534826279, accuracy 0.218\n",
            "\u001b[2m\u001b[36m(launch_and_fit pid=28527)\u001b[0m Epoch 1: train loss 0.06570062786340714, accuracy 0.2308888888888889\n",
            "\u001b[2m\u001b[36m(launch_and_fit pid=28536)\u001b[0m Epoch 1: train loss 0.06606102734804153, accuracy 0.21755555555555556\n",
            "Server-side evaluation loss 0.06406156420707702 / accuracy 0.254\n"
          ]
        },
        {
          "name": "stderr",
          "output_type": "stream",
          "text": [
            "DEBUG flwr 2023-04-22 07:02:55,423 | server.py:182 | evaluate_round 1 received 3 results and 0 failures\n",
            "WARNING flwr 2023-04-22 07:02:55,424 | fedavg.py:274 | No evaluate_metrics_aggregation_fn provided\n",
            "DEBUG flwr 2023-04-22 07:02:55,424 | server.py:218 | fit_round 2: strategy sampled 3 clients (out of 10)\n"
          ]
        },
        {
          "name": "stdout",
          "output_type": "stream",
          "text": [
            "\u001b[2m\u001b[36m(launch_and_evaluate pid=28535)\u001b[0m [Client 9] evaluate, config: {}\n",
            "\u001b[2m\u001b[36m(launch_and_evaluate pid=28527)\u001b[0m [Client 0] evaluate, config: {}\n",
            "\u001b[2m\u001b[36m(launch_and_evaluate pid=28536)\u001b[0m [Client 7] evaluate, config: {}\n",
            "\u001b[2m\u001b[36m(launch_and_fit pid=28535)\u001b[0m [Client 9] fit, config: {}\n",
            "\u001b[2m\u001b[36m(launch_and_fit pid=28527)\u001b[0m [Client 7] fit, config: {}\n",
            "\u001b[2m\u001b[36m(launch_and_fit pid=28536)\u001b[0m [Client 3] fit, config: {}\n"
          ]
        },
        {
          "name": "stderr",
          "output_type": "stream",
          "text": [
            "DEBUG flwr 2023-04-22 07:02:58,176 | server.py:232 | fit_round 2 received 3 results and 0 failures\n",
            "INFO flwr 2023-04-22 07:02:58,255 | server.py:119 | fit progress: (2, 0.057544283866882324, {'accuracy': 0.304}, 8.14118823199533)\n",
            "DEBUG flwr 2023-04-22 07:02:58,256 | server.py:168 | evaluate_round 2: strategy sampled 3 clients (out of 10)\n"
          ]
        },
        {
          "name": "stdout",
          "output_type": "stream",
          "text": [
            "\u001b[2m\u001b[36m(launch_and_fit pid=28535)\u001b[0m Epoch 1: train loss 0.05980348214507103, accuracy 0.2877777777777778\n",
            "\u001b[2m\u001b[36m(launch_and_fit pid=28527)\u001b[0m Epoch 1: train loss 0.059118129312992096, accuracy 0.29288888888888887\n",
            "\u001b[2m\u001b[36m(launch_and_fit pid=28536)\u001b[0m Epoch 1: train loss 0.059150274842977524, accuracy 0.2871111111111111\n",
            "Server-side evaluation loss 0.057544283866882324 / accuracy 0.304\n"
          ]
        },
        {
          "name": "stderr",
          "output_type": "stream",
          "text": [
            "DEBUG flwr 2023-04-22 07:02:59,833 | server.py:182 | evaluate_round 2 received 3 results and 0 failures\n",
            "DEBUG flwr 2023-04-22 07:02:59,833 | server.py:218 | fit_round 3: strategy sampled 3 clients (out of 10)\n"
          ]
        },
        {
          "name": "stdout",
          "output_type": "stream",
          "text": [
            "\u001b[2m\u001b[36m(launch_and_evaluate pid=28535)\u001b[0m [Client 2] evaluate, config: {}\n",
            "\u001b[2m\u001b[36m(launch_and_evaluate pid=28527)\u001b[0m [Client 7] evaluate, config: {}\n",
            "\u001b[2m\u001b[36m(launch_and_evaluate pid=28536)\u001b[0m [Client 1] evaluate, config: {}\n",
            "\u001b[2m\u001b[36m(launch_and_fit pid=28535)\u001b[0m [Client 8] fit, config: {}\n",
            "\u001b[2m\u001b[36m(launch_and_fit pid=28527)\u001b[0m [Client 6] fit, config: {}\n",
            "\u001b[2m\u001b[36m(launch_and_fit pid=28536)\u001b[0m [Client 0] fit, config: {}\n"
          ]
        },
        {
          "name": "stderr",
          "output_type": "stream",
          "text": [
            "DEBUG flwr 2023-04-22 07:03:02,574 | server.py:232 | fit_round 3 received 3 results and 0 failures\n",
            "INFO flwr 2023-04-22 07:03:02,642 | server.py:119 | fit progress: (3, 0.05280293393135071, {'accuracy': 0.39}, 12.528133098996477)\n",
            "DEBUG flwr 2023-04-22 07:03:02,643 | server.py:168 | evaluate_round 3: strategy sampled 3 clients (out of 10)\n"
          ]
        },
        {
          "name": "stdout",
          "output_type": "stream",
          "text": [
            "\u001b[2m\u001b[36m(launch_and_fit pid=28535)\u001b[0m Epoch 1: train loss 0.05411229655146599, accuracy 0.35733333333333334\n",
            "\u001b[2m\u001b[36m(launch_and_fit pid=28527)\u001b[0m Epoch 1: train loss 0.05569254606962204, accuracy 0.3402222222222222\n",
            "\u001b[2m\u001b[36m(launch_and_fit pid=28536)\u001b[0m Epoch 1: train loss 0.054536785930395126, accuracy 0.35733333333333334\n",
            "Server-side evaluation loss 0.05280293393135071 / accuracy 0.39\n"
          ]
        },
        {
          "name": "stderr",
          "output_type": "stream",
          "text": [
            "DEBUG flwr 2023-04-22 07:03:04,215 | server.py:182 | evaluate_round 3 received 3 results and 0 failures\n",
            "INFO flwr 2023-04-22 07:03:04,216 | server.py:147 | FL finished in 14.101416721998248\n",
            "INFO flwr 2023-04-22 07:03:04,216 | app.py:218 | app_fit: losses_distributed [(1, 0.06374757297833761), (2, 0.05778071657816569), (3, 0.052770209630330404)]\n",
            "INFO flwr 2023-04-22 07:03:04,216 | app.py:219 | app_fit: metrics_distributed_fit {}\n",
            "INFO flwr 2023-04-22 07:03:04,216 | app.py:220 | app_fit: metrics_distributed {}\n",
            "INFO flwr 2023-04-22 07:03:04,217 | app.py:221 | app_fit: losses_centralized [(0, 0.07376225471496582), (1, 0.06406156420707702), (2, 0.057544283866882324), (3, 0.05280293393135071)]\n",
            "INFO flwr 2023-04-22 07:03:04,217 | app.py:222 | app_fit: metrics_centralized {'accuracy': [(0, 0.084), (1, 0.254), (2, 0.304), (3, 0.39)]}\n"
          ]
        },
        {
          "name": "stdout",
          "output_type": "stream",
          "text": [
            "\u001b[2m\u001b[36m(launch_and_evaluate pid=28535)\u001b[0m [Client 5] evaluate, config: {}\n",
            "\u001b[2m\u001b[36m(launch_and_evaluate pid=28527)\u001b[0m [Client 4] evaluate, config: {}\n",
            "\u001b[2m\u001b[36m(launch_and_evaluate pid=28536)\u001b[0m [Client 9] evaluate, config: {}\n"
          ]
        },
        {
          "data": {
            "text/plain": [
              "History (loss, distributed):\n",
              "\tround 1: 0.06374757297833761\n",
              "\tround 2: 0.05778071657816569\n",
              "\tround 3: 0.052770209630330404\n",
              "History (loss, centralized):\n",
              "\tround 0: 0.07376225471496582\n",
              "\tround 1: 0.06406156420707702\n",
              "\tround 2: 0.057544283866882324\n",
              "\tround 3: 0.05280293393135071\n",
              "History (metrics, centralized):\n",
              "{'accuracy': [(0, 0.084), (1, 0.254), (2, 0.304), (3, 0.39)]}"
            ]
          },
          "execution_count": 8,
          "metadata": {},
          "output_type": "execute_result"
        }
      ],
      "source": [
        "strategy = fl.server.strategy.FedAvg(\n",
        "    fraction_fit=0.3,\n",
        "    fraction_evaluate=0.3,\n",
        "    min_fit_clients=3,\n",
        "    min_evaluate_clients=3,\n",
        "    min_available_clients=NUM_CLIENTS,\n",
        "    initial_parameters=fl.common.ndarrays_to_parameters(get_parameters(Net())),\n",
        "    evaluate_fn=evaluate,  # Pass the evaluation function\n",
        ")\n",
        "\n",
        "fl.simulation.start_simulation(\n",
        "    client_fn=client_fn,\n",
        "    num_clients=NUM_CLIENTS,\n",
        "    config=fl.server.ServerConfig(num_rounds=3),  # Just three rounds\n",
        "    strategy=strategy,\n",
        "    client_resources=client_resources,\n",
        ")"
      ]
    },
    {
      "cell_type": "markdown",
      "metadata": {
        "id": "pY_Vs0Q5vIGW"
      },
      "source": [
        "## Sending/receiving arbitrary values to/from clients\n",
        "\n",
        "In some situations, we want to configure client-side execution (trainig, evaluation) from the server-side. One example for that is the server asking the clients to train for a certain number of local epochs. Flower provides a way to send configuration values from the server to the clients using a dictionary. Let's look at an example where the clients receive values from the server through the `config` parameter in `fit` (`config` is also available in `evaluate`). The `fit` method receives the configuration dictionary through the `config` parameter and can then read values from this dictionary. In this example, it reads `server_round` and `local_epochs` and uses those values to improve the logging and configure the number of local training epochs:"
      ]
    },
    {
      "cell_type": "code",
      "execution_count": 9,
      "metadata": {
        "id": "MHzH6IzcvIGW"
      },
      "outputs": [],
      "source": [
        "class FlowerClient(fl.client.NumPyClient):\n",
        "    def __init__(self, cid, net, trainloader, valloader):\n",
        "        self.cid = cid\n",
        "        self.net = net\n",
        "        self.trainloader = trainloader\n",
        "        self.valloader = valloader\n",
        "\n",
        "    def get_parameters(self, config):\n",
        "        print(f\"[Client {self.cid}] get_parameters\")\n",
        "        return get_parameters(self.net)\n",
        "\n",
        "    def fit(self, parameters, config):\n",
        "        # Read values from config\n",
        "        server_round = config[\"server_round\"]\n",
        "        local_epochs = config[\"local_epochs\"]\n",
        "\n",
        "        # Use values provided by the config\n",
        "        print(f\"[Client {self.cid}, round {server_round}] fit, config: {config}\")\n",
        "        set_parameters(self.net, parameters)\n",
        "        train(self.net, self.trainloader, epochs=local_epochs)\n",
        "        return get_parameters(self.net), len(self.trainloader), {}\n",
        "\n",
        "    def evaluate(self, parameters, config):\n",
        "        print(f\"[Client {self.cid}] evaluate, config: {config}\")\n",
        "        set_parameters(self.net, parameters)\n",
        "        loss, accuracy = test(self.net, self.valloader)\n",
        "        return float(loss), len(self.valloader), {\"accuracy\": float(accuracy)}\n",
        "\n",
        "\n",
        "def client_fn(cid) -> FlowerClient:\n",
        "    net = Net().to(DEVICE)\n",
        "    trainloader = trainloaders[int(cid)]\n",
        "    valloader = valloaders[int(cid)]\n",
        "    return FlowerClient(cid, net, trainloader, valloader)"
      ]
    },
    {
      "cell_type": "markdown",
      "metadata": {
        "id": "Pf4RvH05vIGX"
      },
      "source": [
        "So how can we  send this config dictionary from server to clients? The built-in Flower Strategies provide way to do this, and it works similarly to the way server-side evaluation works. We provide a function to the strategy, and the strategy calls this function for every round of federated learning:"
      ]
    },
    {
      "cell_type": "code",
      "execution_count": 10,
      "metadata": {
        "id": "HV2zEI06vIGX"
      },
      "outputs": [],
      "source": [
        "def fit_config(server_round: int):\n",
        "    \"\"\"Return training configuration dict for each round.\n",
        "\n",
        "    Perform two rounds of training with one local epoch, increase to two local\n",
        "    epochs afterwards.\n",
        "    \"\"\"\n",
        "    config = {\n",
        "        \"server_round\": server_round,  # The current round of federated learning\n",
        "        \"local_epochs\": 1 if server_round < 2 else 2,  #\n",
        "    }\n",
        "    return config"
      ]
    },
    {
      "cell_type": "markdown",
      "metadata": {
        "id": "dvy0uTpCvIGX"
      },
      "source": [
        "Next, we'll just pass this function to the FedAvg strategy before starting the simulation:"
      ]
    },
    {
      "cell_type": "code",
      "execution_count": 11,
      "metadata": {
        "id": "QGRQ1-HQvIGX"
      },
      "outputs": [
        {
          "name": "stderr",
          "output_type": "stream",
          "text": [
            "INFO flwr 2023-04-22 07:03:04,854 | app.py:146 | Starting Flower simulation, config: ServerConfig(num_rounds=3, round_timeout=None)\n",
            "2023-04-22 07:03:08,589\tINFO worker.py:1553 -- Started a local Ray instance.\n",
            "INFO flwr 2023-04-22 07:03:09,090 | app.py:180 | Flower VCE: Ray initialized with resources: {'memory': 81440134554.0, 'node:172.17.0.2': 1.0, 'GPU': 1.0, 'object_store_memory': 39188629094.0, 'CPU': 16.0, 'accelerator_type:RTX': 1.0}\n",
            "INFO flwr 2023-04-22 07:03:09,091 | server.py:86 | Initializing global parameters\n",
            "INFO flwr 2023-04-22 07:03:09,091 | server.py:269 | Using initial parameters provided by strategy\n",
            "INFO flwr 2023-04-22 07:03:09,091 | server.py:88 | Evaluating initial parameters\n",
            "INFO flwr 2023-04-22 07:03:09,159 | server.py:91 | initial parameters (loss, other metrics): 0.07391011190414429, {'accuracy': 0.072}\n",
            "INFO flwr 2023-04-22 07:03:09,159 | server.py:101 | FL starting\n",
            "DEBUG flwr 2023-04-22 07:03:09,159 | server.py:218 | fit_round 1: strategy sampled 3 clients (out of 10)\n"
          ]
        },
        {
          "name": "stdout",
          "output_type": "stream",
          "text": [
            "Server-side evaluation loss 0.07391011190414429 / accuracy 0.072\n",
            "\u001b[2m\u001b[36m(launch_and_fit pid=29697)\u001b[0m [Client 1, round 1] fit, config: {'server_round': 1, 'local_epochs': 1}\n",
            "\u001b[2m\u001b[36m(launch_and_fit pid=29695)\u001b[0m [Client 5, round 1] fit, config: {'server_round': 1, 'local_epochs': 1}\n",
            "\u001b[2m\u001b[36m(launch_and_fit pid=29706)\u001b[0m [Client 0, round 1] fit, config: {'server_round': 1, 'local_epochs': 1}\n"
          ]
        },
        {
          "name": "stderr",
          "output_type": "stream",
          "text": [
            "DEBUG flwr 2023-04-22 07:03:12,763 | server.py:232 | fit_round 1 received 3 results and 0 failures\n",
            "WARNING flwr 2023-04-22 07:03:12,767 | fedavg.py:243 | No fit_metrics_aggregation_fn provided\n",
            "INFO flwr 2023-04-22 07:03:12,837 | server.py:119 | fit progress: (1, 0.06278548097610473, {'accuracy': 0.266}, 3.677843862998998)\n",
            "DEBUG flwr 2023-04-22 07:03:12,838 | server.py:168 | evaluate_round 1: strategy sampled 3 clients (out of 10)\n"
          ]
        },
        {
          "name": "stdout",
          "output_type": "stream",
          "text": [
            "\u001b[2m\u001b[36m(launch_and_fit pid=29697)\u001b[0m Epoch 1: train loss 0.06454993784427643, accuracy 0.23644444444444446\n",
            "\u001b[2m\u001b[36m(launch_and_fit pid=29695)\u001b[0m Epoch 1: train loss 0.0648919865489006, accuracy 0.22711111111111112\n",
            "\u001b[2m\u001b[36m(launch_and_fit pid=29706)\u001b[0m Epoch 1: train loss 0.06498292088508606, accuracy 0.2351111111111111\n",
            "Server-side evaluation loss 0.06278548097610473 / accuracy 0.266\n"
          ]
        },
        {
          "name": "stderr",
          "output_type": "stream",
          "text": [
            "DEBUG flwr 2023-04-22 07:03:14,425 | server.py:182 | evaluate_round 1 received 3 results and 0 failures\n",
            "WARNING flwr 2023-04-22 07:03:14,426 | fedavg.py:274 | No evaluate_metrics_aggregation_fn provided\n",
            "DEBUG flwr 2023-04-22 07:03:14,426 | server.py:218 | fit_round 2: strategy sampled 3 clients (out of 10)\n"
          ]
        },
        {
          "name": "stdout",
          "output_type": "stream",
          "text": [
            "\u001b[2m\u001b[36m(launch_and_evaluate pid=29697)\u001b[0m [Client 7] evaluate, config: {}\n",
            "\u001b[2m\u001b[36m(launch_and_evaluate pid=29695)\u001b[0m [Client 0] evaluate, config: {}\n",
            "\u001b[2m\u001b[36m(launch_and_evaluate pid=29706)\u001b[0m [Client 1] evaluate, config: {}\n",
            "\u001b[2m\u001b[36m(launch_and_fit pid=29697)\u001b[0m [Client 6, round 2] fit, config: {'server_round': 2, 'local_epochs': 2}\n",
            "\u001b[2m\u001b[36m(launch_and_fit pid=29695)\u001b[0m [Client 8, round 2] fit, config: {'server_round': 2, 'local_epochs': 2}\n",
            "\u001b[2m\u001b[36m(launch_and_fit pid=29706)\u001b[0m [Client 7, round 2] fit, config: {'server_round': 2, 'local_epochs': 2}\n",
            "\u001b[2m\u001b[36m(launch_and_fit pid=29697)\u001b[0m Epoch 1: train loss 0.05850958079099655, accuracy 0.31066666666666665\n",
            "\u001b[2m\u001b[36m(launch_and_fit pid=29695)\u001b[0m Epoch 1: train loss 0.05744852125644684, accuracy 0.3333333333333333\n",
            "\u001b[2m\u001b[36m(launch_and_fit pid=29706)\u001b[0m Epoch 1: train loss 0.057101745158433914, accuracy 0.3348888888888889\n"
          ]
        },
        {
          "name": "stderr",
          "output_type": "stream",
          "text": [
            "DEBUG flwr 2023-04-22 07:03:18,432 | server.py:232 | fit_round 2 received 3 results and 0 failures\n",
            "INFO flwr 2023-04-22 07:03:18,503 | server.py:119 | fit progress: (2, 0.05322354674339294, {'accuracy': 0.39}, 9.343388577981386)\n",
            "DEBUG flwr 2023-04-22 07:03:18,503 | server.py:168 | evaluate_round 2: strategy sampled 3 clients (out of 10)\n"
          ]
        },
        {
          "name": "stdout",
          "output_type": "stream",
          "text": [
            "\u001b[2m\u001b[36m(launch_and_fit pid=29697)\u001b[0m Epoch 2: train loss 0.05376272648572922, accuracy 0.37\n",
            "\u001b[2m\u001b[36m(launch_and_fit pid=29695)\u001b[0m Epoch 2: train loss 0.05306997522711754, accuracy 0.3804444444444444\n",
            "\u001b[2m\u001b[36m(launch_and_fit pid=29706)\u001b[0m Epoch 2: train loss 0.052310340106487274, accuracy 0.39355555555555555\n",
            "Server-side evaluation loss 0.05322354674339294 / accuracy 0.39\n"
          ]
        },
        {
          "name": "stderr",
          "output_type": "stream",
          "text": [
            "DEBUG flwr 2023-04-22 07:03:20,078 | server.py:182 | evaluate_round 2 received 3 results and 0 failures\n",
            "DEBUG flwr 2023-04-22 07:03:20,079 | server.py:218 | fit_round 3: strategy sampled 3 clients (out of 10)\n"
          ]
        },
        {
          "name": "stdout",
          "output_type": "stream",
          "text": [
            "\u001b[2m\u001b[36m(launch_and_evaluate pid=29706)\u001b[0m [Client 4] evaluate, config: {}\n",
            "\u001b[2m\u001b[36m(launch_and_evaluate pid=29695)\u001b[0m [Client 7] evaluate, config: {}\n",
            "\u001b[2m\u001b[36m(launch_and_evaluate pid=29706)\u001b[0m [Client 0] evaluate, config: {}\n",
            "\u001b[2m\u001b[36m(launch_and_fit pid=29697)\u001b[0m [Client 3, round 3] fit, config: {'server_round': 3, 'local_epochs': 2}\n",
            "\u001b[2m\u001b[36m(launch_and_fit pid=29695)\u001b[0m [Client 9, round 3] fit, config: {'server_round': 3, 'local_epochs': 2}\n",
            "\u001b[2m\u001b[36m(launch_and_fit pid=29706)\u001b[0m [Client 2, round 3] fit, config: {'server_round': 3, 'local_epochs': 2}\n",
            "\u001b[2m\u001b[36m(launch_and_fit pid=29697)\u001b[0m Epoch 1: train loss 0.05173533037304878, accuracy 0.40066666666666667\n",
            "\u001b[2m\u001b[36m(launch_and_fit pid=29695)\u001b[0m Epoch 1: train loss 0.0518895760178566, accuracy 0.3933333333333333\n",
            "\u001b[2m\u001b[36m(launch_and_fit pid=29706)\u001b[0m Epoch 1: train loss 0.05193759500980377, accuracy 0.398\n"
          ]
        },
        {
          "name": "stderr",
          "output_type": "stream",
          "text": [
            "DEBUG flwr 2023-04-22 07:03:24,130 | server.py:232 | fit_round 3 received 3 results and 0 failures\n",
            "INFO flwr 2023-04-22 07:03:24,201 | server.py:119 | fit progress: (3, 0.049795527458190915, {'accuracy': 0.422}, 15.041224953980418)\n",
            "DEBUG flwr 2023-04-22 07:03:24,201 | server.py:168 | evaluate_round 3: strategy sampled 3 clients (out of 10)\n"
          ]
        },
        {
          "name": "stdout",
          "output_type": "stream",
          "text": [
            "Server-side evaluation loss 0.049795527458190915 / accuracy 0.422\n"
          ]
        },
        {
          "name": "stderr",
          "output_type": "stream",
          "text": [
            "DEBUG flwr 2023-04-22 07:03:25,780 | server.py:182 | evaluate_round 3 received 3 results and 0 failures\n",
            "INFO flwr 2023-04-22 07:03:25,780 | server.py:147 | FL finished in 16.620860589988297\n",
            "INFO flwr 2023-04-22 07:03:25,780 | app.py:218 | app_fit: losses_distributed [(1, 0.06243948419888814), (2, 0.05310377430915833), (3, 0.04966310254732768)]\n",
            "INFO flwr 2023-04-22 07:03:25,781 | app.py:219 | app_fit: metrics_distributed_fit {}\n",
            "INFO flwr 2023-04-22 07:03:25,781 | app.py:220 | app_fit: metrics_distributed {}\n",
            "INFO flwr 2023-04-22 07:03:25,781 | app.py:221 | app_fit: losses_centralized [(0, 0.07391011190414429), (1, 0.06278548097610473), (2, 0.05322354674339294), (3, 0.049795527458190915)]\n",
            "INFO flwr 2023-04-22 07:03:25,781 | app.py:222 | app_fit: metrics_centralized {'accuracy': [(0, 0.072), (1, 0.266), (2, 0.39), (3, 0.422)]}\n"
          ]
        },
        {
          "name": "stdout",
          "output_type": "stream",
          "text": [
            "\u001b[2m\u001b[36m(launch_and_fit pid=29697)\u001b[0m Epoch 2: train loss 0.049228593707084656, accuracy 0.4242222222222222\n",
            "\u001b[2m\u001b[36m(launch_and_fit pid=29695)\u001b[0m Epoch 2: train loss 0.048996951431035995, accuracy 0.42933333333333334\n",
            "\u001b[2m\u001b[36m(launch_and_fit pid=29706)\u001b[0m Epoch 2: train loss 0.04934291914105415, accuracy 0.4262222222222222\n",
            "\u001b[2m\u001b[36m(launch_and_evaluate pid=29697)\u001b[0m [Client 9] evaluate, config: {}\n",
            "\u001b[2m\u001b[36m(launch_and_evaluate pid=29695)\u001b[0m [Client 1] evaluate, config: {}\n",
            "\u001b[2m\u001b[36m(launch_and_evaluate pid=29706)\u001b[0m [Client 3] evaluate, config: {}\n"
          ]
        },
        {
          "data": {
            "text/plain": [
              "History (loss, distributed):\n",
              "\tround 1: 0.06243948419888814\n",
              "\tround 2: 0.05310377430915833\n",
              "\tround 3: 0.04966310254732768\n",
              "History (loss, centralized):\n",
              "\tround 0: 0.07391011190414429\n",
              "\tround 1: 0.06278548097610473\n",
              "\tround 2: 0.05322354674339294\n",
              "\tround 3: 0.049795527458190915\n",
              "History (metrics, centralized):\n",
              "{'accuracy': [(0, 0.072), (1, 0.266), (2, 0.39), (3, 0.422)]}"
            ]
          },
          "execution_count": 11,
          "metadata": {},
          "output_type": "execute_result"
        }
      ],
      "source": [
        "strategy = fl.server.strategy.FedAvg(\n",
        "    fraction_fit=0.3,\n",
        "    fraction_evaluate=0.3,\n",
        "    min_fit_clients=3,\n",
        "    min_evaluate_clients=3,\n",
        "    min_available_clients=NUM_CLIENTS,\n",
        "    initial_parameters=fl.common.ndarrays_to_parameters(get_parameters(Net())),\n",
        "    evaluate_fn=evaluate,\n",
        "    on_fit_config_fn=fit_config,  # Pass the fit_config function\n",
        ")\n",
        "\n",
        "fl.simulation.start_simulation(\n",
        "    client_fn=client_fn,\n",
        "    num_clients=NUM_CLIENTS,\n",
        "    config=fl.server.ServerConfig(num_rounds=3),  # Just three rounds\n",
        "    strategy=strategy,\n",
        "    client_resources=client_resources,\n",
        ")"
      ]
    },
    {
      "cell_type": "markdown",
      "metadata": {
        "id": "Quk-ax9GvIGX"
      },
      "source": [
        "As we can see, the client logs now include the current round of federated learning (which they read from the `config` dictionary). We can also configure local training to run for one epoch during the first and second round of federated learning, and then for two epochs during the third round.\n",
        "\n",
        "Clients can also return arbitrary values to the server. To do so, they return a dictionary from `fit` and/or `evaluate`. We have seen and used this concept throughout this notebook without mentioning it explicitly: our `FlowerClient` returns a dictionary containing a custom key/value pair as the third return value in `evaluate`."
      ]
    },
    {
      "cell_type": "markdown",
      "metadata": {
        "id": "uzghHuE4vIGX"
      },
      "source": [
        "## Scaling federated learning\n",
        "\n",
        "As a last step in this notebook, let's see how we can use Flower to experiment with a large number of clients."
      ]
    },
    {
      "cell_type": "code",
      "execution_count": 12,
      "metadata": {
        "id": "tpq2ENSdvIGY"
      },
      "outputs": [
        {
          "name": "stdout",
          "output_type": "stream",
          "text": [
            "Files already downloaded and verified\n",
            "Files already downloaded and verified\n"
          ]
        }
      ],
      "source": [
        "NUM_CLIENTS = 1000\n",
        "\n",
        "trainloaders, valloaders, testloader = load_datasets(NUM_CLIENTS)"
      ]
    },
    {
      "cell_type": "markdown",
      "metadata": {
        "id": "OekTa12ivIGY"
      },
      "source": [
        "We now have 1000 partitions, each holding 45 training and 5 validation examples. Given that the number of training examples on each client is quite small, we should probably train the model a bit longer, so we configure the clients to perform 3 local training epochs. We should also adjust the fraction of clients selected for training during each round (we don't want all 1000 clients participating in every round), so we adjust `fraction_fit` to `0.05`, which means that only 5% of available clients (so 50 clients) will be selected for training each round:\n"
      ]
    },
    {
      "cell_type": "code",
      "execution_count": 13,
      "metadata": {
        "id": "o1Kg9m6TvIGY"
      },
      "outputs": [
        {
          "name": "stderr",
          "output_type": "stream",
          "text": [
            "INFO flwr 2023-04-22 07:03:26,989 | app.py:146 | Starting Flower simulation, config: ServerConfig(num_rounds=3, round_timeout=None)\n",
            "2023-04-22 07:03:30,985\tINFO worker.py:1553 -- Started a local Ray instance.\n",
            "INFO flwr 2023-04-22 07:03:31,521 | app.py:180 | Flower VCE: Ray initialized with resources: {'accelerator_type:RTX': 1.0, 'node:172.17.0.2': 1.0, 'CPU': 16.0, 'object_store_memory': 39195242496.0, 'GPU': 1.0, 'memory': 81455565824.0}\n",
            "INFO flwr 2023-04-22 07:03:31,524 | server.py:86 | Initializing global parameters\n",
            "INFO flwr 2023-04-22 07:03:31,524 | server.py:269 | Using initial parameters provided by strategy\n",
            "INFO flwr 2023-04-22 07:03:31,524 | server.py:88 | Evaluating initial parameters\n",
            "INFO flwr 2023-04-22 07:03:31,525 | server.py:101 | FL starting\n",
            "DEBUG flwr 2023-04-22 07:03:31,525 | server.py:218 | fit_round 1: strategy sampled 25 clients (out of 1000)\n"
          ]
        },
        {
          "name": "stdout",
          "output_type": "stream",
          "text": [
            "\u001b[2m\u001b[36m(launch_and_fit pid=30889)\u001b[0m [Client 411, round 1] fit, config: {'server_round': 1, 'local_epochs': 3}\n",
            "\u001b[2m\u001b[36m(launch_and_fit pid=30889)\u001b[0m Epoch 1: train loss 0.10243480652570724, accuracy 0.13333333333333333\n",
            "\u001b[2m\u001b[36m(launch_and_fit pid=30889)\u001b[0m Epoch 2: train loss 0.10198924690485, accuracy 0.15555555555555556\n",
            "\u001b[2m\u001b[36m(launch_and_fit pid=30889)\u001b[0m Epoch 3: train loss 0.10127224028110504, accuracy 0.15555555555555556\n",
            "\u001b[2m\u001b[36m(launch_and_fit pid=30898)\u001b[0m [Client 276, round 1] fit, config: {'server_round': 1, 'local_epochs': 3}\n",
            "\u001b[2m\u001b[36m(launch_and_fit pid=30898)\u001b[0m Epoch 1: train loss 0.10211679339408875, accuracy 0.1111111111111111\n",
            "\u001b[2m\u001b[36m(launch_and_fit pid=30898)\u001b[0m Epoch 2: train loss 0.1018018051981926, accuracy 0.2\n",
            "\u001b[2m\u001b[36m(launch_and_fit pid=30898)\u001b[0m Epoch 3: train loss 0.10134734958410263, accuracy 0.15555555555555556\n",
            "\u001b[2m\u001b[36m(launch_and_fit pid=30889)\u001b[0m [Client 278, round 1] fit, config: {'server_round': 1, 'local_epochs': 3}\n",
            "\u001b[2m\u001b[36m(launch_and_fit pid=30889)\u001b[0m Epoch 1: train loss 0.10276345163583755, accuracy 0.06666666666666667\n",
            "\u001b[2m\u001b[36m(launch_and_fit pid=30889)\u001b[0m Epoch 2: train loss 0.10192997008562088, accuracy 0.17777777777777778\n",
            "\u001b[2m\u001b[36m(launch_and_fit pid=30889)\u001b[0m Epoch 3: train loss 0.10133037716150284, accuracy 0.2222222222222222\n",
            "\u001b[2m\u001b[36m(launch_and_fit pid=30891)\u001b[0m [Client 265, round 1] fit, config: {'server_round': 1, 'local_epochs': 3}\n",
            "\u001b[2m\u001b[36m(launch_and_fit pid=30891)\u001b[0m Epoch 1: train loss 0.10280227661132812, accuracy 0.06666666666666667\n",
            "\u001b[2m\u001b[36m(launch_and_fit pid=30891)\u001b[0m Epoch 2: train loss 0.10197389125823975, accuracy 0.1111111111111111\n",
            "\u001b[2m\u001b[36m(launch_and_fit pid=30891)\u001b[0m Epoch 3: train loss 0.1010235920548439, accuracy 0.15555555555555556\n",
            "\u001b[2m\u001b[36m(launch_and_fit pid=30891)\u001b[0m [Client 502, round 1] fit, config: {'server_round': 1, 'local_epochs': 3}\n",
            "\u001b[2m\u001b[36m(launch_and_fit pid=30891)\u001b[0m Epoch 1: train loss 0.10235121101140976, accuracy 0.1111111111111111\n",
            "\u001b[2m\u001b[36m(launch_and_fit pid=30891)\u001b[0m Epoch 2: train loss 0.10155414789915085, accuracy 0.2222222222222222\n",
            "\u001b[2m\u001b[36m(launch_and_fit pid=30891)\u001b[0m Epoch 3: train loss 0.10147075355052948, accuracy 0.1111111111111111\n",
            "\u001b[2m\u001b[36m(launch_and_fit pid=30891)\u001b[0m [Client 732, round 1] fit, config: {'server_round': 1, 'local_epochs': 3}\n",
            "\u001b[2m\u001b[36m(launch_and_fit pid=30891)\u001b[0m Epoch 1: train loss 0.10279000550508499, accuracy 0.044444444444444446\n",
            "\u001b[2m\u001b[36m(launch_and_fit pid=30891)\u001b[0m Epoch 2: train loss 0.10197370499372482, accuracy 0.1111111111111111\n",
            "\u001b[2m\u001b[36m(launch_and_fit pid=30891)\u001b[0m Epoch 3: train loss 0.10116449743509293, accuracy 0.26666666666666666\n",
            "\u001b[2m\u001b[36m(launch_and_fit pid=30891)\u001b[0m [Client 677, round 1] fit, config: {'server_round': 1, 'local_epochs': 3}\n",
            "\u001b[2m\u001b[36m(launch_and_fit pid=30891)\u001b[0m Epoch 1: train loss 0.10149908810853958, accuracy 0.15555555555555556\n",
            "\u001b[2m\u001b[36m(launch_and_fit pid=30891)\u001b[0m Epoch 2: train loss 0.10087986290454865, accuracy 0.2222222222222222\n",
            "\u001b[2m\u001b[36m(launch_and_fit pid=30891)\u001b[0m Epoch 3: train loss 0.1001473143696785, accuracy 0.2\n",
            "\u001b[2m\u001b[36m(launch_and_fit pid=30891)\u001b[0m [Client 167, round 1] fit, config: {'server_round': 1, 'local_epochs': 3}\n",
            "\u001b[2m\u001b[36m(launch_and_fit pid=30891)\u001b[0m Epoch 1: train loss 0.10278019309043884, accuracy 0.1111111111111111\n",
            "\u001b[2m\u001b[36m(launch_and_fit pid=30891)\u001b[0m Epoch 2: train loss 0.10207748413085938, accuracy 0.15555555555555556\n",
            "\u001b[2m\u001b[36m(launch_and_fit pid=30891)\u001b[0m Epoch 3: train loss 0.10131081193685532, accuracy 0.13333333333333333\n",
            "\u001b[2m\u001b[36m(launch_and_fit pid=30898)\u001b[0m [Client 939, round 1] fit, config: {'server_round': 1, 'local_epochs': 3}\n",
            "\u001b[2m\u001b[36m(launch_and_fit pid=30891)\u001b[0m [Client 128, round 1] fit, config: {'server_round': 1, 'local_epochs': 3}\n",
            "\u001b[2m\u001b[36m(launch_and_fit pid=30891)\u001b[0m Epoch 1: train loss 0.10252999514341354, accuracy 0.08888888888888889\n",
            "\u001b[2m\u001b[36m(launch_and_fit pid=30889)\u001b[0m [Client 322, round 1] fit, config: {'server_round': 1, 'local_epochs': 3}\n",
            "\u001b[2m\u001b[36m(launch_and_fit pid=30889)\u001b[0m Epoch 1: train loss 0.102363720536232, accuracy 0.13333333333333333\n",
            "\u001b[2m\u001b[36m(launch_and_fit pid=30889)\u001b[0m Epoch 2: train loss 0.10199235379695892, accuracy 0.15555555555555556\n",
            "\u001b[2m\u001b[36m(launch_and_fit pid=30889)\u001b[0m Epoch 3: train loss 0.10116959363222122, accuracy 0.17777777777777778\n",
            "\u001b[2m\u001b[36m(launch_and_fit pid=30898)\u001b[0m Epoch 1: train loss 0.10214453935623169, accuracy 0.13333333333333333\n",
            "\u001b[2m\u001b[36m(launch_and_fit pid=30898)\u001b[0m Epoch 2: train loss 0.10165108740329742, accuracy 0.2\n",
            "\u001b[2m\u001b[36m(launch_and_fit pid=30898)\u001b[0m Epoch 3: train loss 0.10064199566841125, accuracy 0.2\n",
            "\u001b[2m\u001b[36m(launch_and_fit pid=30891)\u001b[0m Epoch 2: train loss 0.10189056396484375, accuracy 0.13333333333333333\n",
            "\u001b[2m\u001b[36m(launch_and_fit pid=30891)\u001b[0m Epoch 3: train loss 0.10155785828828812, accuracy 0.13333333333333333\n",
            "\u001b[2m\u001b[36m(launch_and_fit pid=30898)\u001b[0m [Client 702, round 1] fit, config: {'server_round': 1, 'local_epochs': 3}\n",
            "\u001b[2m\u001b[36m(launch_and_fit pid=30889)\u001b[0m [Client 796, round 1] fit, config: {'server_round': 1, 'local_epochs': 3}\n",
            "\u001b[2m\u001b[36m(launch_and_fit pid=30889)\u001b[0m Epoch 1: train loss 0.10246018320322037, accuracy 0.08888888888888889\n",
            "\u001b[2m\u001b[36m(launch_and_fit pid=30898)\u001b[0m Epoch 1: train loss 0.10291900485754013, accuracy 0.022222222222222223\n",
            "\u001b[2m\u001b[36m(launch_and_fit pid=30898)\u001b[0m Epoch 2: train loss 0.1025109589099884, accuracy 0.1111111111111111\n",
            "\u001b[2m\u001b[36m(launch_and_fit pid=30898)\u001b[0m Epoch 3: train loss 0.10198598355054855, accuracy 0.1111111111111111\n",
            "\u001b[2m\u001b[36m(launch_and_fit pid=30891)\u001b[0m [Client 806, round 1] fit, config: {'server_round': 1, 'local_epochs': 3}\n",
            "\u001b[2m\u001b[36m(launch_and_fit pid=30889)\u001b[0m Epoch 2: train loss 0.10173509269952774, accuracy 0.17777777777777778\n",
            "\u001b[2m\u001b[36m(launch_and_fit pid=30889)\u001b[0m Epoch 3: train loss 0.10121255367994308, accuracy 0.17777777777777778\n",
            "\u001b[2m\u001b[36m(launch_and_fit pid=30891)\u001b[0m Epoch 1: train loss 0.10260702669620514, accuracy 0.08888888888888889\n",
            "\u001b[2m\u001b[36m(launch_and_fit pid=30891)\u001b[0m Epoch 2: train loss 0.10171257704496384, accuracy 0.15555555555555556\n",
            "\u001b[2m\u001b[36m(launch_and_fit pid=30891)\u001b[0m Epoch 3: train loss 0.10173945128917694, accuracy 0.15555555555555556\n",
            "\u001b[2m\u001b[36m(launch_and_fit pid=30893)\u001b[0m [Client 841, round 1] fit, config: {'server_round': 1, 'local_epochs': 3}\n",
            "\u001b[2m\u001b[36m(launch_and_fit pid=30890)\u001b[0m [Client 754, round 1] fit, config: {'server_round': 1, 'local_epochs': 3}\n",
            "\u001b[2m\u001b[36m(launch_and_fit pid=30893)\u001b[0m Epoch 1: train loss 0.10253611952066422, accuracy 0.08888888888888889\n",
            "\u001b[2m\u001b[36m(launch_and_fit pid=30893)\u001b[0m Epoch 2: train loss 0.1022007018327713, accuracy 0.17777777777777778\n",
            "\u001b[2m\u001b[36m(launch_and_fit pid=30893)\u001b[0m Epoch 3: train loss 0.10161533206701279, accuracy 0.17777777777777778\n",
            "\u001b[2m\u001b[36m(launch_and_fit pid=30890)\u001b[0m Epoch 1: train loss 0.10231950879096985, accuracy 0.17777777777777778\n",
            "\u001b[2m\u001b[36m(launch_and_fit pid=30890)\u001b[0m Epoch 2: train loss 0.10171786695718765, accuracy 0.2222222222222222\n",
            "\u001b[2m\u001b[36m(launch_and_fit pid=30890)\u001b[0m Epoch 3: train loss 0.10096880793571472, accuracy 0.24444444444444444\n",
            "\u001b[2m\u001b[36m(launch_and_fit pid=30883)\u001b[0m [Client 391, round 1] fit, config: {'server_round': 1, 'local_epochs': 3}\n",
            "\u001b[2m\u001b[36m(launch_and_fit pid=30896)\u001b[0m [Client 747, round 1] fit, config: {'server_round': 1, 'local_epochs': 3}\n",
            "\u001b[2m\u001b[36m(launch_and_fit pid=30896)\u001b[0m Epoch 1: train loss 0.10243752598762512, accuracy 0.08888888888888889\n",
            "\u001b[2m\u001b[36m(launch_and_fit pid=30896)\u001b[0m Epoch 2: train loss 0.10200046747922897, accuracy 0.13333333333333333\n",
            "\u001b[2m\u001b[36m(launch_and_fit pid=30896)\u001b[0m Epoch 3: train loss 0.10190291702747345, accuracy 0.17777777777777778\n",
            "\u001b[2m\u001b[36m(launch_and_fit pid=30886)\u001b[0m [Client 135, round 1] fit, config: {'server_round': 1, 'local_epochs': 3}\n",
            "\u001b[2m\u001b[36m(launch_and_fit pid=30886)\u001b[0m Epoch 1: train loss 0.10231276601552963, accuracy 0.06666666666666667\n",
            "\u001b[2m\u001b[36m(launch_and_fit pid=30886)\u001b[0m Epoch 2: train loss 0.10184614360332489, accuracy 0.1111111111111111\n",
            "\u001b[2m\u001b[36m(launch_and_fit pid=30886)\u001b[0m Epoch 3: train loss 0.10163997113704681, accuracy 0.1111111111111111\n"
          ]
        },
        {
          "name": "stderr",
          "output_type": "stream",
          "text": [
            "DEBUG flwr 2023-04-22 07:03:45,487 | server.py:232 | fit_round 1 received 25 results and 0 failures\n"
          ]
        },
        {
          "name": "stdout",
          "output_type": "stream",
          "text": [
            "\u001b[2m\u001b[36m(launch_and_fit pid=30892)\u001b[0m [Client 876, round 1] fit, config: {'server_round': 1, 'local_epochs': 3}\n",
            "\u001b[2m\u001b[36m(launch_and_fit pid=30892)\u001b[0m Epoch 1: train loss 0.10244282335042953, accuracy 0.1111111111111111\n",
            "\u001b[2m\u001b[36m(launch_and_fit pid=30892)\u001b[0m Epoch 2: train loss 0.10193042457103729, accuracy 0.15555555555555556\n",
            "\u001b[2m\u001b[36m(launch_and_fit pid=30895)\u001b[0m [Client 744, round 1] fit, config: {'server_round': 1, 'local_epochs': 3}\n",
            "\u001b[2m\u001b[36m(launch_and_fit pid=30895)\u001b[0m Epoch 1: train loss 0.10228879749774933, accuracy 0.08888888888888889\n",
            "\u001b[2m\u001b[36m(launch_and_fit pid=30895)\u001b[0m Epoch 2: train loss 0.10235629975795746, accuracy 0.13333333333333333\n",
            "\u001b[2m\u001b[36m(launch_and_fit pid=30895)\u001b[0m Epoch 3: train loss 0.10165901482105255, accuracy 0.13333333333333333\n",
            "\u001b[2m\u001b[36m(launch_and_fit pid=30883)\u001b[0m Epoch 1: train loss 0.1023847907781601, accuracy 0.15555555555555556\n",
            "\u001b[2m\u001b[36m(launch_and_fit pid=30883)\u001b[0m Epoch 2: train loss 0.1016554906964302, accuracy 0.2\n",
            "\u001b[2m\u001b[36m(launch_and_fit pid=30883)\u001b[0m Epoch 3: train loss 0.10109458863735199, accuracy 0.2222222222222222\n",
            "\u001b[2m\u001b[36m(launch_and_fit pid=30892)\u001b[0m Epoch 3: train loss 0.101531982421875, accuracy 0.15555555555555556\n",
            "\u001b[2m\u001b[36m(launch_and_fit pid=30887)\u001b[0m [Client 948, round 1] fit, config: {'server_round': 1, 'local_epochs': 3}\n",
            "\u001b[2m\u001b[36m(launch_and_fit pid=30887)\u001b[0m Epoch 1: train loss 0.1028052419424057, accuracy 0.044444444444444446\n",
            "\u001b[2m\u001b[36m(launch_and_fit pid=30887)\u001b[0m Epoch 2: train loss 0.10216037184000015, accuracy 0.13333333333333333\n",
            "\u001b[2m\u001b[36m(launch_and_fit pid=30887)\u001b[0m Epoch 3: train loss 0.1018783375620842, accuracy 0.2222222222222222\n",
            "\u001b[2m\u001b[36m(launch_and_fit pid=30884)\u001b[0m [Client 434, round 1] fit, config: {'server_round': 1, 'local_epochs': 3}\n",
            "\u001b[2m\u001b[36m(launch_and_fit pid=30884)\u001b[0m Epoch 1: train loss 0.10259474813938141, accuracy 0.1111111111111111\n",
            "\u001b[2m\u001b[36m(launch_and_fit pid=30884)\u001b[0m Epoch 2: train loss 0.10219588875770569, accuracy 0.2\n",
            "\u001b[2m\u001b[36m(launch_and_fit pid=30884)\u001b[0m Epoch 3: train loss 0.10150396823883057, accuracy 0.17777777777777778\n",
            "\u001b[2m\u001b[36m(launch_and_fit pid=30897)\u001b[0m [Client 602, round 1] fit, config: {'server_round': 1, 'local_epochs': 3}\n",
            "\u001b[2m\u001b[36m(launch_and_fit pid=30897)\u001b[0m Epoch 1: train loss 0.10210024565458298, accuracy 0.1111111111111111\n",
            "\u001b[2m\u001b[36m(launch_and_fit pid=30897)\u001b[0m Epoch 2: train loss 0.10132992267608643, accuracy 0.15555555555555556\n",
            "\u001b[2m\u001b[36m(launch_and_fit pid=30897)\u001b[0m Epoch 3: train loss 0.10063804686069489, accuracy 0.15555555555555556\n"
          ]
        },
        {
          "name": "stderr",
          "output_type": "stream",
          "text": [
            "WARNING flwr 2023-04-22 07:03:45,517 | fedavg.py:243 | No fit_metrics_aggregation_fn provided\n",
            "DEBUG flwr 2023-04-22 07:03:45,518 | server.py:168 | evaluate_round 1: strategy sampled 50 clients (out of 1000)\n"
          ]
        },
        {
          "name": "stdout",
          "output_type": "stream",
          "text": [
            "\u001b[2m\u001b[36m(launch_and_fit pid=30894)\u001b[0m [Client 843, round 1] fit, config: {'server_round': 1, 'local_epochs': 3}\n",
            "\u001b[2m\u001b[36m(launch_and_fit pid=30894)\u001b[0m Epoch 1: train loss 0.10258424282073975, accuracy 0.13333333333333333\n",
            "\u001b[2m\u001b[36m(launch_and_fit pid=30894)\u001b[0m Epoch 2: train loss 0.10200671851634979, accuracy 0.1111111111111111\n",
            "\u001b[2m\u001b[36m(launch_and_fit pid=30894)\u001b[0m Epoch 3: train loss 0.10153286904096603, accuracy 0.1111111111111111\n",
            "\u001b[2m\u001b[36m(launch_and_evaluate pid=30894)\u001b[0m [Client 642] evaluate, config: {}\n",
            "\u001b[2m\u001b[36m(launch_and_evaluate pid=30894)\u001b[0m [Client 895] evaluate, config: {}\n",
            "\u001b[2m\u001b[36m(launch_and_evaluate pid=30884)\u001b[0m [Client 903] evaluate, config: {}\n",
            "\u001b[2m\u001b[36m(launch_and_evaluate pid=30894)\u001b[0m [Client 993] evaluate, config: {}\n",
            "\u001b[2m\u001b[36m(launch_and_evaluate pid=30894)\u001b[0m [Client 521] evaluate, config: {}\n",
            "\u001b[2m\u001b[36m(launch_and_evaluate pid=30894)\u001b[0m [Client 475] evaluate, config: {}\n",
            "\u001b[2m\u001b[36m(launch_and_evaluate pid=30884)\u001b[0m [Client 118] evaluate, config: {}\n",
            "\u001b[2m\u001b[36m(launch_and_evaluate pid=30897)\u001b[0m [Client 616] evaluate, config: {}\n",
            "\u001b[2m\u001b[36m(launch_and_evaluate pid=30887)\u001b[0m [Client 11] evaluate, config: {}\n",
            "\u001b[2m\u001b[36m(launch_and_evaluate pid=30897)\u001b[0m [Client 183] evaluate, config: {}\n",
            "\u001b[2m\u001b[36m(launch_and_evaluate pid=30894)\u001b[0m [Client 7] evaluate, config: {}\n",
            "\u001b[2m\u001b[36m(launch_and_evaluate pid=30884)\u001b[0m [Client 653] evaluate, config: {}\n",
            "\u001b[2m\u001b[36m(launch_and_evaluate pid=30884)\u001b[0m [Client 725] evaluate, config: {}\n",
            "\u001b[2m\u001b[36m(launch_and_evaluate pid=30887)\u001b[0m [Client 618] evaluate, config: {}\n",
            "\u001b[2m\u001b[36m(launch_and_evaluate pid=30884)\u001b[0m [Client 220] evaluate, config: {}\n",
            "\u001b[2m\u001b[36m(launch_and_evaluate pid=30884)\u001b[0m [Client 361] evaluate, config: {}\n",
            "\u001b[2m\u001b[36m(launch_and_evaluate pid=30884)\u001b[0m [Client 819] evaluate, config: {}\n",
            "\u001b[2m\u001b[36m(launch_and_evaluate pid=30884)\u001b[0m [Client 990] evaluate, config: {}\n",
            "\u001b[2m\u001b[36m(launch_and_evaluate pid=30887)\u001b[0m [Client 381] evaluate, config: {}\n",
            "\u001b[2m\u001b[36m(launch_and_evaluate pid=30897)\u001b[0m [Client 33] evaluate, config: {}\n",
            "\u001b[2m\u001b[36m(launch_and_evaluate pid=30897)\u001b[0m [Client 161] evaluate, config: {}\n",
            "\u001b[2m\u001b[36m(launch_and_evaluate pid=30887)\u001b[0m [Client 345] evaluate, config: {}\n",
            "\u001b[2m\u001b[36m(launch_and_evaluate pid=30897)\u001b[0m [Client 602] evaluate, config: {}\n",
            "\u001b[2m\u001b[36m(launch_and_evaluate pid=30884)\u001b[0m [Client 349] evaluate, config: {}\n",
            "\u001b[2m\u001b[36m(launch_and_evaluate pid=30897)\u001b[0m [Client 599] evaluate, config: {}\n",
            "\u001b[2m\u001b[36m(launch_and_evaluate pid=30897)\u001b[0m [Client 919] evaluate, config: {}\n",
            "\u001b[2m\u001b[36m(launch_and_evaluate pid=30897)\u001b[0m [Client 382] evaluate, config: {}\n",
            "\u001b[2m\u001b[36m(launch_and_evaluate pid=30884)\u001b[0m [Client 415] evaluate, config: {}\n",
            "\u001b[2m\u001b[36m(launch_and_evaluate pid=30897)\u001b[0m [Client 431] evaluate, config: {}\n"
          ]
        },
        {
          "name": "stderr",
          "output_type": "stream",
          "text": [
            "DEBUG flwr 2023-04-22 07:04:10,369 | server.py:182 | evaluate_round 1 received 50 results and 0 failures\n",
            "WARNING flwr 2023-04-22 07:04:10,369 | fedavg.py:274 | No evaluate_metrics_aggregation_fn provided\n",
            "DEBUG flwr 2023-04-22 07:04:10,370 | server.py:218 | fit_round 2: strategy sampled 25 clients (out of 1000)\n"
          ]
        },
        {
          "name": "stdout",
          "output_type": "stream",
          "text": [
            "\u001b[2m\u001b[36m(launch_and_evaluate pid=30887)\u001b[0m [Client 944] evaluate, config: {}\n",
            "\u001b[2m\u001b[36m(launch_and_evaluate pid=30884)\u001b[0m [Client 117] evaluate, config: {}\n",
            "\u001b[2m\u001b[36m(launch_and_evaluate pid=30897)\u001b[0m [Client 641] evaluate, config: {}\n",
            "\u001b[2m\u001b[36m(launch_and_evaluate pid=30894)\u001b[0m [Client 689] evaluate, config: {}\n",
            "\u001b[2m\u001b[36m(launch_and_evaluate pid=30894)\u001b[0m [Client 110] evaluate, config: {}\n",
            "\u001b[2m\u001b[36m(launch_and_evaluate pid=30895)\u001b[0m [Client 296] evaluate, config: {}\n",
            "\u001b[2m\u001b[36m(launch_and_evaluate pid=30887)\u001b[0m [Client 369] evaluate, config: {}\n",
            "\u001b[2m\u001b[36m(launch_and_evaluate pid=30884)\u001b[0m [Client 970] evaluate, config: {}\n",
            "\u001b[2m\u001b[36m(launch_and_evaluate pid=30897)\u001b[0m [Client 606] evaluate, config: {}\n",
            "\u001b[2m\u001b[36m(launch_and_evaluate pid=30894)\u001b[0m [Client 103] evaluate, config: {}\n",
            "\u001b[2m\u001b[36m(launch_and_evaluate pid=30891)\u001b[0m [Client 429] evaluate, config: {}\n",
            "\u001b[2m\u001b[36m(launch_and_evaluate pid=30893)\u001b[0m [Client 852] evaluate, config: {}\n",
            "\u001b[2m\u001b[36m(launch_and_evaluate pid=30890)\u001b[0m [Client 831] evaluate, config: {}\n",
            "\u001b[2m\u001b[36m(launch_and_evaluate pid=30892)\u001b[0m [Client 476] evaluate, config: {}\n",
            "\u001b[2m\u001b[36m(launch_and_evaluate pid=30895)\u001b[0m [Client 438] evaluate, config: {}\n",
            "\u001b[2m\u001b[36m(launch_and_evaluate pid=30887)\u001b[0m [Client 504] evaluate, config: {}\n",
            "\u001b[2m\u001b[36m(launch_and_evaluate pid=30883)\u001b[0m [Client 651] evaluate, config: {}\n",
            "\u001b[2m\u001b[36m(launch_and_evaluate pid=30884)\u001b[0m [Client 659] evaluate, config: {}\n",
            "\u001b[2m\u001b[36m(launch_and_evaluate pid=30896)\u001b[0m [Client 67] evaluate, config: {}\n",
            "\u001b[2m\u001b[36m(launch_and_evaluate pid=30886)\u001b[0m [Client 261] evaluate, config: {}\n",
            "\u001b[2m\u001b[36m(launch_and_evaluate pid=30894)\u001b[0m [Client 928] evaluate, config: {}\n",
            "\u001b[2m\u001b[36m(launch_and_fit pid=30884)\u001b[0m [Client 574, round 2] fit, config: {'server_round': 2, 'local_epochs': 3}\n",
            "\u001b[2m\u001b[36m(launch_and_fit pid=30884)\u001b[0m Epoch 1: train loss 0.10202831774950027, accuracy 0.1111111111111111\n",
            "\u001b[2m\u001b[36m(launch_and_fit pid=30884)\u001b[0m Epoch 2: train loss 0.10135487467050552, accuracy 0.08888888888888889\n",
            "\u001b[2m\u001b[36m(launch_and_fit pid=30895)\u001b[0m [Client 240, round 2] fit, config: {'server_round': 2, 'local_epochs': 3}\n",
            "\u001b[2m\u001b[36m(launch_and_fit pid=30895)\u001b[0m Epoch 1: train loss 0.1018940731883049, accuracy 0.2222222222222222\n",
            "\u001b[2m\u001b[36m(launch_and_fit pid=30895)\u001b[0m Epoch 2: train loss 0.10114696621894836, accuracy 0.2222222222222222\n",
            "\u001b[2m\u001b[36m(launch_and_fit pid=30895)\u001b[0m Epoch 3: train loss 0.09998341649770737, accuracy 0.2222222222222222\n",
            "\u001b[2m\u001b[36m(launch_and_fit pid=30884)\u001b[0m Epoch 3: train loss 0.10085909068584442, accuracy 0.17777777777777778\n",
            "\u001b[2m\u001b[36m(launch_and_fit pid=30895)\u001b[0m [Client 987, round 2] fit, config: {'server_round': 2, 'local_epochs': 3}\n",
            "\u001b[2m\u001b[36m(launch_and_fit pid=30895)\u001b[0m Epoch 1: train loss 0.10237947106361389, accuracy 0.13333333333333333\n",
            "\u001b[2m\u001b[36m(launch_and_fit pid=30895)\u001b[0m Epoch 2: train loss 0.10157748311758041, accuracy 0.2\n",
            "\u001b[2m\u001b[36m(launch_and_fit pid=30895)\u001b[0m Epoch 3: train loss 0.1009926125407219, accuracy 0.2222222222222222\n",
            "\u001b[2m\u001b[36m(launch_and_fit pid=30887)\u001b[0m [Client 969, round 2] fit, config: {'server_round': 2, 'local_epochs': 3}\n",
            "\u001b[2m\u001b[36m(launch_and_fit pid=30887)\u001b[0m Epoch 1: train loss 0.1022314578294754, accuracy 0.08888888888888889\n",
            "\u001b[2m\u001b[36m(launch_and_fit pid=30887)\u001b[0m Epoch 2: train loss 0.10116644948720932, accuracy 0.2222222222222222\n",
            "\u001b[2m\u001b[36m(launch_and_fit pid=30884)\u001b[0m [Client 224, round 2] fit, config: {'server_round': 2, 'local_epochs': 3}\n",
            "\u001b[2m\u001b[36m(launch_and_fit pid=30887)\u001b[0m Epoch 3: train loss 0.10023057460784912, accuracy 0.15555555555555556\n",
            "\u001b[2m\u001b[36m(launch_and_fit pid=30884)\u001b[0m Epoch 1: train loss 0.10224643349647522, accuracy 0.06666666666666667\n",
            "\u001b[2m\u001b[36m(launch_and_fit pid=30884)\u001b[0m Epoch 2: train loss 0.10146994888782501, accuracy 0.13333333333333333\n",
            "\u001b[2m\u001b[36m(launch_and_fit pid=30884)\u001b[0m Epoch 3: train loss 0.10080083459615707, accuracy 0.17777777777777778\n",
            "\u001b[2m\u001b[36m(launch_and_fit pid=30887)\u001b[0m [Client 705, round 2] fit, config: {'server_round': 2, 'local_epochs': 3}\n",
            "\u001b[2m\u001b[36m(launch_and_fit pid=30884)\u001b[0m [Client 155, round 2] fit, config: {'server_round': 2, 'local_epochs': 3}\n",
            "\u001b[2m\u001b[36m(launch_and_fit pid=30884)\u001b[0m Epoch 1: train loss 0.10255352407693863, accuracy 0.06666666666666667\n",
            "\u001b[2m\u001b[36m(launch_and_fit pid=30884)\u001b[0m Epoch 2: train loss 0.10173923522233963, accuracy 0.13333333333333333\n",
            "\u001b[2m\u001b[36m(launch_and_fit pid=30884)\u001b[0m Epoch 3: train loss 0.10107363760471344, accuracy 0.17777777777777778\n",
            "\u001b[2m\u001b[36m(launch_and_fit pid=30887)\u001b[0m Epoch 1: train loss 0.10246433317661285, accuracy 0.044444444444444446\n",
            "\u001b[2m\u001b[36m(launch_and_fit pid=30887)\u001b[0m Epoch 2: train loss 0.10132471472024918, accuracy 0.24444444444444444\n",
            "\u001b[2m\u001b[36m(launch_and_fit pid=30887)\u001b[0m Epoch 3: train loss 0.10070398449897766, accuracy 0.2222222222222222\n",
            "\u001b[2m\u001b[36m(launch_and_fit pid=30887)\u001b[0m [Client 724, round 2] fit, config: {'server_round': 2, 'local_epochs': 3}\n",
            "\u001b[2m\u001b[36m(launch_and_fit pid=30887)\u001b[0m Epoch 1: train loss 0.10237854719161987, accuracy 0.1111111111111111\n",
            "\u001b[2m\u001b[36m(launch_and_fit pid=30887)\u001b[0m Epoch 2: train loss 0.10118518769741058, accuracy 0.17777777777777778\n",
            "\u001b[2m\u001b[36m(launch_and_fit pid=30887)\u001b[0m Epoch 3: train loss 0.0996210128068924, accuracy 0.2222222222222222\n",
            "\u001b[2m\u001b[36m(launch_and_fit pid=30887)\u001b[0m [Client 422, round 2] fit, config: {'server_round': 2, 'local_epochs': 3}\n",
            "\u001b[2m\u001b[36m(launch_and_fit pid=30887)\u001b[0m Epoch 1: train loss 0.1020403578877449, accuracy 0.15555555555555556\n",
            "\u001b[2m\u001b[36m(launch_and_fit pid=30887)\u001b[0m Epoch 2: train loss 0.10138589143753052, accuracy 0.15555555555555556\n",
            "\u001b[2m\u001b[36m(launch_and_fit pid=30887)\u001b[0m Epoch 3: train loss 0.10098309069871902, accuracy 0.17777777777777778\n",
            "\u001b[2m\u001b[36m(launch_and_fit pid=30891)\u001b[0m [Client 84, round 2] fit, config: {'server_round': 2, 'local_epochs': 3}\n",
            "\u001b[2m\u001b[36m(launch_and_fit pid=30895)\u001b[0m [Client 29, round 2] fit, config: {'server_round': 2, 'local_epochs': 3}\n",
            "\u001b[2m\u001b[36m(launch_and_fit pid=30895)\u001b[0m Epoch 1: train loss 0.10203667730093002, accuracy 0.1111111111111111\n",
            "\u001b[2m\u001b[36m(launch_and_fit pid=30884)\u001b[0m [Client 606, round 2] fit, config: {'server_round': 2, 'local_epochs': 3}\n",
            "\u001b[2m\u001b[36m(launch_and_fit pid=30884)\u001b[0m Epoch 1: train loss 0.10259498655796051, accuracy 0.044444444444444446\n",
            "\u001b[2m\u001b[36m(launch_and_fit pid=30884)\u001b[0m Epoch 2: train loss 0.10174266993999481, accuracy 0.13333333333333333\n",
            "\u001b[2m\u001b[36m(launch_and_fit pid=30886)\u001b[0m [Client 260, round 2] fit, config: {'server_round': 2, 'local_epochs': 3}\n",
            "\u001b[2m\u001b[36m(launch_and_fit pid=30886)\u001b[0m Epoch 1: train loss 0.10206340998411179, accuracy 0.1111111111111111\n",
            "\u001b[2m\u001b[36m(launch_and_fit pid=30894)\u001b[0m [Client 246, round 2] fit, config: {'server_round': 2, 'local_epochs': 3}\n",
            "\u001b[2m\u001b[36m(launch_and_fit pid=30894)\u001b[0m Epoch 1: train loss 0.10246846824884415, accuracy 0.13333333333333333\n",
            "\u001b[2m\u001b[36m(launch_and_fit pid=30889)\u001b[0m [Client 417, round 2] fit, config: {'server_round': 2, 'local_epochs': 3}\n",
            "\u001b[2m\u001b[36m(launch_and_fit pid=30891)\u001b[0m Epoch 1: train loss 0.10258549451828003, accuracy 0.06666666666666667\n",
            "\u001b[2m\u001b[36m(launch_and_fit pid=30891)\u001b[0m Epoch 2: train loss 0.10174959152936935, accuracy 0.2222222222222222\n",
            "\u001b[2m\u001b[36m(launch_and_fit pid=30891)\u001b[0m Epoch 3: train loss 0.10111120343208313, accuracy 0.26666666666666666\n",
            "\u001b[2m\u001b[36m(launch_and_fit pid=30893)\u001b[0m [Client 215, round 2] fit, config: {'server_round': 2, 'local_epochs': 3}\n",
            "\u001b[2m\u001b[36m(launch_and_fit pid=30893)\u001b[0m Epoch 1: train loss 0.10241296887397766, accuracy 0.044444444444444446\n",
            "\u001b[2m\u001b[36m(launch_and_fit pid=30890)\u001b[0m [Client 165, round 2] fit, config: {'server_round': 2, 'local_epochs': 3}\n",
            "\u001b[2m\u001b[36m(launch_and_fit pid=30890)\u001b[0m Epoch 1: train loss 0.10240301489830017, accuracy 0.0\n",
            "\u001b[2m\u001b[36m(launch_and_fit pid=30890)\u001b[0m Epoch 2: train loss 0.10179110616445541, accuracy 0.2222222222222222\n",
            "\u001b[2m\u001b[36m(launch_and_fit pid=30892)\u001b[0m [Client 921, round 2] fit, config: {'server_round': 2, 'local_epochs': 3}\n",
            "\u001b[2m\u001b[36m(launch_and_fit pid=30892)\u001b[0m Epoch 1: train loss 0.1023697778582573, accuracy 0.1111111111111111\n",
            "\u001b[2m\u001b[36m(launch_and_fit pid=30892)\u001b[0m Epoch 2: train loss 0.10175752639770508, accuracy 0.13333333333333333\n",
            "\u001b[2m\u001b[36m(launch_and_fit pid=30895)\u001b[0m Epoch 2: train loss 0.1011880487203598, accuracy 0.26666666666666666\n",
            "\u001b[2m\u001b[36m(launch_and_fit pid=30895)\u001b[0m Epoch 3: train loss 0.10082809627056122, accuracy 0.15555555555555556\n",
            "\u001b[2m\u001b[36m(launch_and_fit pid=30883)\u001b[0m [Client 282, round 2] fit, config: {'server_round': 2, 'local_epochs': 3}\n",
            "\u001b[2m\u001b[36m(launch_and_fit pid=30883)\u001b[0m Epoch 1: train loss 0.10230215638875961, accuracy 0.06666666666666667\n",
            "\u001b[2m\u001b[36m(launch_and_fit pid=30883)\u001b[0m Epoch 2: train loss 0.10157379508018494, accuracy 0.2222222222222222\n",
            "\u001b[2m\u001b[36m(launch_and_fit pid=30884)\u001b[0m Epoch 3: train loss 0.10092796385288239, accuracy 0.15555555555555556\n",
            "\u001b[2m\u001b[36m(launch_and_fit pid=30896)\u001b[0m [Client 858, round 2] fit, config: {'server_round': 2, 'local_epochs': 3}\n",
            "\u001b[2m\u001b[36m(launch_and_fit pid=30896)\u001b[0m Epoch 1: train loss 0.10238035023212433, accuracy 0.0\n",
            "\u001b[2m\u001b[36m(launch_and_fit pid=30886)\u001b[0m Epoch 2: train loss 0.10112744569778442, accuracy 0.15555555555555556\n",
            "\u001b[2m\u001b[36m(launch_and_fit pid=30886)\u001b[0m Epoch 3: train loss 0.10045912116765976, accuracy 0.2222222222222222\n",
            "\u001b[2m\u001b[36m(launch_and_fit pid=30894)\u001b[0m Epoch 2: train loss 0.10163691639900208, accuracy 0.13333333333333333\n",
            "\u001b[2m\u001b[36m(launch_and_fit pid=30894)\u001b[0m Epoch 3: train loss 0.1010059118270874, accuracy 0.13333333333333333\n",
            "\u001b[2m\u001b[36m(launch_and_fit pid=30893)\u001b[0m Epoch 2: train loss 0.10201963037252426, accuracy 0.17777777777777778\n",
            "\u001b[2m\u001b[36m(launch_and_fit pid=30889)\u001b[0m Epoch 1: train loss 0.1022694930434227, accuracy 0.044444444444444446\n",
            "\u001b[2m\u001b[36m(launch_and_fit pid=30889)\u001b[0m Epoch 2: train loss 0.10156282782554626, accuracy 0.08888888888888889\n",
            "\u001b[2m\u001b[36m(launch_and_fit pid=30889)\u001b[0m Epoch 3: train loss 0.10084400326013565, accuracy 0.2222222222222222\n",
            "\u001b[2m\u001b[36m(launch_and_fit pid=30898)\u001b[0m [Client 476, round 2] fit, config: {'server_round': 2, 'local_epochs': 3}\n",
            "\u001b[2m\u001b[36m(launch_and_fit pid=30898)\u001b[0m Epoch 1: train loss 0.10222353041172028, accuracy 0.13333333333333333\n",
            "\u001b[2m\u001b[36m(launch_and_fit pid=30898)\u001b[0m Epoch 2: train loss 0.1015518382191658, accuracy 0.15555555555555556\n",
            "\u001b[2m\u001b[36m(launch_and_fit pid=30893)\u001b[0m Epoch 3: train loss 0.10104066133499146, accuracy 0.26666666666666666\n",
            "\u001b[2m\u001b[36m(launch_and_fit pid=30890)\u001b[0m Epoch 3: train loss 0.10065841674804688, accuracy 0.24444444444444444\n",
            "\u001b[2m\u001b[36m(launch_and_fit pid=30892)\u001b[0m Epoch 3: train loss 0.10096939653158188, accuracy 0.35555555555555557\n",
            "\u001b[2m\u001b[36m(launch_and_fit pid=30887)\u001b[0m [Client 90, round 2] fit, config: {'server_round': 2, 'local_epochs': 3}\n",
            "\u001b[2m\u001b[36m(launch_and_fit pid=30887)\u001b[0m Epoch 1: train loss 0.10232707113027573, accuracy 0.08888888888888889\n",
            "\u001b[2m\u001b[36m(launch_and_fit pid=30887)\u001b[0m Epoch 2: train loss 0.10137223452329636, accuracy 0.2\n",
            "\u001b[2m\u001b[36m(launch_and_fit pid=30887)\u001b[0m Epoch 3: train loss 0.10083288699388504, accuracy 0.28888888888888886\n",
            "\u001b[2m\u001b[36m(launch_and_fit pid=30883)\u001b[0m Epoch 3: train loss 0.10075287520885468, accuracy 0.2222222222222222\n",
            "\u001b[2m\u001b[36m(launch_and_fit pid=30896)\u001b[0m Epoch 2: train loss 0.1012820452451706, accuracy 0.2\n",
            "\u001b[2m\u001b[36m(launch_and_fit pid=30896)\u001b[0m Epoch 3: train loss 0.10055245459079742, accuracy 0.3333333333333333\n",
            "\u001b[2m\u001b[36m(launch_and_fit pid=30897)\u001b[0m [Client 296, round 2] fit, config: {'server_round': 2, 'local_epochs': 3}\n",
            "\u001b[2m\u001b[36m(launch_and_fit pid=30897)\u001b[0m Epoch 1: train loss 0.102284736931324, accuracy 0.044444444444444446\n",
            "\u001b[2m\u001b[36m(launch_and_fit pid=30897)\u001b[0m Epoch 2: train loss 0.10149696469306946, accuracy 0.2\n",
            "\u001b[2m\u001b[36m(launch_and_fit pid=30898)\u001b[0m Epoch 3: train loss 0.10101788491010666, accuracy 0.24444444444444444\n",
            "\u001b[2m\u001b[36m(launch_and_fit pid=30897)\u001b[0m Epoch 3: train loss 0.10070735216140747, accuracy 0.2\n"
          ]
        },
        {
          "name": "stderr",
          "output_type": "stream",
          "text": [
            "DEBUG flwr 2023-04-22 07:04:23,773 | server.py:232 | fit_round 2 received 25 results and 0 failures\n",
            "DEBUG flwr 2023-04-22 07:04:23,800 | server.py:168 | evaluate_round 2: strategy sampled 50 clients (out of 1000)\n"
          ]
        },
        {
          "name": "stdout",
          "output_type": "stream",
          "text": [
            "\u001b[2m\u001b[36m(launch_and_fit pid=30888)\u001b[0m [Client 686, round 2] fit, config: {'server_round': 2, 'local_epochs': 3}\n",
            "\u001b[2m\u001b[36m(launch_and_fit pid=30888)\u001b[0m Epoch 1: train loss 0.10204598307609558, accuracy 0.06666666666666667\n",
            "\u001b[2m\u001b[36m(launch_and_fit pid=30888)\u001b[0m Epoch 2: train loss 0.10131528973579407, accuracy 0.17777777777777778\n",
            "\u001b[2m\u001b[36m(launch_and_fit pid=30888)\u001b[0m Epoch 3: train loss 0.10083828121423721, accuracy 0.17777777777777778\n",
            "\u001b[2m\u001b[36m(launch_and_fit pid=30885)\u001b[0m [Client 189, round 2] fit, config: {'server_round': 2, 'local_epochs': 3}\n",
            "\u001b[2m\u001b[36m(launch_and_fit pid=30885)\u001b[0m Epoch 1: train loss 0.10251092165708542, accuracy 0.06666666666666667\n",
            "\u001b[2m\u001b[36m(launch_and_fit pid=30885)\u001b[0m Epoch 2: train loss 0.10135465115308762, accuracy 0.2\n",
            "\u001b[2m\u001b[36m(launch_and_fit pid=30885)\u001b[0m Epoch 3: train loss 0.10039354860782623, accuracy 0.17777777777777778\n",
            "\u001b[2m\u001b[36m(launch_and_evaluate pid=30898)\u001b[0m [Client 571] evaluate, config: {}\n",
            "\u001b[2m\u001b[36m(launch_and_evaluate pid=30888)\u001b[0m [Client 602] evaluate, config: {}\n",
            "\u001b[2m\u001b[36m(launch_and_evaluate pid=30885)\u001b[0m [Client 40] evaluate, config: {}\n",
            "\u001b[2m\u001b[36m(launch_and_evaluate pid=30885)\u001b[0m [Client 824] evaluate, config: {}\n",
            "\u001b[2m\u001b[36m(launch_and_evaluate pid=30898)\u001b[0m [Client 375] evaluate, config: {}\n",
            "\u001b[2m\u001b[36m(launch_and_evaluate pid=30885)\u001b[0m [Client 160] evaluate, config: {}\n",
            "\u001b[2m\u001b[36m(launch_and_evaluate pid=30885)\u001b[0m [Client 292] evaluate, config: {}\n",
            "\u001b[2m\u001b[36m(launch_and_evaluate pid=30885)\u001b[0m [Client 326] evaluate, config: {}\n",
            "\u001b[2m\u001b[36m(launch_and_evaluate pid=30885)\u001b[0m [Client 726] evaluate, config: {}\n",
            "\u001b[2m\u001b[36m(launch_and_evaluate pid=30885)\u001b[0m [Client 598] evaluate, config: {}\n",
            "\u001b[2m\u001b[36m(launch_and_evaluate pid=30885)\u001b[0m [Client 728] evaluate, config: {}\n",
            "\u001b[2m\u001b[36m(launch_and_evaluate pid=30898)\u001b[0m [Client 551] evaluate, config: {}\n",
            "\u001b[2m\u001b[36m(launch_and_evaluate pid=30885)\u001b[0m [Client 296] evaluate, config: {}\n",
            "\u001b[2m\u001b[36m(launch_and_evaluate pid=30898)\u001b[0m [Client 888] evaluate, config: {}\n",
            "\u001b[2m\u001b[36m(launch_and_evaluate pid=30897)\u001b[0m [Client 2] evaluate, config: {}\n",
            "\u001b[2m\u001b[36m(launch_and_evaluate pid=30888)\u001b[0m [Client 313] evaluate, config: {}\n",
            "\u001b[2m\u001b[36m(launch_and_evaluate pid=30885)\u001b[0m [Client 669] evaluate, config: {}\n",
            "\u001b[2m\u001b[36m(launch_and_evaluate pid=30888)\u001b[0m [Client 243] evaluate, config: {}\n",
            "\u001b[2m\u001b[36m(launch_and_evaluate pid=30888)\u001b[0m [Client 418] evaluate, config: {}\n",
            "\u001b[2m\u001b[36m(launch_and_evaluate pid=30888)\u001b[0m [Client 925] evaluate, config: {}\n",
            "\u001b[2m\u001b[36m(launch_and_evaluate pid=30898)\u001b[0m [Client 452] evaluate, config: {}\n",
            "\u001b[2m\u001b[36m(launch_and_evaluate pid=30897)\u001b[0m [Client 896] evaluate, config: {}\n",
            "\u001b[2m\u001b[36m(launch_and_evaluate pid=30888)\u001b[0m [Client 318] evaluate, config: {}\n",
            "\u001b[2m\u001b[36m(launch_and_evaluate pid=30888)\u001b[0m [Client 552] evaluate, config: {}\n",
            "\u001b[2m\u001b[36m(launch_and_evaluate pid=30898)\u001b[0m [Client 910] evaluate, config: {}\n",
            "\u001b[2m\u001b[36m(launch_and_evaluate pid=30897)\u001b[0m [Client 175] evaluate, config: {}\n",
            "\u001b[2m\u001b[36m(launch_and_evaluate pid=30897)\u001b[0m [Client 936] evaluate, config: {}\n",
            "\u001b[2m\u001b[36m(launch_and_evaluate pid=30897)\u001b[0m [Client 720] evaluate, config: {}\n",
            "\u001b[2m\u001b[36m(launch_and_evaluate pid=30897)\u001b[0m [Client 141] evaluate, config: {}\n",
            "\u001b[2m\u001b[36m(launch_and_evaluate pid=30898)\u001b[0m [Client 502] evaluate, config: {}\n",
            "\u001b[2m\u001b[36m(launch_and_evaluate pid=30888)\u001b[0m [Client 457] evaluate, config: {}\n",
            "\u001b[2m\u001b[36m(launch_and_evaluate pid=30898)\u001b[0m [Client 929] evaluate, config: {}\n",
            "\u001b[2m\u001b[36m(launch_and_evaluate pid=30897)\u001b[0m [Client 823] evaluate, config: {}\n",
            "\u001b[2m\u001b[36m(launch_and_evaluate pid=30885)\u001b[0m [Client 592] evaluate, config: {}\n",
            "\u001b[2m\u001b[36m(launch_and_evaluate pid=30888)\u001b[0m [Client 357] evaluate, config: {}\n",
            "\u001b[2m\u001b[36m(launch_and_evaluate pid=30897)\u001b[0m [Client 563] evaluate, config: {}\n",
            "\u001b[2m\u001b[36m(launch_and_evaluate pid=30888)\u001b[0m [Client 361] evaluate, config: {}\n",
            "\u001b[2m\u001b[36m(launch_and_evaluate pid=30887)\u001b[0m [Client 838] evaluate, config: {}\n",
            "\u001b[2m\u001b[36m(launch_and_evaluate pid=30889)\u001b[0m [Client 315] evaluate, config: {}\n",
            "\u001b[2m\u001b[36m(launch_and_evaluate pid=30888)\u001b[0m [Client 106] evaluate, config: {}\n"
          ]
        },
        {
          "name": "stderr",
          "output_type": "stream",
          "text": [
            "DEBUG flwr 2023-04-22 07:04:48,854 | server.py:182 | evaluate_round 2 received 50 results and 0 failures\n",
            "DEBUG flwr 2023-04-22 07:04:48,855 | server.py:218 | fit_round 3: strategy sampled 25 clients (out of 1000)\n"
          ]
        },
        {
          "name": "stdout",
          "output_type": "stream",
          "text": [
            "\u001b[2m\u001b[36m(launch_and_evaluate pid=30898)\u001b[0m [Client 300] evaluate, config: {}\n",
            "\u001b[2m\u001b[36m(launch_and_evaluate pid=30893)\u001b[0m [Client 486] evaluate, config: {}\n",
            "\u001b[2m\u001b[36m(launch_and_evaluate pid=30890)\u001b[0m [Client 773] evaluate, config: {}\n",
            "\u001b[2m\u001b[36m(launch_and_evaluate pid=30892)\u001b[0m [Client 725] evaluate, config: {}\n",
            "\u001b[2m\u001b[36m(launch_and_evaluate pid=30883)\u001b[0m [Client 684] evaluate, config: {}\n",
            "\u001b[2m\u001b[36m(launch_and_evaluate pid=30891)\u001b[0m [Client 825] evaluate, config: {}\n",
            "\u001b[2m\u001b[36m(launch_and_evaluate pid=30895)\u001b[0m [Client 403] evaluate, config: {}\n",
            "\u001b[2m\u001b[36m(launch_and_evaluate pid=30896)\u001b[0m [Client 556] evaluate, config: {}\n",
            "\u001b[2m\u001b[36m(launch_and_evaluate pid=30886)\u001b[0m [Client 817] evaluate, config: {}\n",
            "\u001b[2m\u001b[36m(launch_and_evaluate pid=30885)\u001b[0m [Client 387] evaluate, config: {}\n",
            "\u001b[2m\u001b[36m(launch_and_fit pid=30895)\u001b[0m [Client 318, round 3] fit, config: {'server_round': 3, 'local_epochs': 3}\n",
            "\u001b[2m\u001b[36m(launch_and_fit pid=30895)\u001b[0m Epoch 1: train loss 0.1023382917046547, accuracy 0.06666666666666667\n",
            "\u001b[2m\u001b[36m(launch_and_fit pid=30895)\u001b[0m Epoch 2: train loss 0.10103672742843628, accuracy 0.17777777777777778\n",
            "\u001b[2m\u001b[36m(launch_and_fit pid=30895)\u001b[0m Epoch 3: train loss 0.09998442232608795, accuracy 0.2\n",
            "\u001b[2m\u001b[36m(launch_and_fit pid=30895)\u001b[0m [Client 979, round 3] fit, config: {'server_round': 3, 'local_epochs': 3}\n",
            "\u001b[2m\u001b[36m(launch_and_fit pid=30895)\u001b[0m Epoch 1: train loss 0.10181693732738495, accuracy 0.2\n",
            "\u001b[2m\u001b[36m(launch_and_fit pid=30895)\u001b[0m Epoch 2: train loss 0.09998783469200134, accuracy 0.2222222222222222\n",
            "\u001b[2m\u001b[36m(launch_and_fit pid=30895)\u001b[0m Epoch 3: train loss 0.09874836355447769, accuracy 0.37777777777777777\n",
            "\u001b[2m\u001b[36m(launch_and_fit pid=30891)\u001b[0m [Client 605, round 3] fit, config: {'server_round': 3, 'local_epochs': 3}\n",
            "\u001b[2m\u001b[36m(launch_and_fit pid=30891)\u001b[0m Epoch 1: train loss 0.10203158110380173, accuracy 0.17777777777777778\n",
            "\u001b[2m\u001b[36m(launch_and_fit pid=30891)\u001b[0m Epoch 2: train loss 0.10094030201435089, accuracy 0.28888888888888886\n",
            "\u001b[2m\u001b[36m(launch_and_fit pid=30891)\u001b[0m Epoch 3: train loss 0.10022430121898651, accuracy 0.28888888888888886\n",
            "\u001b[2m\u001b[36m(launch_and_fit pid=30895)\u001b[0m [Client 624, round 3] fit, config: {'server_round': 3, 'local_epochs': 3}\n",
            "\u001b[2m\u001b[36m(launch_and_fit pid=30895)\u001b[0m Epoch 1: train loss 0.10181715339422226, accuracy 0.17777777777777778\n",
            "\u001b[2m\u001b[36m(launch_and_fit pid=30895)\u001b[0m Epoch 2: train loss 0.10089465230703354, accuracy 0.3111111111111111\n",
            "\u001b[2m\u001b[36m(launch_and_fit pid=30895)\u001b[0m Epoch 3: train loss 0.09975922852754593, accuracy 0.35555555555555557\n",
            "\u001b[2m\u001b[36m(launch_and_fit pid=30895)\u001b[0m [Client 453, round 3] fit, config: {'server_round': 3, 'local_epochs': 3}\n",
            "\u001b[2m\u001b[36m(launch_and_fit pid=30895)\u001b[0m Epoch 1: train loss 0.10224708914756775, accuracy 0.08888888888888889\n",
            "\u001b[2m\u001b[36m(launch_and_fit pid=30895)\u001b[0m Epoch 2: train loss 0.10044926404953003, accuracy 0.24444444444444444\n",
            "\u001b[2m\u001b[36m(launch_and_fit pid=30895)\u001b[0m Epoch 3: train loss 0.09851536154747009, accuracy 0.37777777777777777\n",
            "\u001b[2m\u001b[36m(launch_and_fit pid=30891)\u001b[0m [Client 851, round 3] fit, config: {'server_round': 3, 'local_epochs': 3}\n",
            "\u001b[2m\u001b[36m(launch_and_fit pid=30891)\u001b[0m Epoch 1: train loss 0.10206975042819977, accuracy 0.15555555555555556\n",
            "\u001b[2m\u001b[36m(launch_and_fit pid=30891)\u001b[0m Epoch 2: train loss 0.10087710618972778, accuracy 0.2222222222222222\n",
            "\u001b[2m\u001b[36m(launch_and_fit pid=30891)\u001b[0m Epoch 3: train loss 0.09975817054510117, accuracy 0.24444444444444444\n",
            "\u001b[2m\u001b[36m(launch_and_fit pid=30895)\u001b[0m [Client 363, round 3] fit, config: {'server_round': 3, 'local_epochs': 3}\n",
            "\u001b[2m\u001b[36m(launch_and_fit pid=30895)\u001b[0m Epoch 1: train loss 0.1018214002251625, accuracy 0.15555555555555556\n",
            "\u001b[2m\u001b[36m(launch_and_fit pid=30895)\u001b[0m Epoch 2: train loss 0.10074334591627121, accuracy 0.2\n",
            "\u001b[2m\u001b[36m(launch_and_fit pid=30895)\u001b[0m Epoch 3: train loss 0.09835968166589737, accuracy 0.17777777777777778\n",
            "\u001b[2m\u001b[36m(launch_and_fit pid=30895)\u001b[0m [Client 407, round 3] fit, config: {'server_round': 3, 'local_epochs': 3}\n",
            "\u001b[2m\u001b[36m(launch_and_fit pid=30895)\u001b[0m Epoch 1: train loss 0.10167495161294937, accuracy 0.13333333333333333\n",
            "\u001b[2m\u001b[36m(launch_and_fit pid=30895)\u001b[0m Epoch 2: train loss 0.10042548924684525, accuracy 0.24444444444444444\n",
            "\u001b[2m\u001b[36m(launch_and_fit pid=30895)\u001b[0m Epoch 3: train loss 0.09904204308986664, accuracy 0.26666666666666666\n",
            "\u001b[2m\u001b[36m(launch_and_fit pid=30895)\u001b[0m [Client 70, round 3] fit, config: {'server_round': 3, 'local_epochs': 3}\n",
            "\u001b[2m\u001b[36m(launch_and_fit pid=30895)\u001b[0m Epoch 1: train loss 0.10160328447818756, accuracy 0.2222222222222222\n",
            "\u001b[2m\u001b[36m(launch_and_fit pid=30895)\u001b[0m Epoch 2: train loss 0.10038366168737411, accuracy 0.24444444444444444\n",
            "\u001b[2m\u001b[36m(launch_and_fit pid=30895)\u001b[0m Epoch 3: train loss 0.0984167829155922, accuracy 0.24444444444444444\n",
            "\u001b[2m\u001b[36m(launch_and_fit pid=30895)\u001b[0m [Client 186, round 3] fit, config: {'server_round': 3, 'local_epochs': 3}\n",
            "\u001b[2m\u001b[36m(launch_and_fit pid=30895)\u001b[0m Epoch 1: train loss 0.10212475806474686, accuracy 0.1111111111111111\n",
            "\u001b[2m\u001b[36m(launch_and_fit pid=30896)\u001b[0m [Client 967, round 3] fit, config: {'server_round': 3, 'local_epochs': 3}\n",
            "\u001b[2m\u001b[36m(launch_and_fit pid=30895)\u001b[0m Epoch 2: train loss 0.10024986416101456, accuracy 0.24444444444444444\n",
            "\u001b[2m\u001b[36m(launch_and_fit pid=30895)\u001b[0m Epoch 3: train loss 0.09944773465394974, accuracy 0.2\n",
            "\u001b[2m\u001b[36m(launch_and_fit pid=30896)\u001b[0m Epoch 1: train loss 0.10176380723714828, accuracy 0.08888888888888889\n",
            "\u001b[2m\u001b[36m(launch_and_fit pid=30896)\u001b[0m Epoch 2: train loss 0.10020190477371216, accuracy 0.26666666666666666\n",
            "\u001b[2m\u001b[36m(launch_and_fit pid=30886)\u001b[0m [Client 987, round 3] fit, config: {'server_round': 3, 'local_epochs': 3}\n",
            "\u001b[2m\u001b[36m(launch_and_fit pid=30885)\u001b[0m [Client 597, round 3] fit, config: {'server_round': 3, 'local_epochs': 3}\n",
            "\u001b[2m\u001b[36m(launch_and_fit pid=30885)\u001b[0m Epoch 1: train loss 0.10184048861265182, accuracy 0.2222222222222222\n",
            "\u001b[2m\u001b[36m(launch_and_fit pid=30883)\u001b[0m [Client 10, round 3] fit, config: {'server_round': 3, 'local_epochs': 3}\n",
            "\u001b[2m\u001b[36m(launch_and_fit pid=30896)\u001b[0m Epoch 3: train loss 0.09964864701032639, accuracy 0.3333333333333333\n"
          ]
        },
        {
          "name": "stderr",
          "output_type": "stream",
          "text": [
            "DEBUG flwr 2023-04-22 07:05:01,652 | server.py:232 | fit_round 3 received 25 results and 0 failures\n",
            "DEBUG flwr 2023-04-22 07:05:01,682 | server.py:168 | evaluate_round 3: strategy sampled 50 clients (out of 1000)\n"
          ]
        },
        {
          "name": "stdout",
          "output_type": "stream",
          "text": [
            "\u001b[2m\u001b[36m(launch_and_fit pid=30898)\u001b[0m [Client 665, round 3] fit, config: {'server_round': 3, 'local_epochs': 3}\n",
            "\u001b[2m\u001b[36m(launch_and_fit pid=30898)\u001b[0m Epoch 1: train loss 0.10161934047937393, accuracy 0.17777777777777778\n",
            "\u001b[2m\u001b[36m(launch_and_fit pid=30898)\u001b[0m Epoch 2: train loss 0.10014481097459793, accuracy 0.26666666666666666\n",
            "\u001b[2m\u001b[36m(launch_and_fit pid=30898)\u001b[0m Epoch 3: train loss 0.09758497774600983, accuracy 0.26666666666666666\n",
            "\u001b[2m\u001b[36m(launch_and_fit pid=30893)\u001b[0m [Client 214, round 3] fit, config: {'server_round': 3, 'local_epochs': 3}\n",
            "\u001b[2m\u001b[36m(launch_and_fit pid=30893)\u001b[0m Epoch 1: train loss 0.10164065659046173, accuracy 0.15555555555555556\n",
            "\u001b[2m\u001b[36m(launch_and_fit pid=30893)\u001b[0m Epoch 2: train loss 0.10035600513219833, accuracy 0.26666666666666666\n",
            "\u001b[2m\u001b[36m(launch_and_fit pid=30893)\u001b[0m Epoch 3: train loss 0.09940973669290543, accuracy 0.3111111111111111\n",
            "\u001b[2m\u001b[36m(launch_and_fit pid=30890)\u001b[0m [Client 912, round 3] fit, config: {'server_round': 3, 'local_epochs': 3}\n",
            "\u001b[2m\u001b[36m(launch_and_fit pid=30890)\u001b[0m Epoch 1: train loss 0.10221931338310242, accuracy 0.08888888888888889\n",
            "\u001b[2m\u001b[36m(launch_and_fit pid=30890)\u001b[0m Epoch 2: train loss 0.10046275705099106, accuracy 0.2\n",
            "\u001b[2m\u001b[36m(launch_and_fit pid=30892)\u001b[0m [Client 343, round 3] fit, config: {'server_round': 3, 'local_epochs': 3}\n",
            "\u001b[2m\u001b[36m(launch_and_fit pid=30892)\u001b[0m Epoch 1: train loss 0.10217195004224777, accuracy 0.13333333333333333\n",
            "\u001b[2m\u001b[36m(launch_and_fit pid=30892)\u001b[0m Epoch 2: train loss 0.10027164965867996, accuracy 0.2\n",
            "\u001b[2m\u001b[36m(launch_and_fit pid=30892)\u001b[0m Epoch 3: train loss 0.09859561920166016, accuracy 0.2222222222222222\n",
            "\u001b[2m\u001b[36m(launch_and_fit pid=30887)\u001b[0m [Client 484, round 3] fit, config: {'server_round': 3, 'local_epochs': 3}\n",
            "\u001b[2m\u001b[36m(launch_and_fit pid=30887)\u001b[0m Epoch 1: train loss 0.10198207199573517, accuracy 0.17777777777777778\n",
            "\u001b[2m\u001b[36m(launch_and_fit pid=30883)\u001b[0m Epoch 1: train loss 0.10183259099721909, accuracy 0.13333333333333333\n",
            "\u001b[2m\u001b[36m(launch_and_fit pid=30883)\u001b[0m Epoch 2: train loss 0.10030430555343628, accuracy 0.3111111111111111\n",
            "\u001b[2m\u001b[36m(launch_and_fit pid=30883)\u001b[0m Epoch 3: train loss 0.09791567176580429, accuracy 0.28888888888888886\n",
            "\u001b[2m\u001b[36m(launch_and_fit pid=30897)\u001b[0m [Client 524, round 3] fit, config: {'server_round': 3, 'local_epochs': 3}\n",
            "\u001b[2m\u001b[36m(launch_and_fit pid=30897)\u001b[0m Epoch 1: train loss 0.10217797756195068, accuracy 0.06666666666666667\n",
            "\u001b[2m\u001b[36m(launch_and_fit pid=30897)\u001b[0m Epoch 2: train loss 0.10047154873609543, accuracy 0.2222222222222222\n",
            "\u001b[2m\u001b[36m(launch_and_fit pid=30897)\u001b[0m Epoch 3: train loss 0.09886284172534943, accuracy 0.28888888888888886\n",
            "\u001b[2m\u001b[36m(launch_and_fit pid=30886)\u001b[0m Epoch 1: train loss 0.1020439863204956, accuracy 0.1111111111111111\n",
            "\u001b[2m\u001b[36m(launch_and_fit pid=30886)\u001b[0m Epoch 2: train loss 0.10061965882778168, accuracy 0.2\n",
            "\u001b[2m\u001b[36m(launch_and_fit pid=30886)\u001b[0m Epoch 3: train loss 0.09995927661657333, accuracy 0.24444444444444444\n",
            "\u001b[2m\u001b[36m(launch_and_fit pid=30885)\u001b[0m Epoch 2: train loss 0.10054090619087219, accuracy 0.2\n",
            "\u001b[2m\u001b[36m(launch_and_fit pid=30885)\u001b[0m Epoch 3: train loss 0.09958275407552719, accuracy 0.24444444444444444\n",
            "\u001b[2m\u001b[36m(launch_and_fit pid=30889)\u001b[0m [Client 90, round 3] fit, config: {'server_round': 3, 'local_epochs': 3}\n",
            "\u001b[2m\u001b[36m(launch_and_fit pid=30889)\u001b[0m Epoch 1: train loss 0.10170743614435196, accuracy 0.17777777777777778\n",
            "\u001b[2m\u001b[36m(launch_and_fit pid=30889)\u001b[0m Epoch 2: train loss 0.10018478333950043, accuracy 0.26666666666666666\n",
            "\u001b[2m\u001b[36m(launch_and_fit pid=30891)\u001b[0m [Client 920, round 3] fit, config: {'server_round': 3, 'local_epochs': 3}\n",
            "\u001b[2m\u001b[36m(launch_and_fit pid=30891)\u001b[0m Epoch 1: train loss 0.1014489158987999, accuracy 0.2\n",
            "\u001b[2m\u001b[36m(launch_and_fit pid=30891)\u001b[0m Epoch 2: train loss 0.09893108159303665, accuracy 0.28888888888888886\n",
            "\u001b[2m\u001b[36m(launch_and_fit pid=30891)\u001b[0m Epoch 3: train loss 0.09859227389097214, accuracy 0.2\n",
            "\u001b[2m\u001b[36m(launch_and_fit pid=30890)\u001b[0m Epoch 3: train loss 0.09898607432842255, accuracy 0.2\n",
            "\u001b[2m\u001b[36m(launch_and_fit pid=30887)\u001b[0m Epoch 2: train loss 0.1008133664727211, accuracy 0.17777777777777778\n",
            "\u001b[2m\u001b[36m(launch_and_fit pid=30887)\u001b[0m Epoch 3: train loss 0.10007185488939285, accuracy 0.24444444444444444\n",
            "\u001b[2m\u001b[36m(launch_and_fit pid=30896)\u001b[0m [Client 151, round 3] fit, config: {'server_round': 3, 'local_epochs': 3}\n",
            "\u001b[2m\u001b[36m(launch_and_fit pid=30896)\u001b[0m Epoch 1: train loss 0.10206802934408188, accuracy 0.13333333333333333\n",
            "\u001b[2m\u001b[36m(launch_and_fit pid=30896)\u001b[0m Epoch 2: train loss 0.10106256604194641, accuracy 0.24444444444444444\n",
            "\u001b[2m\u001b[36m(launch_and_fit pid=30896)\u001b[0m Epoch 3: train loss 0.10009649395942688, accuracy 0.24444444444444444\n",
            "\u001b[2m\u001b[36m(launch_and_fit pid=30894)\u001b[0m [Client 854, round 3] fit, config: {'server_round': 3, 'local_epochs': 3}\n",
            "\u001b[2m\u001b[36m(launch_and_fit pid=30894)\u001b[0m Epoch 1: train loss 0.10176640748977661, accuracy 0.2222222222222222\n",
            "\u001b[2m\u001b[36m(launch_and_fit pid=30894)\u001b[0m Epoch 2: train loss 0.1005721166729927, accuracy 0.26666666666666666\n",
            "\u001b[2m\u001b[36m(launch_and_fit pid=30888)\u001b[0m [Client 424, round 3] fit, config: {'server_round': 3, 'local_epochs': 3}\n",
            "\u001b[2m\u001b[36m(launch_and_fit pid=30888)\u001b[0m Epoch 1: train loss 0.10127612203359604, accuracy 0.15555555555555556\n",
            "\u001b[2m\u001b[36m(launch_and_fit pid=30888)\u001b[0m Epoch 2: train loss 0.10010487586259842, accuracy 0.24444444444444444\n",
            "\u001b[2m\u001b[36m(launch_and_fit pid=30889)\u001b[0m Epoch 3: train loss 0.09965623170137405, accuracy 0.26666666666666666\n",
            "\u001b[2m\u001b[36m(launch_and_fit pid=30894)\u001b[0m Epoch 3: train loss 0.09942586719989777, accuracy 0.28888888888888886\n",
            "\u001b[2m\u001b[36m(launch_and_fit pid=30888)\u001b[0m Epoch 3: train loss 0.0994681641459465, accuracy 0.2\n",
            "\u001b[2m\u001b[36m(launch_and_evaluate pid=30889)\u001b[0m [Client 681] evaluate, config: {}\n",
            "\u001b[2m\u001b[36m(launch_and_evaluate pid=30889)\u001b[0m [Client 717] evaluate, config: {}\n",
            "\u001b[2m\u001b[36m(launch_and_evaluate pid=30894)\u001b[0m [Client 284] evaluate, config: {}\n",
            "\u001b[2m\u001b[36m(launch_and_evaluate pid=30888)\u001b[0m [Client 877] evaluate, config: {}\n",
            "\u001b[2m\u001b[36m(launch_and_evaluate pid=30888)\u001b[0m [Client 202] evaluate, config: {}\n",
            "\u001b[2m\u001b[36m(launch_and_evaluate pid=30888)\u001b[0m [Client 376] evaluate, config: {}\n",
            "\u001b[2m\u001b[36m(launch_and_evaluate pid=30894)\u001b[0m [Client 282] evaluate, config: {}\n",
            "\u001b[2m\u001b[36m(launch_and_evaluate pid=30888)\u001b[0m [Client 821] evaluate, config: {}\n",
            "\u001b[2m\u001b[36m(launch_and_evaluate pid=30888)\u001b[0m [Client 447] evaluate, config: {}\n",
            "\u001b[2m\u001b[36m(launch_and_evaluate pid=30888)\u001b[0m [Client 770] evaluate, config: {}\n",
            "\u001b[2m\u001b[36m(launch_and_evaluate pid=30888)\u001b[0m [Client 914] evaluate, config: {}\n",
            "\u001b[2m\u001b[36m(launch_and_evaluate pid=30888)\u001b[0m [Client 733] evaluate, config: {}\n",
            "\u001b[2m\u001b[36m(launch_and_evaluate pid=30888)\u001b[0m [Client 659] evaluate, config: {}\n",
            "\u001b[2m\u001b[36m(launch_and_evaluate pid=30889)\u001b[0m [Client 205] evaluate, config: {}\n",
            "\u001b[2m\u001b[36m(launch_and_evaluate pid=30896)\u001b[0m [Client 426] evaluate, config: {}\n",
            "\u001b[2m\u001b[36m(launch_and_evaluate pid=30894)\u001b[0m [Client 696] evaluate, config: {}\n",
            "\u001b[2m\u001b[36m(launch_and_evaluate pid=30888)\u001b[0m [Client 737] evaluate, config: {}\n",
            "\u001b[2m\u001b[36m(launch_and_evaluate pid=30896)\u001b[0m [Client 626] evaluate, config: {}\n",
            "\u001b[2m\u001b[36m(launch_and_evaluate pid=30889)\u001b[0m [Client 631] evaluate, config: {}\n",
            "\u001b[2m\u001b[36m(launch_and_evaluate pid=30896)\u001b[0m [Client 154] evaluate, config: {}\n",
            "\u001b[2m\u001b[36m(launch_and_evaluate pid=30889)\u001b[0m [Client 130] evaluate, config: {}\n",
            "\u001b[2m\u001b[36m(launch_and_evaluate pid=30896)\u001b[0m [Client 522] evaluate, config: {}\n",
            "\u001b[2m\u001b[36m(launch_and_evaluate pid=30896)\u001b[0m [Client 982] evaluate, config: {}\n",
            "\u001b[2m\u001b[36m(launch_and_evaluate pid=30896)\u001b[0m [Client 307] evaluate, config: {}\n",
            "\u001b[2m\u001b[36m(launch_and_evaluate pid=30894)\u001b[0m [Client 959] evaluate, config: {}\n",
            "\u001b[2m\u001b[36m(launch_and_evaluate pid=30889)\u001b[0m [Client 954] evaluate, config: {}\n",
            "\u001b[2m\u001b[36m(launch_and_evaluate pid=30896)\u001b[0m [Client 834] evaluate, config: {}\n",
            "\u001b[2m\u001b[36m(launch_and_evaluate pid=30889)\u001b[0m [Client 750] evaluate, config: {}\n",
            "\u001b[2m\u001b[36m(launch_and_evaluate pid=30889)\u001b[0m [Client 250] evaluate, config: {}\n",
            "\u001b[2m\u001b[36m(launch_and_evaluate pid=30889)\u001b[0m [Client 776] evaluate, config: {}\n",
            "\u001b[2m\u001b[36m(launch_and_evaluate pid=30889)\u001b[0m [Client 41] evaluate, config: {}\n",
            "\u001b[2m\u001b[36m(launch_and_evaluate pid=30896)\u001b[0m [Client 521] evaluate, config: {}\n",
            "\u001b[2m\u001b[36m(launch_and_evaluate pid=30894)\u001b[0m [Client 879] evaluate, config: {}\n",
            "\u001b[2m\u001b[36m(launch_and_evaluate pid=30894)\u001b[0m [Client 358] evaluate, config: {}\n",
            "\u001b[2m\u001b[36m(launch_and_evaluate pid=30889)\u001b[0m [Client 604] evaluate, config: {}\n",
            "\u001b[2m\u001b[36m(launch_and_evaluate pid=30896)\u001b[0m [Client 620] evaluate, config: {}\n",
            "\u001b[2m\u001b[36m(launch_and_evaluate pid=30888)\u001b[0m [Client 777] evaluate, config: {}\n"
          ]
        },
        {
          "name": "stderr",
          "output_type": "stream",
          "text": [
            "DEBUG flwr 2023-04-22 07:05:26,743 | server.py:182 | evaluate_round 3 received 50 results and 0 failures\n",
            "INFO flwr 2023-04-22 07:05:26,744 | server.py:147 | FL finished in 115.21880033100024\n",
            "INFO flwr 2023-04-22 07:05:26,744 | app.py:218 | app_fit: losses_distributed [(1, 0.46032305431365955), (2, 0.45846694374084485), (3, 0.45488732147216787)]\n",
            "INFO flwr 2023-04-22 07:05:26,744 | app.py:219 | app_fit: metrics_distributed_fit {}\n",
            "INFO flwr 2023-04-22 07:05:26,744 | app.py:220 | app_fit: metrics_distributed {}\n",
            "INFO flwr 2023-04-22 07:05:26,745 | app.py:221 | app_fit: losses_centralized []\n",
            "INFO flwr 2023-04-22 07:05:26,745 | app.py:222 | app_fit: metrics_centralized {}\n"
          ]
        },
        {
          "name": "stdout",
          "output_type": "stream",
          "text": [
            "\u001b[2m\u001b[36m(launch_and_evaluate pid=30891)\u001b[0m [Client 642] evaluate, config: {}\n",
            "\u001b[2m\u001b[36m(launch_and_evaluate pid=30893)\u001b[0m [Client 832] evaluate, config: {}\n",
            "\u001b[2m\u001b[36m(launch_and_evaluate pid=30890)\u001b[0m [Client 2] evaluate, config: {}\n",
            "\u001b[2m\u001b[36m(launch_and_evaluate pid=30888)\u001b[0m [Client 240] evaluate, config: {}\n",
            "\u001b[2m\u001b[36m(launch_and_evaluate pid=30889)\u001b[0m [Client 148] evaluate, config: {}\n",
            "\u001b[2m\u001b[36m(launch_and_evaluate pid=30898)\u001b[0m [Client 886] evaluate, config: {}\n",
            "\u001b[2m\u001b[36m(launch_and_evaluate pid=30892)\u001b[0m [Client 382] evaluate, config: {}\n",
            "\u001b[2m\u001b[36m(launch_and_evaluate pid=30887)\u001b[0m [Client 305] evaluate, config: {}\n",
            "\u001b[2m\u001b[36m(launch_and_evaluate pid=30883)\u001b[0m [Client 818] evaluate, config: {}\n",
            "\u001b[2m\u001b[36m(launch_and_evaluate pid=30896)\u001b[0m [Client 812] evaluate, config: {}\n",
            "\u001b[2m\u001b[36m(launch_and_evaluate pid=30897)\u001b[0m [Client 677] evaluate, config: {}\n",
            "\u001b[2m\u001b[36m(launch_and_evaluate pid=30886)\u001b[0m [Client 301] evaluate, config: {}\n",
            "\u001b[2m\u001b[36m(launch_and_evaluate pid=30894)\u001b[0m [Client 962] evaluate, config: {}\n"
          ]
        },
        {
          "data": {
            "text/plain": [
              "History (loss, distributed):\n",
              "\tround 1: 0.46032305431365955\n",
              "\tround 2: 0.45846694374084485\n",
              "\tround 3: 0.45488732147216787"
            ]
          },
          "execution_count": 13,
          "metadata": {},
          "output_type": "execute_result"
        }
      ],
      "source": [
        "def fit_config(server_round: int):\n",
        "    config = {\n",
        "        \"server_round\": server_round,\n",
        "        \"local_epochs\": 3,\n",
        "    }\n",
        "    return config\n",
        "\n",
        "\n",
        "strategy = fl.server.strategy.FedAvg(\n",
        "    fraction_fit=0.025,  # Train on 25 clients (each round)\n",
        "    fraction_evaluate=0.05,  # Evaluate on 50 clients (each round)\n",
        "    min_fit_clients=20,\n",
        "    min_evaluate_clients=40,\n",
        "    min_available_clients=NUM_CLIENTS,\n",
        "    initial_parameters=fl.common.ndarrays_to_parameters(get_parameters(Net())),\n",
        "    on_fit_config_fn=fit_config,\n",
        ")\n",
        "\n",
        "fl.simulation.start_simulation(\n",
        "    client_fn=client_fn,\n",
        "    num_clients=NUM_CLIENTS,\n",
        "    config=fl.server.ServerConfig(num_rounds=3),  # Just three rounds\n",
        "    strategy=strategy,\n",
        "    client_resources=client_resources,\n",
        ")"
      ]
    },
    {
      "cell_type": "markdown",
      "metadata": {
        "id": "Kfnk5yd7vIGY"
      },
      "source": [
        "## Recap\n",
        "\n",
        "In this notebook, we've seen how we can gradually enhance our system by customizing the strategy, initializing parameters on the server side, choosing a different strategy, and evaluating models on the server-side. That's quite a bit of flexibility with so little code, right?\n",
        "\n",
        "In the later sections, we've seen how we can communicate arbitrary values between server and clients to fully customize client-side execution. With that capability, we built a large-scale Federated Learning simulation using the Flower Virtual Client Engine and ran an experiment involving 1000 clients in the same workload - all in a Jupyter Notebook!"
      ]
    },
    {
      "cell_type": "markdown",
      "metadata": {
        "id": "-aMKjiGGvIGY"
      },
      "source": [
        "## Next steps\n",
        "\n",
        "Before you continue, make sure to join the Flower community on Slack: [Join Slack](https://flower.dev/join-slack/)\n",
        "\n",
        "There's a dedicated `#questions` channel if you need help, but we'd also love to hear who you are in `#introductions`!\n",
        "\n",
        "The [Flower Federated Learning Tutorial - Part 3 [WIP]](https://flower.dev/docs/tutorial/Flower-3-Building-a-Strategy-PyTorch.html) shows how to build a fully custom `Strategy` from scratch."
      ]
    }
  ],
  "metadata": {
    "colab": {
      "provenance": [],
      "toc_visible": true
    },
    "kernelspec": {
      "display_name": "Python 3.7.12 64-bit ('flower-3.7.12')",
      "language": "python",
      "name": "python3"
    },
    "language_info": {
      "codemirror_mode": {
        "name": "ipython",
        "version": 3
      },
      "file_extension": ".py",
      "mimetype": "text/x-python",
      "name": "python",
      "nbconvert_exporter": "python",
      "pygments_lexer": "ipython3",
      "version": "3.10.11"
    }
  },
  "nbformat": 4,
  "nbformat_minor": 0
}
